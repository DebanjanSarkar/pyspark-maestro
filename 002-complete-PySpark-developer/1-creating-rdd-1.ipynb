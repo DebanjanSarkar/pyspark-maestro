{
 "cells": [
  {
   "cell_type": "code",
   "execution_count": 2,
   "id": "c2f1b3ef-8ab2-4891-9501-bd0509f26cf8",
   "metadata": {},
   "outputs": [],
   "source": [
    "import findspark\n",
    "\n",
    "findspark.init()"
   ]
  },
  {
   "cell_type": "code",
   "execution_count": 3,
   "id": "6e694b2a-732d-47fa-9bb7-b86e6bb10b33",
   "metadata": {},
   "outputs": [],
   "source": [
    "from pyspark.sql import SparkSession\n",
    "\n",
    "spark = SparkSession.builder.master(\"local\").appName(\"rdd-operations\").getOrCreate()\n",
    "sc = spark.sparkContext"
   ]
  },
  {
   "cell_type": "code",
   "execution_count": 4,
   "id": "36ae4f6c-7446-4951-9225-6a930bba509f",
   "metadata": {},
   "outputs": [],
   "source": [
    "from pyspark.sql import functions as F"
   ]
  },
  {
   "cell_type": "code",
   "execution_count": 5,
   "id": "e5308df1-dbec-4624-8c16-5290ab3ae4fa",
   "metadata": {},
   "outputs": [
    {
     "name": "stdout",
     "output_type": "stream",
     "text": [
      "+----+-----+----+\n",
      "|roll|marks|rank|\n",
      "+----+-----+----+\n",
      "|   1|   45|   1|\n",
      "|   2|   33|   1|\n",
      "|   1|   15|   2|\n",
      "|   3|   99|   1|\n",
      "|   3|  -33|   2|\n",
      "|   4|   13|   1|\n",
      "|   5|   21|   1|\n",
      "|   4|   21|   2|\n",
      "|   1|   10|   3|\n",
      "+----+-----+----+\n",
      "\n"
     ]
    }
   ],
   "source": [
    "ls = [\n",
    "    (1,45,1),\n",
    "    (2,33,1),\n",
    "    (1,15,2),\n",
    "    (3,99,1),\n",
    "    (3,-33,2),\n",
    "    (4,13,1),\n",
    "    (5,21,1),\n",
    "    (4,21,2),\n",
    "    (1,10,3)\n",
    "]\n",
    "\n",
    "col_names = [\"roll\",\"marks\",\"rank\"]\n",
    "df1 = spark.createDataFrame( data = ls, schema = col_names )\n",
    "df1.show()"
   ]
  },
  {
   "cell_type": "code",
   "execution_count": 8,
   "id": "a0e19029-0c9c-4b8a-ad46-402d7d9bf692",
   "metadata": {},
   "outputs": [
    {
     "data": {
      "text/plain": [
       "[(1, 45, 1),\n",
       " (2, 33, 1),\n",
       " (1, 15, 2),\n",
       " (3, 99, 1),\n",
       " (3, -33, 2),\n",
       " (4, 13, 1),\n",
       " (5, 21, 1),\n",
       " (4, 21, 2),\n",
       " (1, 10, 3)]"
      ]
     },
     "execution_count": 8,
     "metadata": {},
     "output_type": "execute_result"
    }
   ],
   "source": [
    "rdd1 = sc.parallelize(ls)\n",
    "rdd1.collect()"
   ]
  },
  {
   "cell_type": "code",
   "execution_count": 9,
   "id": "c1301ad1-1b94-4da5-84d0-9e4f5e8a8ffe",
   "metadata": {},
   "outputs": [
    {
     "name": "stdout",
     "output_type": "stream",
     "text": [
      "<class 'pyspark.rdd.RDD'>\n"
     ]
    }
   ],
   "source": [
    "print(type(rdd1))"
   ]
  },
  {
   "cell_type": "code",
   "execution_count": 10,
   "id": "f2356fa7-457f-48ee-80df-83b6f99fce2e",
   "metadata": {},
   "outputs": [
    {
     "data": {
      "text/plain": [
       "[(1, [45, 1]),\n",
       " (2, [33, 1]),\n",
       " (1, [15, 2]),\n",
       " (3, [99, 1]),\n",
       " (3, [-33, 2]),\n",
       " (4, [13, 1]),\n",
       " (5, [21, 1]),\n",
       " (4, [21, 2]),\n",
       " (1, [10, 3])]"
      ]
     },
     "execution_count": 10,
     "metadata": {},
     "output_type": "execute_result"
    }
   ],
   "source": [
    "pair_rdd = rdd1.map( lambda x: (x[0],[x[1],x[2]]) )\n",
    "pair_rdd.collect()"
   ]
  },
  {
   "cell_type": "code",
   "execution_count": 11,
   "id": "c197b6fd-5aa0-4701-a064-127fe1b57dd2",
   "metadata": {},
   "outputs": [
    {
     "data": {
      "text/plain": [
       "[(2, ([33, 1], [33, 1])),\n",
       " (4, ([13, 1], [13, 1])),\n",
       " (4, ([13, 1], [21, 2])),\n",
       " (4, ([21, 2], [13, 1])),\n",
       " (4, ([21, 2], [21, 2])),\n",
       " (1, ([45, 1], [45, 1])),\n",
       " (1, ([45, 1], [15, 2])),\n",
       " (1, ([45, 1], [10, 3])),\n",
       " (1, ([15, 2], [45, 1])),\n",
       " (1, ([15, 2], [15, 2])),\n",
       " (1, ([15, 2], [10, 3])),\n",
       " (1, ([10, 3], [45, 1])),\n",
       " (1, ([10, 3], [15, 2])),\n",
       " (1, ([10, 3], [10, 3])),\n",
       " (3, ([99, 1], [99, 1])),\n",
       " (3, ([99, 1], [-33, 2])),\n",
       " (3, ([-33, 2], [99, 1])),\n",
       " (3, ([-33, 2], [-33, 2])),\n",
       " (5, ([21, 1], [21, 1]))]"
      ]
     },
     "execution_count": 11,
     "metadata": {},
     "output_type": "execute_result"
    }
   ],
   "source": [
    "pair_rdd.join(pair_rdd).collect()"
   ]
  },
  {
   "cell_type": "code",
   "execution_count": 17,
   "id": "15420d6a-dca0-42d4-a1ad-1a4d2a85574f",
   "metadata": {},
   "outputs": [
    {
     "name": "stdout",
     "output_type": "stream",
     "text": [
      "+----+----------+---------+-----------+------------------+\n",
      "|roll|sum(marks)|avg(rank)|count(roll)|        avg(marks)|\n",
      "+----+----------+---------+-----------+------------------+\n",
      "|   5|        21|      1.0|          1|              21.0|\n",
      "|   1|        70|      2.0|          3|23.333333333333332|\n",
      "|   3|        66|      1.5|          2|              33.0|\n",
      "|   2|        33|      1.0|          1|              33.0|\n",
      "|   4|        34|      1.5|          2|              17.0|\n",
      "+----+----------+---------+-----------+------------------+\n",
      "\n"
     ]
    }
   ],
   "source": [
    "df1.groupBy(\"roll\").agg( F.sum(\"marks\"), F.avg(\"rank\"), F.count(\"roll\"), F.mean(\"marks\") ).show()"
   ]
  },
  {
   "cell_type": "markdown",
   "id": "a8ab7c8a-2a10-4908-ab30-a22807206949",
   "metadata": {},
   "source": [
    "## Word Counting by RDD\n",
    "--------------------------------"
   ]
  },
  {
   "cell_type": "code",
   "execution_count": 3,
   "id": "01b6b0d4-6617-4417-b2d5-4c61bade7a3e",
   "metadata": {},
   "outputs": [
    {
     "data": {
      "text/plain": [
       "['1,2013-07-25 00:00:00.0,11599,CLOSED',\n",
       " '2,2013-07-25 00:00:00.0,256,PENDING_PAYMENT',\n",
       " '3,2013-07-25 00:00:00.0,12111,COMPLETE',\n",
       " '4,2013-07-25 00:00:00.0,8827,CLOSED',\n",
       " '5,2013-07-25 00:00:00.0,11318,COMPLETE',\n",
       " '6,2013-07-25 00:00:00.0,7130,COMPLETE',\n",
       " '7,2013-07-25 00:00:00.0,4530,COMPLETE',\n",
       " '8,2013-07-25 00:00:00.0,2911,PROCESSING',\n",
       " '9,2013-07-25 00:00:00.0,5657,PENDING_PAYMENT',\n",
       " '10,2013-07-25 00:00:00.0,5648,PENDING_PAYMENT']"
      ]
     },
     "execution_count": 3,
     "metadata": {},
     "output_type": "execute_result"
    }
   ],
   "source": [
    "ord_rdd = sc.textFile(\"data/orders.csv\",4)\n",
    "ord_rdd.take(10)"
   ]
  },
  {
   "cell_type": "code",
   "execution_count": 8,
   "id": "72aefddd-2a2d-45a5-9c9f-8beeda9a3b9f",
   "metadata": {},
   "outputs": [
    {
     "data": {
      "text/plain": [
       "4"
      ]
     },
     "execution_count": 8,
     "metadata": {},
     "output_type": "execute_result"
    }
   ],
   "source": [
    "ord_rdd.getNumPartitions()"
   ]
  },
  {
   "cell_type": "code",
   "execution_count": 4,
   "id": "12ae2353-7fe1-423a-bbe2-175a457cffc2",
   "metadata": {},
   "outputs": [
    {
     "data": {
      "text/plain": [
       "StorageLevel(False, False, False, False, 1)"
      ]
     },
     "execution_count": 4,
     "metadata": {},
     "output_type": "execute_result"
    }
   ],
   "source": [
    "ord_rdd.getStorageLevel()"
   ]
  },
  {
   "cell_type": "code",
   "execution_count": 5,
   "id": "cae8ec6d-6015-44ad-a655-94b6eb2860ca",
   "metadata": {},
   "outputs": [
    {
     "name": "stdout",
     "output_type": "stream",
     "text": [
      "Serialized 1x Replicated\n"
     ]
    }
   ],
   "source": [
    "print( ord_rdd.getStorageLevel() )"
   ]
  },
  {
   "cell_type": "code",
   "execution_count": 11,
   "id": "8b5117a8-2d00-485d-b6a8-2764f504a934",
   "metadata": {
    "tags": []
   },
   "outputs": [
    {
     "data": {
      "text/plain": [
       "[17414, 17150, 17165, 17154]"
      ]
     },
     "execution_count": 11,
     "metadata": {},
     "output_type": "execute_result"
    }
   ],
   "source": [
    "ord_rdd.glom().map(len).collect()"
   ]
  },
  {
   "cell_type": "code",
   "execution_count": 20,
   "id": "bcec56aa-ba80-4ca6-97fa-9d03f7a9d639",
   "metadata": {},
   "outputs": [
    {
     "data": {
      "text/plain": [
       "['CLOSED', 'PENDING_PAYMENT', 'COMPLETE', 'CLOSED', 'COMPLETE']"
      ]
     },
     "execution_count": 20,
     "metadata": {},
     "output_type": "execute_result"
    }
   ],
   "source": [
    "words = ord_rdd.map( lambda x: x.split(',')[-1] )\n",
    "words.take(5)"
   ]
  },
  {
   "cell_type": "code",
   "execution_count": 23,
   "id": "2624db43-1c33-4b38-81cf-3a96e532e457",
   "metadata": {},
   "outputs": [
    {
     "data": {
      "text/plain": [
       "[('COMPLETE', 22899),\n",
       " ('PENDING_PAYMENT', 15030),\n",
       " ('PROCESSING', 8275),\n",
       " ('PENDING', 7610),\n",
       " ('CLOSED', 7556),\n",
       " ('ON_HOLD', 3798),\n",
       " ('SUSPECTED_FRAUD', 1558),\n",
       " ('CANCELED', 1428),\n",
       " ('PAYMENT_REVIEW', 729)]"
      ]
     },
     "execution_count": 23,
     "metadata": {},
     "output_type": "execute_result"
    }
   ],
   "source": [
    "wordsCount = words.map( lambda x: (x,1) ).reduceByKey( lambda x,y: x+y ).sortBy( lambda x: x[1], ascending=False )\n",
    "wordsCount.collect()"
   ]
  },
  {
   "cell_type": "markdown",
   "id": "4e03c1aa-38df-4af5-8c31-867d24d28309",
   "metadata": {},
   "source": [
    " ## Words Count by using Dataframes\n",
    " ------------------------------------"
   ]
  },
  {
   "cell_type": "code",
   "execution_count": 12,
   "id": "7e20181a-1a3b-42d0-bcfe-74cd5a94f9fa",
   "metadata": {},
   "outputs": [
    {
     "name": "stdout",
     "output_type": "stream",
     "text": [
      "+---+-------------------+-----+---------------+\n",
      "|_c0|                _c1|  _c2|            _c3|\n",
      "+---+-------------------+-----+---------------+\n",
      "|  1|2013-07-25 00:00:00|11599|         CLOSED|\n",
      "|  2|2013-07-25 00:00:00|  256|PENDING_PAYMENT|\n",
      "|  3|2013-07-25 00:00:00|12111|       COMPLETE|\n",
      "|  4|2013-07-25 00:00:00| 8827|         CLOSED|\n",
      "|  5|2013-07-25 00:00:00|11318|       COMPLETE|\n",
      "|  6|2013-07-25 00:00:00| 7130|       COMPLETE|\n",
      "|  7|2013-07-25 00:00:00| 4530|       COMPLETE|\n",
      "|  8|2013-07-25 00:00:00| 2911|     PROCESSING|\n",
      "|  9|2013-07-25 00:00:00| 5657|PENDING_PAYMENT|\n",
      "| 10|2013-07-25 00:00:00| 5648|PENDING_PAYMENT|\n",
      "+---+-------------------+-----+---------------+\n",
      "only showing top 10 rows\n",
      "\n"
     ]
    }
   ],
   "source": [
    "ordrDF = spark.read.format(\"csv\").option(\"header\",False).option(\"inferSchema\",True).load(\"data/orders.csv\")\n",
    "ordrDF.show(10)"
   ]
  },
  {
   "cell_type": "code",
   "execution_count": 13,
   "id": "65a9f3ce-9383-49da-907d-19ae0d83a47e",
   "metadata": {},
   "outputs": [
    {
     "name": "stdout",
     "output_type": "stream",
     "text": [
      "root\n",
      " |-- _c0: integer (nullable = true)\n",
      " |-- _c1: timestamp (nullable = true)\n",
      " |-- _c2: integer (nullable = true)\n",
      " |-- _c3: string (nullable = true)\n",
      "\n"
     ]
    }
   ],
   "source": [
    "ordrDF.printSchema()"
   ]
  },
  {
   "cell_type": "code",
   "execution_count": 61,
   "id": "92ab68d6-98df-453e-808a-cf0ab616d157",
   "metadata": {},
   "outputs": [
    {
     "name": "stdout",
     "output_type": "stream",
     "text": [
      "+---------------+----------+\n",
      "|            _c3|word_count|\n",
      "+---------------+----------+\n",
      "|       COMPLETE|     22899|\n",
      "|PENDING_PAYMENT|     15030|\n",
      "|     PROCESSING|      8275|\n",
      "|        PENDING|      7610|\n",
      "|         CLOSED|      7556|\n",
      "|        ON_HOLD|      3798|\n",
      "|SUSPECTED_FRAUD|      1558|\n",
      "|       CANCELED|      1428|\n",
      "| PAYMENT_REVIEW|       729|\n",
      "+---------------+----------+\n",
      "\n"
     ]
    }
   ],
   "source": [
    "from pyspark.sql.functions import col\n",
    "\n",
    "wrd_countDF = ordrDF.select(\"_c3\").groupBy( ordrDF._c3 ).count().withColumnRenamed(\"count\",\"word_count\")\n",
    "wrd_countDF.orderBy( wrd_countDF.word_count.desc() ).show()"
   ]
  },
  {
   "cell_type": "markdown",
   "id": "3c978948-12ae-482b-8c17-41ff2b9637df",
   "metadata": {},
   "source": [
    "## Print all the orders which are *CLOSED* or *COMPLETE*, and in the year 2013"
   ]
  },
  {
   "cell_type": "markdown",
   "id": "3b8cab36-041f-4259-8bd3-f907c68644a8",
   "metadata": {},
   "source": [
    "### 1. Using RDDS"
   ]
  },
  {
   "cell_type": "code",
   "execution_count": null,
   "id": "a53a90b5-0a51-4e88-8dc2-3baec6841fa4",
   "metadata": {},
   "outputs": [],
   "source": [
    "ord_rdd.take(5)"
   ]
  },
  {
   "cell_type": "code",
   "execution_count": 8,
   "id": "dbef1e05-a95c-437d-ba80-261d8eee998a",
   "metadata": {
    "tags": []
   },
   "outputs": [
    {
     "data": {
      "text/plain": [
       "[('2013', 'CLOSED', '1,2013-07-25 00:00:00.0,11599,CLOSED'),\n",
       " ('2013', 'CLOSED', '4,2013-07-25 00:00:00.0,8827,CLOSED'),\n",
       " ('2013', 'CLOSED', '12,2013-07-25 00:00:00.0,1837,CLOSED'),\n",
       " ('2013', 'CLOSED', '18,2013-07-25 00:00:00.0,1205,CLOSED'),\n",
       " ('2013', 'CLOSED', '24,2013-07-25 00:00:00.0,11441,CLOSED'),\n",
       " ('2013', 'CLOSED', '25,2013-07-25 00:00:00.0,9503,CLOSED'),\n",
       " ('2013', 'CLOSED', '37,2013-07-25 00:00:00.0,5863,CLOSED'),\n",
       " ('2013', 'CLOSED', '51,2013-07-25 00:00:00.0,12271,CLOSED'),\n",
       " ('2013', 'CLOSED', '57,2013-07-25 00:00:00.0,7073,CLOSED'),\n",
       " ('2013', 'CLOSED', '61,2013-07-25 00:00:00.0,4791,CLOSED')]"
      ]
     },
     "execution_count": 8,
     "metadata": {},
     "output_type": "execute_result"
    }
   ],
   "source": [
    "rdd1 = ord_rdd.map( lambda x: ( x.split(',')[1].split('-')[0], x.split(',')[-1], x ) )\n",
    "rdd1.filter( lambda x: ( x[0]=='2013' ) & ( x[1] in ['CLOSED','COMPLETED'] ) ).take(10)"
   ]
  },
  {
   "cell_type": "markdown",
   "id": "3d06da63-3de2-4d3b-9dbe-d8d06de9da0c",
   "metadata": {},
   "source": [
    "### 2. Using Dataframes"
   ]
  },
  {
   "cell_type": "code",
   "execution_count": 11,
   "id": "cf48924e-7b98-4d69-a702-a8c60d9e401c",
   "metadata": {},
   "outputs": [
    {
     "name": "stdout",
     "output_type": "stream",
     "text": [
      "+---+--------------------+-----+---------------+\n",
      "|_c0|                 _c1|  _c2|            _c3|\n",
      "+---+--------------------+-----+---------------+\n",
      "|  1|2013-07-25 00:00:...|11599|         CLOSED|\n",
      "|  2|2013-07-25 00:00:...|  256|PENDING_PAYMENT|\n",
      "|  3|2013-07-25 00:00:...|12111|       COMPLETE|\n",
      "|  4|2013-07-25 00:00:...| 8827|         CLOSED|\n",
      "|  5|2013-07-25 00:00:...|11318|       COMPLETE|\n",
      "+---+--------------------+-----+---------------+\n",
      "only showing top 5 rows\n",
      "\n"
     ]
    }
   ],
   "source": [
    "ordrDF.show(5)"
   ]
  },
  {
   "cell_type": "code",
   "execution_count": 37,
   "id": "955a7b32-b9c5-4f97-8903-468ada26c120",
   "metadata": {},
   "outputs": [
    {
     "name": "stdout",
     "output_type": "stream",
     "text": [
      "+---+-------------------+-----+------+----+\n",
      "|_c0|                _c1|  _c2|   _c3|year|\n",
      "+---+-------------------+-----+------+----+\n",
      "|  1|2013-07-25 00:00:00|11599|CLOSED|2013|\n",
      "|  4|2013-07-25 00:00:00| 8827|CLOSED|2013|\n",
      "| 12|2013-07-25 00:00:00| 1837|CLOSED|2013|\n",
      "| 18|2013-07-25 00:00:00| 1205|CLOSED|2013|\n",
      "| 24|2013-07-25 00:00:00|11441|CLOSED|2013|\n",
      "| 25|2013-07-25 00:00:00| 9503|CLOSED|2013|\n",
      "| 37|2013-07-25 00:00:00| 5863|CLOSED|2013|\n",
      "| 51|2013-07-25 00:00:00|12271|CLOSED|2013|\n",
      "| 57|2013-07-25 00:00:00| 7073|CLOSED|2013|\n",
      "| 61|2013-07-25 00:00:00| 4791|CLOSED|2013|\n",
      "+---+-------------------+-----+------+----+\n",
      "only showing top 10 rows\n",
      "\n"
     ]
    }
   ],
   "source": [
    "from pyspark.sql.functions import year\n",
    "\n",
    "ordrDF = ordrDF.withColumn(\"year\", year( ordrDF._c1 ))\n",
    "ordrDF = ordrDF.filter( ( ordrDF._c3 == 'COMPLETED' ) | ( ordrDF._c3 == 'CLOSED' )  )\n",
    "ordrDF.filter( ordrDF.year == 2013 ).show(10)"
   ]
  },
  {
   "cell_type": "markdown",
   "id": "44c92d2a-3260-42e2-8640-89930c10b013",
   "metadata": {},
   "source": [
    "# Using Joins\n",
    "-------------------"
   ]
  },
  {
   "cell_type": "markdown",
   "id": "721bfd2d-926c-4946-98f3-2bf0fae91a6e",
   "metadata": {},
   "source": [
    "## Q. Find the subtotal for each order-customer-id\n",
    "----------------------------------------------------"
   ]
  },
  {
   "cell_type": "markdown",
   "id": "d8a79002-d022-41b5-a462-c7a028e4cb02",
   "metadata": {},
   "source": [
    "### 1. Using Rdds\n",
    "-----------------------"
   ]
  },
  {
   "cell_type": "code",
   "execution_count": 24,
   "id": "887ae4c0-a504-49d3-81c9-927668086c6b",
   "metadata": {},
   "outputs": [],
   "source": [
    "ord_rdd = sc.textFile(\"./data/orders.csv\").map( lambda x: x.split(\",\") )\n",
    "ordItems_rdd = sc.textFile(\"./data/orderItems.csv\").map( lambda x: x.split(\",\") )"
   ]
  },
  {
   "cell_type": "code",
   "execution_count": 25,
   "id": "b905467e-085b-417f-a07c-d8118d2f836e",
   "metadata": {},
   "outputs": [
    {
     "data": {
      "text/plain": [
       "[['1', '2013-07-25 00:00:00.0', '11599', 'CLOSED'],\n",
       " ['2', '2013-07-25 00:00:00.0', '256', 'PENDING_PAYMENT'],\n",
       " ['3', '2013-07-25 00:00:00.0', '12111', 'COMPLETE'],\n",
       " ['4', '2013-07-25 00:00:00.0', '8827', 'CLOSED'],\n",
       " ['5', '2013-07-25 00:00:00.0', '11318', 'COMPLETE'],\n",
       " ['6', '2013-07-25 00:00:00.0', '7130', 'COMPLETE'],\n",
       " ['7', '2013-07-25 00:00:00.0', '4530', 'COMPLETE'],\n",
       " ['8', '2013-07-25 00:00:00.0', '2911', 'PROCESSING'],\n",
       " ['9', '2013-07-25 00:00:00.0', '5657', 'PENDING_PAYMENT'],\n",
       " ['10', '2013-07-25 00:00:00.0', '5648', 'PENDING_PAYMENT']]"
      ]
     },
     "execution_count": 25,
     "metadata": {},
     "output_type": "execute_result"
    }
   ],
   "source": [
    "ord_rdd.take(10)"
   ]
  },
  {
   "cell_type": "code",
   "execution_count": 26,
   "id": "cd45a16e-00db-4eca-b613-99372861382f",
   "metadata": {},
   "outputs": [
    {
     "data": {
      "text/plain": [
       "[['1', '1', '957', '1', '299.98', '299.98'],\n",
       " ['2', '2', '1073', '1', '199.99', '199.99'],\n",
       " ['3', '2', '502', '5', '250.0', '50.0'],\n",
       " ['4', '2', '403', '1', '129.99', '129.99'],\n",
       " ['5', '4', '897', '2', '49.98', '24.99'],\n",
       " ['6', '4', '365', '5', '299.95', '59.99'],\n",
       " ['7', '4', '502', '3', '150.0', '50.0'],\n",
       " ['8', '4', '1014', '4', '199.92', '49.98'],\n",
       " ['9', '5', '957', '1', '299.98', '299.98'],\n",
       " ['10', '5', '365', '5', '299.95', '59.99']]"
      ]
     },
     "execution_count": 26,
     "metadata": {},
     "output_type": "execute_result"
    }
   ],
   "source": [
    "ordItems_rdd.take(10)"
   ]
  },
  {
   "cell_type": "code",
   "execution_count": 28,
   "id": "ee623397-448d-435a-b11b-8b1423938da4",
   "metadata": {},
   "outputs": [
    {
     "data": {
      "text/plain": [
       "[('1', ['2013-07-25 00:00:00.0', '11599', 'CLOSED']),\n",
       " ('2', ['2013-07-25 00:00:00.0', '256', 'PENDING_PAYMENT']),\n",
       " ('3', ['2013-07-25 00:00:00.0', '12111', 'COMPLETE']),\n",
       " ('4', ['2013-07-25 00:00:00.0', '8827', 'CLOSED']),\n",
       " ('5', ['2013-07-25 00:00:00.0', '11318', 'COMPLETE']),\n",
       " ('6', ['2013-07-25 00:00:00.0', '7130', 'COMPLETE']),\n",
       " ('7', ['2013-07-25 00:00:00.0', '4530', 'COMPLETE']),\n",
       " ('8', ['2013-07-25 00:00:00.0', '2911', 'PROCESSING']),\n",
       " ('9', ['2013-07-25 00:00:00.0', '5657', 'PENDING_PAYMENT']),\n",
       " ('10', ['2013-07-25 00:00:00.0', '5648', 'PENDING_PAYMENT'])]"
      ]
     },
     "execution_count": 28,
     "metadata": {},
     "output_type": "execute_result"
    }
   ],
   "source": [
    "ord_rdd = ord_rdd.map( lambda x: (x[0],x[1::]) )\n",
    "ord_rdd.take(10)"
   ]
  },
  {
   "cell_type": "code",
   "execution_count": 29,
   "id": "61901f1b-d8fc-4285-88ce-60d4f5c21e3c",
   "metadata": {},
   "outputs": [
    {
     "data": {
      "text/plain": [
       "[('1', ['1', '957', '1', '299.98', '299.98']),\n",
       " ('2', ['2', '1073', '1', '199.99', '199.99']),\n",
       " ('2', ['3', '502', '5', '250.0', '50.0']),\n",
       " ('2', ['4', '403', '1', '129.99', '129.99']),\n",
       " ('4', ['5', '897', '2', '49.98', '24.99']),\n",
       " ('4', ['6', '365', '5', '299.95', '59.99']),\n",
       " ('4', ['7', '502', '3', '150.0', '50.0']),\n",
       " ('4', ['8', '1014', '4', '199.92', '49.98']),\n",
       " ('5', ['9', '957', '1', '299.98', '299.98']),\n",
       " ('5', ['10', '365', '5', '299.95', '59.99'])]"
      ]
     },
     "execution_count": 29,
     "metadata": {},
     "output_type": "execute_result"
    }
   ],
   "source": [
    "ordItems_rdd = ordItems_rdd.map( lambda x: (x[1],[x[0],x[2],x[3],x[4],x[5]]) )\n",
    "ordItems_rdd.take(10)"
   ]
  },
  {
   "cell_type": "code",
   "execution_count": 30,
   "id": "aee635e3-d7f1-4172-9c29-823502eb891f",
   "metadata": {},
   "outputs": [
    {
     "data": {
      "text/plain": [
       "[('1',\n",
       "  (['2013-07-25 00:00:00.0', '11599', 'CLOSED'],\n",
       "   ['1', '957', '1', '299.98', '299.98'])),\n",
       " ('4',\n",
       "  (['2013-07-25 00:00:00.0', '8827', 'CLOSED'],\n",
       "   ['5', '897', '2', '49.98', '24.99'])),\n",
       " ('4',\n",
       "  (['2013-07-25 00:00:00.0', '8827', 'CLOSED'],\n",
       "   ['6', '365', '5', '299.95', '59.99'])),\n",
       " ('4',\n",
       "  (['2013-07-25 00:00:00.0', '8827', 'CLOSED'],\n",
       "   ['7', '502', '3', '150.0', '50.0'])),\n",
       " ('4',\n",
       "  (['2013-07-25 00:00:00.0', '8827', 'CLOSED'],\n",
       "   ['8', '1014', '4', '199.92', '49.98'])),\n",
       " ('8',\n",
       "  (['2013-07-25 00:00:00.0', '2911', 'PROCESSING'],\n",
       "   ['17', '365', '3', '179.97', '59.99'])),\n",
       " ('8',\n",
       "  (['2013-07-25 00:00:00.0', '2911', 'PROCESSING'],\n",
       "   ['18', '365', '5', '299.95', '59.99'])),\n",
       " ('8',\n",
       "  (['2013-07-25 00:00:00.0', '2911', 'PROCESSING'],\n",
       "   ['19', '1014', '4', '199.92', '49.98'])),\n",
       " ('8',\n",
       "  (['2013-07-25 00:00:00.0', '2911', 'PROCESSING'],\n",
       "   ['20', '502', '1', '50.0', '50.0'])),\n",
       " ('9',\n",
       "  (['2013-07-25 00:00:00.0', '5657', 'PENDING_PAYMENT'],\n",
       "   ['21', '191', '2', '199.98', '99.99']))]"
      ]
     },
     "execution_count": 30,
     "metadata": {},
     "output_type": "execute_result"
    }
   ],
   "source": [
    "joined_ord_ordItems_rdd = ord_rdd.join( ordItems_rdd )\n",
    "joined_ord_ordItems_rdd.take(10)"
   ]
  },
  {
   "cell_type": "code",
   "execution_count": 31,
   "id": "2d41e82a-4bf5-48ed-859c-6a93623949b9",
   "metadata": {},
   "outputs": [
    {
     "data": {
      "text/plain": [
       "[('11599', '299.98'),\n",
       " ('8827', '49.98'),\n",
       " ('8827', '299.95'),\n",
       " ('8827', '150.0'),\n",
       " ('8827', '199.92'),\n",
       " ('2911', '179.97'),\n",
       " ('2911', '299.95'),\n",
       " ('2911', '199.92'),\n",
       " ('2911', '50.0'),\n",
       " ('5657', '199.98')]"
      ]
     },
     "execution_count": 31,
     "metadata": {},
     "output_type": "execute_result"
    }
   ],
   "source": [
    "custId_subtotal_rdd = joined_ord_ordItems_rdd.map( lambda x: (x[1][0][1], x[1][1][3]) )\n",
    "custId_subtotal_rdd.take(10)"
   ]
  },
  {
   "cell_type": "markdown",
   "id": "8e0a69cc-cbf5-4653-b8f8-80d20ca1b02d",
   "metadata": {},
   "source": [
    "### 2. Using Dataframes\n",
    "----------------------------"
   ]
  },
  {
   "cell_type": "code",
   "execution_count": 10,
   "id": "6540c6b7-a053-46b8-9d41-5c663f6c6b08",
   "metadata": {},
   "outputs": [
    {
     "name": "stdout",
     "output_type": "stream",
     "text": [
      "+-------+------+\n",
      "|orderId|custId|\n",
      "+-------+------+\n",
      "|      1| 11599|\n",
      "|      2|   256|\n",
      "|      3| 12111|\n",
      "|      4|  8827|\n",
      "|      5| 11318|\n",
      "+-------+------+\n",
      "only showing top 5 rows\n",
      "\n"
     ]
    }
   ],
   "source": [
    "ord_df = spark.read.format(\"csv\").option(\"inferSchema\", True).load(\"./data/orders.csv\")\n",
    "ord_df = ord_df.select(F.col(\"_c0\").alias(\"orderId\"), F.col(\"_c2\").alias(\"custId\"))\n",
    "ord_df.show(5)"
   ]
  },
  {
   "cell_type": "code",
   "execution_count": 14,
   "id": "0dce77a4-16c2-4121-ba58-4f98b0a2160a",
   "metadata": {},
   "outputs": [
    {
     "name": "stdout",
     "output_type": "stream",
     "text": [
      "+-------+--------+\n",
      "|orderId|subtotal|\n",
      "+-------+--------+\n",
      "|      1|  299.98|\n",
      "|      2|  199.99|\n",
      "|      2|   250.0|\n",
      "|      2|  129.99|\n",
      "|      4|   49.98|\n",
      "+-------+--------+\n",
      "only showing top 5 rows\n",
      "\n"
     ]
    }
   ],
   "source": [
    "ordItems_df = spark.read.format(\"csv\").option(\"inferSchema\", True).load(\"./data/orderItems.csv\")\n",
    "ordItems_df = ordItems_df.select( F.col(\"_c1\").alias(\"orderId\"), F.col(\"_c4\").alias(\"subtotal\") )\n",
    "ordItems_df.show(5)"
   ]
  },
  {
   "cell_type": "code",
   "execution_count": 24,
   "id": "7a0568e6-106e-4191-8c2b-58ece8425f93",
   "metadata": {},
   "outputs": [
    {
     "data": {
      "text/plain": [
       "172198"
      ]
     },
     "execution_count": 24,
     "metadata": {},
     "output_type": "execute_result"
    }
   ],
   "source": [
    "customer_subtotal_df = ord_df.join(ordItems_df, ord_df.orderId==ordItems_df.orderId, \"inner\" ).drop(\"orderId\")\n",
    "customer_subtotal_df.count()"
   ]
  },
  {
   "cell_type": "code",
   "execution_count": 26,
   "id": "49c0de13-5dff-437f-b1ba-9985b408c15a",
   "metadata": {},
   "outputs": [
    {
     "name": "stdout",
     "output_type": "stream",
     "text": [
      "+------+--------+\n",
      "|custId|subtotal|\n",
      "+------+--------+\n",
      "| 11599|  299.98|\n",
      "|   256|  199.99|\n",
      "|   256|   250.0|\n",
      "|   256|  129.99|\n",
      "|  8827|   49.98|\n",
      "|  8827|  299.95|\n",
      "|  8827|   150.0|\n",
      "|  8827|  199.92|\n",
      "| 11318|  299.98|\n",
      "| 11318|  299.95|\n",
      "+------+--------+\n",
      "only showing top 10 rows\n",
      "\n"
     ]
    }
   ],
   "source": [
    "customer_subtotal_df.show(10)"
   ]
  },
  {
   "cell_type": "code",
   "execution_count": 28,
   "id": "592523ba-8673-4332-8c17-02a03c847f2f",
   "metadata": {},
   "outputs": [
    {
     "data": {
      "text/plain": [
       "1"
      ]
     },
     "execution_count": 28,
     "metadata": {},
     "output_type": "execute_result"
    }
   ],
   "source": [
    "customer_subtotal_df.rdd.getNumPartitions()"
   ]
  },
  {
   "cell_type": "code",
   "execution_count": 29,
   "id": "13bcd0c2-1fd6-41e8-bc34-951ee2ee0e4f",
   "metadata": {},
   "outputs": [
    {
     "data": {
      "text/plain": [
       "StorageLevel(False, False, False, False, 1)"
      ]
     },
     "execution_count": 29,
     "metadata": {},
     "output_type": "execute_result"
    }
   ],
   "source": [
    "customer_subtotal_df.rdd.getStorageLevel()"
   ]
  },
  {
   "cell_type": "markdown",
   "id": "9121c71f-112b-4cd8-915b-597fcaacef20",
   "metadata": {},
   "source": [
    "## Using cogroup() rdd method:-\n",
    "----------------------------------\n",
    "Experimentation for understanding purpose"
   ]
  },
  {
   "cell_type": "code",
   "execution_count": 30,
   "id": "50d09f20-4b8b-4726-95d3-a88ef0b14995",
   "metadata": {},
   "outputs": [
    {
     "data": {
      "text/plain": [
       "[(1, 'a'), (2, 'b'), (3, 'c'), (4, 'd'), (5, 'e')]"
      ]
     },
     "execution_count": 30,
     "metadata": {},
     "output_type": "execute_result"
    }
   ],
   "source": [
    "co_ls1 = [(1,'a'),(2,'b'),(3,'c'),(4,'d'),(5,'e')]\n",
    "co_rdd1 = sc.parallelize(co_ls1)\n",
    "co_rdd1.collect()"
   ]
  },
  {
   "cell_type": "code",
   "execution_count": 32,
   "id": "b69820e0-8afc-46f4-9b2b-7cc626fc7342",
   "metadata": {},
   "outputs": [
    {
     "data": {
      "text/plain": [
       "[(1, 'w'), (2, 'x'), (3, 'y'), (4, 'z')]"
      ]
     },
     "execution_count": 32,
     "metadata": {},
     "output_type": "execute_result"
    }
   ],
   "source": [
    "co_ls2 = [(1,'w'),(2,'x'),(3,'y'),(4,'z')]\n",
    "co_rdd2 = sc.parallelize(co_ls2)\n",
    "co_rdd2.collect()"
   ]
  },
  {
   "cell_type": "code",
   "execution_count": 33,
   "id": "05c93bf7-c5ae-4030-b905-c816c5973c2b",
   "metadata": {},
   "outputs": [
    {
     "data": {
      "text/plain": [
       "[(2,\n",
       "  (<pyspark.resultiterable.ResultIterable at 0x274d177eee0>,\n",
       "   <pyspark.resultiterable.ResultIterable at 0x274d25e5250>)),\n",
       " (4,\n",
       "  (<pyspark.resultiterable.ResultIterable at 0x274d25e52b0>,\n",
       "   <pyspark.resultiterable.ResultIterable at 0x274d25e5310>)),\n",
       " (1,\n",
       "  (<pyspark.resultiterable.ResultIterable at 0x274d25e5370>,\n",
       "   <pyspark.resultiterable.ResultIterable at 0x274d25e53d0>)),\n",
       " (3,\n",
       "  (<pyspark.resultiterable.ResultIterable at 0x274d25e5430>,\n",
       "   <pyspark.resultiterable.ResultIterable at 0x274d25e5490>)),\n",
       " (5,\n",
       "  (<pyspark.resultiterable.ResultIterable at 0x274d25e54f0>,\n",
       "   <pyspark.resultiterable.ResultIterable at 0x274d25e5550>))]"
      ]
     },
     "execution_count": 33,
     "metadata": {},
     "output_type": "execute_result"
    }
   ],
   "source": [
    "co_main_rdd = co_rdd1.cogroup(co_rdd2)\n",
    "co_main_rdd.collect()"
   ]
  },
  {
   "cell_type": "code",
   "execution_count": null,
   "id": "0758f1f5-f0ba-4a8d-a53a-09fbfbd57ad3",
   "metadata": {},
   "outputs": [],
   "source": []
  }
 ],
 "metadata": {
  "kernelspec": {
   "display_name": "Python 3 (ipykernel)",
   "language": "python",
   "name": "python3"
  },
  "language_info": {
   "codemirror_mode": {
    "name": "ipython",
    "version": 3
   },
   "file_extension": ".py",
   "mimetype": "text/x-python",
   "name": "python",
   "nbconvert_exporter": "python",
   "pygments_lexer": "ipython3",
   "version": "3.8.8"
  }
 },
 "nbformat": 4,
 "nbformat_minor": 5
}
