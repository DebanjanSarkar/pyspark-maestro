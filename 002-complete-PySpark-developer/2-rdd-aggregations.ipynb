{
 "cells": [
  {
   "cell_type": "code",
   "execution_count": 1,
   "id": "2e53f887-6015-4386-9370-1e6adbfb5dea",
   "metadata": {},
   "outputs": [],
   "source": [
    "import findspark\n",
    "findspark.init()"
   ]
  },
  {
   "cell_type": "code",
   "execution_count": 2,
   "id": "df3a4787-d2ee-4f91-bf84-c4da9c6736ec",
   "metadata": {},
   "outputs": [],
   "source": [
    "from pyspark.sql import SparkSession\n",
    "\n",
    "spark = SparkSession.builder.appName(\"2-rdd-aggregations\").getOrCreate()\n",
    "sc = spark.sparkContext"
   ]
  },
  {
   "cell_type": "code",
   "execution_count": 3,
   "id": "604e0d16-c333-4254-a94f-105c070d9f42",
   "metadata": {},
   "outputs": [
    {
     "data": {
      "text/html": [
       "\n",
       "            <div>\n",
       "                <p><b>SparkSession - in-memory</b></p>\n",
       "                \n",
       "        <div>\n",
       "            <p><b>SparkContext</b></p>\n",
       "\n",
       "            <p><a href=\"http://DEBANJAN:4040\">Spark UI</a></p>\n",
       "\n",
       "            <dl>\n",
       "              <dt>Version</dt>\n",
       "                <dd><code>v3.3.2</code></dd>\n",
       "              <dt>Master</dt>\n",
       "                <dd><code>local[*]</code></dd>\n",
       "              <dt>AppName</dt>\n",
       "                <dd><code>2-rdd-aggregations</code></dd>\n",
       "            </dl>\n",
       "        </div>\n",
       "        \n",
       "            </div>\n",
       "        "
      ],
      "text/plain": [
       "<pyspark.sql.session.SparkSession at 0x21643edf3d0>"
      ]
     },
     "execution_count": 3,
     "metadata": {},
     "output_type": "execute_result"
    }
   ],
   "source": [
    "spark"
   ]
  },
  {
   "cell_type": "code",
   "execution_count": 4,
   "id": "ff71b6b4-f21b-4c25-9f07-bc5171e01f44",
   "metadata": {},
   "outputs": [],
   "source": [
    "ord_rdd = sc.textFile(\"data/orders.csv\").map( lambda x: tuple(x.split(',')) )\n",
    "ordItems_rdd = sc.textFile(\"./data/orderItems.csv\").map( lambda x: tuple(x.split(\",\")) )"
   ]
  },
  {
   "cell_type": "code",
   "execution_count": 5,
   "id": "37ddcf07-6321-44ca-9a02-eb2b276d2782",
   "metadata": {},
   "outputs": [
    {
     "data": {
      "text/plain": [
       "2"
      ]
     },
     "execution_count": 5,
     "metadata": {},
     "output_type": "execute_result"
    }
   ],
   "source": [
    "ord_rdd.getNumPartitions()"
   ]
  },
  {
   "cell_type": "code",
   "execution_count": 6,
   "id": "1e12651d-5880-4444-a7ea-25035dcb45d0",
   "metadata": {},
   "outputs": [
    {
     "name": "stdout",
     "output_type": "stream",
     "text": [
      "8\n"
     ]
    }
   ],
   "source": [
    "print(sc.defaultParallelism)"
   ]
  },
  {
   "cell_type": "code",
   "execution_count": 11,
   "id": "a61273e0-db4e-40fb-b2f8-ef47ca0de2af",
   "metadata": {},
   "outputs": [
    {
     "data": {
      "text/plain": [
       "[('1', '2013-07-25 00:00:00.0', '11599', 'CLOSED'),\n",
       " ('2', '2013-07-25 00:00:00.0', '256', 'PENDING_PAYMENT'),\n",
       " ('3', '2013-07-25 00:00:00.0', '12111', 'COMPLETE'),\n",
       " ('4', '2013-07-25 00:00:00.0', '8827', 'CLOSED'),\n",
       " ('5', '2013-07-25 00:00:00.0', '11318', 'COMPLETE'),\n",
       " ('6', '2013-07-25 00:00:00.0', '7130', 'COMPLETE'),\n",
       " ('7', '2013-07-25 00:00:00.0', '4530', 'COMPLETE'),\n",
       " ('8', '2013-07-25 00:00:00.0', '2911', 'PROCESSING'),\n",
       " ('9', '2013-07-25 00:00:00.0', '5657', 'PENDING_PAYMENT'),\n",
       " ('10', '2013-07-25 00:00:00.0', '5648', 'PENDING_PAYMENT')]"
      ]
     },
     "execution_count": 11,
     "metadata": {},
     "output_type": "execute_result"
    }
   ],
   "source": [
    "ord_rdd.take(10)"
   ]
  },
  {
   "cell_type": "code",
   "execution_count": 17,
   "id": "06627042-7050-4ea2-ba92-a771c49e9b34",
   "metadata": {},
   "outputs": [
    {
     "data": {
      "text/plain": [
       "[('1', '1', '957', '1', '299.98', '299.98'),\n",
       " ('2', '2', '1073', '1', '199.99', '199.99'),\n",
       " ('3', '2', '502', '5', '250.0', '50.0'),\n",
       " ('4', '2', '403', '1', '129.99', '129.99'),\n",
       " ('5', '4', '897', '2', '49.98', '24.99'),\n",
       " ('6', '4', '365', '5', '299.95', '59.99'),\n",
       " ('7', '4', '502', '3', '150.0', '50.0'),\n",
       " ('8', '4', '1014', '4', '199.92', '49.98'),\n",
       " ('9', '5', '957', '1', '299.98', '299.98'),\n",
       " ('10', '5', '365', '5', '299.95', '59.99')]"
      ]
     },
     "execution_count": 17,
     "metadata": {},
     "output_type": "execute_result"
    }
   ],
   "source": [
    "ordItems_rdd.take(10)"
   ]
  },
  {
   "cell_type": "code",
   "execution_count": 9,
   "id": "28425ed6-2c90-4c87-a203-2c4105035243",
   "metadata": {},
   "outputs": [
    {
     "data": {
      "text/plain": [
       "StorageLevel(False, False, False, False, 1)"
      ]
     },
     "execution_count": 9,
     "metadata": {},
     "output_type": "execute_result"
    }
   ],
   "source": [
    "ord_rdd.getStorageLevel()"
   ]
  },
  {
   "cell_type": "markdown",
   "id": "63d90eb4-5bcd-40bc-b57e-4668c62b344b",
   "metadata": {},
   "source": [
    "### 1. Numbers of orders that are closed:-\n",
    "--------------------------------------------"
   ]
  },
  {
   "cell_type": "code",
   "execution_count": 10,
   "id": "c8ada04a-e201-4c1c-a013-f1207462d37d",
   "metadata": {},
   "outputs": [
    {
     "data": {
      "text/plain": [
       "7556"
      ]
     },
     "execution_count": 10,
     "metadata": {},
     "output_type": "execute_result"
    }
   ],
   "source": [
    "ord_rdd.filter( lambda x: x[-1]=='CLOSED' ).count()"
   ]
  },
  {
   "cell_type": "markdown",
   "id": "152e35ae-d7d6-458b-ba7d-e4220f88ae54",
   "metadata": {},
   "source": [
    "### 2. Find the total quanty sold for OrderID 1 to 10:-\n",
    "------------------------------------------------------------\n",
    "In the <u>orderItems</u> dataset-\n",
    "- The 2nd column is the ***orderId*** column.\n",
    "- The 4th column is the ***quantity*** column."
   ]
  },
  {
   "cell_type": "code",
   "execution_count": 18,
   "id": "0e9e75c4-57e0-4527-bfc2-3bb116731404",
   "metadata": {},
   "outputs": [
    {
     "data": {
      "text/plain": [
       "[('1', '1', '957', '1', '299.98', '299.98'),\n",
       " ('2', '2', '1073', '1', '199.99', '199.99'),\n",
       " ('3', '2', '502', '5', '250.0', '50.0'),\n",
       " ('4', '2', '403', '1', '129.99', '129.99'),\n",
       " ('5', '4', '897', '2', '49.98', '24.99')]"
      ]
     },
     "execution_count": 18,
     "metadata": {},
     "output_type": "execute_result"
    }
   ],
   "source": [
    "ordItems_rdd.take(5)"
   ]
  },
  {
   "cell_type": "code",
   "execution_count": 26,
   "id": "8fb35788-3d4f-46db-94df-67f1e13b6e47",
   "metadata": {
    "tags": []
   },
   "outputs": [
    {
     "data": {
      "text/plain": [
       "[(1, 1),\n",
       " (2, 1),\n",
       " (2, 5),\n",
       " (2, 1),\n",
       " (4, 2),\n",
       " (4, 5),\n",
       " (4, 3),\n",
       " (4, 4),\n",
       " (5, 1),\n",
       " (5, 5),\n",
       " (5, 2),\n",
       " (5, 1),\n",
       " (5, 1),\n",
       " (7, 1),\n",
       " (7, 1),\n",
       " (7, 5),\n",
       " (8, 3),\n",
       " (8, 5),\n",
       " (8, 4),\n",
       " (8, 1),\n",
       " (9, 2),\n",
       " (9, 1),\n",
       " (9, 1),\n",
       " (10, 1),\n",
       " (10, 2),\n",
       " (10, 1),\n",
       " (10, 1),\n",
       " (10, 1)]"
      ]
     },
     "execution_count": 26,
     "metadata": {},
     "output_type": "execute_result"
    }
   ],
   "source": [
    "q2_rdd = ordItems_rdd.map( lambda x: (int(x[1]), int(x[3])) ).filter( lambda x: x[0] in range(1,11) )\n",
    "q2_rdd.collect()"
   ]
  },
  {
   "cell_type": "code",
   "execution_count": 27,
   "id": "592a6808-4224-4a9f-abc4-b68b5bce5d69",
   "metadata": {},
   "outputs": [
    {
     "data": {
      "text/plain": [
       "[(2, 7), (4, 14), (8, 13), (10, 6), (1, 1), (5, 10), (7, 7), (9, 4)]"
      ]
     },
     "execution_count": 27,
     "metadata": {},
     "output_type": "execute_result"
    }
   ],
   "source": [
    "q2_rdd.reduceByKey( lambda x,y: x+y ).collect()"
   ]
  },
  {
   "cell_type": "code",
   "execution_count": 51,
   "id": "3b6f0679-92c8-40b3-bdb9-593e6224372d",
   "metadata": {},
   "outputs": [
    {
     "name": "stdout",
     "output_type": "stream",
     "text": [
      "Total quantity of orders 1-10 is: 62\n"
     ]
    }
   ],
   "source": [
    "#Total order:\n",
    "total_qty = q2_rdd.map( lambda x: x[1] ).reduce( lambda x,y: x+y )\n",
    "print( \"Total quantity of orders 1-10 is:\", total_qty )"
   ]
  },
  {
   "cell_type": "markdown",
   "id": "9c12f2fa-c687-485e-a881-3f67e776ee15",
   "metadata": {},
   "source": [
    "### 3. For a given order (say 10), find the maximum subtotal out of all orders:\n",
    "--------------------------------------------------------------------------------\n",
    "In the *\"orderItems.csv\"* dataset-\n",
    "- The 2nd column is orderId, and it denotes a particular order(here, we want 10 as orderId)\n",
    "- The 5th column contains the subtotal."
   ]
  },
  {
   "cell_type": "code",
   "execution_count": 31,
   "id": "c43e2c44-3682-4d15-8643-32741a8ff769",
   "metadata": {},
   "outputs": [
    {
     "data": {
      "text/plain": [
       "[('1', '1', '957', '1', '299.98', '299.98'),\n",
       " ('2', '2', '1073', '1', '199.99', '199.99'),\n",
       " ('3', '2', '502', '5', '250.0', '50.0'),\n",
       " ('4', '2', '403', '1', '129.99', '129.99'),\n",
       " ('5', '4', '897', '2', '49.98', '24.99')]"
      ]
     },
     "execution_count": 31,
     "metadata": {},
     "output_type": "execute_result"
    }
   ],
   "source": [
    "ordItems_rdd.take(5)"
   ]
  },
  {
   "cell_type": "code",
   "execution_count": 45,
   "id": "c1a4a92e-1eac-4aa1-b2d1-8525e6f85a3f",
   "metadata": {},
   "outputs": [],
   "source": [
    "q3_rdd = ordItems_rdd.filter( lambda x: x[1]=='10' ).map( lambda x: float(x[4]) )"
   ]
  },
  {
   "cell_type": "code",
   "execution_count": 46,
   "id": "adc870c9-3bbc-4d0c-9fac-ed1f9c65c52c",
   "metadata": {},
   "outputs": [
    {
     "data": {
      "text/plain": [
       "pyspark.rdd.PipelinedRDD"
      ]
     },
     "execution_count": 46,
     "metadata": {},
     "output_type": "execute_result"
    }
   ],
   "source": [
    "type( q3_rdd )"
   ]
  },
  {
   "cell_type": "code",
   "execution_count": 48,
   "id": "37746b1d-b51c-403d-8605-3fc3f8ed8140",
   "metadata": {},
   "outputs": [
    {
     "data": {
      "text/plain": [
       "[199.99, 99.96, 129.99, 21.99, 199.99]"
      ]
     },
     "execution_count": 48,
     "metadata": {},
     "output_type": "execute_result"
    }
   ],
   "source": [
    "q3_rdd.collect()"
   ]
  },
  {
   "cell_type": "code",
   "execution_count": 50,
   "id": "95432f77-fa8f-4eac-b488-32bfe6f07f5e",
   "metadata": {},
   "outputs": [
    {
     "name": "stdout",
     "output_type": "stream",
     "text": [
      "Max Subtotal for order 10 is: 199.99\n"
     ]
    }
   ],
   "source": [
    "max_subtotal_for_order_10 = q3_rdd.reduce( lambda x,y: x if x>y else y )\n",
    "print( \"Max Subtotal for order 10 is:\", max_subtotal_for_order_10 )"
   ]
  },
  {
   "cell_type": "markdown",
   "id": "34e2191b-f8f4-4086-b39e-e283a63079f2",
   "metadata": {},
   "source": [
    "### 4. For each product, find its aggregated(total) revenue:\n",
    "<hr>"
   ]
  },
  {
   "cell_type": "code",
   "execution_count": 20,
   "id": "26742832-e5f2-496c-a32c-36bdfcf06eae",
   "metadata": {},
   "outputs": [
    {
     "data": {
      "text/plain": [
       "[('1', '1', '957', '1', '299.98', '299.98'),\n",
       " ('2', '2', '1073', '1', '199.99', '199.99'),\n",
       " ('3', '2', '502', '5', '250.0', '50.0'),\n",
       " ('4', '2', '403', '1', '129.99', '129.99'),\n",
       " ('5', '4', '897', '2', '49.98', '24.99')]"
      ]
     },
     "execution_count": 20,
     "metadata": {},
     "output_type": "execute_result"
    }
   ],
   "source": [
    "ordItems_rdd.take(5)"
   ]
  },
  {
   "cell_type": "code",
   "execution_count": 11,
   "id": "7402533d-337e-4050-bae0-008f4d2baa60",
   "metadata": {},
   "outputs": [],
   "source": [
    "ordItems_schema = [\"order_item_id\", \"order_item_order_id\", \"order_item_product_id\", \"order_item_quantity\", \"order_item_revenue\", \"order_item_price\"]\n",
    "\n",
    "ordItems_df = ordItems_rdd.toDF(ordItems_schema)"
   ]
  },
  {
   "cell_type": "code",
   "execution_count": 12,
   "id": "100e3f3d-4376-44e7-ad12-adc12fd67a88",
   "metadata": {},
   "outputs": [
    {
     "name": "stdout",
     "output_type": "stream",
     "text": [
      "+-------------+-------------------+---------------------+-------------------+------------------+----------------+\n",
      "|order_item_id|order_item_order_id|order_item_product_id|order_item_quantity|order_item_revenue|order_item_price|\n",
      "+-------------+-------------------+---------------------+-------------------+------------------+----------------+\n",
      "|            1|                  1|                  957|                  1|            299.98|          299.98|\n",
      "|            2|                  2|                 1073|                  1|            199.99|          199.99|\n",
      "|            3|                  2|                  502|                  5|             250.0|            50.0|\n",
      "|            4|                  2|                  403|                  1|            129.99|          129.99|\n",
      "|            5|                  4|                  897|                  2|             49.98|           24.99|\n",
      "|            6|                  4|                  365|                  5|            299.95|           59.99|\n",
      "|            7|                  4|                  502|                  3|             150.0|            50.0|\n",
      "|            8|                  4|                 1014|                  4|            199.92|           49.98|\n",
      "|            9|                  5|                  957|                  1|            299.98|          299.98|\n",
      "|           10|                  5|                  365|                  5|            299.95|           59.99|\n",
      "+-------------+-------------------+---------------------+-------------------+------------------+----------------+\n",
      "only showing top 10 rows\n",
      "\n"
     ]
    }
   ],
   "source": [
    "ordItems_df.show(10)"
   ]
  },
  {
   "cell_type": "code",
   "execution_count": 19,
   "id": "5c304d16-e1c4-4d9d-b03e-1bbc30943f82",
   "metadata": {},
   "outputs": [
    {
     "data": {
      "text/plain": [
       "[(957, 299.98), (1073, 199.99), (502, 250.0), (403, 129.99), (897, 49.98)]"
      ]
     },
     "execution_count": 19,
     "metadata": {},
     "output_type": "execute_result"
    }
   ],
   "source": [
    "prod_rev_rdd = ordItems_rdd.map( lambda x: ( int(x[2]), float(x[4]) ) )\n",
    "prod_rev_rdd.take(5)"
   ]
  },
  {
   "cell_type": "code",
   "execution_count": 41,
   "id": "668f7f7f-580e-45b7-a5aa-0e4c0c9a2626",
   "metadata": {},
   "outputs": [
    {
     "data": {
      "text/plain": [
       "[(1004, 6929653.499999708),\n",
       " (365, 4421143.019999638),\n",
       " (957, 4118425.419999785),\n",
       " (191, 3667633.1999997487),\n",
       " (502, 3147800.0),\n",
       " (1073, 3099844.999999871),\n",
       " (403, 2891757.5399998166),\n",
       " (1014, 2888993.9399996493),\n",
       " (627, 1269082.649999932),\n",
       " (565, 67830.0)]"
      ]
     },
     "execution_count": 41,
     "metadata": {},
     "output_type": "execute_result"
    }
   ],
   "source": [
    "prod_rev_rdd.reduceByKey( lambda x,y: x+y ).sortBy( lambda x: x[1], ascending=False ).take(10)"
   ]
  },
  {
   "cell_type": "code",
   "execution_count": 44,
   "id": "66b8bce1-2346-4441-8e33-7ac63c78f158",
   "metadata": {},
   "outputs": [],
   "source": [
    "prod_rev_grp = prod_rev_rdd.groupByKey()"
   ]
  },
  {
   "cell_type": "code",
   "execution_count": 48,
   "id": "a15c14fe-3fde-4cc7-bafe-44ba3b071365",
   "metadata": {},
   "outputs": [
    {
     "name": "stdout",
     "output_type": "stream",
     "text": [
      "502\n",
      "<pyspark.resultiterable.ResultIterable object at 0x0000022ED60BE0D0>\n"
     ]
    }
   ],
   "source": [
    "for i in prod_rev_grp.collect()[0]:\n",
    "    print(i)"
   ]
  },
  {
   "cell_type": "markdown",
   "id": "ee6b61cd-387c-4ea6-bf28-02101d03a5f9",
   "metadata": {},
   "source": [
    "### 5. For each product, find its max revenue:\n",
    "<hr>"
   ]
  },
  {
   "cell_type": "code",
   "execution_count": 50,
   "id": "c2e3271d-ba2d-45a8-8634-2a6744c4b524",
   "metadata": {},
   "outputs": [
    {
     "data": {
      "text/plain": [
       "[(502, 250.0),\n",
       " (1014, 249.9),\n",
       " (926, 79.95),\n",
       " (134, 125.0),\n",
       " (276, 159.95),\n",
       " (1004, 399.98),\n",
       " (828, 159.95),\n",
       " (810, 99.95),\n",
       " (906, 124.95),\n",
       " (924, 79.95),\n",
       " (886, 124.95),\n",
       " (572, 199.95),\n",
       " (778, 124.95),\n",
       " (278, 224.95),\n",
       " (642, 150.0),\n",
       " (804, 99.95),\n",
       " (564, 150.0),\n",
       " (792, 74.95),\n",
       " (172, 150.0),\n",
       " (822, 239.95)]"
      ]
     },
     "execution_count": 50,
     "metadata": {},
     "output_type": "execute_result"
    }
   ],
   "source": [
    "prod_rev_rdd.reduceByKey( lambda x,y: x if x>y else y ).take(20)"
   ]
  },
  {
   "cell_type": "code",
   "execution_count": 21,
   "id": "e8163bf4-52fc-47e3-9274-55802da74110",
   "metadata": {},
   "outputs": [
    {
     "data": {
      "text/plain": [
       "[(502, 250.0),\n",
       " (1014, 249.9),\n",
       " (926, 79.95),\n",
       " (134, 125.0),\n",
       " (276, 159.95),\n",
       " (1004, 399.98),\n",
       " (828, 159.95),\n",
       " (810, 99.95),\n",
       " (906, 124.95),\n",
       " (924, 79.95),\n",
       " (886, 124.95),\n",
       " (572, 199.95),\n",
       " (778, 124.95),\n",
       " (278, 224.95),\n",
       " (642, 150.0),\n",
       " (804, 99.95),\n",
       " (564, 150.0),\n",
       " (792, 74.95),\n",
       " (172, 150.0),\n",
       " (822, 239.95)]"
      ]
     },
     "execution_count": 21,
     "metadata": {},
     "output_type": "execute_result"
    }
   ],
   "source": [
    "prod_rev_rdd.aggregateByKey( 0, lambda x,y: x if x>y else y, lambda x,y: x if x>y else y ).take(20)"
   ]
  },
  {
   "cell_type": "markdown",
   "id": "3bca4dac-07d2-485d-9a44-4f130561fd8d",
   "metadata": {},
   "source": [
    "### Using Accumulators:-\n",
    "-----------------------------"
   ]
  },
  {
   "cell_type": "code",
   "execution_count": 12,
   "id": "808e227b-9536-486c-816e-682b5564541a",
   "metadata": {},
   "outputs": [],
   "source": [
    "accum_var = sc.accumulator(0)"
   ]
  },
  {
   "cell_type": "code",
   "execution_count": 13,
   "id": "0a01b487-8249-4ee5-88c5-51cb8991de9e",
   "metadata": {},
   "outputs": [
    {
     "name": "stdout",
     "output_type": "stream",
     "text": [
      "0\n"
     ]
    }
   ],
   "source": [
    "print( accum_var.value )"
   ]
  },
  {
   "cell_type": "code",
   "execution_count": 14,
   "id": "bb8212c2-a751-4c6c-b216-93b0e576258c",
   "metadata": {},
   "outputs": [
    {
     "data": {
      "text/plain": [
       "[1, 2, 3, 4, 5, 6]"
      ]
     },
     "execution_count": 14,
     "metadata": {},
     "output_type": "execute_result"
    }
   ],
   "source": [
    "test_rdd = sc.parallelize( [1,2,3,4,5,6] )\n",
    "test_rdd.collect()"
   ]
  },
  {
   "cell_type": "code",
   "execution_count": 16,
   "id": "b800a5fe-b1ae-4114-b2e1-28d5f749a123",
   "metadata": {},
   "outputs": [],
   "source": [
    "test_rdd.foreach( lambda x: accum_var.add(x) )"
   ]
  },
  {
   "cell_type": "code",
   "execution_count": 17,
   "id": "d825e56e-b76e-4160-85f3-5d2ccaf9575a",
   "metadata": {},
   "outputs": [
    {
     "name": "stdout",
     "output_type": "stream",
     "text": [
      "21\n"
     ]
    }
   ],
   "source": [
    "print( accum_var.value )"
   ]
  },
  {
   "cell_type": "markdown",
   "id": "f7a6ce9a-387f-42ff-8f01-678a1c6e0bde",
   "metadata": {},
   "source": [
    "### Find max revenue for each order, and also print the customer names:-\n",
    "<hr>"
   ]
  },
  {
   "cell_type": "code",
   "execution_count": 4,
   "id": "8940a2a9-809e-4629-8e9a-f06dd69ef5ff",
   "metadata": {},
   "outputs": [],
   "source": [
    "ord_cust_rdd = sc.parallelize([\n",
    "(2,\"Joseph\",200), (2, \"Jimmy\",250), (2, \"Tina\",130), (4,\"Jimmy\",50),\n",
    "(4,\"Tina\",300), (4,\"Joseph\",150), (4, \"Ram\",200), (7,\"Tina\",200),\n",
    "(7, \"Joseph\",300), (7,\"Jimmy\",80)\n",
    "] , 2)"
   ]
  },
  {
   "cell_type": "code",
   "execution_count": 5,
   "id": "a5dc4a71-379f-40d9-82ba-46c8a416e8a9",
   "metadata": {},
   "outputs": [
    {
     "data": {
      "text/plain": [
       "[(2, 'Joseph', 200),\n",
       " (2, 'Jimmy', 250),\n",
       " (2, 'Tina', 130),\n",
       " (4, 'Jimmy', 50),\n",
       " (4, 'Tina', 300),\n",
       " (4, 'Joseph', 150),\n",
       " (4, 'Ram', 200),\n",
       " (7, 'Tina', 200),\n",
       " (7, 'Joseph', 300),\n",
       " (7, 'Jimmy', 80)]"
      ]
     },
     "execution_count": 5,
     "metadata": {},
     "output_type": "execute_result"
    }
   ],
   "source": [
    "ord_cust_rdd.collect()"
   ]
  },
  {
   "cell_type": "code",
   "execution_count": 6,
   "id": "de90e2c2-3053-4b73-8882-5f645a65c08e",
   "metadata": {},
   "outputs": [],
   "source": [
    "ord_cust_rdd = ord_cust_rdd.map( lambda x: (x[0], (x[1],x[2])) )"
   ]
  },
  {
   "cell_type": "code",
   "execution_count": 7,
   "id": "d5ced754-655f-42e7-ae9b-745931559bc0",
   "metadata": {},
   "outputs": [
    {
     "data": {
      "text/plain": [
       "[(2, ('Joseph', 200)),\n",
       " (2, ('Jimmy', 250)),\n",
       " (2, ('Tina', 130)),\n",
       " (4, ('Jimmy', 50)),\n",
       " (4, ('Tina', 300)),\n",
       " (4, ('Joseph', 150)),\n",
       " (4, ('Ram', 200)),\n",
       " (7, ('Tina', 200)),\n",
       " (7, ('Joseph', 300)),\n",
       " (7, ('Jimmy', 80))]"
      ]
     },
     "execution_count": 7,
     "metadata": {},
     "output_type": "execute_result"
    }
   ],
   "source": [
    "ord_cust_rdd.collect()"
   ]
  },
  {
   "cell_type": "code",
   "execution_count": 17,
   "id": "ee49b251-2141-4174-8a61-6d84f6a941e3",
   "metadata": {},
   "outputs": [],
   "source": [
    "max_rev_cust_rdd = ord_cust_rdd.aggregateByKey( ('',0), lambda x,y: x if x[1]>y[1] else y , lambda x,y: x if x[1]>y[1] else y )"
   ]
  },
  {
   "cell_type": "code",
   "execution_count": 18,
   "id": "2ecca44b-b881-4fd3-93b1-20ceeba05b99",
   "metadata": {},
   "outputs": [
    {
     "data": {
      "text/plain": [
       "[(2, ('Jimmy', 250)), (4, ('Tina', 300)), (7, ('Joseph', 300))]"
      ]
     },
     "execution_count": 18,
     "metadata": {},
     "output_type": "execute_result"
    }
   ],
   "source": [
    "# type( max_rev_cust_rdd )\n",
    "max_rev_cust_rdd.collect()"
   ]
  },
  {
   "cell_type": "code",
   "execution_count": 55,
   "id": "cd8d2990-256a-4549-9283-f9da28f8e3e0",
   "metadata": {},
   "outputs": [
    {
     "name": "stdout",
     "output_type": "stream",
     "text": [
      "PythonRDD[58] at RDD at PythonRDD.scala:53\n"
     ]
    }
   ],
   "source": [
    "print( max_rev_cust_rdd )"
   ]
  },
  {
   "cell_type": "markdown",
   "id": "a03027bb-17f0-452a-9451-521d030bb515",
   "metadata": {},
   "source": [
    "### Sum up all revenues and number of records for each order:-\n",
    "<hr>"
   ]
  },
  {
   "cell_type": "code",
   "execution_count": 19,
   "id": "3eeebfae-1da7-4c41-a7aa-7ce272724ccd",
   "metadata": {},
   "outputs": [],
   "source": [
    "data = [\n",
    "(2,\"Joseph\",200), (2, \"Jimmy\",250), (2, \"Tina\",130), (4,\"Jimmy\",50),\n",
    "(4,\"Tina\",300), (4,\"Joseph\",150), (4, \"Ram\",200), (7,\"Tina\",200),\n",
    "(7, \"Joseph\",300), (7,\"Jimmy\",80)\n",
    "]\n",
    "\n",
    "ord_cust_rdd = sc.parallelize( data, 2)"
   ]
  },
  {
   "cell_type": "code",
   "execution_count": 20,
   "id": "72bfb75c-0e91-4725-964f-e74b499d82e9",
   "metadata": {},
   "outputs": [
    {
     "data": {
      "text/plain": [
       "[(2, 'Joseph', 200),\n",
       " (2, 'Jimmy', 250),\n",
       " (2, 'Tina', 130),\n",
       " (4, 'Jimmy', 50),\n",
       " (4, 'Tina', 300),\n",
       " (4, 'Joseph', 150),\n",
       " (4, 'Ram', 200),\n",
       " (7, 'Tina', 200),\n",
       " (7, 'Joseph', 300),\n",
       " (7, 'Jimmy', 80)]"
      ]
     },
     "execution_count": 20,
     "metadata": {},
     "output_type": "execute_result"
    }
   ],
   "source": [
    "ord_cust_rdd.collect()"
   ]
  },
  {
   "cell_type": "code",
   "execution_count": 21,
   "id": "78eaa03c-cd43-4afc-aa5e-137b8c97f2a9",
   "metadata": {},
   "outputs": [],
   "source": [
    "rev_sum_count_rdd = ord_cust_rdd.map( lambda x: ( x[0], (x[2],1) ) )"
   ]
  },
  {
   "cell_type": "code",
   "execution_count": 22,
   "id": "ee466b98-6f90-4f86-abec-5542b61aff2b",
   "metadata": {},
   "outputs": [
    {
     "data": {
      "text/plain": [
       "[(2, (200, 1)),\n",
       " (2, (250, 1)),\n",
       " (2, (130, 1)),\n",
       " (4, (50, 1)),\n",
       " (4, (300, 1)),\n",
       " (4, (150, 1)),\n",
       " (4, (200, 1)),\n",
       " (7, (200, 1)),\n",
       " (7, (300, 1)),\n",
       " (7, (80, 1))]"
      ]
     },
     "execution_count": 22,
     "metadata": {},
     "output_type": "execute_result"
    }
   ],
   "source": [
    "rev_sum_count_rdd.collect()"
   ]
  },
  {
   "cell_type": "code",
   "execution_count": 23,
   "id": "93e69f0b-37ce-440c-9d97-df303d4ee86d",
   "metadata": {},
   "outputs": [
    {
     "data": {
      "text/plain": [
       "[(2, (580, 3)), (4, (700, 4)), (7, (580, 3))]"
      ]
     },
     "execution_count": 23,
     "metadata": {},
     "output_type": "execute_result"
    }
   ],
   "source": [
    "rev_sum_count_rdd.reduceByKey( lambda x,y: ( x[0]+y[0], x[1]+y[1] ) ).collect()"
   ]
  },
  {
   "cell_type": "code",
   "execution_count": 25,
   "id": "b2a1ecf0-1301-432e-8338-596b87ffaedb",
   "metadata": {},
   "outputs": [
    {
     "data": {
      "text/plain": [
       "[(2, (580, 3)), (4, (700, 4)), (7, (580, 3))]"
      ]
     },
     "execution_count": 25,
     "metadata": {},
     "output_type": "execute_result"
    }
   ],
   "source": [
    "rev_sum_count_rdd.aggregateByKey( (0,0), lambda x,y: (x[0]+y[0], x[1]+y[1]), lambda x,y: (x[0]+y[0], x[1]+y[1]) ).collect()"
   ]
  },
  {
   "cell_type": "code",
   "execution_count": 26,
   "id": "a8fd71ac-af62-4cb9-980f-d9dda4411ad5",
   "metadata": {},
   "outputs": [],
   "source": [
    "ord_rev_df = spark.createDataFrame( data=data, schema = [\"ordId\",\"custName\",\"revenue\"] )"
   ]
  },
  {
   "cell_type": "code",
   "execution_count": 27,
   "id": "3c28866d-ddb5-4545-9bfc-a1e4f1963ca6",
   "metadata": {},
   "outputs": [
    {
     "name": "stdout",
     "output_type": "stream",
     "text": [
      "+-----+--------+-------+\n",
      "|ordId|custName|revenue|\n",
      "+-----+--------+-------+\n",
      "|    2|  Joseph|    200|\n",
      "|    2|   Jimmy|    250|\n",
      "|    2|    Tina|    130|\n",
      "|    4|   Jimmy|     50|\n",
      "|    4|    Tina|    300|\n",
      "|    4|  Joseph|    150|\n",
      "|    4|     Ram|    200|\n",
      "|    7|    Tina|    200|\n",
      "|    7|  Joseph|    300|\n",
      "|    7|   Jimmy|     80|\n",
      "+-----+--------+-------+\n",
      "\n"
     ]
    }
   ],
   "source": [
    "ord_rev_df.show()"
   ]
  },
  {
   "cell_type": "code",
   "execution_count": 28,
   "id": "b2b8267a-c6e5-49f4-af2e-31b03480b03f",
   "metadata": {},
   "outputs": [
    {
     "data": {
      "text/plain": [
       "False"
      ]
     },
     "execution_count": 28,
     "metadata": {},
     "output_type": "execute_result"
    }
   ],
   "source": [
    "ord_rev_df.isEmpty()"
   ]
  },
  {
   "cell_type": "code",
   "execution_count": 29,
   "id": "484ab954-8e37-49ca-9c36-256eec97fa91",
   "metadata": {},
   "outputs": [
    {
     "name": "stdout",
     "output_type": "stream",
     "text": [
      "root\n",
      " |-- ordId: long (nullable = true)\n",
      " |-- custName: string (nullable = true)\n",
      " |-- revenue: long (nullable = true)\n",
      "\n"
     ]
    }
   ],
   "source": [
    "ord_rev_df.printSchema()"
   ]
  },
  {
   "cell_type": "code",
   "execution_count": 30,
   "id": "a63c9313-df98-489e-aa1b-ecd3e349bed8",
   "metadata": {},
   "outputs": [],
   "source": [
    "from pyspark.sql import functions as F"
   ]
  },
  {
   "cell_type": "code",
   "execution_count": 32,
   "id": "f0f9ddb4-9b2b-4da1-909c-bab3e79a6646",
   "metadata": {},
   "outputs": [
    {
     "name": "stdout",
     "output_type": "stream",
     "text": [
      "+-----+-------------+------------+\n",
      "|ordId|total_revenue|count(ordId)|\n",
      "+-----+-------------+------------+\n",
      "|    2|          580|           3|\n",
      "|    4|          700|           4|\n",
      "|    7|          580|           3|\n",
      "+-----+-------------+------------+\n",
      "\n"
     ]
    }
   ],
   "source": [
    "total_rev_count_df = ord_rev_df.groupBy(\"ordId\").agg( F.sum(F.col(\"revenue\")).alias(\"total_revenue\"), F.count(F.col(\"ordId\")) ).show() "
   ]
  },
  {
   "cell_type": "markdown",
   "id": "8d474aa9-a656-4015-8382-5f813fc5bb37",
   "metadata": {},
   "source": [
    "#### - using seperate sequence_operation and combiner_operation function methodology:-\n",
    "<hr>"
   ]
  },
  {
   "cell_type": "code",
   "execution_count": 9,
   "id": "f79d9a1e-bc1a-4017-885f-905fa7872e5c",
   "metadata": {},
   "outputs": [],
   "source": [
    "data = [\n",
    "(2,\"Joseph\",200), (2, \"Jimmy\",250), (2, \"Tina\",130), (4,\"Jimmy\",50),\n",
    "(4,\"Tina\",300), (4,\"Joseph\",150), (4, \"Ram\",200), (7,\"Tina\",200),\n",
    "(7, \"Joseph\",300), (7,\"Jimmy\",80)\n",
    "]\n",
    "\n",
    "cust_rev_rdd = sc.parallelize(data, 2)"
   ]
  },
  {
   "cell_type": "code",
   "execution_count": 10,
   "id": "1abfed77-d3fd-4dc9-8468-450cd3c90006",
   "metadata": {},
   "outputs": [
    {
     "data": {
      "text/plain": [
       "[(2, 'Joseph', 200),\n",
       " (2, 'Jimmy', 250),\n",
       " (2, 'Tina', 130),\n",
       " (4, 'Jimmy', 50),\n",
       " (4, 'Tina', 300),\n",
       " (4, 'Joseph', 150),\n",
       " (4, 'Ram', 200),\n",
       " (7, 'Tina', 200),\n",
       " (7, 'Joseph', 300),\n",
       " (7, 'Jimmy', 80)]"
      ]
     },
     "execution_count": 10,
     "metadata": {},
     "output_type": "execute_result"
    }
   ],
   "source": [
    "cust_rev_rdd.collect()"
   ]
  },
  {
   "cell_type": "code",
   "execution_count": 11,
   "id": "da6711cd-9c98-49be-8b32-9e8010f1cb70",
   "metadata": {},
   "outputs": [],
   "source": [
    "cust_rev_rdd = cust_rev_rdd.map( lambda x: (x[0],x[2]) )"
   ]
  },
  {
   "cell_type": "code",
   "execution_count": 15,
   "id": "f2c00c84-f064-49d4-a3ed-67e22cc58d54",
   "metadata": {},
   "outputs": [
    {
     "data": {
      "text/plain": [
       "[(2, 200),\n",
       " (2, 250),\n",
       " (2, 130),\n",
       " (4, 50),\n",
       " (4, 300),\n",
       " (4, 150),\n",
       " (4, 200),\n",
       " (7, 200),\n",
       " (7, 300),\n",
       " (7, 80)]"
      ]
     },
     "execution_count": 15,
     "metadata": {},
     "output_type": "execute_result"
    }
   ],
   "source": [
    "cust_rev_rdd.collect()"
   ]
  },
  {
   "cell_type": "code",
   "execution_count": 13,
   "id": "122c8d50-fc3a-4510-9468-3b3e25974e8d",
   "metadata": {
    "tags": []
   },
   "outputs": [
    {
     "data": {
      "text/plain": [
       "2"
      ]
     },
     "execution_count": 13,
     "metadata": {},
     "output_type": "execute_result"
    }
   ],
   "source": [
    "cust_rev_rdd.getNumPartitions()"
   ]
  },
  {
   "cell_type": "markdown",
   "id": "1a9fdd33-ce0c-464b-a40b-c0dbfdb3b40d",
   "metadata": {},
   "source": [
    "- When using aggregateByKey(), for each unique key, a separate accumulator is created, of the datatype mentioned in the zero_value (1st) parameter of the function. For each key, that accumulator goes on collecting the aggregated value, updated at each step of the function execution, and at last, the accumulator contains the total aggregated value for each key, and thus that value is being placed in the resultant rdd, with respect to their corresponding keys."
   ]
  },
  {
   "cell_type": "code",
   "execution_count": 16,
   "id": "e63959cd-e52b-457c-bdd6-ea7f313a4ba1",
   "metadata": {},
   "outputs": [
    {
     "data": {
      "text/plain": [
       "[(2, (580, 3)), (4, (700, 4)), (7, (580, 3))]"
      ]
     },
     "execution_count": 16,
     "metadata": {},
     "output_type": "execute_result"
    }
   ],
   "source": [
    "# seq_op() function will acct on each partition, and will receive the zero_value accumulator as the 1st parameter, and each \n",
    "# value of the key value rdd will be passed one-by-one as the 2nd parameter.\n",
    "\n",
    "zero_val = (0,0) # As each element of cust_rev_rdd is a tuple with 2 integer elements\n",
    "# 0th index of zero_val will be used for counting the total revenue for each id\n",
    "# 1st index of zero_val will be used for counting the number of records for each order_id\n",
    "\n",
    "def seq_op( accum, value ):\n",
    "    # in this case, the value and key, both are integers.\n",
    "    return ( accum[0]+value, accum[1]+1 )\n",
    "\n",
    "def comb_op( accum1, accum2 ):\n",
    "    return ( accum1[0]+accum2[0], accum1[1]+accum2[1] )\n",
    "\n",
    "cust_rev_rdd.aggregateByKey( zero_val, seq_op, comb_op ).collect()"
   ]
  },
  {
   "cell_type": "markdown",
   "id": "05008478-8c7f-4c29-9a1d-178471aec092",
   "metadata": {},
   "source": [
    "<hr><hr>"
   ]
  },
  {
   "cell_type": "code",
   "execution_count": 20,
   "id": "cd8b9c35-1fae-49bf-928c-3796f9aace4b",
   "metadata": {},
   "outputs": [
    {
     "name": "stdout",
     "output_type": "stream",
     "text": [
      "defaultdict(<class 'int'>, {2: 3, 4: 4, 7: 3})\n"
     ]
    }
   ],
   "source": [
    "rec_count = cust_rev_rdd.countByKey()\n",
    "print( rec_count )"
   ]
  },
  {
   "cell_type": "code",
   "execution_count": 24,
   "id": "d398217a-1407-4cee-b7b6-447fd9f51389",
   "metadata": {},
   "outputs": [
    {
     "name": "stdout",
     "output_type": "stream",
     "text": [
      "Key: 2 ->    Record Count: 3\n",
      "Key: 4 ->    Record Count: 4\n",
      "Key: 7 ->    Record Count: 3\n"
     ]
    }
   ],
   "source": [
    "for i in rec_count:\n",
    "    print(\"Key:\",i,\"->    Record Count:\",rec_count[i])"
   ]
  },
  {
   "cell_type": "markdown",
   "id": "8964fe95-089a-4299-9225-3426b32400d7",
   "metadata": {},
   "source": [
    "### Count number of Orders for each status:-\n",
    "---------------------------------------------"
   ]
  },
  {
   "cell_type": "code",
   "execution_count": 37,
   "id": "d41468e5-4d4b-4646-a168-ab760e9d1113",
   "metadata": {},
   "outputs": [],
   "source": [
    "ord_rdd = sc.textFile(\"./data/orders.csv\").map( lambda x: (x.split(\",\")[-1], x.split(\",\")) )"
   ]
  },
  {
   "cell_type": "code",
   "execution_count": 38,
   "id": "a638b3aa-a7b5-4936-b45f-2bde88bd8129",
   "metadata": {},
   "outputs": [
    {
     "data": {
      "text/plain": [
       "[('CLOSED', ['1', '2013-07-25 00:00:00.0', '11599', 'CLOSED']),\n",
       " ('PENDING_PAYMENT', ['2', '2013-07-25 00:00:00.0', '256', 'PENDING_PAYMENT']),\n",
       " ('COMPLETE', ['3', '2013-07-25 00:00:00.0', '12111', 'COMPLETE']),\n",
       " ('CLOSED', ['4', '2013-07-25 00:00:00.0', '8827', 'CLOSED']),\n",
       " ('COMPLETE', ['5', '2013-07-25 00:00:00.0', '11318', 'COMPLETE']),\n",
       " ('COMPLETE', ['6', '2013-07-25 00:00:00.0', '7130', 'COMPLETE']),\n",
       " ('COMPLETE', ['7', '2013-07-25 00:00:00.0', '4530', 'COMPLETE']),\n",
       " ('PROCESSING', ['8', '2013-07-25 00:00:00.0', '2911', 'PROCESSING']),\n",
       " ('PENDING_PAYMENT',\n",
       "  ['9', '2013-07-25 00:00:00.0', '5657', 'PENDING_PAYMENT']),\n",
       " ('PENDING_PAYMENT',\n",
       "  ['10', '2013-07-25 00:00:00.0', '5648', 'PENDING_PAYMENT'])]"
      ]
     },
     "execution_count": 38,
     "metadata": {},
     "output_type": "execute_result"
    }
   ],
   "source": [
    "ord_rdd.take(10)"
   ]
  },
  {
   "cell_type": "code",
   "execution_count": 39,
   "id": "f05954f3-570e-4815-b611-1b0baf2f309e",
   "metadata": {},
   "outputs": [],
   "source": [
    "status_count = ord_rdd.countByKey()"
   ]
  },
  {
   "cell_type": "code",
   "execution_count": 43,
   "id": "86237c5c-b153-4717-ae16-ed1036143156",
   "metadata": {},
   "outputs": [
    {
     "name": "stdout",
     "output_type": "stream",
     "text": [
      "Status:  CANCELED ->   Count:  1428\n",
      "Status:  CLOSED ->   Count:  7556\n",
      "Status:  COMPLETE ->   Count:  22899\n",
      "Status:  ON_HOLD ->   Count:  3798\n",
      "Status:  PAYMENT_REVIEW ->   Count:  729\n",
      "Status:  PENDING ->   Count:  7610\n",
      "Status:  PENDING_PAYMENT ->   Count:  15030\n",
      "Status:  PROCESSING ->   Count:  8275\n",
      "Status:  SUSPECTED_FRAUD ->   Count:  1558\n"
     ]
    }
   ],
   "source": [
    "for i in sorted(status_count):\n",
    "    print(\"Status: \", i, \"->   Count: \",status_count[i])"
   ]
  },
  {
   "cell_type": "markdown",
   "id": "60dbb3c2-015c-4560-be0e-d8c379d71bde",
   "metadata": {},
   "source": [
    "## Sorting:\n",
    "<hr><hr>"
   ]
  },
  {
   "cell_type": "markdown",
   "id": "845c3d42-1ced-4f42-aba0-60d56c38ff46",
   "metadata": {},
   "source": [
    "### Sort orders by customer_id (1st value in each line):"
   ]
  },
  {
   "cell_type": "code",
   "execution_count": 49,
   "id": "c9f59838-8594-4e26-8ff1-b375c72417c7",
   "metadata": {},
   "outputs": [],
   "source": [
    "ord_rdd = sc.textFile(\"./data/orders.csv\").map( lambda x: x.split(\",\") ).map( lambda x: (int(x[0]), x[1], int(x[2]), x[3]) )"
   ]
  },
  {
   "cell_type": "code",
   "execution_count": 50,
   "id": "47aca040-8d61-430d-a371-c24ecdeebca5",
   "metadata": {},
   "outputs": [
    {
     "data": {
      "text/plain": [
       "[(1, '2013-07-25 00:00:00.0', 11599, 'CLOSED'),\n",
       " (2, '2013-07-25 00:00:00.0', 256, 'PENDING_PAYMENT'),\n",
       " (3, '2013-07-25 00:00:00.0', 12111, 'COMPLETE'),\n",
       " (4, '2013-07-25 00:00:00.0', 8827, 'CLOSED'),\n",
       " (5, '2013-07-25 00:00:00.0', 11318, 'COMPLETE')]"
      ]
     },
     "execution_count": 50,
     "metadata": {},
     "output_type": "execute_result"
    }
   ],
   "source": [
    "ord_rdd.take(5)"
   ]
  },
  {
   "cell_type": "code",
   "execution_count": 55,
   "id": "c4f591f2-417b-4357-8299-ecac13843ac3",
   "metadata": {},
   "outputs": [
    {
     "data": {
      "text/plain": [
       "[(22945, '2013-12-13 00:00:00.0', 1, 'COMPLETE'),\n",
       " (15192, '2013-10-29 00:00:00.0', 2, 'PENDING_PAYMENT'),\n",
       " (33865, '2014-02-18 00:00:00.0', 2, 'COMPLETE'),\n",
       " (57963, '2013-08-02 00:00:00.0', 2, 'ON_HOLD'),\n",
       " (67863, '2013-11-30 00:00:00.0', 2, 'COMPLETE'),\n",
       " (22646, '2013-12-11 00:00:00.0', 3, 'COMPLETE'),\n",
       " (23662, '2013-12-19 00:00:00.0', 3, 'COMPLETE'),\n",
       " (35158, '2014-02-26 00:00:00.0', 3, 'COMPLETE'),\n",
       " (46399, '2014-05-09 00:00:00.0', 3, 'PROCESSING'),\n",
       " (56178, '2014-07-15 00:00:00.0', 3, 'PENDING'),\n",
       " (57617, '2014-07-24 00:00:00.0', 3, 'COMPLETE'),\n",
       " (61453, '2013-12-14 00:00:00.0', 3, 'COMPLETE'),\n",
       " (9023, '2013-09-19 00:00:00.0', 4, 'COMPLETE'),\n",
       " (9704, '2013-09-24 00:00:00.0', 4, 'COMPLETE'),\n",
       " (17253, '2013-11-09 00:00:00.0', 4, 'PENDING_PAYMENT'),\n",
       " (37878, '2014-03-15 00:00:00.0', 4, 'COMPLETE'),\n",
       " (49339, '2014-05-28 00:00:00.0', 4, 'COMPLETE'),\n",
       " (51157, '2014-06-10 00:00:00.0', 4, 'CLOSED'),\n",
       " (13705, '2013-10-18 00:00:00.0', 5, 'COMPLETE'),\n",
       " (36472, '2014-03-06 00:00:00.0', 5, 'PROCESSING')]"
      ]
     },
     "execution_count": 55,
     "metadata": {},
     "output_type": "execute_result"
    }
   ],
   "source": [
    "# sorting by customer_id in descending order:-\n",
    "ord_rdd.sortBy( lambda x: x[2] ).take(20)"
   ]
  },
  {
   "cell_type": "code",
   "execution_count": 59,
   "id": "f94684e7-0fd4-4a78-97b1-44e528976383",
   "metadata": {
    "tags": []
   },
   "outputs": [
    {
     "data": {
      "text/plain": [
       "[((1, 'COMPLETE'), (22945, '2013-12-13 00:00:00.0', 1, 'COMPLETE')),\n",
       " ((2, 'COMPLETE'), (33865, '2014-02-18 00:00:00.0', 2, 'COMPLETE')),\n",
       " ((2, 'COMPLETE'), (67863, '2013-11-30 00:00:00.0', 2, 'COMPLETE')),\n",
       " ((2, 'ON_HOLD'), (57963, '2013-08-02 00:00:00.0', 2, 'ON_HOLD')),\n",
       " ((2, 'PENDING_PAYMENT'),\n",
       "  (15192, '2013-10-29 00:00:00.0', 2, 'PENDING_PAYMENT')),\n",
       " ((3, 'COMPLETE'), (22646, '2013-12-11 00:00:00.0', 3, 'COMPLETE')),\n",
       " ((3, 'COMPLETE'), (23662, '2013-12-19 00:00:00.0', 3, 'COMPLETE')),\n",
       " ((3, 'COMPLETE'), (35158, '2014-02-26 00:00:00.0', 3, 'COMPLETE')),\n",
       " ((3, 'COMPLETE'), (57617, '2014-07-24 00:00:00.0', 3, 'COMPLETE')),\n",
       " ((3, 'COMPLETE'), (61453, '2013-12-14 00:00:00.0', 3, 'COMPLETE')),\n",
       " ((3, 'PENDING'), (56178, '2014-07-15 00:00:00.0', 3, 'PENDING')),\n",
       " ((3, 'PROCESSING'), (46399, '2014-05-09 00:00:00.0', 3, 'PROCESSING')),\n",
       " ((4, 'CLOSED'), (51157, '2014-06-10 00:00:00.0', 4, 'CLOSED')),\n",
       " ((4, 'COMPLETE'), (9023, '2013-09-19 00:00:00.0', 4, 'COMPLETE')),\n",
       " ((4, 'COMPLETE'), (9704, '2013-09-24 00:00:00.0', 4, 'COMPLETE')),\n",
       " ((4, 'COMPLETE'), (37878, '2014-03-15 00:00:00.0', 4, 'COMPLETE')),\n",
       " ((4, 'COMPLETE'), (49339, '2014-05-28 00:00:00.0', 4, 'COMPLETE')),\n",
       " ((4, 'PENDING_PAYMENT'),\n",
       "  (17253, '2013-11-09 00:00:00.0', 4, 'PENDING_PAYMENT')),\n",
       " ((5, 'COMPLETE'), (13705, '2013-10-18 00:00:00.0', 5, 'COMPLETE')),\n",
       " ((5, 'COMPLETE'), (41333, '2014-04-05 00:00:00.0', 5, 'COMPLETE'))]"
      ]
     },
     "execution_count": 59,
     "metadata": {},
     "output_type": "execute_result"
    }
   ],
   "source": [
    "# sort by customer_id and status\n",
    "ord_rdd.map( lambda x: ( (x[-2],x[-1]), x ) ).sortByKey().take(20)"
   ]
  },
  {
   "cell_type": "code",
   "execution_count": 62,
   "id": "12d44126-bcbf-4e57-a880-f79e50f6c423",
   "metadata": {},
   "outputs": [
    {
     "data": {
      "text/plain": [
       "[(1, '2013-07-25 00:00:00.0', 11599, 'CLOSED'),\n",
       " (2, '2013-07-25 00:00:00.0', 256, 'PENDING_PAYMENT')]"
      ]
     },
     "execution_count": 62,
     "metadata": {},
     "output_type": "execute_result"
    }
   ],
   "source": [
    "ord_rdd.takeOrdered(2)"
   ]
  },
  {
   "cell_type": "markdown",
   "id": "83525a67-b0e4-4451-bac3-5df680ee7023",
   "metadata": {},
   "source": [
    "## Global Ranking:\n",
    "<hr><hr>"
   ]
  },
  {
   "cell_type": "markdown",
   "id": "46c64ecc-1e79-4438-80fd-cbb0610d97a0",
   "metadata": {},
   "source": [
    "### Find top 5 products with highest prices:-\n",
    "---------------------------------------------"
   ]
  },
  {
   "cell_type": "code",
   "execution_count": 35,
   "id": "e70d01a3-ea4f-4f00-8976-678dab6a442a",
   "metadata": {},
   "outputs": [],
   "source": [
    "prod_rdd = sc.textFile(\"./data/products.csv\") \\\n",
    "             .map( lambda x: x.split(\",\") ) \\\n",
    "             .filter( lambda x: x[4] != '' ) \\\n",
    "             .map( lambda x: (int(x[0]),int(x[1]),x[2],x[3],float(x[4]),x[5]) )"
   ]
  },
  {
   "cell_type": "code",
   "execution_count": 34,
   "id": "0cccccc7-116d-4188-97d7-32cd1cc69277",
   "metadata": {
    "tags": []
   },
   "outputs": [
    {
     "data": {
      "text/plain": [
       "[(1,\n",
       "  2,\n",
       "  'Quest Q64 10 FT. x 10 FT. Slant Leg Instant U',\n",
       "  '',\n",
       "  59.98,\n",
       "  'http://images.acmesports.sports/Quest+Q64+10+FT.+x+10+FT.+Slant+Leg+Instant+Up+Canopy'),\n",
       " (2,\n",
       "  2,\n",
       "  \"Under Armour Men's Highlight MC Football Clea\",\n",
       "  '',\n",
       "  129.99,\n",
       "  'http://images.acmesports.sports/Under+Armour+Men%27s+Highlight+MC+Football+Cleat'),\n",
       " (3,\n",
       "  2,\n",
       "  \"Under Armour Men's Renegade D Mid Football Cl\",\n",
       "  '',\n",
       "  89.99,\n",
       "  'http://images.acmesports.sports/Under+Armour+Men%27s+Renegade+D+Mid+Football+Cleat'),\n",
       " (4,\n",
       "  2,\n",
       "  \"Under Armour Men's Renegade D Mid Football Cl\",\n",
       "  '',\n",
       "  89.99,\n",
       "  'http://images.acmesports.sports/Under+Armour+Men%27s+Renegade+D+Mid+Football+Cleat'),\n",
       " (5,\n",
       "  2,\n",
       "  'Riddell Youth Revolution Speed Custom Footbal',\n",
       "  '',\n",
       "  199.99,\n",
       "  'http://images.acmesports.sports/Riddell+Youth+Revolution+Speed+Custom+Football+Helmet')]"
      ]
     },
     "execution_count": 34,
     "metadata": {},
     "output_type": "execute_result"
    }
   ],
   "source": [
    "prod_rdd.take(5)"
   ]
  },
  {
   "cell_type": "code",
   "execution_count": 7,
   "id": "4b95e0c0-cd87-459a-815f-cca0fb858259",
   "metadata": {},
   "outputs": [],
   "source": [
    "schema = \"prod_id LONG, prod_category_id LONG, prod_name STRING, prod_desc STRING, prod_price DOUBLE, prod_image STRING\"\n",
    "\n",
    "prod_df = spark.read.format(\"csv\").schema(schema).load(\"./data/products.csv\")"
   ]
  },
  {
   "cell_type": "code",
   "execution_count": 8,
   "id": "281e182c-d145-4e12-9657-b38b2c0589e7",
   "metadata": {},
   "outputs": [
    {
     "name": "stdout",
     "output_type": "stream",
     "text": [
      "+-------+----------------+-----------------------------------+---------+----------+-----------------------------------+\n",
      "|prod_id|prod_category_id|                          prod_name|prod_desc|prod_price|                         prod_image|\n",
      "+-------+----------------+-----------------------------------+---------+----------+-----------------------------------+\n",
      "|      1|               2|Quest Q64 10 FT. x 10 FT. Slant ...|     null|     59.98|http://images.acmesports.sports/...|\n",
      "|      2|               2|Under Armour Men's Highlight MC ...|     null|    129.99|http://images.acmesports.sports/...|\n",
      "|      3|               2|Under Armour Men's Renegade D Mi...|     null|     89.99|http://images.acmesports.sports/...|\n",
      "|      4|               2|Under Armour Men's Renegade D Mi...|     null|     89.99|http://images.acmesports.sports/...|\n",
      "|      5|               2|Riddell Youth Revolution Speed C...|     null|    199.99|http://images.acmesports.sports/...|\n",
      "+-------+----------------+-----------------------------------+---------+----------+-----------------------------------+\n",
      "only showing top 5 rows\n",
      "\n"
     ]
    }
   ],
   "source": [
    "prod_df.show(5, truncate=35)"
   ]
  },
  {
   "cell_type": "code",
   "execution_count": 9,
   "id": "1b312670-87a9-4bda-9f66-be036b8177fc",
   "metadata": {},
   "outputs": [
    {
     "name": "stdout",
     "output_type": "stream",
     "text": [
      "root\n",
      " |-- prod_id: long (nullable = true)\n",
      " |-- prod_category_id: long (nullable = true)\n",
      " |-- prod_name: string (nullable = true)\n",
      " |-- prod_desc: string (nullable = true)\n",
      " |-- prod_price: double (nullable = true)\n",
      " |-- prod_image: string (nullable = true)\n",
      "\n"
     ]
    }
   ],
   "source": [
    "prod_df.printSchema()"
   ]
  },
  {
   "cell_type": "code",
   "execution_count": 23,
   "id": "02362838-6c0a-4604-978b-e10065f92b37",
   "metadata": {
    "collapsed": true,
    "jupyter": {
     "outputs_hidden": true
    },
    "tags": []
   },
   "outputs": [
    {
     "ename": "Py4JJavaError",
     "evalue": "An error occurred while calling z:org.apache.spark.api.python.PythonRDD.collectAndServe.\n: org.apache.spark.SparkException: Job aborted due to stage failure: Task 0 in stage 15.0 failed 1 times, most recent failure: Lost task 0.0 in stage 15.0 (TID 19) (DEBANJAN executor driver): org.apache.spark.api.python.PythonException: Traceback (most recent call last):\n  File \"D:\\Softwares\\Apache_Spark\\spark\\python\\lib\\pyspark.zip\\pyspark\\worker.py\", line 686, in main\n  File \"D:\\Softwares\\Apache_Spark\\spark\\python\\lib\\pyspark.zip\\pyspark\\worker.py\", line 678, in process\n  File \"D:\\Softwares\\Apache_Spark\\spark\\python\\lib\\pyspark.zip\\pyspark\\serializers.py\", line 273, in dump_stream\n    vs = list(itertools.islice(iterator, batch))\n  File \"D:\\Softwares\\Apache_Spark\\spark\\python\\lib\\pyspark.zip\\pyspark\\util.py\", line 81, in wrapper\n    return f(*args, **kwargs)\n  File \"C:\\Users\\DEBANJ~1\\AppData\\Local\\Temp/ipykernel_25188/1422624839.py\", line 3, in <lambda>\nValueError: could not convert string to float: ''\n\r\n\tat org.apache.spark.api.python.BasePythonRunner$ReaderIterator.handlePythonException(PythonRunner.scala:552)\r\n\tat org.apache.spark.api.python.PythonRunner$$anon$3.read(PythonRunner.scala:758)\r\n\tat org.apache.spark.api.python.PythonRunner$$anon$3.read(PythonRunner.scala:740)\r\n\tat org.apache.spark.api.python.BasePythonRunner$ReaderIterator.hasNext(PythonRunner.scala:505)\r\n\tat org.apache.spark.InterruptibleIterator.hasNext(InterruptibleIterator.scala:37)\r\n\tat scala.collection.Iterator.foreach(Iterator.scala:943)\r\n\tat scala.collection.Iterator.foreach$(Iterator.scala:943)\r\n\tat org.apache.spark.InterruptibleIterator.foreach(InterruptibleIterator.scala:28)\r\n\tat scala.collection.generic.Growable.$plus$plus$eq(Growable.scala:62)\r\n\tat scala.collection.generic.Growable.$plus$plus$eq$(Growable.scala:53)\r\n\tat scala.collection.mutable.ArrayBuffer.$plus$plus$eq(ArrayBuffer.scala:105)\r\n\tat scala.collection.mutable.ArrayBuffer.$plus$plus$eq(ArrayBuffer.scala:49)\r\n\tat scala.collection.TraversableOnce.to(TraversableOnce.scala:366)\r\n\tat scala.collection.TraversableOnce.to$(TraversableOnce.scala:364)\r\n\tat org.apache.spark.InterruptibleIterator.to(InterruptibleIterator.scala:28)\r\n\tat scala.collection.TraversableOnce.toBuffer(TraversableOnce.scala:358)\r\n\tat scala.collection.TraversableOnce.toBuffer$(TraversableOnce.scala:358)\r\n\tat org.apache.spark.InterruptibleIterator.toBuffer(InterruptibleIterator.scala:28)\r\n\tat scala.collection.TraversableOnce.toArray(TraversableOnce.scala:345)\r\n\tat scala.collection.TraversableOnce.toArray$(TraversableOnce.scala:339)\r\n\tat org.apache.spark.InterruptibleIterator.toArray(InterruptibleIterator.scala:28)\r\n\tat org.apache.spark.rdd.RDD.$anonfun$collect$2(RDD.scala:1021)\r\n\tat org.apache.spark.SparkContext.$anonfun$runJob$5(SparkContext.scala:2278)\r\n\tat org.apache.spark.scheduler.ResultTask.runTask(ResultTask.scala:90)\r\n\tat org.apache.spark.scheduler.Task.run(Task.scala:136)\r\n\tat org.apache.spark.executor.Executor$TaskRunner.$anonfun$run$3(Executor.scala:548)\r\n\tat org.apache.spark.util.Utils$.tryWithSafeFinally(Utils.scala:1504)\r\n\tat org.apache.spark.executor.Executor$TaskRunner.run(Executor.scala:551)\r\n\tat java.base/java.util.concurrent.ThreadPoolExecutor.runWorker(ThreadPoolExecutor.java:1136)\r\n\tat java.base/java.util.concurrent.ThreadPoolExecutor$Worker.run(ThreadPoolExecutor.java:635)\r\n\tat java.base/java.lang.Thread.run(Thread.java:833)\r\n\nDriver stacktrace:\r\n\tat org.apache.spark.scheduler.DAGScheduler.failJobAndIndependentStages(DAGScheduler.scala:2672)\r\n\tat org.apache.spark.scheduler.DAGScheduler.$anonfun$abortStage$2(DAGScheduler.scala:2608)\r\n\tat org.apache.spark.scheduler.DAGScheduler.$anonfun$abortStage$2$adapted(DAGScheduler.scala:2607)\r\n\tat scala.collection.mutable.ResizableArray.foreach(ResizableArray.scala:62)\r\n\tat scala.collection.mutable.ResizableArray.foreach$(ResizableArray.scala:55)\r\n\tat scala.collection.mutable.ArrayBuffer.foreach(ArrayBuffer.scala:49)\r\n\tat org.apache.spark.scheduler.DAGScheduler.abortStage(DAGScheduler.scala:2607)\r\n\tat org.apache.spark.scheduler.DAGScheduler.$anonfun$handleTaskSetFailed$1(DAGScheduler.scala:1182)\r\n\tat org.apache.spark.scheduler.DAGScheduler.$anonfun$handleTaskSetFailed$1$adapted(DAGScheduler.scala:1182)\r\n\tat scala.Option.foreach(Option.scala:407)\r\n\tat org.apache.spark.scheduler.DAGScheduler.handleTaskSetFailed(DAGScheduler.scala:1182)\r\n\tat org.apache.spark.scheduler.DAGSchedulerEventProcessLoop.doOnReceive(DAGScheduler.scala:2860)\r\n\tat org.apache.spark.scheduler.DAGSchedulerEventProcessLoop.onReceive(DAGScheduler.scala:2802)\r\n\tat org.apache.spark.scheduler.DAGSchedulerEventProcessLoop.onReceive(DAGScheduler.scala:2791)\r\n\tat org.apache.spark.util.EventLoop$$anon$1.run(EventLoop.scala:49)\r\n\tat org.apache.spark.scheduler.DAGScheduler.runJob(DAGScheduler.scala:952)\r\n\tat org.apache.spark.SparkContext.runJob(SparkContext.scala:2238)\r\n\tat org.apache.spark.SparkContext.runJob(SparkContext.scala:2259)\r\n\tat org.apache.spark.SparkContext.runJob(SparkContext.scala:2278)\r\n\tat org.apache.spark.SparkContext.runJob(SparkContext.scala:2303)\r\n\tat org.apache.spark.rdd.RDD.$anonfun$collect$1(RDD.scala:1021)\r\n\tat org.apache.spark.rdd.RDDOperationScope$.withScope(RDDOperationScope.scala:151)\r\n\tat org.apache.spark.rdd.RDDOperationScope$.withScope(RDDOperationScope.scala:112)\r\n\tat org.apache.spark.rdd.RDD.withScope(RDD.scala:406)\r\n\tat org.apache.spark.rdd.RDD.collect(RDD.scala:1020)\r\n\tat org.apache.spark.api.python.PythonRDD$.collectAndServe(PythonRDD.scala:180)\r\n\tat org.apache.spark.api.python.PythonRDD.collectAndServe(PythonRDD.scala)\r\n\tat java.base/jdk.internal.reflect.NativeMethodAccessorImpl.invoke0(Native Method)\r\n\tat java.base/jdk.internal.reflect.NativeMethodAccessorImpl.invoke(NativeMethodAccessorImpl.java:77)\r\n\tat java.base/jdk.internal.reflect.DelegatingMethodAccessorImpl.invoke(DelegatingMethodAccessorImpl.java:43)\r\n\tat java.base/java.lang.reflect.Method.invoke(Method.java:568)\r\n\tat py4j.reflection.MethodInvoker.invoke(MethodInvoker.java:244)\r\n\tat py4j.reflection.ReflectionEngine.invoke(ReflectionEngine.java:357)\r\n\tat py4j.Gateway.invoke(Gateway.java:282)\r\n\tat py4j.commands.AbstractCommand.invokeMethod(AbstractCommand.java:132)\r\n\tat py4j.commands.CallCommand.execute(CallCommand.java:79)\r\n\tat py4j.ClientServerConnection.waitForCommands(ClientServerConnection.java:182)\r\n\tat py4j.ClientServerConnection.run(ClientServerConnection.java:106)\r\n\tat java.base/java.lang.Thread.run(Thread.java:833)\r\nCaused by: org.apache.spark.api.python.PythonException: Traceback (most recent call last):\n  File \"D:\\Softwares\\Apache_Spark\\spark\\python\\lib\\pyspark.zip\\pyspark\\worker.py\", line 686, in main\n  File \"D:\\Softwares\\Apache_Spark\\spark\\python\\lib\\pyspark.zip\\pyspark\\worker.py\", line 678, in process\n  File \"D:\\Softwares\\Apache_Spark\\spark\\python\\lib\\pyspark.zip\\pyspark\\serializers.py\", line 273, in dump_stream\n    vs = list(itertools.islice(iterator, batch))\n  File \"D:\\Softwares\\Apache_Spark\\spark\\python\\lib\\pyspark.zip\\pyspark\\util.py\", line 81, in wrapper\n    return f(*args, **kwargs)\n  File \"C:\\Users\\DEBANJ~1\\AppData\\Local\\Temp/ipykernel_25188/1422624839.py\", line 3, in <lambda>\nValueError: could not convert string to float: ''\n\r\n\tat org.apache.spark.api.python.BasePythonRunner$ReaderIterator.handlePythonException(PythonRunner.scala:552)\r\n\tat org.apache.spark.api.python.PythonRunner$$anon$3.read(PythonRunner.scala:758)\r\n\tat org.apache.spark.api.python.PythonRunner$$anon$3.read(PythonRunner.scala:740)\r\n\tat org.apache.spark.api.python.BasePythonRunner$ReaderIterator.hasNext(PythonRunner.scala:505)\r\n\tat org.apache.spark.InterruptibleIterator.hasNext(InterruptibleIterator.scala:37)\r\n\tat scala.collection.Iterator.foreach(Iterator.scala:943)\r\n\tat scala.collection.Iterator.foreach$(Iterator.scala:943)\r\n\tat org.apache.spark.InterruptibleIterator.foreach(InterruptibleIterator.scala:28)\r\n\tat scala.collection.generic.Growable.$plus$plus$eq(Growable.scala:62)\r\n\tat scala.collection.generic.Growable.$plus$plus$eq$(Growable.scala:53)\r\n\tat scala.collection.mutable.ArrayBuffer.$plus$plus$eq(ArrayBuffer.scala:105)\r\n\tat scala.collection.mutable.ArrayBuffer.$plus$plus$eq(ArrayBuffer.scala:49)\r\n\tat scala.collection.TraversableOnce.to(TraversableOnce.scala:366)\r\n\tat scala.collection.TraversableOnce.to$(TraversableOnce.scala:364)\r\n\tat org.apache.spark.InterruptibleIterator.to(InterruptibleIterator.scala:28)\r\n\tat scala.collection.TraversableOnce.toBuffer(TraversableOnce.scala:358)\r\n\tat scala.collection.TraversableOnce.toBuffer$(TraversableOnce.scala:358)\r\n\tat org.apache.spark.InterruptibleIterator.toBuffer(InterruptibleIterator.scala:28)\r\n\tat scala.collection.TraversableOnce.toArray(TraversableOnce.scala:345)\r\n\tat scala.collection.TraversableOnce.toArray$(TraversableOnce.scala:339)\r\n\tat org.apache.spark.InterruptibleIterator.toArray(InterruptibleIterator.scala:28)\r\n\tat org.apache.spark.rdd.RDD.$anonfun$collect$2(RDD.scala:1021)\r\n\tat org.apache.spark.SparkContext.$anonfun$runJob$5(SparkContext.scala:2278)\r\n\tat org.apache.spark.scheduler.ResultTask.runTask(ResultTask.scala:90)\r\n\tat org.apache.spark.scheduler.Task.run(Task.scala:136)\r\n\tat org.apache.spark.executor.Executor$TaskRunner.$anonfun$run$3(Executor.scala:548)\r\n\tat org.apache.spark.util.Utils$.tryWithSafeFinally(Utils.scala:1504)\r\n\tat org.apache.spark.executor.Executor$TaskRunner.run(Executor.scala:551)\r\n\tat java.base/java.util.concurrent.ThreadPoolExecutor.runWorker(ThreadPoolExecutor.java:1136)\r\n\tat java.base/java.util.concurrent.ThreadPoolExecutor$Worker.run(ThreadPoolExecutor.java:635)\r\n\t... 1 more\r\n",
     "output_type": "error",
     "traceback": [
      "\u001b[1;31m---------------------------------------------------------------------------\u001b[0m",
      "\u001b[1;31mPy4JJavaError\u001b[0m                             Traceback (most recent call last)",
      "\u001b[1;32mC:\\Users\\DEBANJ~1\\AppData\\Local\\Temp/ipykernel_25188/4115237716.py\u001b[0m in \u001b[0;36m<module>\u001b[1;34m\u001b[0m\n\u001b[1;32m----> 1\u001b[1;33m \u001b[0mprod_rdd\u001b[0m\u001b[1;33m.\u001b[0m\u001b[0mfilter\u001b[0m\u001b[1;33m(\u001b[0m \u001b[1;32mlambda\u001b[0m \u001b[0mx\u001b[0m\u001b[1;33m:\u001b[0m \u001b[0mbool\u001b[0m\u001b[1;33m(\u001b[0m\u001b[0mx\u001b[0m\u001b[1;33m[\u001b[0m\u001b[1;36m4\u001b[0m\u001b[1;33m]\u001b[0m\u001b[1;33m)\u001b[0m\u001b[1;33m==\u001b[0m\u001b[1;32mFalse\u001b[0m \u001b[1;33m)\u001b[0m\u001b[1;33m.\u001b[0m\u001b[0mcollect\u001b[0m\u001b[1;33m(\u001b[0m\u001b[1;33m)\u001b[0m\u001b[1;33m\u001b[0m\u001b[1;33m\u001b[0m\u001b[0m\n\u001b[0m",
      "\u001b[1;32mD:\\Softwares\\Apache_Spark\\spark\\python\\pyspark\\rdd.py\u001b[0m in \u001b[0;36mcollect\u001b[1;34m(self)\u001b[0m\n\u001b[0;32m   1195\u001b[0m         \u001b[1;32mwith\u001b[0m \u001b[0mSCCallSiteSync\u001b[0m\u001b[1;33m(\u001b[0m\u001b[0mself\u001b[0m\u001b[1;33m.\u001b[0m\u001b[0mcontext\u001b[0m\u001b[1;33m)\u001b[0m\u001b[1;33m:\u001b[0m\u001b[1;33m\u001b[0m\u001b[1;33m\u001b[0m\u001b[0m\n\u001b[0;32m   1196\u001b[0m             \u001b[1;32massert\u001b[0m \u001b[0mself\u001b[0m\u001b[1;33m.\u001b[0m\u001b[0mctx\u001b[0m\u001b[1;33m.\u001b[0m\u001b[0m_jvm\u001b[0m \u001b[1;32mis\u001b[0m \u001b[1;32mnot\u001b[0m \u001b[1;32mNone\u001b[0m\u001b[1;33m\u001b[0m\u001b[1;33m\u001b[0m\u001b[0m\n\u001b[1;32m-> 1197\u001b[1;33m             \u001b[0msock_info\u001b[0m \u001b[1;33m=\u001b[0m \u001b[0mself\u001b[0m\u001b[1;33m.\u001b[0m\u001b[0mctx\u001b[0m\u001b[1;33m.\u001b[0m\u001b[0m_jvm\u001b[0m\u001b[1;33m.\u001b[0m\u001b[0mPythonRDD\u001b[0m\u001b[1;33m.\u001b[0m\u001b[0mcollectAndServe\u001b[0m\u001b[1;33m(\u001b[0m\u001b[0mself\u001b[0m\u001b[1;33m.\u001b[0m\u001b[0m_jrdd\u001b[0m\u001b[1;33m.\u001b[0m\u001b[0mrdd\u001b[0m\u001b[1;33m(\u001b[0m\u001b[1;33m)\u001b[0m\u001b[1;33m)\u001b[0m\u001b[1;33m\u001b[0m\u001b[1;33m\u001b[0m\u001b[0m\n\u001b[0m\u001b[0;32m   1198\u001b[0m         \u001b[1;32mreturn\u001b[0m \u001b[0mlist\u001b[0m\u001b[1;33m(\u001b[0m\u001b[0m_load_from_socket\u001b[0m\u001b[1;33m(\u001b[0m\u001b[0msock_info\u001b[0m\u001b[1;33m,\u001b[0m \u001b[0mself\u001b[0m\u001b[1;33m.\u001b[0m\u001b[0m_jrdd_deserializer\u001b[0m\u001b[1;33m)\u001b[0m\u001b[1;33m)\u001b[0m\u001b[1;33m\u001b[0m\u001b[1;33m\u001b[0m\u001b[0m\n\u001b[0;32m   1199\u001b[0m \u001b[1;33m\u001b[0m\u001b[0m\n",
      "\u001b[1;32mD:\\Softwares\\Apache_Spark\\spark\\python\\lib\\py4j-0.10.9.5-src.zip\\py4j\\java_gateway.py\u001b[0m in \u001b[0;36m__call__\u001b[1;34m(self, *args)\u001b[0m\n\u001b[0;32m   1319\u001b[0m \u001b[1;33m\u001b[0m\u001b[0m\n\u001b[0;32m   1320\u001b[0m         \u001b[0manswer\u001b[0m \u001b[1;33m=\u001b[0m \u001b[0mself\u001b[0m\u001b[1;33m.\u001b[0m\u001b[0mgateway_client\u001b[0m\u001b[1;33m.\u001b[0m\u001b[0msend_command\u001b[0m\u001b[1;33m(\u001b[0m\u001b[0mcommand\u001b[0m\u001b[1;33m)\u001b[0m\u001b[1;33m\u001b[0m\u001b[1;33m\u001b[0m\u001b[0m\n\u001b[1;32m-> 1321\u001b[1;33m         return_value = get_return_value(\n\u001b[0m\u001b[0;32m   1322\u001b[0m             answer, self.gateway_client, self.target_id, self.name)\n\u001b[0;32m   1323\u001b[0m \u001b[1;33m\u001b[0m\u001b[0m\n",
      "\u001b[1;32mD:\\Softwares\\Apache_Spark\\spark\\python\\pyspark\\sql\\utils.py\u001b[0m in \u001b[0;36mdeco\u001b[1;34m(*a, **kw)\u001b[0m\n\u001b[0;32m    188\u001b[0m     \u001b[1;32mdef\u001b[0m \u001b[0mdeco\u001b[0m\u001b[1;33m(\u001b[0m\u001b[1;33m*\u001b[0m\u001b[0ma\u001b[0m\u001b[1;33m:\u001b[0m \u001b[0mAny\u001b[0m\u001b[1;33m,\u001b[0m \u001b[1;33m**\u001b[0m\u001b[0mkw\u001b[0m\u001b[1;33m:\u001b[0m \u001b[0mAny\u001b[0m\u001b[1;33m)\u001b[0m \u001b[1;33m->\u001b[0m \u001b[0mAny\u001b[0m\u001b[1;33m:\u001b[0m\u001b[1;33m\u001b[0m\u001b[1;33m\u001b[0m\u001b[0m\n\u001b[0;32m    189\u001b[0m         \u001b[1;32mtry\u001b[0m\u001b[1;33m:\u001b[0m\u001b[1;33m\u001b[0m\u001b[1;33m\u001b[0m\u001b[0m\n\u001b[1;32m--> 190\u001b[1;33m             \u001b[1;32mreturn\u001b[0m \u001b[0mf\u001b[0m\u001b[1;33m(\u001b[0m\u001b[1;33m*\u001b[0m\u001b[0ma\u001b[0m\u001b[1;33m,\u001b[0m \u001b[1;33m**\u001b[0m\u001b[0mkw\u001b[0m\u001b[1;33m)\u001b[0m\u001b[1;33m\u001b[0m\u001b[1;33m\u001b[0m\u001b[0m\n\u001b[0m\u001b[0;32m    191\u001b[0m         \u001b[1;32mexcept\u001b[0m \u001b[0mPy4JJavaError\u001b[0m \u001b[1;32mas\u001b[0m \u001b[0me\u001b[0m\u001b[1;33m:\u001b[0m\u001b[1;33m\u001b[0m\u001b[1;33m\u001b[0m\u001b[0m\n\u001b[0;32m    192\u001b[0m             \u001b[0mconverted\u001b[0m \u001b[1;33m=\u001b[0m \u001b[0mconvert_exception\u001b[0m\u001b[1;33m(\u001b[0m\u001b[0me\u001b[0m\u001b[1;33m.\u001b[0m\u001b[0mjava_exception\u001b[0m\u001b[1;33m)\u001b[0m\u001b[1;33m\u001b[0m\u001b[1;33m\u001b[0m\u001b[0m\n",
      "\u001b[1;32mD:\\Softwares\\Apache_Spark\\spark\\python\\lib\\py4j-0.10.9.5-src.zip\\py4j\\protocol.py\u001b[0m in \u001b[0;36mget_return_value\u001b[1;34m(answer, gateway_client, target_id, name)\u001b[0m\n\u001b[0;32m    324\u001b[0m             \u001b[0mvalue\u001b[0m \u001b[1;33m=\u001b[0m \u001b[0mOUTPUT_CONVERTER\u001b[0m\u001b[1;33m[\u001b[0m\u001b[0mtype\u001b[0m\u001b[1;33m]\u001b[0m\u001b[1;33m(\u001b[0m\u001b[0manswer\u001b[0m\u001b[1;33m[\u001b[0m\u001b[1;36m2\u001b[0m\u001b[1;33m:\u001b[0m\u001b[1;33m]\u001b[0m\u001b[1;33m,\u001b[0m \u001b[0mgateway_client\u001b[0m\u001b[1;33m)\u001b[0m\u001b[1;33m\u001b[0m\u001b[1;33m\u001b[0m\u001b[0m\n\u001b[0;32m    325\u001b[0m             \u001b[1;32mif\u001b[0m \u001b[0manswer\u001b[0m\u001b[1;33m[\u001b[0m\u001b[1;36m1\u001b[0m\u001b[1;33m]\u001b[0m \u001b[1;33m==\u001b[0m \u001b[0mREFERENCE_TYPE\u001b[0m\u001b[1;33m:\u001b[0m\u001b[1;33m\u001b[0m\u001b[1;33m\u001b[0m\u001b[0m\n\u001b[1;32m--> 326\u001b[1;33m                 raise Py4JJavaError(\n\u001b[0m\u001b[0;32m    327\u001b[0m                     \u001b[1;34m\"An error occurred while calling {0}{1}{2}.\\n\"\u001b[0m\u001b[1;33m.\u001b[0m\u001b[1;33m\u001b[0m\u001b[1;33m\u001b[0m\u001b[0m\n\u001b[0;32m    328\u001b[0m                     format(target_id, \".\", name), value)\n",
      "\u001b[1;31mPy4JJavaError\u001b[0m: An error occurred while calling z:org.apache.spark.api.python.PythonRDD.collectAndServe.\n: org.apache.spark.SparkException: Job aborted due to stage failure: Task 0 in stage 15.0 failed 1 times, most recent failure: Lost task 0.0 in stage 15.0 (TID 19) (DEBANJAN executor driver): org.apache.spark.api.python.PythonException: Traceback (most recent call last):\n  File \"D:\\Softwares\\Apache_Spark\\spark\\python\\lib\\pyspark.zip\\pyspark\\worker.py\", line 686, in main\n  File \"D:\\Softwares\\Apache_Spark\\spark\\python\\lib\\pyspark.zip\\pyspark\\worker.py\", line 678, in process\n  File \"D:\\Softwares\\Apache_Spark\\spark\\python\\lib\\pyspark.zip\\pyspark\\serializers.py\", line 273, in dump_stream\n    vs = list(itertools.islice(iterator, batch))\n  File \"D:\\Softwares\\Apache_Spark\\spark\\python\\lib\\pyspark.zip\\pyspark\\util.py\", line 81, in wrapper\n    return f(*args, **kwargs)\n  File \"C:\\Users\\DEBANJ~1\\AppData\\Local\\Temp/ipykernel_25188/1422624839.py\", line 3, in <lambda>\nValueError: could not convert string to float: ''\n\r\n\tat org.apache.spark.api.python.BasePythonRunner$ReaderIterator.handlePythonException(PythonRunner.scala:552)\r\n\tat org.apache.spark.api.python.PythonRunner$$anon$3.read(PythonRunner.scala:758)\r\n\tat org.apache.spark.api.python.PythonRunner$$anon$3.read(PythonRunner.scala:740)\r\n\tat org.apache.spark.api.python.BasePythonRunner$ReaderIterator.hasNext(PythonRunner.scala:505)\r\n\tat org.apache.spark.InterruptibleIterator.hasNext(InterruptibleIterator.scala:37)\r\n\tat scala.collection.Iterator.foreach(Iterator.scala:943)\r\n\tat scala.collection.Iterator.foreach$(Iterator.scala:943)\r\n\tat org.apache.spark.InterruptibleIterator.foreach(InterruptibleIterator.scala:28)\r\n\tat scala.collection.generic.Growable.$plus$plus$eq(Growable.scala:62)\r\n\tat scala.collection.generic.Growable.$plus$plus$eq$(Growable.scala:53)\r\n\tat scala.collection.mutable.ArrayBuffer.$plus$plus$eq(ArrayBuffer.scala:105)\r\n\tat scala.collection.mutable.ArrayBuffer.$plus$plus$eq(ArrayBuffer.scala:49)\r\n\tat scala.collection.TraversableOnce.to(TraversableOnce.scala:366)\r\n\tat scala.collection.TraversableOnce.to$(TraversableOnce.scala:364)\r\n\tat org.apache.spark.InterruptibleIterator.to(InterruptibleIterator.scala:28)\r\n\tat scala.collection.TraversableOnce.toBuffer(TraversableOnce.scala:358)\r\n\tat scala.collection.TraversableOnce.toBuffer$(TraversableOnce.scala:358)\r\n\tat org.apache.spark.InterruptibleIterator.toBuffer(InterruptibleIterator.scala:28)\r\n\tat scala.collection.TraversableOnce.toArray(TraversableOnce.scala:345)\r\n\tat scala.collection.TraversableOnce.toArray$(TraversableOnce.scala:339)\r\n\tat org.apache.spark.InterruptibleIterator.toArray(InterruptibleIterator.scala:28)\r\n\tat org.apache.spark.rdd.RDD.$anonfun$collect$2(RDD.scala:1021)\r\n\tat org.apache.spark.SparkContext.$anonfun$runJob$5(SparkContext.scala:2278)\r\n\tat org.apache.spark.scheduler.ResultTask.runTask(ResultTask.scala:90)\r\n\tat org.apache.spark.scheduler.Task.run(Task.scala:136)\r\n\tat org.apache.spark.executor.Executor$TaskRunner.$anonfun$run$3(Executor.scala:548)\r\n\tat org.apache.spark.util.Utils$.tryWithSafeFinally(Utils.scala:1504)\r\n\tat org.apache.spark.executor.Executor$TaskRunner.run(Executor.scala:551)\r\n\tat java.base/java.util.concurrent.ThreadPoolExecutor.runWorker(ThreadPoolExecutor.java:1136)\r\n\tat java.base/java.util.concurrent.ThreadPoolExecutor$Worker.run(ThreadPoolExecutor.java:635)\r\n\tat java.base/java.lang.Thread.run(Thread.java:833)\r\n\nDriver stacktrace:\r\n\tat org.apache.spark.scheduler.DAGScheduler.failJobAndIndependentStages(DAGScheduler.scala:2672)\r\n\tat org.apache.spark.scheduler.DAGScheduler.$anonfun$abortStage$2(DAGScheduler.scala:2608)\r\n\tat org.apache.spark.scheduler.DAGScheduler.$anonfun$abortStage$2$adapted(DAGScheduler.scala:2607)\r\n\tat scala.collection.mutable.ResizableArray.foreach(ResizableArray.scala:62)\r\n\tat scala.collection.mutable.ResizableArray.foreach$(ResizableArray.scala:55)\r\n\tat scala.collection.mutable.ArrayBuffer.foreach(ArrayBuffer.scala:49)\r\n\tat org.apache.spark.scheduler.DAGScheduler.abortStage(DAGScheduler.scala:2607)\r\n\tat org.apache.spark.scheduler.DAGScheduler.$anonfun$handleTaskSetFailed$1(DAGScheduler.scala:1182)\r\n\tat org.apache.spark.scheduler.DAGScheduler.$anonfun$handleTaskSetFailed$1$adapted(DAGScheduler.scala:1182)\r\n\tat scala.Option.foreach(Option.scala:407)\r\n\tat org.apache.spark.scheduler.DAGScheduler.handleTaskSetFailed(DAGScheduler.scala:1182)\r\n\tat org.apache.spark.scheduler.DAGSchedulerEventProcessLoop.doOnReceive(DAGScheduler.scala:2860)\r\n\tat org.apache.spark.scheduler.DAGSchedulerEventProcessLoop.onReceive(DAGScheduler.scala:2802)\r\n\tat org.apache.spark.scheduler.DAGSchedulerEventProcessLoop.onReceive(DAGScheduler.scala:2791)\r\n\tat org.apache.spark.util.EventLoop$$anon$1.run(EventLoop.scala:49)\r\n\tat org.apache.spark.scheduler.DAGScheduler.runJob(DAGScheduler.scala:952)\r\n\tat org.apache.spark.SparkContext.runJob(SparkContext.scala:2238)\r\n\tat org.apache.spark.SparkContext.runJob(SparkContext.scala:2259)\r\n\tat org.apache.spark.SparkContext.runJob(SparkContext.scala:2278)\r\n\tat org.apache.spark.SparkContext.runJob(SparkContext.scala:2303)\r\n\tat org.apache.spark.rdd.RDD.$anonfun$collect$1(RDD.scala:1021)\r\n\tat org.apache.spark.rdd.RDDOperationScope$.withScope(RDDOperationScope.scala:151)\r\n\tat org.apache.spark.rdd.RDDOperationScope$.withScope(RDDOperationScope.scala:112)\r\n\tat org.apache.spark.rdd.RDD.withScope(RDD.scala:406)\r\n\tat org.apache.spark.rdd.RDD.collect(RDD.scala:1020)\r\n\tat org.apache.spark.api.python.PythonRDD$.collectAndServe(PythonRDD.scala:180)\r\n\tat org.apache.spark.api.python.PythonRDD.collectAndServe(PythonRDD.scala)\r\n\tat java.base/jdk.internal.reflect.NativeMethodAccessorImpl.invoke0(Native Method)\r\n\tat java.base/jdk.internal.reflect.NativeMethodAccessorImpl.invoke(NativeMethodAccessorImpl.java:77)\r\n\tat java.base/jdk.internal.reflect.DelegatingMethodAccessorImpl.invoke(DelegatingMethodAccessorImpl.java:43)\r\n\tat java.base/java.lang.reflect.Method.invoke(Method.java:568)\r\n\tat py4j.reflection.MethodInvoker.invoke(MethodInvoker.java:244)\r\n\tat py4j.reflection.ReflectionEngine.invoke(ReflectionEngine.java:357)\r\n\tat py4j.Gateway.invoke(Gateway.java:282)\r\n\tat py4j.commands.AbstractCommand.invokeMethod(AbstractCommand.java:132)\r\n\tat py4j.commands.CallCommand.execute(CallCommand.java:79)\r\n\tat py4j.ClientServerConnection.waitForCommands(ClientServerConnection.java:182)\r\n\tat py4j.ClientServerConnection.run(ClientServerConnection.java:106)\r\n\tat java.base/java.lang.Thread.run(Thread.java:833)\r\nCaused by: org.apache.spark.api.python.PythonException: Traceback (most recent call last):\n  File \"D:\\Softwares\\Apache_Spark\\spark\\python\\lib\\pyspark.zip\\pyspark\\worker.py\", line 686, in main\n  File \"D:\\Softwares\\Apache_Spark\\spark\\python\\lib\\pyspark.zip\\pyspark\\worker.py\", line 678, in process\n  File \"D:\\Softwares\\Apache_Spark\\spark\\python\\lib\\pyspark.zip\\pyspark\\serializers.py\", line 273, in dump_stream\n    vs = list(itertools.islice(iterator, batch))\n  File \"D:\\Softwares\\Apache_Spark\\spark\\python\\lib\\pyspark.zip\\pyspark\\util.py\", line 81, in wrapper\n    return f(*args, **kwargs)\n  File \"C:\\Users\\DEBANJ~1\\AppData\\Local\\Temp/ipykernel_25188/1422624839.py\", line 3, in <lambda>\nValueError: could not convert string to float: ''\n\r\n\tat org.apache.spark.api.python.BasePythonRunner$ReaderIterator.handlePythonException(PythonRunner.scala:552)\r\n\tat org.apache.spark.api.python.PythonRunner$$anon$3.read(PythonRunner.scala:758)\r\n\tat org.apache.spark.api.python.PythonRunner$$anon$3.read(PythonRunner.scala:740)\r\n\tat org.apache.spark.api.python.BasePythonRunner$ReaderIterator.hasNext(PythonRunner.scala:505)\r\n\tat org.apache.spark.InterruptibleIterator.hasNext(InterruptibleIterator.scala:37)\r\n\tat scala.collection.Iterator.foreach(Iterator.scala:943)\r\n\tat scala.collection.Iterator.foreach$(Iterator.scala:943)\r\n\tat org.apache.spark.InterruptibleIterator.foreach(InterruptibleIterator.scala:28)\r\n\tat scala.collection.generic.Growable.$plus$plus$eq(Growable.scala:62)\r\n\tat scala.collection.generic.Growable.$plus$plus$eq$(Growable.scala:53)\r\n\tat scala.collection.mutable.ArrayBuffer.$plus$plus$eq(ArrayBuffer.scala:105)\r\n\tat scala.collection.mutable.ArrayBuffer.$plus$plus$eq(ArrayBuffer.scala:49)\r\n\tat scala.collection.TraversableOnce.to(TraversableOnce.scala:366)\r\n\tat scala.collection.TraversableOnce.to$(TraversableOnce.scala:364)\r\n\tat org.apache.spark.InterruptibleIterator.to(InterruptibleIterator.scala:28)\r\n\tat scala.collection.TraversableOnce.toBuffer(TraversableOnce.scala:358)\r\n\tat scala.collection.TraversableOnce.toBuffer$(TraversableOnce.scala:358)\r\n\tat org.apache.spark.InterruptibleIterator.toBuffer(InterruptibleIterator.scala:28)\r\n\tat scala.collection.TraversableOnce.toArray(TraversableOnce.scala:345)\r\n\tat scala.collection.TraversableOnce.toArray$(TraversableOnce.scala:339)\r\n\tat org.apache.spark.InterruptibleIterator.toArray(InterruptibleIterator.scala:28)\r\n\tat org.apache.spark.rdd.RDD.$anonfun$collect$2(RDD.scala:1021)\r\n\tat org.apache.spark.SparkContext.$anonfun$runJob$5(SparkContext.scala:2278)\r\n\tat org.apache.spark.scheduler.ResultTask.runTask(ResultTask.scala:90)\r\n\tat org.apache.spark.scheduler.Task.run(Task.scala:136)\r\n\tat org.apache.spark.executor.Executor$TaskRunner.$anonfun$run$3(Executor.scala:548)\r\n\tat org.apache.spark.util.Utils$.tryWithSafeFinally(Utils.scala:1504)\r\n\tat org.apache.spark.executor.Executor$TaskRunner.run(Executor.scala:551)\r\n\tat java.base/java.util.concurrent.ThreadPoolExecutor.runWorker(ThreadPoolExecutor.java:1136)\r\n\tat java.base/java.util.concurrent.ThreadPoolExecutor$Worker.run(ThreadPoolExecutor.java:635)\r\n\t... 1 more\r\n"
     ]
    }
   ],
   "source": [
    "# prod_rdd.filter( lambda x: bool(x[4])==False ).collect()"
   ]
  },
  {
   "cell_type": "code",
   "execution_count": 37,
   "id": "3fd1a7bb-c634-4bce-a124-90d18b19c58d",
   "metadata": {
    "tags": []
   },
   "outputs": [
    {
     "data": {
      "text/plain": [
       "[(208,\n",
       "  10,\n",
       "  'SOLE E35 Elliptical',\n",
       "  '',\n",
       "  1999.99,\n",
       "  'http://images.acmesports.sports/SOLE+E35+Elliptical'),\n",
       " (66,\n",
       "  4,\n",
       "  'SOLE F85 Treadmill',\n",
       "  '',\n",
       "  1799.99,\n",
       "  'http://images.acmesports.sports/SOLE+F85+Treadmill'),\n",
       " (199,\n",
       "  10,\n",
       "  'SOLE F85 Treadmill',\n",
       "  '',\n",
       "  1799.99,\n",
       "  'http://images.acmesports.sports/SOLE+F85+Treadmill'),\n",
       " (496,\n",
       "  22,\n",
       "  'SOLE F85 Treadmill',\n",
       "  '',\n",
       "  1799.99,\n",
       "  'http://images.acmesports.sports/SOLE+F85+Treadmill'),\n",
       " (1048,\n",
       "  47,\n",
       "  '\"Spalding Beast 60\"\" Glass Portable Basketball \"',\n",
       "  '',\n",
       "  1099.99,\n",
       "  'http://images.acmesports.sports/Spalding+Beast+60%22+Glass+Portable+Basketball+Hoop')]"
      ]
     },
     "execution_count": 37,
     "metadata": {},
     "output_type": "execute_result"
    }
   ],
   "source": [
    "# ord_rdd.sortBy( lambda x: x[2] ).take(20)\n",
    "\n",
    "prod_rdd.sortBy( lambda x: x[4], ascending=False ).take(5)\n",
    "\n",
    "# prod_df.rdd.sortBy( lambda x: x.prod_price, ascending=False ).take(5)"
   ]
  },
  {
   "cell_type": "code",
   "execution_count": 97,
   "id": "6c816dc3-a0b4-4a2f-8e44-cb5d1a9b6ca6",
   "metadata": {},
   "outputs": [
    {
     "name": "stdout",
     "output_type": "stream",
     "text": [
      "+-------+----------------+--------------------+---------+----------+--------------------+\n",
      "|prod_id|prod_category_id|           prod_name|prod_desc|prod_price|          prod_image|\n",
      "+-------+----------------+--------------------+---------+----------+--------------------+\n",
      "|    208|              10| SOLE E35 Elliptical|     null|   1999.99|http://images.acm...|\n",
      "|    199|              10|  SOLE F85 Treadmill|     null|   1799.99|http://images.acm...|\n",
      "|     66|               4|  SOLE F85 Treadmill|     null|   1799.99|http://images.acm...|\n",
      "|    496|              22|  SOLE F85 Treadmill|     null|   1799.99|http://images.acm...|\n",
      "|   1048|              47|\"Spalding Beast 6...|     null|   1099.99|http://images.acm...|\n",
      "|     60|               4| SOLE E25 Elliptical|     null|    999.99|http://images.acm...|\n",
      "|    197|              10| SOLE E25 Elliptical|     null|    999.99|http://images.acm...|\n",
      "|    694|              32|Callaway Women's ...|     null|    999.99|http://images.acm...|\n",
      "|    488|              22| SOLE E25 Elliptical|     null|    999.99|http://images.acm...|\n",
      "|    695|              32|Callaway Women's ...|     null|    999.99|http://images.acm...|\n",
      "+-------+----------------+--------------------+---------+----------+--------------------+\n",
      "only showing top 10 rows\n",
      "\n"
     ]
    }
   ],
   "source": [
    "prod_df.orderBy( prod_df.prod_price.desc() ).show(10)"
   ]
  },
  {
   "cell_type": "markdown",
   "id": "d8fb08f0-606c-4a51-83fa-85ab28a345f9",
   "metadata": {},
   "source": [
    "## Ranking by Group ( windowed ranking ):\n",
    "<hr><hr>"
   ]
  },
  {
   "cell_type": "markdown",
   "id": "ee24e7f8-6eaa-49b0-afb7-8bff66cf059d",
   "metadata": {},
   "source": [
    "### Find top 2 products by price for each product_category:"
   ]
  },
  {
   "cell_type": "code",
   "execution_count": 23,
   "id": "d981cbcf-4024-4a1d-9bdc-0e451aedf564",
   "metadata": {},
   "outputs": [],
   "source": [
    "prod_rdd = sc.textFile('data/products.csv') \\\n",
    "             .map( lambda x: x.split(\",\") ) \\\n",
    "             .filter( lambda x: x[4] != '' ) \\\n",
    "             .map( lambda x: ( int(x[0]), int(x[1]), x[2], x[3], float(x[4]), x[5] ) )"
   ]
  },
  {
   "cell_type": "code",
   "execution_count": 24,
   "id": "3e452792-db5a-4798-be81-ef712689a7aa",
   "metadata": {},
   "outputs": [
    {
     "data": {
      "text/plain": [
       "[(1,\n",
       "  2,\n",
       "  'Quest Q64 10 FT. x 10 FT. Slant Leg Instant U',\n",
       "  '',\n",
       "  59.98,\n",
       "  'http://images.acmesports.sports/Quest+Q64+10+FT.+x+10+FT.+Slant+Leg+Instant+Up+Canopy'),\n",
       " (2,\n",
       "  2,\n",
       "  \"Under Armour Men's Highlight MC Football Clea\",\n",
       "  '',\n",
       "  129.99,\n",
       "  'http://images.acmesports.sports/Under+Armour+Men%27s+Highlight+MC+Football+Cleat'),\n",
       " (3,\n",
       "  2,\n",
       "  \"Under Armour Men's Renegade D Mid Football Cl\",\n",
       "  '',\n",
       "  89.99,\n",
       "  'http://images.acmesports.sports/Under+Armour+Men%27s+Renegade+D+Mid+Football+Cleat')]"
      ]
     },
     "execution_count": 24,
     "metadata": {},
     "output_type": "execute_result"
    }
   ],
   "source": [
    "prod_rdd.take(3)"
   ]
  },
  {
   "cell_type": "code",
   "execution_count": 25,
   "id": "d7bafd5e-5100-41c1-9fc8-31230770dc30",
   "metadata": {},
   "outputs": [],
   "source": [
    "#Building a key-value rdd of prod_rdd so that we can apply groupByKey()\n",
    "prod_kv = prod_rdd.map( lambda x: ( x[1], x ) )"
   ]
  },
  {
   "cell_type": "code",
   "execution_count": 26,
   "id": "a8ae6b6e-d3ba-413f-9dbc-e81a338f13ad",
   "metadata": {},
   "outputs": [
    {
     "data": {
      "text/plain": [
       "[(2,\n",
       "  (1,\n",
       "   2,\n",
       "   'Quest Q64 10 FT. x 10 FT. Slant Leg Instant U',\n",
       "   '',\n",
       "   59.98,\n",
       "   'http://images.acmesports.sports/Quest+Q64+10+FT.+x+10+FT.+Slant+Leg+Instant+Up+Canopy')),\n",
       " (2,\n",
       "  (2,\n",
       "   2,\n",
       "   \"Under Armour Men's Highlight MC Football Clea\",\n",
       "   '',\n",
       "   129.99,\n",
       "   'http://images.acmesports.sports/Under+Armour+Men%27s+Highlight+MC+Football+Cleat')),\n",
       " (2,\n",
       "  (3,\n",
       "   2,\n",
       "   \"Under Armour Men's Renegade D Mid Football Cl\",\n",
       "   '',\n",
       "   89.99,\n",
       "   'http://images.acmesports.sports/Under+Armour+Men%27s+Renegade+D+Mid+Football+Cleat'))]"
      ]
     },
     "execution_count": 26,
     "metadata": {},
     "output_type": "execute_result"
    }
   ],
   "source": [
    "prod_kv.take(3)"
   ]
  },
  {
   "cell_type": "code",
   "execution_count": 27,
   "id": "091afe95-bbd2-47c9-9021-bc3c7ebca739",
   "metadata": {},
   "outputs": [],
   "source": [
    "prod_kv_grp = prod_kv.groupByKey()"
   ]
  },
  {
   "cell_type": "code",
   "execution_count": 36,
   "id": "1d3083b7-51f0-48a2-a405-890b0b9d2c84",
   "metadata": {},
   "outputs": [
    {
     "data": {
      "text/plain": [
       "[(2, <pyspark.resultiterable.ResultIterable at 0x1a062153d00>),\n",
       " (4, <pyspark.resultiterable.ResultIterable at 0x1a062153f40>),\n",
       " (6, <pyspark.resultiterable.ResultIterable at 0x1a062153100>),\n",
       " (8, <pyspark.resultiterable.ResultIterable at 0x1a062070940>),\n",
       " (10, <pyspark.resultiterable.ResultIterable at 0x1a0621737f0>),\n",
       " (12, <pyspark.resultiterable.ResultIterable at 0x1a062173100>),\n",
       " (38, <pyspark.resultiterable.ResultIterable at 0x1a0621730a0>),\n",
       " (16, <pyspark.resultiterable.ResultIterable at 0x1a062173880>),\n",
       " (18, <pyspark.resultiterable.ResultIterable at 0x1a062173760>),\n",
       " (20, <pyspark.resultiterable.ResultIterable at 0x1a062173ca0>),\n",
       " (22, <pyspark.resultiterable.ResultIterable at 0x1a062173970>),\n",
       " (24, <pyspark.resultiterable.ResultIterable at 0x1a062173b20>),\n",
       " (26, <pyspark.resultiterable.ResultIterable at 0x1a062070100>),\n",
       " (30, <pyspark.resultiterable.ResultIterable at 0x1a062075190>),\n",
       " (32, <pyspark.resultiterable.ResultIterable at 0x1a06055d790>),\n",
       " (34, <pyspark.resultiterable.ResultIterable at 0x1a06055dd00>),\n",
       " (36, <pyspark.resultiterable.ResultIterable at 0x1a0621536a0>),\n",
       " (40, <pyspark.resultiterable.ResultIterable at 0x1a062153130>),\n",
       " (42, <pyspark.resultiterable.ResultIterable at 0x1a062153580>),\n",
       " (44, <pyspark.resultiterable.ResultIterable at 0x1a062153850>),\n",
       " (46, <pyspark.resultiterable.ResultIterable at 0x1a0621535e0>),\n",
       " (48, <pyspark.resultiterable.ResultIterable at 0x1a062153040>),\n",
       " (50, <pyspark.resultiterable.ResultIterable at 0x1a062153520>),\n",
       " (52, <pyspark.resultiterable.ResultIterable at 0x1a0621532b0>),\n",
       " (54, <pyspark.resultiterable.ResultIterable at 0x1a062153940>),\n",
       " (56, <pyspark.resultiterable.ResultIterable at 0x1a0621534c0>),\n",
       " (58, <pyspark.resultiterable.ResultIterable at 0x1a062153430>),\n",
       " (3, <pyspark.resultiterable.ResultIterable at 0x1a062153970>),\n",
       " (5, <pyspark.resultiterable.ResultIterable at 0x1a0621533d0>),\n",
       " (7, <pyspark.resultiterable.ResultIterable at 0x1a062153a00>),\n",
       " (9, <pyspark.resultiterable.ResultIterable at 0x1a062153fa0>),\n",
       " (11, <pyspark.resultiterable.ResultIterable at 0x1a062153ee0>),\n",
       " (13, <pyspark.resultiterable.ResultIterable at 0x1a062153b20>),\n",
       " (15, <pyspark.resultiterable.ResultIterable at 0x1a062153e20>),\n",
       " (17, <pyspark.resultiterable.ResultIterable at 0x1a061f819d0>),\n",
       " (19, <pyspark.resultiterable.ResultIterable at 0x1a061f81d00>),\n",
       " (21, <pyspark.resultiterable.ResultIterable at 0x1a0620d2e50>),\n",
       " (25, <pyspark.resultiterable.ResultIterable at 0x1a0620d2f40>),\n",
       " (27, <pyspark.resultiterable.ResultIterable at 0x1a0620d2b50>),\n",
       " (41, <pyspark.resultiterable.ResultIterable at 0x1a062173670>),\n",
       " (29, <pyspark.resultiterable.ResultIterable at 0x1a062173580>),\n",
       " (31, <pyspark.resultiterable.ResultIterable at 0x1a062173550>),\n",
       " (33, <pyspark.resultiterable.ResultIterable at 0x1a062173520>),\n",
       " (35, <pyspark.resultiterable.ResultIterable at 0x1a062173310>),\n",
       " (37, <pyspark.resultiterable.ResultIterable at 0x1a0621732b0>),\n",
       " (39, <pyspark.resultiterable.ResultIterable at 0x1a0621731c0>),\n",
       " (43, <pyspark.resultiterable.ResultIterable at 0x1a062173250>),\n",
       " (45, <pyspark.resultiterable.ResultIterable at 0x1a062173190>),\n",
       " (47, <pyspark.resultiterable.ResultIterable at 0x1a062173a90>),\n",
       " (49, <pyspark.resultiterable.ResultIterable at 0x1a062173ac0>),\n",
       " (51, <pyspark.resultiterable.ResultIterable at 0x1a062173b50>),\n",
       " (53, <pyspark.resultiterable.ResultIterable at 0x1a062173c10>),\n",
       " (55, <pyspark.resultiterable.ResultIterable at 0x1a062173940>),\n",
       " (57, <pyspark.resultiterable.ResultIterable at 0x1a062173a30>),\n",
       " (59, <pyspark.resultiterable.ResultIterable at 0x1a062173c70>)]"
      ]
     },
     "execution_count": 36,
     "metadata": {},
     "output_type": "execute_result"
    }
   ],
   "source": [
    "prod_kv_grp.collect()"
   ]
  },
  {
   "cell_type": "markdown",
   "id": "2b16f667-091a-41a3-899c-74f5673c1b63",
   "metadata": {},
   "source": [
    "<hr><hr>\n",
    "- Each element of the 'prod_kv_grp' is a tuple, and the tuples contain the category (key) in their 0th index, and an iterator in their 1st index.\n",
    "- The iterator is actually a group/collection of the value elements in the rdd that has been grouped. Using for loop on that iterator, eah value of that group can be extracted, as shown in the cell below:"
   ]
  },
  {
   "cell_type": "code",
   "execution_count": 31,
   "id": "6372f63c-63e4-4586-b30b-adc4f7e5917c",
   "metadata": {
    "collapsed": true,
    "jupyter": {
     "outputs_hidden": true
    },
    "tags": []
   },
   "outputs": [
    {
     "name": "stdout",
     "output_type": "stream",
     "text": [
      "(1, 2, 'Quest Q64 10 FT. x 10 FT. Slant Leg Instant U', '', 59.98, 'http://images.acmesports.sports/Quest+Q64+10+FT.+x+10+FT.+Slant+Leg+Instant+Up+Canopy') <class 'tuple'>\n",
      "(2, 2, \"Under Armour Men's Highlight MC Football Clea\", '', 129.99, 'http://images.acmesports.sports/Under+Armour+Men%27s+Highlight+MC+Football+Cleat') <class 'tuple'>\n",
      "(3, 2, \"Under Armour Men's Renegade D Mid Football Cl\", '', 89.99, 'http://images.acmesports.sports/Under+Armour+Men%27s+Renegade+D+Mid+Football+Cleat') <class 'tuple'>\n",
      "(4, 2, \"Under Armour Men's Renegade D Mid Football Cl\", '', 89.99, 'http://images.acmesports.sports/Under+Armour+Men%27s+Renegade+D+Mid+Football+Cleat') <class 'tuple'>\n",
      "(5, 2, 'Riddell Youth Revolution Speed Custom Footbal', '', 199.99, 'http://images.acmesports.sports/Riddell+Youth+Revolution+Speed+Custom+Football+Helmet') <class 'tuple'>\n",
      "(6, 2, \"Jordan Men's VI Retro TD Football Cleat\", '', 134.99, 'http://images.acmesports.sports/Jordan+Men%27s+VI+Retro+TD+Football+Cleat') <class 'tuple'>\n",
      "(7, 2, 'Schutt Youth Recruit Hybrid Custom Football H', '', 99.99, 'http://images.acmesports.sports/Schutt+Youth+Recruit+Hybrid+Custom+Football+Helmet+2014') <class 'tuple'>\n",
      "(8, 2, \"Nike Men's Vapor Carbon Elite TD Football Cle\", '', 129.99, 'http://images.acmesports.sports/Nike+Men%27s+Vapor+Carbon+Elite+TD+Football+Cleat') <class 'tuple'>\n",
      "(9, 2, 'Nike Adult Vapor Jet 3.0 Receiver Gloves', '', 50.0, 'http://images.acmesports.sports/Nike+Adult+Vapor+Jet+3.0+Receiver+Gloves') <class 'tuple'>\n",
      "(10, 2, \"Under Armour Men's Highlight MC Football Clea\", '', 129.99, 'http://images.acmesports.sports/Under+Armour+Men%27s+Highlight+MC+Football+Cleat') <class 'tuple'>\n",
      "(11, 2, 'Fitness Gear 300 lb Olympic Weight Set', '', 209.99, 'http://images.acmesports.sports/Fitness+Gear+300+lb+Olympic+Weight+Set') <class 'tuple'>\n",
      "(12, 2, \"Under Armour Men's Highlight MC Alter Ego Fla\", '', 139.99, 'http://images.acmesports.sports/Under+Armour+Men%27s+Highlight+MC+Alter+Ego+Flash+Football...') <class 'tuple'>\n",
      "(13, 2, \"Under Armour Men's Renegade D Mid Football Cl\", '', 89.99, 'http://images.acmesports.sports/Under+Armour+Men%27s+Renegade+D+Mid+Football+Cleat') <class 'tuple'>\n",
      "(14, 2, 'Quik Shade Summit SX170 10 FT. x 10 FT. Canop', '', 199.99, 'http://images.acmesports.sports/Quik+Shade+Summit+SX170+10+FT.+x+10+FT.+Canopy') <class 'tuple'>\n",
      "(15, 2, \"Under Armour Kids' Highlight RM Alter Ego Sup\", '', 59.99, 'http://images.acmesports.sports/Under+Armour+Kids%27+Highlight+RM+Alter+Ego+Superman+Football...') <class 'tuple'>\n",
      "(16, 2, 'Riddell Youth 360 Custom Football Helmet', '', 299.99, 'http://images.acmesports.sports/Riddell+Youth+360+Custom+Football+Helmet') <class 'tuple'>\n",
      "(17, 2, \"Under Armour Men's Highlight MC Football Clea\", '', 129.99, 'http://images.acmesports.sports/Under+Armour+Men%27s+Highlight+MC+Football+Cleat') <class 'tuple'>\n",
      "(18, 2, \"Reebok Men's Full Zip Training Jacket\", '', 29.97, 'http://images.acmesports.sports/Reebok+Men%27s+Full+Zip+Training+Jacket') <class 'tuple'>\n",
      "(19, 2, \"Nike Men's Fingertrap Max Training Shoe\", '', 124.99, 'http://images.acmesports.sports/Nike+Men%27s+Fingertrap+Max+Training+Shoe') <class 'tuple'>\n",
      "(20, 2, \"Under Armour Men's Highlight MC Football Clea\", '', 129.99, 'http://images.acmesports.sports/Under+Armour+Men%27s+Highlight+MC+Football+Cleat') <class 'tuple'>\n",
      "(21, 2, \"Under Armour Kids' Highlight RM Football Clea\", '', 54.99, 'http://images.acmesports.sports/Under+Armour+Kids%27+Highlight+RM+Football+Cleat') <class 'tuple'>\n",
      "(22, 2, 'Kijaro Dual Lock Chair', '', 29.99, 'http://images.acmesports.sports/Kijaro+Dual+Lock+Chair') <class 'tuple'>\n",
      "(23, 2, \"Under Armour Men's Highlight MC Alter Ego Hul\", '', 139.99, 'http://images.acmesports.sports/Under+Armour+Men%27s+Highlight+MC+Alter+Ego+Hulk+Football...') <class 'tuple'>\n",
      "(24, 2, 'Elevation Training Mask 2.0', '', 79.99, 'http://images.acmesports.sports/Elevation+Training+Mask+2.0') <class 'tuple'>\n"
     ]
    }
   ],
   "source": [
    "for i in prod_kv_grp.take(2)[0][1]:\n",
    "    print(i, type(i))"
   ]
  },
  {
   "cell_type": "markdown",
   "id": "1f55cd48-a2c3-4970-a577-5e93583db3b8",
   "metadata": {},
   "source": [
    " #### Converting the iterable obtained by *groupByKey()* into another rdd, using *sc.parallelize()* :\n",
    " <hr>"
   ]
  },
  {
   "cell_type": "code",
   "execution_count": 34,
   "id": "2e978f83-519f-4f39-b76f-bed3dccbcbb5",
   "metadata": {},
   "outputs": [],
   "source": [
    "test_rdd = sc.parallelize( prod_kv_grp.take(2)[0][1] )"
   ]
  },
  {
   "cell_type": "code",
   "execution_count": 38,
   "id": "a8c5ff8a-5aa3-4f7e-90ea-09087d1536fc",
   "metadata": {
    "collapsed": true,
    "jupyter": {
     "outputs_hidden": true
    },
    "tags": []
   },
   "outputs": [
    {
     "data": {
      "text/plain": [
       "[(1,\n",
       "  2,\n",
       "  'Quest Q64 10 FT. x 10 FT. Slant Leg Instant U',\n",
       "  '',\n",
       "  59.98,\n",
       "  'http://images.acmesports.sports/Quest+Q64+10+FT.+x+10+FT.+Slant+Leg+Instant+Up+Canopy'),\n",
       " (2,\n",
       "  2,\n",
       "  \"Under Armour Men's Highlight MC Football Clea\",\n",
       "  '',\n",
       "  129.99,\n",
       "  'http://images.acmesports.sports/Under+Armour+Men%27s+Highlight+MC+Football+Cleat'),\n",
       " (3,\n",
       "  2,\n",
       "  \"Under Armour Men's Renegade D Mid Football Cl\",\n",
       "  '',\n",
       "  89.99,\n",
       "  'http://images.acmesports.sports/Under+Armour+Men%27s+Renegade+D+Mid+Football+Cleat'),\n",
       " (4,\n",
       "  2,\n",
       "  \"Under Armour Men's Renegade D Mid Football Cl\",\n",
       "  '',\n",
       "  89.99,\n",
       "  'http://images.acmesports.sports/Under+Armour+Men%27s+Renegade+D+Mid+Football+Cleat'),\n",
       " (5,\n",
       "  2,\n",
       "  'Riddell Youth Revolution Speed Custom Footbal',\n",
       "  '',\n",
       "  199.99,\n",
       "  'http://images.acmesports.sports/Riddell+Youth+Revolution+Speed+Custom+Football+Helmet'),\n",
       " (6,\n",
       "  2,\n",
       "  \"Jordan Men's VI Retro TD Football Cleat\",\n",
       "  '',\n",
       "  134.99,\n",
       "  'http://images.acmesports.sports/Jordan+Men%27s+VI+Retro+TD+Football+Cleat'),\n",
       " (7,\n",
       "  2,\n",
       "  'Schutt Youth Recruit Hybrid Custom Football H',\n",
       "  '',\n",
       "  99.99,\n",
       "  'http://images.acmesports.sports/Schutt+Youth+Recruit+Hybrid+Custom+Football+Helmet+2014'),\n",
       " (8,\n",
       "  2,\n",
       "  \"Nike Men's Vapor Carbon Elite TD Football Cle\",\n",
       "  '',\n",
       "  129.99,\n",
       "  'http://images.acmesports.sports/Nike+Men%27s+Vapor+Carbon+Elite+TD+Football+Cleat'),\n",
       " (9,\n",
       "  2,\n",
       "  'Nike Adult Vapor Jet 3.0 Receiver Gloves',\n",
       "  '',\n",
       "  50.0,\n",
       "  'http://images.acmesports.sports/Nike+Adult+Vapor+Jet+3.0+Receiver+Gloves'),\n",
       " (10,\n",
       "  2,\n",
       "  \"Under Armour Men's Highlight MC Football Clea\",\n",
       "  '',\n",
       "  129.99,\n",
       "  'http://images.acmesports.sports/Under+Armour+Men%27s+Highlight+MC+Football+Cleat'),\n",
       " (11,\n",
       "  2,\n",
       "  'Fitness Gear 300 lb Olympic Weight Set',\n",
       "  '',\n",
       "  209.99,\n",
       "  'http://images.acmesports.sports/Fitness+Gear+300+lb+Olympic+Weight+Set'),\n",
       " (12,\n",
       "  2,\n",
       "  \"Under Armour Men's Highlight MC Alter Ego Fla\",\n",
       "  '',\n",
       "  139.99,\n",
       "  'http://images.acmesports.sports/Under+Armour+Men%27s+Highlight+MC+Alter+Ego+Flash+Football...'),\n",
       " (13,\n",
       "  2,\n",
       "  \"Under Armour Men's Renegade D Mid Football Cl\",\n",
       "  '',\n",
       "  89.99,\n",
       "  'http://images.acmesports.sports/Under+Armour+Men%27s+Renegade+D+Mid+Football+Cleat'),\n",
       " (14,\n",
       "  2,\n",
       "  'Quik Shade Summit SX170 10 FT. x 10 FT. Canop',\n",
       "  '',\n",
       "  199.99,\n",
       "  'http://images.acmesports.sports/Quik+Shade+Summit+SX170+10+FT.+x+10+FT.+Canopy'),\n",
       " (15,\n",
       "  2,\n",
       "  \"Under Armour Kids' Highlight RM Alter Ego Sup\",\n",
       "  '',\n",
       "  59.99,\n",
       "  'http://images.acmesports.sports/Under+Armour+Kids%27+Highlight+RM+Alter+Ego+Superman+Football...'),\n",
       " (16,\n",
       "  2,\n",
       "  'Riddell Youth 360 Custom Football Helmet',\n",
       "  '',\n",
       "  299.99,\n",
       "  'http://images.acmesports.sports/Riddell+Youth+360+Custom+Football+Helmet'),\n",
       " (17,\n",
       "  2,\n",
       "  \"Under Armour Men's Highlight MC Football Clea\",\n",
       "  '',\n",
       "  129.99,\n",
       "  'http://images.acmesports.sports/Under+Armour+Men%27s+Highlight+MC+Football+Cleat'),\n",
       " (18,\n",
       "  2,\n",
       "  \"Reebok Men's Full Zip Training Jacket\",\n",
       "  '',\n",
       "  29.97,\n",
       "  'http://images.acmesports.sports/Reebok+Men%27s+Full+Zip+Training+Jacket'),\n",
       " (19,\n",
       "  2,\n",
       "  \"Nike Men's Fingertrap Max Training Shoe\",\n",
       "  '',\n",
       "  124.99,\n",
       "  'http://images.acmesports.sports/Nike+Men%27s+Fingertrap+Max+Training+Shoe'),\n",
       " (20,\n",
       "  2,\n",
       "  \"Under Armour Men's Highlight MC Football Clea\",\n",
       "  '',\n",
       "  129.99,\n",
       "  'http://images.acmesports.sports/Under+Armour+Men%27s+Highlight+MC+Football+Cleat'),\n",
       " (21,\n",
       "  2,\n",
       "  \"Under Armour Kids' Highlight RM Football Clea\",\n",
       "  '',\n",
       "  54.99,\n",
       "  'http://images.acmesports.sports/Under+Armour+Kids%27+Highlight+RM+Football+Cleat'),\n",
       " (22,\n",
       "  2,\n",
       "  'Kijaro Dual Lock Chair',\n",
       "  '',\n",
       "  29.99,\n",
       "  'http://images.acmesports.sports/Kijaro+Dual+Lock+Chair'),\n",
       " (23,\n",
       "  2,\n",
       "  \"Under Armour Men's Highlight MC Alter Ego Hul\",\n",
       "  '',\n",
       "  139.99,\n",
       "  'http://images.acmesports.sports/Under+Armour+Men%27s+Highlight+MC+Alter+Ego+Hulk+Football...'),\n",
       " (24,\n",
       "  2,\n",
       "  'Elevation Training Mask 2.0',\n",
       "  '',\n",
       "  79.99,\n",
       "  'http://images.acmesports.sports/Elevation+Training+Mask+2.0')]"
      ]
     },
     "execution_count": 38,
     "metadata": {},
     "output_type": "execute_result"
    }
   ],
   "source": [
    "test_rdd.collect()"
   ]
  },
  {
   "cell_type": "markdown",
   "id": "b3c2c505-867c-4f7d-abed-6c565c41c4e7",
   "metadata": {},
   "source": [
    "#### Defining the logic, that will use the iterables from the rdd containing key and group iterabless, and will return the rdd with 2 top-priced products from each rdd:-\n",
    "<hr>"
   ]
  },
  {
   "cell_type": "code",
   "execution_count": 37,
   "id": "8e96a69c-af8b-470b-8165-ec34348b20df",
   "metadata": {
    "collapsed": true,
    "jupyter": {
     "outputs_hidden": true
    },
    "tags": []
   },
   "outputs": [
    {
     "name": "stdout",
     "output_type": "stream",
     "text": [
      "(16, 2, 'Riddell Youth 360 Custom Football Helmet', '', 299.99, 'http://images.acmesports.sports/Riddell+Youth+360+Custom+Football+Helmet')\n",
      "(11, 2, 'Fitness Gear 300 lb Olympic Weight Set', '', 209.99, 'http://images.acmesports.sports/Fitness+Gear+300+lb+Olympic+Weight+Set')\n",
      "(66, 4, 'SOLE F85 Treadmill', '', 1799.99, 'http://images.acmesports.sports/SOLE+F85+Treadmill')\n",
      "(60, 4, 'SOLE E25 Elliptical', '', 999.99, 'http://images.acmesports.sports/SOLE+E25+Elliptical')\n",
      "(117, 6, 'YETI Tundra 65 Chest Cooler', '', 399.99, 'http://images.acmesports.sports/YETI+Tundra+65+Chest+Cooler')\n",
      "(106, 6, 'Teeter Hang Ups NXT-S Inversion Table', '', 299.99, 'http://images.acmesports.sports/Teeter+Hang+Ups+NXT-S+Inversion+Table')\n",
      "(162, 8, 'YETI Tundra 65 Chest Cooler', '', 399.99, 'http://images.acmesports.sports/YETI+Tundra+65+Chest+Cooler')\n",
      "(153, 8, 'Teeter Hang Ups NXT-S Inversion Table', '', 299.99, 'http://images.acmesports.sports/Teeter+Hang+Ups+NXT-S+Inversion+Table')\n",
      "(208, 10, 'SOLE E35 Elliptical', '', 1999.99, 'http://images.acmesports.sports/SOLE+E35+Elliptical')\n",
      "(199, 10, 'SOLE F85 Treadmill', '', 1799.99, 'http://images.acmesports.sports/SOLE+F85+Treadmill')\n",
      "(262, 12, 'Fitness Gear Pro Utility Bench', '', 179.99, 'http://images.acmesports.sports/Fitness+Gear+Pro+Utility+Bench')\n",
      "(255, 12, \"ASICS Women's GEL-Noosa Tri 9 Running Shoe\", '', 139.99, 'http://images.acmesports.sports/ASICS+Women%27s+GEL-Noosa+Tri+9+Running+Shoe')\n",
      "(860, 38, 'Bushnell Pro X7 Jolt Slope Rangefinder', '', 599.99, 'http://images.acmesports.sports/Bushnell+Pro+X7+Jolt+Slope+Rangefinder')\n",
      "(300, 38, 'Garmin Forerunner 620 GPS Watch with Heart Ra', '', 449.99, 'http://images.acmesports.sports/Garmin+Forerunner+620+GPS+Watch+with+Heart+Rate+Monitor')\n",
      "(346, 16, 'Fitness Gear Pro Half Rack', '', 349.99, 'http://images.acmesports.sports/Fitness+Gear+Pro+Half+Rack')\n",
      "(343, 16, 'Teeter Hang Ups NXT-S Inversion Table', '', 299.99, 'http://images.acmesports.sports/Teeter+Hang+Ups+NXT-S+Inversion+Table')\n",
      "(382, 18, \"PUMA Men's evoPOWER 1 Tricks FG Soccer Cleat\", '', 189.99, 'http://images.acmesports.sports/PUMA+Men%27s+evoPOWER+1+Tricks+FG+Soccer+Cleat')\n",
      "(390, 18, \"Under Armour Men's Highlight MC Alter Ego Fla\", '', 139.99, 'http://images.acmesports.sports/Under+Armour+Men%27s+Highlight+MC+Alter+Ego+Flash+Football...')\n",
      "(450, 20, 'Garmin Forerunner 220 GPS Watch', '', 249.99, 'http://images.acmesports.sports/Garmin+Forerunner+220+GPS+Watch')\n",
      "(452, 20, 'Garmin vivofit Fitness Band with HRM', '', 169.99, 'http://images.acmesports.sports/Garmin+vivofit+Fitness+Band+with+HRM')\n",
      "(496, 22, 'SOLE F85 Treadmill', '', 1799.99, 'http://images.acmesports.sports/SOLE+F85+Treadmill')\n",
      "(488, 22, 'SOLE E25 Elliptical', '', 999.99, 'http://images.acmesports.sports/SOLE+E25+Elliptical')\n",
      "(516, 24, 'Callaway X Hot Laser Rangefinder', '', 229.99, 'http://images.acmesports.sports/Callaway+X+Hot+Laser+Rangefinder')\n",
      "(508, 24, \"PUMA Men's evoPOWER 1 Tricks FG Soccer Cleat\", '', 189.99, 'http://images.acmesports.sports/PUMA+Men%27s+evoPOWER+1+Tricks+FG+Soccer+Cleat')\n"
     ]
    },
    {
     "name": "stderr",
     "output_type": "stream",
     "text": [
      "ERROR:root:KeyboardInterrupt while sending command.\n",
      "Traceback (most recent call last):\n",
      "  File \"D:\\Softwares\\Apache_Spark\\spark\\python\\lib\\py4j-0.10.9.5-src.zip\\py4j\\java_gateway.py\", line 1038, in send_command\n",
      "    response = connection.send_command(command)\n",
      "  File \"D:\\Softwares\\Apache_Spark\\spark\\python\\lib\\py4j-0.10.9.5-src.zip\\py4j\\clientserver.py\", line 511, in send_command\n",
      "    answer = smart_decode(self.stream.readline()[:-1])\n",
      "  File \"D:\\Softwares\\Anaconda3\\anaconda3\\lib\\socket.py\", line 669, in readinto\n",
      "    return self._sock.recv_into(b)\n",
      "KeyboardInterrupt\n"
     ]
    },
    {
     "ename": "KeyboardInterrupt",
     "evalue": "",
     "output_type": "error",
     "traceback": [
      "\u001b[1;31m---------------------------------------------------------------------------\u001b[0m",
      "\u001b[1;31mKeyboardInterrupt\u001b[0m                         Traceback (most recent call last)",
      "\u001b[1;32mC:\\Users\\DEBANJ~1\\AppData\\Local\\Temp/ipykernel_3340/6964408.py\u001b[0m in \u001b[0;36m<module>\u001b[1;34m\u001b[0m\n\u001b[0;32m      5\u001b[0m     \u001b[0mgrp\u001b[0m \u001b[1;33m=\u001b[0m \u001b[0mi\u001b[0m\u001b[1;33m[\u001b[0m\u001b[1;36m1\u001b[0m\u001b[1;33m]\u001b[0m\u001b[1;33m\u001b[0m\u001b[1;33m\u001b[0m\u001b[0m\n\u001b[0;32m      6\u001b[0m     \u001b[0mgrp_rdd\u001b[0m \u001b[1;33m=\u001b[0m \u001b[0msc\u001b[0m\u001b[1;33m.\u001b[0m\u001b[0mparallelize\u001b[0m\u001b[1;33m(\u001b[0m \u001b[0mgrp\u001b[0m \u001b[1;33m)\u001b[0m\u001b[1;33m\u001b[0m\u001b[1;33m\u001b[0m\u001b[0m\n\u001b[1;32m----> 7\u001b[1;33m     \u001b[1;32mfor\u001b[0m \u001b[0mtop_prod\u001b[0m \u001b[1;32min\u001b[0m \u001b[0mgrp_rdd\u001b[0m\u001b[1;33m.\u001b[0m\u001b[0msortBy\u001b[0m\u001b[1;33m(\u001b[0m \u001b[1;32mlambda\u001b[0m \u001b[0mx\u001b[0m\u001b[1;33m:\u001b[0m \u001b[0mx\u001b[0m\u001b[1;33m[\u001b[0m\u001b[1;36m4\u001b[0m\u001b[1;33m]\u001b[0m\u001b[1;33m,\u001b[0m \u001b[0mascending\u001b[0m\u001b[1;33m=\u001b[0m\u001b[1;32mFalse\u001b[0m \u001b[1;33m)\u001b[0m\u001b[1;33m.\u001b[0m\u001b[0mtake\u001b[0m\u001b[1;33m(\u001b[0m\u001b[1;36m2\u001b[0m\u001b[1;33m)\u001b[0m\u001b[1;33m:\u001b[0m\u001b[1;33m\u001b[0m\u001b[1;33m\u001b[0m\u001b[0m\n\u001b[0m\u001b[0;32m      8\u001b[0m         \u001b[0mprint\u001b[0m\u001b[1;33m(\u001b[0m \u001b[0mtop_prod\u001b[0m \u001b[1;33m)\u001b[0m\u001b[1;33m\u001b[0m\u001b[1;33m\u001b[0m\u001b[0m\n",
      "\u001b[1;32mD:\\Softwares\\Apache_Spark\\spark\\python\\pyspark\\rdd.py\u001b[0m in \u001b[0;36msortBy\u001b[1;34m(self, keyfunc, ascending, numPartitions)\u001b[0m\n\u001b[0;32m   1035\u001b[0m         \"\"\"\n\u001b[0;32m   1036\u001b[0m         return (\n\u001b[1;32m-> 1037\u001b[1;33m             \u001b[0mself\u001b[0m\u001b[1;33m.\u001b[0m\u001b[0mkeyBy\u001b[0m\u001b[1;33m(\u001b[0m\u001b[0mkeyfunc\u001b[0m\u001b[1;33m)\u001b[0m  \u001b[1;31m# type: ignore[type-var]\u001b[0m\u001b[1;33m\u001b[0m\u001b[1;33m\u001b[0m\u001b[0m\n\u001b[0m\u001b[0;32m   1038\u001b[0m             \u001b[1;33m.\u001b[0m\u001b[0msortByKey\u001b[0m\u001b[1;33m(\u001b[0m\u001b[0mascending\u001b[0m\u001b[1;33m,\u001b[0m \u001b[0mnumPartitions\u001b[0m\u001b[1;33m)\u001b[0m\u001b[1;33m\u001b[0m\u001b[1;33m\u001b[0m\u001b[0m\n\u001b[0;32m   1039\u001b[0m             \u001b[1;33m.\u001b[0m\u001b[0mvalues\u001b[0m\u001b[1;33m(\u001b[0m\u001b[1;33m)\u001b[0m\u001b[1;33m\u001b[0m\u001b[1;33m\u001b[0m\u001b[0m\n",
      "\u001b[1;32mD:\\Softwares\\Apache_Spark\\spark\\python\\pyspark\\rdd.py\u001b[0m in \u001b[0;36msortByKey\u001b[1;34m(self, ascending, numPartitions, keyfunc)\u001b[0m\n\u001b[0;32m    993\u001b[0m         \u001b[1;31m# the key-space into bins such that the bins have roughly the same\u001b[0m\u001b[1;33m\u001b[0m\u001b[1;33m\u001b[0m\u001b[1;33m\u001b[0m\u001b[0m\n\u001b[0;32m    994\u001b[0m         \u001b[1;31m# number of (key, value) pairs falling into them\u001b[0m\u001b[1;33m\u001b[0m\u001b[1;33m\u001b[0m\u001b[1;33m\u001b[0m\u001b[0m\n\u001b[1;32m--> 995\u001b[1;33m         \u001b[0mrddSize\u001b[0m \u001b[1;33m=\u001b[0m \u001b[0mself\u001b[0m\u001b[1;33m.\u001b[0m\u001b[0mcount\u001b[0m\u001b[1;33m(\u001b[0m\u001b[1;33m)\u001b[0m\u001b[1;33m\u001b[0m\u001b[1;33m\u001b[0m\u001b[0m\n\u001b[0m\u001b[0;32m    996\u001b[0m         \u001b[1;32mif\u001b[0m \u001b[1;32mnot\u001b[0m \u001b[0mrddSize\u001b[0m\u001b[1;33m:\u001b[0m\u001b[1;33m\u001b[0m\u001b[1;33m\u001b[0m\u001b[0m\n\u001b[0;32m    997\u001b[0m             \u001b[1;32mreturn\u001b[0m \u001b[0mself\u001b[0m  \u001b[1;31m# empty RDD\u001b[0m\u001b[1;33m\u001b[0m\u001b[1;33m\u001b[0m\u001b[0m\n",
      "\u001b[1;32mD:\\Softwares\\Apache_Spark\\spark\\python\\pyspark\\rdd.py\u001b[0m in \u001b[0;36mcount\u001b[1;34m(self)\u001b[0m\n\u001b[0;32m   1519\u001b[0m         \u001b[1;36m3\u001b[0m\u001b[1;33m\u001b[0m\u001b[1;33m\u001b[0m\u001b[0m\n\u001b[0;32m   1520\u001b[0m         \"\"\"\n\u001b[1;32m-> 1521\u001b[1;33m         \u001b[1;32mreturn\u001b[0m \u001b[0mself\u001b[0m\u001b[1;33m.\u001b[0m\u001b[0mmapPartitions\u001b[0m\u001b[1;33m(\u001b[0m\u001b[1;32mlambda\u001b[0m \u001b[0mi\u001b[0m\u001b[1;33m:\u001b[0m \u001b[1;33m[\u001b[0m\u001b[0msum\u001b[0m\u001b[1;33m(\u001b[0m\u001b[1;36m1\u001b[0m \u001b[1;32mfor\u001b[0m \u001b[0m_\u001b[0m \u001b[1;32min\u001b[0m \u001b[0mi\u001b[0m\u001b[1;33m)\u001b[0m\u001b[1;33m]\u001b[0m\u001b[1;33m)\u001b[0m\u001b[1;33m.\u001b[0m\u001b[0msum\u001b[0m\u001b[1;33m(\u001b[0m\u001b[1;33m)\u001b[0m\u001b[1;33m\u001b[0m\u001b[1;33m\u001b[0m\u001b[0m\n\u001b[0m\u001b[0;32m   1522\u001b[0m \u001b[1;33m\u001b[0m\u001b[0m\n\u001b[0;32m   1523\u001b[0m     \u001b[1;32mdef\u001b[0m \u001b[0mstats\u001b[0m\u001b[1;33m(\u001b[0m\u001b[0mself\u001b[0m\u001b[1;33m:\u001b[0m \u001b[1;34m\"RDD[NumberOrArray]\"\u001b[0m\u001b[1;33m)\u001b[0m \u001b[1;33m->\u001b[0m \u001b[0mStatCounter\u001b[0m\u001b[1;33m:\u001b[0m\u001b[1;33m\u001b[0m\u001b[1;33m\u001b[0m\u001b[0m\n",
      "\u001b[1;32mD:\\Softwares\\Apache_Spark\\spark\\python\\pyspark\\rdd.py\u001b[0m in \u001b[0;36msum\u001b[1;34m(self)\u001b[0m\n\u001b[0;32m   1506\u001b[0m         \u001b[1;36m6.0\u001b[0m\u001b[1;33m\u001b[0m\u001b[1;33m\u001b[0m\u001b[0m\n\u001b[0;32m   1507\u001b[0m         \"\"\"\n\u001b[1;32m-> 1508\u001b[1;33m         return self.mapPartitions(lambda x: [sum(x)]).fold(  # type: ignore[return-value]\n\u001b[0m\u001b[0;32m   1509\u001b[0m             \u001b[1;36m0\u001b[0m\u001b[1;33m,\u001b[0m \u001b[0moperator\u001b[0m\u001b[1;33m.\u001b[0m\u001b[0madd\u001b[0m\u001b[1;33m\u001b[0m\u001b[1;33m\u001b[0m\u001b[0m\n\u001b[0;32m   1510\u001b[0m         )\n",
      "\u001b[1;32mD:\\Softwares\\Apache_Spark\\spark\\python\\pyspark\\rdd.py\u001b[0m in \u001b[0;36mfold\u001b[1;34m(self, zeroValue, op)\u001b[0m\n\u001b[0;32m   1334\u001b[0m         \u001b[1;31m# zeroValue provided to each partition is unique from the one provided\u001b[0m\u001b[1;33m\u001b[0m\u001b[1;33m\u001b[0m\u001b[1;33m\u001b[0m\u001b[0m\n\u001b[0;32m   1335\u001b[0m         \u001b[1;31m# to the final reduce call\u001b[0m\u001b[1;33m\u001b[0m\u001b[1;33m\u001b[0m\u001b[1;33m\u001b[0m\u001b[0m\n\u001b[1;32m-> 1336\u001b[1;33m         \u001b[0mvals\u001b[0m \u001b[1;33m=\u001b[0m \u001b[0mself\u001b[0m\u001b[1;33m.\u001b[0m\u001b[0mmapPartitions\u001b[0m\u001b[1;33m(\u001b[0m\u001b[0mfunc\u001b[0m\u001b[1;33m)\u001b[0m\u001b[1;33m.\u001b[0m\u001b[0mcollect\u001b[0m\u001b[1;33m(\u001b[0m\u001b[1;33m)\u001b[0m\u001b[1;33m\u001b[0m\u001b[1;33m\u001b[0m\u001b[0m\n\u001b[0m\u001b[0;32m   1337\u001b[0m         \u001b[1;32mreturn\u001b[0m \u001b[0mreduce\u001b[0m\u001b[1;33m(\u001b[0m\u001b[0mop\u001b[0m\u001b[1;33m,\u001b[0m \u001b[0mvals\u001b[0m\u001b[1;33m,\u001b[0m \u001b[0mzeroValue\u001b[0m\u001b[1;33m)\u001b[0m\u001b[1;33m\u001b[0m\u001b[1;33m\u001b[0m\u001b[0m\n\u001b[0;32m   1338\u001b[0m \u001b[1;33m\u001b[0m\u001b[0m\n",
      "\u001b[1;32mD:\\Softwares\\Apache_Spark\\spark\\python\\pyspark\\rdd.py\u001b[0m in \u001b[0;36mcollect\u001b[1;34m(self)\u001b[0m\n\u001b[0;32m   1195\u001b[0m         \u001b[1;32mwith\u001b[0m \u001b[0mSCCallSiteSync\u001b[0m\u001b[1;33m(\u001b[0m\u001b[0mself\u001b[0m\u001b[1;33m.\u001b[0m\u001b[0mcontext\u001b[0m\u001b[1;33m)\u001b[0m\u001b[1;33m:\u001b[0m\u001b[1;33m\u001b[0m\u001b[1;33m\u001b[0m\u001b[0m\n\u001b[0;32m   1196\u001b[0m             \u001b[1;32massert\u001b[0m \u001b[0mself\u001b[0m\u001b[1;33m.\u001b[0m\u001b[0mctx\u001b[0m\u001b[1;33m.\u001b[0m\u001b[0m_jvm\u001b[0m \u001b[1;32mis\u001b[0m \u001b[1;32mnot\u001b[0m \u001b[1;32mNone\u001b[0m\u001b[1;33m\u001b[0m\u001b[1;33m\u001b[0m\u001b[0m\n\u001b[1;32m-> 1197\u001b[1;33m             \u001b[0msock_info\u001b[0m \u001b[1;33m=\u001b[0m \u001b[0mself\u001b[0m\u001b[1;33m.\u001b[0m\u001b[0mctx\u001b[0m\u001b[1;33m.\u001b[0m\u001b[0m_jvm\u001b[0m\u001b[1;33m.\u001b[0m\u001b[0mPythonRDD\u001b[0m\u001b[1;33m.\u001b[0m\u001b[0mcollectAndServe\u001b[0m\u001b[1;33m(\u001b[0m\u001b[0mself\u001b[0m\u001b[1;33m.\u001b[0m\u001b[0m_jrdd\u001b[0m\u001b[1;33m.\u001b[0m\u001b[0mrdd\u001b[0m\u001b[1;33m(\u001b[0m\u001b[1;33m)\u001b[0m\u001b[1;33m)\u001b[0m\u001b[1;33m\u001b[0m\u001b[1;33m\u001b[0m\u001b[0m\n\u001b[0m\u001b[0;32m   1198\u001b[0m         \u001b[1;32mreturn\u001b[0m \u001b[0mlist\u001b[0m\u001b[1;33m(\u001b[0m\u001b[0m_load_from_socket\u001b[0m\u001b[1;33m(\u001b[0m\u001b[0msock_info\u001b[0m\u001b[1;33m,\u001b[0m \u001b[0mself\u001b[0m\u001b[1;33m.\u001b[0m\u001b[0m_jrdd_deserializer\u001b[0m\u001b[1;33m)\u001b[0m\u001b[1;33m)\u001b[0m\u001b[1;33m\u001b[0m\u001b[1;33m\u001b[0m\u001b[0m\n\u001b[0;32m   1199\u001b[0m \u001b[1;33m\u001b[0m\u001b[0m\n",
      "\u001b[1;32mD:\\Softwares\\Apache_Spark\\spark\\python\\lib\\py4j-0.10.9.5-src.zip\\py4j\\java_gateway.py\u001b[0m in \u001b[0;36m__call__\u001b[1;34m(self, *args)\u001b[0m\n\u001b[0;32m   1318\u001b[0m             \u001b[0mproto\u001b[0m\u001b[1;33m.\u001b[0m\u001b[0mEND_COMMAND_PART\u001b[0m\u001b[1;33m\u001b[0m\u001b[1;33m\u001b[0m\u001b[0m\n\u001b[0;32m   1319\u001b[0m \u001b[1;33m\u001b[0m\u001b[0m\n\u001b[1;32m-> 1320\u001b[1;33m         \u001b[0manswer\u001b[0m \u001b[1;33m=\u001b[0m \u001b[0mself\u001b[0m\u001b[1;33m.\u001b[0m\u001b[0mgateway_client\u001b[0m\u001b[1;33m.\u001b[0m\u001b[0msend_command\u001b[0m\u001b[1;33m(\u001b[0m\u001b[0mcommand\u001b[0m\u001b[1;33m)\u001b[0m\u001b[1;33m\u001b[0m\u001b[1;33m\u001b[0m\u001b[0m\n\u001b[0m\u001b[0;32m   1321\u001b[0m         return_value = get_return_value(\n\u001b[0;32m   1322\u001b[0m             answer, self.gateway_client, self.target_id, self.name)\n",
      "\u001b[1;32mD:\\Softwares\\Apache_Spark\\spark\\python\\lib\\py4j-0.10.9.5-src.zip\\py4j\\java_gateway.py\u001b[0m in \u001b[0;36msend_command\u001b[1;34m(self, command, retry, binary)\u001b[0m\n\u001b[0;32m   1036\u001b[0m         \u001b[0mconnection\u001b[0m \u001b[1;33m=\u001b[0m \u001b[0mself\u001b[0m\u001b[1;33m.\u001b[0m\u001b[0m_get_connection\u001b[0m\u001b[1;33m(\u001b[0m\u001b[1;33m)\u001b[0m\u001b[1;33m\u001b[0m\u001b[1;33m\u001b[0m\u001b[0m\n\u001b[0;32m   1037\u001b[0m         \u001b[1;32mtry\u001b[0m\u001b[1;33m:\u001b[0m\u001b[1;33m\u001b[0m\u001b[1;33m\u001b[0m\u001b[0m\n\u001b[1;32m-> 1038\u001b[1;33m             \u001b[0mresponse\u001b[0m \u001b[1;33m=\u001b[0m \u001b[0mconnection\u001b[0m\u001b[1;33m.\u001b[0m\u001b[0msend_command\u001b[0m\u001b[1;33m(\u001b[0m\u001b[0mcommand\u001b[0m\u001b[1;33m)\u001b[0m\u001b[1;33m\u001b[0m\u001b[1;33m\u001b[0m\u001b[0m\n\u001b[0m\u001b[0;32m   1039\u001b[0m             \u001b[1;32mif\u001b[0m \u001b[0mbinary\u001b[0m\u001b[1;33m:\u001b[0m\u001b[1;33m\u001b[0m\u001b[1;33m\u001b[0m\u001b[0m\n\u001b[0;32m   1040\u001b[0m                 \u001b[1;32mreturn\u001b[0m \u001b[0mresponse\u001b[0m\u001b[1;33m,\u001b[0m \u001b[0mself\u001b[0m\u001b[1;33m.\u001b[0m\u001b[0m_create_connection_guard\u001b[0m\u001b[1;33m(\u001b[0m\u001b[0mconnection\u001b[0m\u001b[1;33m)\u001b[0m\u001b[1;33m\u001b[0m\u001b[1;33m\u001b[0m\u001b[0m\n",
      "\u001b[1;32mD:\\Softwares\\Apache_Spark\\spark\\python\\lib\\py4j-0.10.9.5-src.zip\\py4j\\clientserver.py\u001b[0m in \u001b[0;36msend_command\u001b[1;34m(self, command)\u001b[0m\n\u001b[0;32m    509\u001b[0m         \u001b[1;32mtry\u001b[0m\u001b[1;33m:\u001b[0m\u001b[1;33m\u001b[0m\u001b[1;33m\u001b[0m\u001b[0m\n\u001b[0;32m    510\u001b[0m             \u001b[1;32mwhile\u001b[0m \u001b[1;32mTrue\u001b[0m\u001b[1;33m:\u001b[0m\u001b[1;33m\u001b[0m\u001b[1;33m\u001b[0m\u001b[0m\n\u001b[1;32m--> 511\u001b[1;33m                 \u001b[0manswer\u001b[0m \u001b[1;33m=\u001b[0m \u001b[0msmart_decode\u001b[0m\u001b[1;33m(\u001b[0m\u001b[0mself\u001b[0m\u001b[1;33m.\u001b[0m\u001b[0mstream\u001b[0m\u001b[1;33m.\u001b[0m\u001b[0mreadline\u001b[0m\u001b[1;33m(\u001b[0m\u001b[1;33m)\u001b[0m\u001b[1;33m[\u001b[0m\u001b[1;33m:\u001b[0m\u001b[1;33m-\u001b[0m\u001b[1;36m1\u001b[0m\u001b[1;33m]\u001b[0m\u001b[1;33m)\u001b[0m\u001b[1;33m\u001b[0m\u001b[1;33m\u001b[0m\u001b[0m\n\u001b[0m\u001b[0;32m    512\u001b[0m                 \u001b[0mlogger\u001b[0m\u001b[1;33m.\u001b[0m\u001b[0mdebug\u001b[0m\u001b[1;33m(\u001b[0m\u001b[1;34m\"Answer received: {0}\"\u001b[0m\u001b[1;33m.\u001b[0m\u001b[0mformat\u001b[0m\u001b[1;33m(\u001b[0m\u001b[0manswer\u001b[0m\u001b[1;33m)\u001b[0m\u001b[1;33m)\u001b[0m\u001b[1;33m\u001b[0m\u001b[1;33m\u001b[0m\u001b[0m\n\u001b[0;32m    513\u001b[0m                 \u001b[1;31m# Happens when a the other end is dead. There might be an empty\u001b[0m\u001b[1;33m\u001b[0m\u001b[1;33m\u001b[0m\u001b[1;33m\u001b[0m\u001b[0m\n",
      "\u001b[1;32mD:\\Softwares\\Anaconda3\\anaconda3\\lib\\socket.py\u001b[0m in \u001b[0;36mreadinto\u001b[1;34m(self, b)\u001b[0m\n\u001b[0;32m    667\u001b[0m         \u001b[1;32mwhile\u001b[0m \u001b[1;32mTrue\u001b[0m\u001b[1;33m:\u001b[0m\u001b[1;33m\u001b[0m\u001b[1;33m\u001b[0m\u001b[0m\n\u001b[0;32m    668\u001b[0m             \u001b[1;32mtry\u001b[0m\u001b[1;33m:\u001b[0m\u001b[1;33m\u001b[0m\u001b[1;33m\u001b[0m\u001b[0m\n\u001b[1;32m--> 669\u001b[1;33m                 \u001b[1;32mreturn\u001b[0m \u001b[0mself\u001b[0m\u001b[1;33m.\u001b[0m\u001b[0m_sock\u001b[0m\u001b[1;33m.\u001b[0m\u001b[0mrecv_into\u001b[0m\u001b[1;33m(\u001b[0m\u001b[0mb\u001b[0m\u001b[1;33m)\u001b[0m\u001b[1;33m\u001b[0m\u001b[1;33m\u001b[0m\u001b[0m\n\u001b[0m\u001b[0;32m    670\u001b[0m             \u001b[1;32mexcept\u001b[0m \u001b[0mtimeout\u001b[0m\u001b[1;33m:\u001b[0m\u001b[1;33m\u001b[0m\u001b[1;33m\u001b[0m\u001b[0m\n\u001b[0;32m    671\u001b[0m                 \u001b[0mself\u001b[0m\u001b[1;33m.\u001b[0m\u001b[0m_timeout_occurred\u001b[0m \u001b[1;33m=\u001b[0m \u001b[1;32mTrue\u001b[0m\u001b[1;33m\u001b[0m\u001b[1;33m\u001b[0m\u001b[0m\n",
      "\u001b[1;31mKeyboardInterrupt\u001b[0m: "
     ]
    }
   ],
   "source": [
    "for i in prod_kv_grp.collect():\n",
    "    category = i[0]\n",
    "    grp = i[1]\n",
    "    grp_rdd = sc.parallelize( grp )\n",
    "    for top_prod in grp_rdd.sortBy( lambda x: x[4], ascending=False ).take(2):\n",
    "        print( top_prod )"
   ]
  },
  {
   "cell_type": "code",
   "execution_count": 44,
   "id": "228751e5-a7cd-4b28-9f58-f9d78acd9118",
   "metadata": {},
   "outputs": [],
   "source": [
    "#slightly better logic\n",
    "\n",
    "top_prod = []\n",
    "\n",
    "for i in prod_kv_grp.collect():\n",
    "    category = i[0]\n",
    "    grp = i[1]\n",
    "    for prod in sorted( grp, key = lambda x: x[4] ,reverse=True )[0:2]:\n",
    "        top_prod.append(prod)\n",
    "\n",
    "prod_category_rdd = sc.parallelize( top_prod )"
   ]
  },
  {
   "cell_type": "code",
   "execution_count": 45,
   "id": "110094e3-0b2d-4652-a339-719b1addf6eb",
   "metadata": {
    "collapsed": true,
    "jupyter": {
     "outputs_hidden": true
    },
    "tags": []
   },
   "outputs": [
    {
     "data": {
      "text/plain": [
       "[(16,\n",
       "  2,\n",
       "  'Riddell Youth 360 Custom Football Helmet',\n",
       "  '',\n",
       "  299.99,\n",
       "  'http://images.acmesports.sports/Riddell+Youth+360+Custom+Football+Helmet'),\n",
       " (11,\n",
       "  2,\n",
       "  'Fitness Gear 300 lb Olympic Weight Set',\n",
       "  '',\n",
       "  209.99,\n",
       "  'http://images.acmesports.sports/Fitness+Gear+300+lb+Olympic+Weight+Set'),\n",
       " (66,\n",
       "  4,\n",
       "  'SOLE F85 Treadmill',\n",
       "  '',\n",
       "  1799.99,\n",
       "  'http://images.acmesports.sports/SOLE+F85+Treadmill'),\n",
       " (60,\n",
       "  4,\n",
       "  'SOLE E25 Elliptical',\n",
       "  '',\n",
       "  999.99,\n",
       "  'http://images.acmesports.sports/SOLE+E25+Elliptical'),\n",
       " (117,\n",
       "  6,\n",
       "  'YETI Tundra 65 Chest Cooler',\n",
       "  '',\n",
       "  399.99,\n",
       "  'http://images.acmesports.sports/YETI+Tundra+65+Chest+Cooler'),\n",
       " (106,\n",
       "  6,\n",
       "  'Teeter Hang Ups NXT-S Inversion Table',\n",
       "  '',\n",
       "  299.99,\n",
       "  'http://images.acmesports.sports/Teeter+Hang+Ups+NXT-S+Inversion+Table'),\n",
       " (162,\n",
       "  8,\n",
       "  'YETI Tundra 65 Chest Cooler',\n",
       "  '',\n",
       "  399.99,\n",
       "  'http://images.acmesports.sports/YETI+Tundra+65+Chest+Cooler'),\n",
       " (153,\n",
       "  8,\n",
       "  'Teeter Hang Ups NXT-S Inversion Table',\n",
       "  '',\n",
       "  299.99,\n",
       "  'http://images.acmesports.sports/Teeter+Hang+Ups+NXT-S+Inversion+Table'),\n",
       " (208,\n",
       "  10,\n",
       "  'SOLE E35 Elliptical',\n",
       "  '',\n",
       "  1999.99,\n",
       "  'http://images.acmesports.sports/SOLE+E35+Elliptical'),\n",
       " (199,\n",
       "  10,\n",
       "  'SOLE F85 Treadmill',\n",
       "  '',\n",
       "  1799.99,\n",
       "  'http://images.acmesports.sports/SOLE+F85+Treadmill'),\n",
       " (262,\n",
       "  12,\n",
       "  'Fitness Gear Pro Utility Bench',\n",
       "  '',\n",
       "  179.99,\n",
       "  'http://images.acmesports.sports/Fitness+Gear+Pro+Utility+Bench'),\n",
       " (255,\n",
       "  12,\n",
       "  \"ASICS Women's GEL-Noosa Tri 9 Running Shoe\",\n",
       "  '',\n",
       "  139.99,\n",
       "  'http://images.acmesports.sports/ASICS+Women%27s+GEL-Noosa+Tri+9+Running+Shoe'),\n",
       " (860,\n",
       "  38,\n",
       "  'Bushnell Pro X7 Jolt Slope Rangefinder',\n",
       "  '',\n",
       "  599.99,\n",
       "  'http://images.acmesports.sports/Bushnell+Pro+X7+Jolt+Slope+Rangefinder'),\n",
       " (300,\n",
       "  38,\n",
       "  'Garmin Forerunner 620 GPS Watch with Heart Ra',\n",
       "  '',\n",
       "  449.99,\n",
       "  'http://images.acmesports.sports/Garmin+Forerunner+620+GPS+Watch+with+Heart+Rate+Monitor'),\n",
       " (346,\n",
       "  16,\n",
       "  'Fitness Gear Pro Half Rack',\n",
       "  '',\n",
       "  349.99,\n",
       "  'http://images.acmesports.sports/Fitness+Gear+Pro+Half+Rack'),\n",
       " (343,\n",
       "  16,\n",
       "  'Teeter Hang Ups NXT-S Inversion Table',\n",
       "  '',\n",
       "  299.99,\n",
       "  'http://images.acmesports.sports/Teeter+Hang+Ups+NXT-S+Inversion+Table'),\n",
       " (382,\n",
       "  18,\n",
       "  \"PUMA Men's evoPOWER 1 Tricks FG Soccer Cleat\",\n",
       "  '',\n",
       "  189.99,\n",
       "  'http://images.acmesports.sports/PUMA+Men%27s+evoPOWER+1+Tricks+FG+Soccer+Cleat'),\n",
       " (390,\n",
       "  18,\n",
       "  \"Under Armour Men's Highlight MC Alter Ego Fla\",\n",
       "  '',\n",
       "  139.99,\n",
       "  'http://images.acmesports.sports/Under+Armour+Men%27s+Highlight+MC+Alter+Ego+Flash+Football...'),\n",
       " (450,\n",
       "  20,\n",
       "  'Garmin Forerunner 220 GPS Watch',\n",
       "  '',\n",
       "  249.99,\n",
       "  'http://images.acmesports.sports/Garmin+Forerunner+220+GPS+Watch'),\n",
       " (452,\n",
       "  20,\n",
       "  'Garmin vivofit Fitness Band with HRM',\n",
       "  '',\n",
       "  169.99,\n",
       "  'http://images.acmesports.sports/Garmin+vivofit+Fitness+Band+with+HRM'),\n",
       " (496,\n",
       "  22,\n",
       "  'SOLE F85 Treadmill',\n",
       "  '',\n",
       "  1799.99,\n",
       "  'http://images.acmesports.sports/SOLE+F85+Treadmill'),\n",
       " (488,\n",
       "  22,\n",
       "  'SOLE E25 Elliptical',\n",
       "  '',\n",
       "  999.99,\n",
       "  'http://images.acmesports.sports/SOLE+E25+Elliptical'),\n",
       " (516,\n",
       "  24,\n",
       "  'Callaway X Hot Laser Rangefinder',\n",
       "  '',\n",
       "  229.99,\n",
       "  'http://images.acmesports.sports/Callaway+X+Hot+Laser+Rangefinder'),\n",
       " (508,\n",
       "  24,\n",
       "  \"PUMA Men's evoPOWER 1 Tricks FG Soccer Cleat\",\n",
       "  '',\n",
       "  189.99,\n",
       "  'http://images.acmesports.sports/PUMA+Men%27s+evoPOWER+1+Tricks+FG+Soccer+Cleat'),\n",
       " (566,\n",
       "  26,\n",
       "  \"adidas Men's Germany Black/Red Away Match Soc\",\n",
       "  '',\n",
       "  90.0,\n",
       "  'http://images.acmesports.sports/adidas+Men%27s+Germany+Black%2FRed+Away+Match+Soccer+Jersey'),\n",
       " (569,\n",
       "  26,\n",
       "  \"adidas Men's Germany Home Soccer Jersey\",\n",
       "  '',\n",
       "  90.0,\n",
       "  'http://images.acmesports.sports/adidas+Men%27s+Germany+Home+Soccer+Jersey'),\n",
       " (663,\n",
       "  30,\n",
       "  '\"Merrell Men\\'s Moab Rover Mid Waterproof Wide \"',\n",
       "  '',\n",
       "  139.99,\n",
       "  'http://images.acmesports.sports/Merrell+Men%27s+Moab+Rover+Mid+Waterproof+Wide+Hiking+Boot'),\n",
       " (664,\n",
       "  30,\n",
       "  '\"Merrell Men\\'s Moab Rover Mid Waterproof Wide \"',\n",
       "  '',\n",
       "  139.99,\n",
       "  'http://images.acmesports.sports/Merrell+Men%27s+Moab+Rover+Mid+Waterproof+Wide+Hiking+Boot'),\n",
       " (694,\n",
       "  32,\n",
       "  \"Callaway Women's Solaire Gems 20-Piece Comple\",\n",
       "  '',\n",
       "  999.99,\n",
       "  'http://images.acmesports.sports/Callaway+Women%27s+Solaire+Gems+20-Piece+Complete+Set+-...'),\n",
       " (695,\n",
       "  32,\n",
       "  \"Callaway Women's Solaire Gems 20-Piece Comple\",\n",
       "  '',\n",
       "  999.99,\n",
       "  'http://images.acmesports.sports/Callaway+Women%27s+Solaire+Gems+20-Piece+Complete+Set+-...'),\n",
       " (743,\n",
       "  34,\n",
       "  'Ogio Race Golf Shoes',\n",
       "  '',\n",
       "  169.99,\n",
       "  'http://images.acmesports.sports/Ogio+Race+Golf+Shoes'),\n",
       " (744,\n",
       "  34,\n",
       "  'Ogio Race Golf Shoes',\n",
       "  '',\n",
       "  169.99,\n",
       "  'http://images.acmesports.sports/Ogio+Race+Golf+Shoes'),\n",
       " (791,\n",
       "  36,\n",
       "  \"Hirzl Women's Trust Feel Golf Glove\",\n",
       "  '',\n",
       "  24.99,\n",
       "  'http://images.acmesports.sports/Hirzl+Women%27s+Trust+Feel+Golf+Glove'),\n",
       " (794,\n",
       "  36,\n",
       "  \"Hirzl Women's Trust Control Golf Glove\",\n",
       "  '',\n",
       "  24.99,\n",
       "  'http://images.acmesports.sports/Hirzl+Women%27s+Trust+Control+Golf+Glove'),\n",
       " (885,\n",
       "  40,\n",
       "  'Team Golf St. Louis Cardinals Putter Grip',\n",
       "  '',\n",
       "  24.99,\n",
       "  'http://images.acmesports.sports/Team+Golf+St.+Louis+Cardinals+Putter+Grip'),\n",
       " (886,\n",
       "  40,\n",
       "  'Team Golf San Francisco Giants Putter Grip',\n",
       "  '',\n",
       "  24.99,\n",
       "  'http://images.acmesports.sports/Team+Golf+San+Francisco+Giants+Putter+Grip'),\n",
       " (933,\n",
       "  42,\n",
       "  'Nike VR_S Covert Driver',\n",
       "  '',\n",
       "  179.99,\n",
       "  'http://images.acmesports.sports/Nike+VR_S+Covert+Driver'),\n",
       " (935,\n",
       "  42,\n",
       "  'TaylorMade RocketBallz Stage 2 Driver',\n",
       "  '',\n",
       "  169.99,\n",
       "  'http://images.acmesports.sports/TaylorMade+RocketBallz+Stage+2+Driver'),\n",
       " (978,\n",
       "  44,\n",
       "  'YETI Tundra 65 Chest Cooler',\n",
       "  '',\n",
       "  399.99,\n",
       "  'http://images.acmesports.sports/YETI+Tundra+65+Chest+Cooler'),\n",
       " (983,\n",
       "  44,\n",
       "  'YETI Roadie 20 Chest Cooler',\n",
       "  '',\n",
       "  249.99,\n",
       "  'http://images.acmesports.sports/YETI+Roadie+20+Chest+Cooler'),\n",
       " (1016,\n",
       "  46,\n",
       "  \"Field & Stream 12' Eagle Run Kayak\",\n",
       "  '',\n",
       "  549.99,\n",
       "  'http://images.acmesports.sports/Field+%26+Stream+12%27+Eagle+Run+Kayak'),\n",
       " (1020,\n",
       "  46,\n",
       "  'Field & Stream Eagle Talon Kayak',\n",
       "  '',\n",
       "  549.99,\n",
       "  'http://images.acmesports.sports/Field+%26+Stream+Eagle+Talon+Kayak'),\n",
       " (1069,\n",
       "  48,\n",
       "  '\"Tiga 11\\'4\"\" Stand-Up Paddle Board\"',\n",
       "  '',\n",
       "  799.99,\n",
       "  'http://images.acmesports.sports/Tiga+11%274%22+Stand-Up+Paddle+Board'),\n",
       " (1067,\n",
       "  48,\n",
       "  \"Field & Stream 12' Eagle Run Kayak\",\n",
       "  '',\n",
       "  549.99,\n",
       "  'http://images.acmesports.sports/Field+%26+Stream+12%27+Eagle+Run+Kayak'),\n",
       " (1116,\n",
       "  50,\n",
       "  \"Majestic Men's 2014 All-Star Game Troy Tulowi\",\n",
       "  '',\n",
       "  130.0,\n",
       "  'http://images.acmesports.sports/Majestic+Men%27s+2014+All-Star+Game+Troy+Tulowitzki+%232...'),\n",
       " (1117,\n",
       "  50,\n",
       "  \"Majestic Men's 2014 All-Star Game Yasiel Puig\",\n",
       "  '',\n",
       "  130.0,\n",
       "  'http://images.acmesports.sports/Majestic+Men%27s+2014+All-Star+Game+Yasiel+Puig+%2366+National...'),\n",
       " (1154,\n",
       "  52,\n",
       "  '\"Reebok Men\\'s Chicago Blackhawks Patrick Kane \"',\n",
       "  '',\n",
       "  170.0,\n",
       "  'http://images.acmesports.sports/Reebok+Men%27s+Chicago+Blackhawks+Patrick+Kane+%2388+Home+Red...'),\n",
       " (1156,\n",
       "  52,\n",
       "  \"Reebok Men's Boston Bruins Patrice Bergeron #\",\n",
       "  '',\n",
       "  170.0,\n",
       "  'http://images.acmesports.sports/Reebok+Men%27s+Boston+Bruins+Patrice+Bergeron+%2337+Home+Black...'),\n",
       " (1214,\n",
       "  54,\n",
       "  'Schutt Youth Vengeance DCT Custom Football He',\n",
       "  '',\n",
       "  299.99,\n",
       "  'http://images.acmesports.sports/Schutt+Youth+Vengeance+DCT+Custom+Football+Helmet+2014'),\n",
       " (1216,\n",
       "  54,\n",
       "  'Schutt Youth Vengeance DCT Custom Football He',\n",
       "  '',\n",
       "  299.99,\n",
       "  'http://images.acmesports.sports/Schutt+Youth+Vengeance+DCT+Custom+Football+Helmet'),\n",
       " (1256,\n",
       "  56,\n",
       "  'adidas Brazuca 2014 Official Match Ball',\n",
       "  '',\n",
       "  159.99,\n",
       "  'http://images.acmesports.sports/adidas+Brazuca+2014+Official+Match+Ball'),\n",
       " (1259,\n",
       "  56,\n",
       "  'adidas Brazuca Final Rio Official Match Ball',\n",
       "  '',\n",
       "  159.99,\n",
       "  'http://images.acmesports.sports/adidas+Brazuca+Final+Rio+Official+Match+Ball'),\n",
       " (1319,\n",
       "  58,\n",
       "  '\"Majestic Men\\'s Authentic Los Angeles Dodgers \"',\n",
       "  '',\n",
       "  241.0,\n",
       "  'http://images.acmesports.sports/Majestic+Men%27s+Authentic+Los+Angeles+Dodgers+Yasiel+Puig...'),\n",
       " (1299,\n",
       "  58,\n",
       "  \"Majestic Men's Authentic New York Yankees Der\",\n",
       "  '',\n",
       "  194.0,\n",
       "  'http://images.acmesports.sports/Majestic+Men%27s+Authentic+New+York+Yankees+Derek+Jeter+%232...'),\n",
       " (40,\n",
       "  3,\n",
       "  'Quik Shade Summit SX170 10 FT. x 10 FT. Canop',\n",
       "  '',\n",
       "  199.99,\n",
       "  'http://images.acmesports.sports/Quik+Shade+Summit+SX170+10+FT.+x+10+FT.+Canopy'),\n",
       " (32,\n",
       "  3,\n",
       "  \"PUMA Men's evoPOWER 1 Tricks FG Soccer Cleat\",\n",
       "  '',\n",
       "  189.99,\n",
       "  'http://images.acmesports.sports/PUMA+Men%27s+evoPOWER+1+Tricks+FG+Soccer+Cleat'),\n",
       " (74,\n",
       "  5,\n",
       "  '\"Goaliath 54\"\" In-Ground Basketball Hoop with P\"',\n",
       "  '',\n",
       "  499.99,\n",
       "  'http://images.acmesports.sports/Goaliath+54%22+In-Ground+Basketball+Hoop+with+Pole+Pad'),\n",
       " (96,\n",
       "  5,\n",
       "  'Teeter Hang Ups NXT-S Inversion Table',\n",
       "  '',\n",
       "  299.99,\n",
       "  'http://images.acmesports.sports/Teeter+Hang+Ups+NXT-S+Inversion+Table'),\n",
       " (127,\n",
       "  7,\n",
       "  'Stiga Master Series ST3100 Competition Indoor',\n",
       "  '',\n",
       "  329.99,\n",
       "  'http://images.acmesports.sports/Stiga+Master+Series+ST3100+Competition+Indoor+Table+Tennis...'),\n",
       " (137,\n",
       "  7,\n",
       "  'Teeter Hang Ups NXT-S Inversion Table',\n",
       "  '',\n",
       "  299.99,\n",
       "  'http://images.acmesports.sports/Teeter+Hang+Ups+NXT-S+Inversion+Table'),\n",
       " (185,\n",
       "  9,\n",
       "  '\"Goaliath 54\"\" In-Ground Basketball Hoop with P\"',\n",
       "  '',\n",
       "  499.99,\n",
       "  'http://images.acmesports.sports/Goaliath+54%22+In-Ground+Basketball+Hoop+with+Pole+Pad'),\n",
       " (181,\n",
       "  9,\n",
       "  'Lifetime Freestyle XL Stand-Up Paddle Board',\n",
       "  '',\n",
       "  399.99,\n",
       "  'http://images.acmesports.sports/Lifetime+Freestyle+XL+Stand-Up+Paddle+Board'),\n",
       " (229,\n",
       "  11,\n",
       "  'Marcy Diamond 9010 Smith Cage',\n",
       "  '',\n",
       "  799.99,\n",
       "  'http://images.acmesports.sports/Marcy+Diamond+9010+Smith+Cage'),\n",
       " (226,\n",
       "  11,\n",
       "  'Bowflex SelectTech 1090 Dumbbells',\n",
       "  '',\n",
       "  599.99,\n",
       "  'http://images.acmesports.sports/Bowflex+SelectTech+1090+Dumbbells'),\n",
       " (268,\n",
       "  13,\n",
       "  'Everlast PowerCore 2 Station Stand and Bag Ki',\n",
       "  '',\n",
       "  199.99,\n",
       "  'http://images.acmesports.sports/Everlast+PowerCore+2+Station+Stand+and+Bag+Kit'),\n",
       " (281,\n",
       "  13,\n",
       "  'Fitness Gear Heavy Bag Stand',\n",
       "  '',\n",
       "  99.99,\n",
       "  'http://images.acmesports.sports/Fitness+Gear+Heavy+Bag+Stand'),\n",
       " (320,\n",
       "  15,\n",
       "  'Manduka PRO Yoga Mat',\n",
       "  '',\n",
       "  100.0,\n",
       "  'http://images.acmesports.sports/Manduka+PRO+Yoga+Mat'),\n",
       " (322,\n",
       "  15,\n",
       "  \"Nike Women's Studio Wrap Three-Part Pack\",\n",
       "  '',\n",
       "  81.99,\n",
       "  'http://images.acmesports.sports/Nike+Women%27s+Studio+Wrap+Three-Part+Pack'),\n",
       " (371,\n",
       "  17,\n",
       "  'Total Gym 1900',\n",
       "  '',\n",
       "  399.99,\n",
       "  'http://images.acmesports.sports/Total+Gym+1900'),\n",
       " (364,\n",
       "  17,\n",
       "  'Total Gym 1400',\n",
       "  '',\n",
       "  299.99,\n",
       "  'http://images.acmesports.sports/Total+Gym+1400'),\n",
       " (407,\n",
       "  19,\n",
       "  \"PUMA Men's evoPOWER 1 Tricks FG Soccer Cleat\",\n",
       "  '',\n",
       "  189.99,\n",
       "  'http://images.acmesports.sports/PUMA+Men%27s+evoPOWER+1+Tricks+FG+Soccer+Cleat'),\n",
       " (425,\n",
       "  19,\n",
       "  \"Nike Men's Air Max 2014 Running Shoe\",\n",
       "  '',\n",
       "  149.99,\n",
       "  'http://images.acmesports.sports/Nike+Men%27s+Air+Max+2014+Running+Shoe'),\n",
       " (458,\n",
       "  21,\n",
       "  '\"Nike Kids\\' Grade School LeBron XI Basketball \"',\n",
       "  '',\n",
       "  139.99,\n",
       "  'http://images.acmesports.sports/Nike+Kids%27+Grade+School+LeBron+XI+Basketball+Shoe'),\n",
       " (453,\n",
       "  21,\n",
       "  \"Nike Kids' Grade School KD VI Basketball Shoe\",\n",
       "  '',\n",
       "  99.99,\n",
       "  'http://images.acmesports.sports/Nike+Kids%27+Grade+School+KD+VI+Basketball+Shoe'),\n",
       " (545,\n",
       "  25,\n",
       "  'Callaway X Hot Laser Rangefinder',\n",
       "  '',\n",
       "  229.99,\n",
       "  'http://images.acmesports.sports/Callaway+X+Hot+Laser+Rangefinder'),\n",
       " (534,\n",
       "  25,\n",
       "  \"PUMA Men's evoPOWER 1 Tricks FG Soccer Cleat\",\n",
       "  '',\n",
       "  189.99,\n",
       "  'http://images.acmesports.sports/PUMA+Men%27s+evoPOWER+1+Tricks+FG+Soccer+Cleat'),\n",
       " (590,\n",
       "  27,\n",
       "  \"adidas Men's Germany Black/Red Away Match Soc\",\n",
       "  '',\n",
       "  90.0,\n",
       "  'http://images.acmesports.sports/adidas+Men%27s+Germany+Black%2FRed+Away+Match+Soccer+Jersey'),\n",
       " (593,\n",
       "  27,\n",
       "  \"adidas Men's Germany Home Soccer Jersey\",\n",
       "  '',\n",
       "  90.0,\n",
       "  'http://images.acmesports.sports/adidas+Men%27s+Germany+Home+Soccer+Jersey'),\n",
       " (601,\n",
       "  41,\n",
       "  'GoPro HERO3+ Black Edition Camera',\n",
       "  '',\n",
       "  399.99,\n",
       "  'http://images.acmesports.sports/GoPro+HERO3%2B+Black+Edition+Camera'),\n",
       " (606,\n",
       "  41,\n",
       "  'Bushnell 2014 Tour V3 Patriot Pack Laser Rang',\n",
       "  '',\n",
       "  299.99,\n",
       "  'http://images.acmesports.sports/Bushnell+2014+Tour+V3+Patriot+Pack+Laser+Rangefinder'),\n",
       " (625,\n",
       "  29,\n",
       "  \"Nike Men's Kobe IX Elite Low Basketball Shoe\",\n",
       "  '',\n",
       "  199.99,\n",
       "  'http://images.acmesports.sports/Nike+Men%27s+Kobe+IX+Elite+Low+Basketball+Shoe'),\n",
       " (629,\n",
       "  29,\n",
       "  \"Nike Men's LeBron XI Low Basketball Shoe\",\n",
       "  '',\n",
       "  169.99,\n",
       "  'http://images.acmesports.sports/Nike+Men%27s+LeBron+XI+Low+Basketball+Shoe'),\n",
       " (676,\n",
       "  31,\n",
       "  'PING G30 Irons - (Graphite) 4-UW',\n",
       "  '',\n",
       "  899.0,\n",
       "  'http://images.acmesports.sports/PING+G30+Irons+-+%28Graphite%29+4-UW'),\n",
       " (675,\n",
       "  31,\n",
       "  'PING G30 Irons - (Steel) 4-UW',\n",
       "  '',\n",
       "  799.0,\n",
       "  'http://images.acmesports.sports/PING+G30+Irons+-+%28Steel%29+4-UW'),\n",
       " (739,\n",
       "  33,\n",
       "  'Nike TW 14 Mesh Golf Shoes',\n",
       "  '',\n",
       "  169.99,\n",
       "  'http://images.acmesports.sports/Nike+TW+14+Mesh+Golf+Shoes'),\n",
       " (740,\n",
       "  33,\n",
       "  'Nike TW 14 Mesh Golf Shoes',\n",
       "  '',\n",
       "  169.99,\n",
       "  'http://images.acmesports.sports/Nike+TW+14+Mesh+Golf+Shoes'),\n",
       " (766,\n",
       "  35,\n",
       "  'Club Glove Last Bag',\n",
       "  '',\n",
       "  299.99,\n",
       "  'http://images.acmesports.sports/Club+Glove+Last+Bag'),\n",
       " (768,\n",
       "  35,\n",
       "  'Titleist Club Glove Travel Cover',\n",
       "  '',\n",
       "  299.99,\n",
       "  'http://images.acmesports.sports/Titleist+Club+Glove+Travel+Cover'),\n",
       " (817,\n",
       "  37,\n",
       "  'Titleist Pro V1 Personalized Golf Balls',\n",
       "  '',\n",
       "  51.99,\n",
       "  'http://images.acmesports.sports/Titleist+Pro+V1+Personalized+Golf+Balls'),\n",
       " (819,\n",
       "  37,\n",
       "  'Titleist Pro V1x Personalized Golf Balls',\n",
       "  '',\n",
       "  51.99,\n",
       "  'http://images.acmesports.sports/Titleist+Pro+V1x+Personalized+Golf+Balls'),\n",
       " (861,\n",
       "  39,\n",
       "  '\"Cobra Junior Kids\\' Complete Set (Height 53\\'\\' \"',\n",
       "  '',\n",
       "  199.99,\n",
       "  'http://images.acmesports.sports/Cobra+Junior+Kids%27+Complete+Set+%28Height+53%27%27+and+above%29'),\n",
       " (862,\n",
       "  39,\n",
       "  '\"Cobra Junior Kids\\' Complete Set (Height 46\\'\\' \"',\n",
       "  '',\n",
       "  179.99,\n",
       "  'http://images.acmesports.sports/Cobra+Junior+Kids%27+Complete+Set+%28Height+46%27%27+-+52%27%27%29'),\n",
       " (953,\n",
       "  43,\n",
       "  'Diamondback Adult Trace Hybrid Bike 2014',\n",
       "  '',\n",
       "  449.99,\n",
       "  'http://images.acmesports.sports/Diamondback+Adult+Trace+Hybrid+Bike+2014'),\n",
       " (944,\n",
       "  43,\n",
       "  'GoPro HERO3+ Black Edition Camera',\n",
       "  '',\n",
       "  399.99,\n",
       "  'http://images.acmesports.sports/GoPro+HERO3%2B+Black+Edition+Camera'),\n",
       " (1009,\n",
       "  45,\n",
       "  'Diamond Fear No Evil Compound Bow Package',\n",
       "  '',\n",
       "  599.99,\n",
       "  'http://images.acmesports.sports/Diamond+Fear+No+Evil+Compound+Bow+Package'),\n",
       " (987,\n",
       "  45,\n",
       "  'GoPro HERO3+ Black Edition Camera',\n",
       "  '',\n",
       "  399.99,\n",
       "  'http://images.acmesports.sports/GoPro+HERO3%2B+Black+Edition+Camera'),\n",
       " (1048,\n",
       "  47,\n",
       "  '\"Spalding Beast 60\"\" Glass Portable Basketball \"',\n",
       "  '',\n",
       "  1099.99,\n",
       "  'http://images.acmesports.sports/Spalding+Beast+60%22+Glass+Portable+Basketball+Hoop'),\n",
       " (1054,\n",
       "  47,\n",
       "  '\"Spalding NBA 54\"\" Glass Portable Basketball Ho\"',\n",
       "  '',\n",
       "  699.99,\n",
       "  'http://images.acmesports.sports/Spalding+NBA+54%22+Glass+Portable+Basketball+Hoop'),\n",
       " (1084,\n",
       "  49,\n",
       "  'Lifetime Freestyle XL Stand-Up Paddle Board',\n",
       "  '',\n",
       "  399.99,\n",
       "  'http://images.acmesports.sports/Lifetime+Freestyle+XL+Stand-Up+Paddle+Board'),\n",
       " (1104,\n",
       "  49,\n",
       "  'GoPro HERO3+ Black Edition Camera',\n",
       "  '',\n",
       "  399.99,\n",
       "  'http://images.acmesports.sports/GoPro+HERO3%2B+Black+Edition+Camera'),\n",
       " (1136,\n",
       "  51,\n",
       "  'Wild Sports Pittsburgh Steelers XL Tailgate B',\n",
       "  '',\n",
       "  219.99,\n",
       "  'http://images.acmesports.sports/Wild+Sports+Pittsburgh+Steelers+XL+Tailgate+Bean+Bag+Toss...'),\n",
       " (1138,\n",
       "  51,\n",
       "  'Wild Sports Green Bay Packers XL Tailgate Bea',\n",
       "  '',\n",
       "  219.99,\n",
       "  'http://images.acmesports.sports/Wild+Sports+Green+Bay+Packers+XL+Tailgate+Bean+Bag+Toss...'),\n",
       " (1182,\n",
       "  53,\n",
       "  \"Nike Men's LeBron XI Basketball Shoe\",\n",
       "  '',\n",
       "  199.99,\n",
       "  'http://images.acmesports.sports/Nike+Men%27s+LeBron+XI+Basketball+Shoe'),\n",
       " (1192,\n",
       "  53,\n",
       "  \"Nike Men's Kobe IX Elite Low Basketball Shoe\",\n",
       "  '',\n",
       "  199.99,\n",
       "  'http://images.acmesports.sports/Nike+Men%27s+Kobe+IX+Elite+Low+Basketball+Shoe'),\n",
       " (1226,\n",
       "  55,\n",
       "  \"adidas Men's New York Red Bulls Navy 2014 Sec\",\n",
       "  '',\n",
       "  85.0,\n",
       "  'http://images.acmesports.sports/adidas+Men%27s+New+York+Red+Bulls+Navy+2014+Secondary+Replica...'),\n",
       " (1227,\n",
       "  55,\n",
       "  '\"adidas Men\\'s Sporting KC Navy 2014 Secondary \"',\n",
       "  '',\n",
       "  85.0,\n",
       "  'http://images.acmesports.sports/adidas+Men%27s+Sporting+KC+Navy+2014+Secondary+Replica+Jersey'),\n",
       " (1279,\n",
       "  57,\n",
       "  \"PUMA Men's evoPOWER 1 Tricks FG Soccer Cleat\",\n",
       "  '',\n",
       "  189.99,\n",
       "  'http://images.acmesports.sports/PUMA+Men%27s+evoPOWER+1+Tricks+FG+Soccer+Cleat'),\n",
       " (1297,\n",
       "  57,\n",
       "  \"PUMA Men's evoSPEED 1.2 Tricks FG Soccer Clea\",\n",
       "  '',\n",
       "  174.99,\n",
       "  'http://images.acmesports.sports/PUMA+Men%27s+evoSPEED+1.2+Tricks+FG+Soccer+Cleat'),\n",
       " (1323,\n",
       "  59,\n",
       "  '\"Nike Men\\'s Home Game Jersey Cleveland Browns \"',\n",
       "  '',\n",
       "  100.0,\n",
       "  'http://images.acmesports.sports/Nike+Men%27s+Home+Game+Jersey+Cleveland+Browns+Johnny+Manziel...'),\n",
       " (1330,\n",
       "  59,\n",
       "  \"Nike Men's Home Game Jersey Denver Broncos Pe\",\n",
       "  '',\n",
       "  100.0,\n",
       "  'http://images.acmesports.sports/Nike+Men%27s+Home+Game+Jersey+Denver+Broncos+Peyton+Manning...')]"
      ]
     },
     "execution_count": 45,
     "metadata": {},
     "output_type": "execute_result"
    }
   ],
   "source": [
    "prod_category_rdd.collect()"
   ]
  },
  {
   "cell_type": "markdown",
   "id": "1a111fe5-00b4-48d0-9ec4-ee09012dbe3e",
   "metadata": {},
   "source": [
    "### Finding top 2 products using '*flatMap()*':\n",
    "<hr>"
   ]
  },
  {
   "cell_type": "code",
   "execution_count": 47,
   "id": "d77f96ec-6ba0-4290-88b3-da89806360d0",
   "metadata": {},
   "outputs": [
    {
     "data": {
      "text/plain": [
       "[(2, <pyspark.resultiterable.ResultIterable at 0x1a06228f280>),\n",
       " (4, <pyspark.resultiterable.ResultIterable at 0x1a06228fd30>),\n",
       " (6, <pyspark.resultiterable.ResultIterable at 0x1a06228f1c0>),\n",
       " (8, <pyspark.resultiterable.ResultIterable at 0x1a06228f820>),\n",
       " (10, <pyspark.resultiterable.ResultIterable at 0x1a06228fa90>),\n",
       " (12, <pyspark.resultiterable.ResultIterable at 0x1a06228f100>),\n",
       " (38, <pyspark.resultiterable.ResultIterable at 0x1a06228fcd0>),\n",
       " (16, <pyspark.resultiterable.ResultIterable at 0x1a06228fca0>),\n",
       " (18, <pyspark.resultiterable.ResultIterable at 0x1a06228f5b0>),\n",
       " (20, <pyspark.resultiterable.ResultIterable at 0x1a06228f250>)]"
      ]
     },
     "execution_count": 47,
     "metadata": {},
     "output_type": "execute_result"
    }
   ],
   "source": [
    "prod_kv_grp.take(10)"
   ]
  },
  {
   "cell_type": "code",
   "execution_count": 53,
   "id": "03df188c-25b4-4f26-8c7a-85bb1d67e1a3",
   "metadata": {
    "tags": []
   },
   "outputs": [],
   "source": [
    "top_2_prod_rdd = prod_kv_grp.flatMap( lambda x: sorted( x[1], key = lambda y: y[4], reverse=True )[0:2] )"
   ]
  },
  {
   "cell_type": "code",
   "execution_count": 54,
   "id": "5a932802-cabb-4461-865f-6405f01c3311",
   "metadata": {},
   "outputs": [
    {
     "data": {
      "text/plain": [
       "[(16,\n",
       "  2,\n",
       "  'Riddell Youth 360 Custom Football Helmet',\n",
       "  '',\n",
       "  299.99,\n",
       "  'http://images.acmesports.sports/Riddell+Youth+360+Custom+Football+Helmet'),\n",
       " (11,\n",
       "  2,\n",
       "  'Fitness Gear 300 lb Olympic Weight Set',\n",
       "  '',\n",
       "  209.99,\n",
       "  'http://images.acmesports.sports/Fitness+Gear+300+lb+Olympic+Weight+Set'),\n",
       " (66,\n",
       "  4,\n",
       "  'SOLE F85 Treadmill',\n",
       "  '',\n",
       "  1799.99,\n",
       "  'http://images.acmesports.sports/SOLE+F85+Treadmill'),\n",
       " (60,\n",
       "  4,\n",
       "  'SOLE E25 Elliptical',\n",
       "  '',\n",
       "  999.99,\n",
       "  'http://images.acmesports.sports/SOLE+E25+Elliptical'),\n",
       " (117,\n",
       "  6,\n",
       "  'YETI Tundra 65 Chest Cooler',\n",
       "  '',\n",
       "  399.99,\n",
       "  'http://images.acmesports.sports/YETI+Tundra+65+Chest+Cooler'),\n",
       " (106,\n",
       "  6,\n",
       "  'Teeter Hang Ups NXT-S Inversion Table',\n",
       "  '',\n",
       "  299.99,\n",
       "  'http://images.acmesports.sports/Teeter+Hang+Ups+NXT-S+Inversion+Table'),\n",
       " (162,\n",
       "  8,\n",
       "  'YETI Tundra 65 Chest Cooler',\n",
       "  '',\n",
       "  399.99,\n",
       "  'http://images.acmesports.sports/YETI+Tundra+65+Chest+Cooler'),\n",
       " (153,\n",
       "  8,\n",
       "  'Teeter Hang Ups NXT-S Inversion Table',\n",
       "  '',\n",
       "  299.99,\n",
       "  'http://images.acmesports.sports/Teeter+Hang+Ups+NXT-S+Inversion+Table'),\n",
       " (208,\n",
       "  10,\n",
       "  'SOLE E35 Elliptical',\n",
       "  '',\n",
       "  1999.99,\n",
       "  'http://images.acmesports.sports/SOLE+E35+Elliptical'),\n",
       " (199,\n",
       "  10,\n",
       "  'SOLE F85 Treadmill',\n",
       "  '',\n",
       "  1799.99,\n",
       "  'http://images.acmesports.sports/SOLE+F85+Treadmill')]"
      ]
     },
     "execution_count": 54,
     "metadata": {},
     "output_type": "execute_result"
    }
   ],
   "source": [
    "top_2_prod_rdd.take(10)"
   ]
  },
  {
   "cell_type": "markdown",
   "id": "d516fcf6-43de-428a-86cc-0fe6c046f265",
   "metadata": {},
   "source": [
    "# Sampling:-\n",
    "<hr><hr>\n",
    "<ul>\n",
    "<li><b><i>sample(withReplacement, fraction, seed=None)</i></b>: Transformation <br>\n",
    "<li><b><i>takeSample()</i></b>: Action\n",
    "</ul>"
   ]
  },
  {
   "cell_type": "code",
   "execution_count": 61,
   "id": "362dcd3a-118a-47c7-980e-43c961bdc94c",
   "metadata": {},
   "outputs": [],
   "source": [
    "full_rdd = sc.parallelize(range(100),4)"
   ]
  },
  {
   "cell_type": "code",
   "execution_count": 62,
   "id": "633de7df-3bfe-4684-91c7-9504966304e6",
   "metadata": {},
   "outputs": [
    {
     "data": {
      "text/plain": [
       "[0, 1, 2, 3, 4, 5, 6, 7, 8, 9, 10, 11, 12, 13, 14, 15, 16, 17, 18, 19]"
      ]
     },
     "execution_count": 62,
     "metadata": {},
     "output_type": "execute_result"
    }
   ],
   "source": [
    "full_rdd.take(20)"
   ]
  },
  {
   "cell_type": "code",
   "execution_count": 63,
   "id": "a9766a48-8ef9-4aaa-b9e3-cda39a26f648",
   "metadata": {},
   "outputs": [
    {
     "data": {
      "text/plain": [
       "4"
      ]
     },
     "execution_count": 63,
     "metadata": {},
     "output_type": "execute_result"
    }
   ],
   "source": [
    "full_rdd.getNumPartitions()"
   ]
  },
  {
   "cell_type": "code",
   "execution_count": 64,
   "id": "451631d5-557a-45ba-82ae-1f917f23f1bb",
   "metadata": {},
   "outputs": [
    {
     "data": {
      "text/plain": [
       "StorageLevel(False, False, False, False, 1)"
      ]
     },
     "execution_count": 64,
     "metadata": {},
     "output_type": "execute_result"
    }
   ],
   "source": [
    "full_rdd.getStorageLevel()"
   ]
  },
  {
   "cell_type": "code",
   "execution_count": 68,
   "id": "7dcbd1d9-a73c-4c96-bacf-caa96ce7f3b8",
   "metadata": {},
   "outputs": [
    {
     "data": {
      "text/plain": [
       "[7,\n",
       " 8,\n",
       " 15,\n",
       " 17,\n",
       " 19,\n",
       " 31,\n",
       " 33,\n",
       " 34,\n",
       " 37,\n",
       " 43,\n",
       " 47,\n",
       " 61,\n",
       " 64,\n",
       " 65,\n",
       " 74,\n",
       " 81,\n",
       " 81,\n",
       " 82,\n",
       " 86,\n",
       " 90,\n",
       " 90,\n",
       " 93,\n",
       " 96,\n",
       " 97,\n",
       " 99]"
      ]
     },
     "execution_count": 68,
     "metadata": {},
     "output_type": "execute_result"
    }
   ],
   "source": [
    "# Elements in the sample may get repeated:-\n",
    "full_rdd.sample(True, 0.2).collect()"
   ]
  },
  {
   "cell_type": "code",
   "execution_count": 71,
   "id": "be8f8c4e-2baf-4ac8-82ba-f23453f49bc0",
   "metadata": {},
   "outputs": [
    {
     "data": {
      "text/plain": [
       "[4, 17, 24, 26, 34, 42, 44, 45, 47, 50, 51, 54, 71, 72, 75]"
      ]
     },
     "execution_count": 71,
     "metadata": {},
     "output_type": "execute_result"
    }
   ],
   "source": [
    "# No elements in the sample will get repeated\n",
    "full_rdd.sample(False,0.15).collect()"
   ]
  },
  {
   "cell_type": "code",
   "execution_count": 76,
   "id": "4b7c387b-0c3a-4c2c-9b77-ca0fcf2ca2f0",
   "metadata": {},
   "outputs": [
    {
     "data": {
      "text/plain": [
       "[0, 3, 17, 19, 21, 25, 33, 40, 53, 54, 60, 72, 82]"
      ]
     },
     "execution_count": 76,
     "metadata": {},
     "output_type": "execute_result"
    }
   ],
   "source": [
    "# Will give same results for each call, due to same fixed seed:\n",
    "full_rdd.sample(False,0.15, seed=21).collect()"
   ]
  },
  {
   "cell_type": "code",
   "execution_count": 86,
   "id": "96e88c1b-d1ce-49e7-acd0-f68e1aba4d85",
   "metadata": {},
   "outputs": [
    {
     "data": {
      "text/plain": [
       "[75, 60, 2, 85, 98, 11, 68, 81, 54, 83, 67, 12, 17, 47, 44, 62, 1, 7, 23, 20]"
      ]
     },
     "execution_count": 86,
     "metadata": {},
     "output_type": "execute_result"
    }
   ],
   "source": [
    "# using takeSample() directly shows result, as it an action.\n",
    "full_rdd.takeSample(False, 20)"
   ]
  },
  {
   "cell_type": "markdown",
   "id": "03481c15-568e-44a7-8972-7afce15eea80",
   "metadata": {},
   "source": [
    "# Set Operations:-\n",
    "<hr><hr>"
   ]
  },
  {
   "cell_type": "markdown",
   "id": "0bf89231-550c-4782-8ef3-fab443f1a673",
   "metadata": {},
   "source": [
    "## 1. <b><i>union()</i></b>:-\n",
    "<hr>"
   ]
  },
  {
   "cell_type": "markdown",
   "id": "3e1119d4-ab3b-47b1-a4d3-5072dab9e95f",
   "metadata": {},
   "source": [
    "#### Usage:-\n",
    "<hr>"
   ]
  },
  {
   "cell_type": "code",
   "execution_count": 90,
   "id": "8f5d286f-00bc-44b3-ad6b-c146739c6500",
   "metadata": {},
   "outputs": [],
   "source": [
    "rdd1 = sc.parallelize(range(50))\n",
    "rdd2 = sc.parallelize(range(30,70))"
   ]
  },
  {
   "cell_type": "code",
   "execution_count": 94,
   "id": "4438a02f-cbd7-4c85-a760-ed9129ee7308",
   "metadata": {},
   "outputs": [
    {
     "name": "stdout",
     "output_type": "stream",
     "text": [
      "[0, 1, 2, 3, 4, 5, 6, 7, 8, 9, 10, 11, 12, 13, 14, 15, 16, 17, 18, 19, 20, 21, 22, 23, 24, 25, 26, 27, 28, 29, 30, 31, 32, 33, 34, 35, 36, 37, 38, 39, 40, 41, 42, 43, 44, 45, 46, 47, 48, 49]\n",
      "[30, 31, 32, 33, 34, 35, 36, 37, 38, 39, 40, 41, 42, 43, 44, 45, 46, 47, 48, 49, 50, 51, 52, 53, 54, 55, 56, 57, 58, 59, 60, 61, 62, 63, 64, 65, 66, 67, 68, 69]\n"
     ]
    }
   ],
   "source": [
    "print( rdd1.collect(), rdd2.collect(), sep='\\n' )"
   ]
  },
  {
   "cell_type": "code",
   "execution_count": 95,
   "id": "acc5ac2c-96de-4e28-bc12-2f7b52e6519a",
   "metadata": {},
   "outputs": [
    {
     "data": {
      "text/plain": [
       "[0,\n",
       " 1,\n",
       " 2,\n",
       " 3,\n",
       " 4,\n",
       " 5,\n",
       " 6,\n",
       " 7,\n",
       " 8,\n",
       " 9,\n",
       " 10,\n",
       " 11,\n",
       " 12,\n",
       " 13,\n",
       " 14,\n",
       " 15,\n",
       " 16,\n",
       " 17,\n",
       " 18,\n",
       " 19,\n",
       " 20,\n",
       " 21,\n",
       " 22,\n",
       " 23,\n",
       " 24,\n",
       " 25,\n",
       " 26,\n",
       " 27,\n",
       " 28,\n",
       " 29,\n",
       " 30,\n",
       " 31,\n",
       " 32,\n",
       " 33,\n",
       " 34,\n",
       " 35,\n",
       " 36,\n",
       " 37,\n",
       " 38,\n",
       " 39,\n",
       " 40,\n",
       " 41,\n",
       " 42,\n",
       " 43,\n",
       " 44,\n",
       " 45,\n",
       " 46,\n",
       " 47,\n",
       " 48,\n",
       " 49,\n",
       " 30,\n",
       " 31,\n",
       " 32,\n",
       " 33,\n",
       " 34,\n",
       " 35,\n",
       " 36,\n",
       " 37,\n",
       " 38,\n",
       " 39,\n",
       " 40,\n",
       " 41,\n",
       " 42,\n",
       " 43,\n",
       " 44,\n",
       " 45,\n",
       " 46,\n",
       " 47,\n",
       " 48,\n",
       " 49,\n",
       " 50,\n",
       " 51,\n",
       " 52,\n",
       " 53,\n",
       " 54,\n",
       " 55,\n",
       " 56,\n",
       " 57,\n",
       " 58,\n",
       " 59,\n",
       " 60,\n",
       " 61,\n",
       " 62,\n",
       " 63,\n",
       " 64,\n",
       " 65,\n",
       " 66,\n",
       " 67,\n",
       " 68,\n",
       " 69]"
      ]
     },
     "execution_count": 95,
     "metadata": {},
     "output_type": "execute_result"
    }
   ],
   "source": [
    "rdd1.union(rdd2).collect()"
   ]
  },
  {
   "cell_type": "code",
   "execution_count": 98,
   "id": "6209cfa9-de4e-4d18-ab03-bec6ae580078",
   "metadata": {
    "collapsed": true,
    "jupyter": {
     "outputs_hidden": true
    },
    "tags": []
   },
   "outputs": [
    {
     "data": {
      "text/plain": [
       "[0,\n",
       " 16,\n",
       " 32,\n",
       " 48,\n",
       " 64,\n",
       " 1,\n",
       " 17,\n",
       " 33,\n",
       " 49,\n",
       " 65,\n",
       " 2,\n",
       " 18,\n",
       " 34,\n",
       " 50,\n",
       " 66,\n",
       " 3,\n",
       " 19,\n",
       " 35,\n",
       " 51,\n",
       " 67,\n",
       " 4,\n",
       " 20,\n",
       " 36,\n",
       " 52,\n",
       " 68,\n",
       " 5,\n",
       " 21,\n",
       " 37,\n",
       " 53,\n",
       " 69,\n",
       " 6,\n",
       " 22,\n",
       " 38,\n",
       " 54,\n",
       " 7,\n",
       " 23,\n",
       " 39,\n",
       " 55,\n",
       " 8,\n",
       " 24,\n",
       " 40,\n",
       " 56,\n",
       " 9,\n",
       " 25,\n",
       " 41,\n",
       " 57,\n",
       " 10,\n",
       " 26,\n",
       " 42,\n",
       " 58,\n",
       " 11,\n",
       " 27,\n",
       " 43,\n",
       " 59,\n",
       " 12,\n",
       " 28,\n",
       " 44,\n",
       " 60,\n",
       " 13,\n",
       " 29,\n",
       " 45,\n",
       " 61,\n",
       " 14,\n",
       " 30,\n",
       " 46,\n",
       " 62,\n",
       " 15,\n",
       " 31,\n",
       " 47,\n",
       " 63]"
      ]
     },
     "execution_count": 98,
     "metadata": {},
     "output_type": "execute_result"
    }
   ],
   "source": [
    "rdd1.union(rdd2).distinct().collect()"
   ]
  },
  {
   "cell_type": "markdown",
   "id": "075ad48d-73e4-4a89-986c-80078e1d7a53",
   "metadata": {},
   "source": [
    "### Number of customers placed orders in July or in August months:-\n",
    "<hr>"
   ]
  },
  {
   "cell_type": "code",
   "execution_count": 102,
   "id": "583077e2-c5c3-4547-9b62-c8ac1b698a26",
   "metadata": {},
   "outputs": [],
   "source": [
    "ord_rdd = sc.textFile('data/orders.csv').map( lambda x: x.split(\",\") ).map( lambda x: ( int(x[1].split('-')[1]) ,x ) )"
   ]
  },
  {
   "cell_type": "code",
   "execution_count": 103,
   "id": "f9fae2b7-d11b-489e-bf10-4fa3a4761e9c",
   "metadata": {},
   "outputs": [
    {
     "data": {
      "text/plain": [
       "[(7, ['1', '2013-07-25 00:00:00.0', '11599', 'CLOSED']),\n",
       " (7, ['2', '2013-07-25 00:00:00.0', '256', 'PENDING_PAYMENT']),\n",
       " (7, ['3', '2013-07-25 00:00:00.0', '12111', 'COMPLETE']),\n",
       " (7, ['4', '2013-07-25 00:00:00.0', '8827', 'CLOSED']),\n",
       " (7, ['5', '2013-07-25 00:00:00.0', '11318', 'COMPLETE'])]"
      ]
     },
     "execution_count": 103,
     "metadata": {},
     "output_type": "execute_result"
    }
   ],
   "source": [
    "ord_rdd.take(5)"
   ]
  },
  {
   "cell_type": "code",
   "execution_count": 104,
   "id": "c183ae9c-85be-4e7c-9ef8-866b98e0139b",
   "metadata": {},
   "outputs": [],
   "source": [
    "jul_aug_ord = ord_rdd.filter( lambda x: x[0] in (7,8) )"
   ]
  },
  {
   "cell_type": "code",
   "execution_count": 109,
   "id": "68251933-6506-408d-9cf5-89a741a38d48",
   "metadata": {
    "tags": []
   },
   "outputs": [
    {
     "data": {
      "text/plain": [
       "[(7, ['1', '2013-07-25 00:00:00.0', '11599', 'CLOSED']),\n",
       " (7, ['2', '2013-07-25 00:00:00.0', '256', 'PENDING_PAYMENT']),\n",
       " (7, ['3', '2013-07-25 00:00:00.0', '12111', 'COMPLETE']),\n",
       " (7, ['4', '2013-07-25 00:00:00.0', '8827', 'CLOSED']),\n",
       " (7, ['5', '2013-07-25 00:00:00.0', '11318', 'COMPLETE']),\n",
       " (7, ['6', '2013-07-25 00:00:00.0', '7130', 'COMPLETE']),\n",
       " (7, ['7', '2013-07-25 00:00:00.0', '4530', 'COMPLETE']),\n",
       " (7, ['8', '2013-07-25 00:00:00.0', '2911', 'PROCESSING']),\n",
       " (7, ['9', '2013-07-25 00:00:00.0', '5657', 'PENDING_PAYMENT']),\n",
       " (7, ['10', '2013-07-25 00:00:00.0', '5648', 'PENDING_PAYMENT'])]"
      ]
     },
     "execution_count": 109,
     "metadata": {},
     "output_type": "execute_result"
    }
   ],
   "source": [
    "jul_aug_ord.take(10)"
   ]
  },
  {
   "cell_type": "code",
   "execution_count": 114,
   "id": "345f4fed-9aac-49c7-a744-ee34b51e05c8",
   "metadata": {},
   "outputs": [
    {
     "name": "stdout",
     "output_type": "stream",
     "text": [
      "Number of customers ordered in July and August: 7633\n"
     ]
    }
   ],
   "source": [
    "num_cust = jul_aug_ord.map( lambda x: int( x[1][2] ) ).distinct().count()\n",
    "print(\"Number of customers ordered in July and August:\",num_cust)"
   ]
  },
  {
   "cell_type": "markdown",
   "id": "f996356e-6c66-412c-9486-0e996a7cb05c",
   "metadata": {},
   "source": [
    "### <b><i>subtract()</i></b>:-\n",
    "Performs Left Anti-Join\n",
    "<hr>"
   ]
  },
  {
   "cell_type": "code",
   "execution_count": 116,
   "id": "667b0af5-6740-4052-a250-1ada4ec3303c",
   "metadata": {},
   "outputs": [
    {
     "name": "stdout",
     "output_type": "stream",
     "text": [
      "[0, 1, 2, 3, 4, 5, 6, 7, 8, 9, 10, 11, 12, 13, 14, 15, 16, 17, 18, 19, 20, 21, 22, 23, 24, 25, 26, 27, 28, 29, 30, 31, 32, 33, 34, 35, 36, 37, 38, 39, 40, 41, 42, 43, 44, 45, 46, 47, 48, 49]\n",
      "\n",
      "[30, 31, 32, 33, 34, 35, 36, 37, 38, 39, 40, 41, 42, 43, 44, 45, 46, 47, 48, 49, 50, 51, 52, 53, 54, 55, 56, 57, 58, 59, 60, 61, 62, 63, 64, 65, 66, 67, 68, 69]\n"
     ]
    }
   ],
   "source": [
    "print( rdd1.collect(), rdd2.collect(), sep='\\n\\n' )"
   ]
  },
  {
   "cell_type": "code",
   "execution_count": 118,
   "id": "7c077fa2-0982-4bca-ba9d-8a3142a6d442",
   "metadata": {},
   "outputs": [
    {
     "name": "stdout",
     "output_type": "stream",
     "text": [
      "[0, 1, 2, 3, 4, 5, 6, 7, 8, 9, 10, 11, 12, 13, 14, 15, 16, 17, 18, 19, 20, 21, 22, 23, 24, 25, 26, 27, 28, 29]\n"
     ]
    }
   ],
   "source": [
    "print( sorted( rdd1.subtract( rdd2 ).collect() ) )"
   ]
  },
  {
   "cell_type": "code",
   "execution_count": null,
   "id": "4b5346ba-8f1f-4d3a-8436-237b1225ca38",
   "metadata": {},
   "outputs": [],
   "source": [
    "print( sorted( rdd2.subtract( rdd1 ).collect() ) )"
   ]
  },
  {
   "cell_type": "code",
   "execution_count": null,
   "id": "ce3963fc-518e-4b7b-bbd4-46c16a2d45cb",
   "metadata": {},
   "outputs": [],
   "source": []
  }
 ],
 "metadata": {
  "kernelspec": {
   "display_name": "Python 3 (ipykernel)",
   "language": "python",
   "name": "python3"
  },
  "language_info": {
   "codemirror_mode": {
    "name": "ipython",
    "version": 3
   },
   "file_extension": ".py",
   "mimetype": "text/x-python",
   "name": "python",
   "nbconvert_exporter": "python",
   "pygments_lexer": "ipython3",
   "version": "3.8.8"
  }
 },
 "nbformat": 4,
 "nbformat_minor": 5
}
