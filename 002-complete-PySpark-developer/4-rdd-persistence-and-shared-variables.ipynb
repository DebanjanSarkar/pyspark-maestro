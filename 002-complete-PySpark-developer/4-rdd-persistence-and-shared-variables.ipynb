{
 "cells": [
  {
   "cell_type": "code",
   "execution_count": 1,
   "id": "751731e8-7c93-4fd7-a992-6dd713481fff",
   "metadata": {},
   "outputs": [],
   "source": [
    "import findspark\n",
    "\n",
    "findspark.init()"
   ]
  },
  {
   "cell_type": "code",
   "execution_count": 2,
   "id": "84b5952d-1e1a-4be8-966b-65f4989aea67",
   "metadata": {},
   "outputs": [],
   "source": [
    "import pyspark\n",
    "from pyspark.sql import SparkSession\n",
    "\n",
    "spark = SparkSession.builder.appName(\"RDD persistence and shared variable\").getOrCreate()\n",
    "sc = spark.sparkContext"
   ]
  },
  {
   "cell_type": "code",
   "execution_count": 3,
   "id": "8ece725f-5f9f-405c-a010-11bce60607a0",
   "metadata": {},
   "outputs": [
    {
     "name": "stdout",
     "output_type": "stream",
     "text": [
      "8\n"
     ]
    }
   ],
   "source": [
    "print( sc.defaultParallelism )"
   ]
  },
  {
   "cell_type": "code",
   "execution_count": 4,
   "id": "a38aa563-3bb7-4947-85a7-4bd779402e93",
   "metadata": {},
   "outputs": [
    {
     "data": {
      "text/plain": [
       "'200'"
      ]
     },
     "execution_count": 4,
     "metadata": {},
     "output_type": "execute_result"
    }
   ],
   "source": [
    "spark.conf.get(\"spark.sql.shuffle.partitions\")"
   ]
  },
  {
   "cell_type": "code",
   "execution_count": 5,
   "id": "391c87c9-db83-4252-a701-0885f208dafc",
   "metadata": {},
   "outputs": [],
   "source": [
    "spark.conf.set(\"spark.sql.shuffle.partitions\", sc.defaultParallelism)"
   ]
  },
  {
   "cell_type": "code",
   "execution_count": 6,
   "id": "a211305d-7f2c-40d9-be4c-ebe47f019a73",
   "metadata": {},
   "outputs": [
    {
     "data": {
      "text/plain": [
       "'8'"
      ]
     },
     "execution_count": 6,
     "metadata": {},
     "output_type": "execute_result"
    }
   ],
   "source": [
    "spark.conf.get(\"spark.sql.shuffle.partitions\")"
   ]
  },
  {
   "cell_type": "code",
   "execution_count": 7,
   "id": "24a20683-4ef7-424f-9dcd-1b0ee6468a31",
   "metadata": {},
   "outputs": [],
   "source": [
    "input_data = [\n",
    "    (\"James\", \"Smith\", \"USA\", \"mon\"),\n",
    "    (\"Michael\", \"Rose\", \"USA\", \"tue\"),\n",
    "    (\"Robert\", \"Williams\", \"USA\", \"sun\"),\n",
    "    (\"Maria\", \"Jones\", \"USA\", \"tue\")\n",
    "]\n",
    "\n",
    "weekday = {\"sun\": \"Sunday\", \"mon\": \"Monday\", \"tue\": \"Tuesday\"}"
   ]
  },
  {
   "cell_type": "code",
   "execution_count": 8,
   "id": "04a8ea35-6346-4912-83f3-eff270cfdea5",
   "metadata": {},
   "outputs": [],
   "source": [
    "input_rdd = sc.parallelize(input_data)"
   ]
  },
  {
   "cell_type": "code",
   "execution_count": 9,
   "id": "65560338-a2e1-471d-8e13-d96ffe7d0383",
   "metadata": {},
   "outputs": [
    {
     "data": {
      "text/plain": [
       "8"
      ]
     },
     "execution_count": 9,
     "metadata": {},
     "output_type": "execute_result"
    }
   ],
   "source": [
    "input_rdd.getNumPartitions()"
   ]
  },
  {
   "cell_type": "code",
   "execution_count": 10,
   "id": "72318e64-b20a-4303-b662-72e96cb0849d",
   "metadata": {},
   "outputs": [
    {
     "data": {
      "text/plain": [
       "[[],\n",
       " [('James', 'Smith', 'USA', 'mon')],\n",
       " [],\n",
       " [('Michael', 'Rose', 'USA', 'tue')],\n",
       " [],\n",
       " [('Robert', 'Williams', 'USA', 'sun')],\n",
       " [],\n",
       " [('Maria', 'Jones', 'USA', 'tue')]]"
      ]
     },
     "execution_count": 10,
     "metadata": {},
     "output_type": "execute_result"
    }
   ],
   "source": [
    "input_rdd.glom().collect()"
   ]
  },
  {
   "cell_type": "code",
   "execution_count": 11,
   "id": "57cc7905-736c-4e82-b37c-0f07562002f9",
   "metadata": {},
   "outputs": [],
   "source": [
    "input_rdd = input_rdd.coalesce(4)"
   ]
  },
  {
   "cell_type": "code",
   "execution_count": 12,
   "id": "d5f0f38f-46e0-4d85-96c7-43f74f9b4dff",
   "metadata": {},
   "outputs": [
    {
     "data": {
      "text/plain": [
       "4"
      ]
     },
     "execution_count": 12,
     "metadata": {},
     "output_type": "execute_result"
    }
   ],
   "source": [
    "input_rdd.getNumPartitions()"
   ]
  },
  {
   "cell_type": "code",
   "execution_count": 13,
   "id": "03b49a8c-af91-449d-b893-e984dc0c8005",
   "metadata": {},
   "outputs": [
    {
     "data": {
      "text/plain": [
       "[[('James', 'Smith', 'USA', 'mon')],\n",
       " [('Michael', 'Rose', 'USA', 'tue')],\n",
       " [('Robert', 'Williams', 'USA', 'sun')],\n",
       " [('Maria', 'Jones', 'USA', 'tue')]]"
      ]
     },
     "execution_count": 13,
     "metadata": {},
     "output_type": "execute_result"
    }
   ],
   "source": [
    "input_rdd.glom().collect()"
   ]
  },
  {
   "cell_type": "code",
   "execution_count": 20,
   "id": "14ddd812-61b0-4f4d-a349-8fdc8c758101",
   "metadata": {},
   "outputs": [
    {
     "data": {
      "text/plain": [
       "StorageLevel(False, False, False, False, 1)"
      ]
     },
     "execution_count": 20,
     "metadata": {},
     "output_type": "execute_result"
    }
   ],
   "source": [
    "input_rdd.getStorageLevel()"
   ]
  },
  {
   "cell_type": "code",
   "execution_count": 21,
   "id": "1851ae2f-b75f-4d21-9142-a690d812359b",
   "metadata": {},
   "outputs": [
    {
     "data": {
      "text/plain": [
       "CoalescedRDD[5] at coalesce at NativeMethodAccessorImpl.java:0"
      ]
     },
     "execution_count": 21,
     "metadata": {},
     "output_type": "execute_result"
    }
   ],
   "source": [
    "input_rdd.persist( pyspark.StorageLevel(True,True,False,False,2) )"
   ]
  },
  {
   "cell_type": "code",
   "execution_count": 22,
   "id": "17c95c66-f5a6-42fd-ba4b-2497b05b0223",
   "metadata": {},
   "outputs": [
    {
     "data": {
      "text/plain": [
       "StorageLevel(True, True, False, False, 2)"
      ]
     },
     "execution_count": 22,
     "metadata": {},
     "output_type": "execute_result"
    }
   ],
   "source": [
    "input_rdd.getStorageLevel()"
   ]
  },
  {
   "cell_type": "code",
   "execution_count": 24,
   "id": "b81408da-4b28-473f-a3a9-c9ade6b8ac34",
   "metadata": {},
   "outputs": [],
   "source": [
    "## Setting the broadcast variable\n",
    "\n",
    "bc_weekday = sc.broadcast(weekday)"
   ]
  },
  {
   "cell_type": "code",
   "execution_count": 25,
   "id": "23298cfa-3899-4cf4-8565-3c9452a0eb9c",
   "metadata": {},
   "outputs": [
    {
     "data": {
      "text/plain": [
       "{'sun': 'Sunday', 'mon': 'Monday', 'tue': 'Tuesday'}"
      ]
     },
     "execution_count": 25,
     "metadata": {},
     "output_type": "execute_result"
    }
   ],
   "source": [
    "bc_weekday.value"
   ]
  },
  {
   "cell_type": "code",
   "execution_count": 26,
   "id": "c57e755a-1e80-409a-88dc-ca742c9a4902",
   "metadata": {},
   "outputs": [
    {
     "data": {
      "text/plain": [
       "dict"
      ]
     },
     "execution_count": 26,
     "metadata": {},
     "output_type": "execute_result"
    }
   ],
   "source": [
    "type( bc_weekday.value )"
   ]
  },
  {
   "cell_type": "markdown",
   "id": "b5776c1a-8f1d-4620-99a3-25ba7fa8c658",
   "metadata": {},
   "source": [
    "### Replace the shorthand of weekdays in the RDD, to their full form, using broadcast variable created above\n",
    "<hr>"
   ]
  },
  {
   "cell_type": "code",
   "execution_count": 27,
   "id": "96cf5839-8293-47f5-8b9d-8f9f0d8f7b30",
   "metadata": {},
   "outputs": [
    {
     "data": {
      "text/plain": [
       "[('James', 'Smith', 'USA', 'mon'),\n",
       " ('Michael', 'Rose', 'USA', 'tue'),\n",
       " ('Robert', 'Williams', 'USA', 'sun'),\n",
       " ('Maria', 'Jones', 'USA', 'tue')]"
      ]
     },
     "execution_count": 27,
     "metadata": {},
     "output_type": "execute_result"
    }
   ],
   "source": [
    "input_rdd.collect()"
   ]
  },
  {
   "cell_type": "code",
   "execution_count": 28,
   "id": "1fa843f8-dd50-45dc-a74e-be7ce08ffc0f",
   "metadata": {},
   "outputs": [],
   "source": [
    "fullday_rdd = input_rdd.map( lambda x: (x[0], x[1], x[2], bc_weekday.value[x[3]] ) )"
   ]
  },
  {
   "cell_type": "code",
   "execution_count": 29,
   "id": "243e4a67-e40f-4c2a-99c4-80dd77118247",
   "metadata": {},
   "outputs": [
    {
     "data": {
      "text/plain": [
       "[('James', 'Smith', 'USA', 'Monday'),\n",
       " ('Michael', 'Rose', 'USA', 'Tuesday'),\n",
       " ('Robert', 'Williams', 'USA', 'Sunday'),\n",
       " ('Maria', 'Jones', 'USA', 'Tuesday')]"
      ]
     },
     "execution_count": 29,
     "metadata": {},
     "output_type": "execute_result"
    }
   ],
   "source": [
    "fullday_rdd.collect()"
   ]
  },
  {
   "cell_type": "code",
   "execution_count": 30,
   "id": "a0fb0215-18b2-4039-b620-e7ade3762975",
   "metadata": {},
   "outputs": [
    {
     "data": {
      "text/plain": [
       "StorageLevel(False, False, False, False, 1)"
      ]
     },
     "execution_count": 30,
     "metadata": {},
     "output_type": "execute_result"
    }
   ],
   "source": [
    "fullday_rdd.getStorageLevel()"
   ]
  },
  {
   "cell_type": "code",
   "execution_count": 31,
   "id": "7c884ab4-9e8f-4a40-8e6a-e02f2fd57061",
   "metadata": {},
   "outputs": [
    {
     "data": {
      "text/plain": [
       "4"
      ]
     },
     "execution_count": 31,
     "metadata": {},
     "output_type": "execute_result"
    }
   ],
   "source": [
    "fullday_rdd.getNumPartitions()"
   ]
  },
  {
   "cell_type": "code",
   "execution_count": null,
   "id": "89bcaf18-ec09-4083-be41-0b573a782998",
   "metadata": {},
   "outputs": [],
   "source": []
  }
 ],
 "metadata": {
  "kernelspec": {
   "display_name": "Python 3 (ipykernel)",
   "language": "python",
   "name": "python3"
  },
  "language_info": {
   "codemirror_mode": {
    "name": "ipython",
    "version": 3
   },
   "file_extension": ".py",
   "mimetype": "text/x-python",
   "name": "python",
   "nbconvert_exporter": "python",
   "pygments_lexer": "ipython3",
   "version": "3.8.8"
  }
 },
 "nbformat": 4,
 "nbformat_minor": 5
}
