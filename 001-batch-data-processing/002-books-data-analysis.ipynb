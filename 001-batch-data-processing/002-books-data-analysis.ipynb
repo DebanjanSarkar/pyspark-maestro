{
 "cells": [
  {
   "cell_type": "markdown",
   "id": "010e2ee7-49e6-4c07-bf2f-ddd130f56301",
   "metadata": {},
   "source": [
    "<h1><center>Analysing Books Data</center></h1>\n",
    "<hr><hr>"
   ]
  },
  {
   "cell_type": "code",
   "execution_count": 1,
   "id": "3bd61d9c-1f47-4227-a915-43dacf3571d9",
   "metadata": {},
   "outputs": [],
   "source": [
    "import findspark\n",
    "findspark.init()"
   ]
  },
  {
   "cell_type": "code",
   "execution_count": 2,
   "id": "d0e5f819-7bfe-4c5d-b85c-5cce698af307",
   "metadata": {},
   "outputs": [
    {
     "data": {
      "text/html": [
       "\n",
       "            <div>\n",
       "                <p><b>SparkSession - in-memory</b></p>\n",
       "                \n",
       "        <div>\n",
       "            <p><b>SparkContext</b></p>\n",
       "\n",
       "            <p><a href=\"http://169.254.250.122:4040\">Spark UI</a></p>\n",
       "\n",
       "            <dl>\n",
       "              <dt>Version</dt>\n",
       "                <dd><code>v3.3.2</code></dd>\n",
       "              <dt>Master</dt>\n",
       "                <dd><code>local[*]</code></dd>\n",
       "              <dt>AppName</dt>\n",
       "                <dd><code>002</code></dd>\n",
       "            </dl>\n",
       "        </div>\n",
       "        \n",
       "            </div>\n",
       "        "
      ],
      "text/plain": [
       "<pyspark.sql.session.SparkSession at 0x243bde21a20>"
      ]
     },
     "execution_count": 2,
     "metadata": {},
     "output_type": "execute_result"
    }
   ],
   "source": [
    "from pyspark.sql import SparkSession\n",
    "\n",
    "spark = SparkSession.builder.master(\"local[*]\").appName(\"002\").getOrCreate()\n",
    "spark"
   ]
  },
  {
   "cell_type": "code",
   "execution_count": 3,
   "id": "86b654fe-e988-4a36-be0f-d2f8241f5fea",
   "metadata": {},
   "outputs": [
    {
     "data": {
      "text/html": [
       "\n",
       "        <div>\n",
       "            <p><b>SparkContext</b></p>\n",
       "\n",
       "            <p><a href=\"http://169.254.250.122:4040\">Spark UI</a></p>\n",
       "\n",
       "            <dl>\n",
       "              <dt>Version</dt>\n",
       "                <dd><code>v3.3.2</code></dd>\n",
       "              <dt>Master</dt>\n",
       "                <dd><code>local[*]</code></dd>\n",
       "              <dt>AppName</dt>\n",
       "                <dd><code>002</code></dd>\n",
       "            </dl>\n",
       "        </div>\n",
       "        "
      ],
      "text/plain": [
       "<SparkContext master=local[*] appName=002>"
      ]
     },
     "execution_count": 3,
     "metadata": {},
     "output_type": "execute_result"
    }
   ],
   "source": [
    "sc = spark.sparkContext\n",
    "sc"
   ]
  },
  {
   "cell_type": "code",
   "execution_count": 4,
   "id": "b62c3de3-1345-4b1c-b439-1de7b8006dc7",
   "metadata": {},
   "outputs": [
    {
     "data": {
      "text/plain": [
       "8"
      ]
     },
     "execution_count": 4,
     "metadata": {},
     "output_type": "execute_result"
    }
   ],
   "source": [
    "sc.defaultParallelism"
   ]
  },
  {
   "cell_type": "code",
   "execution_count": 17,
   "id": "2b239efd-4844-4d66-a1cd-923a26234192",
   "metadata": {},
   "outputs": [],
   "source": [
    "from pyspark.sql import functions as F"
   ]
  },
  {
   "cell_type": "code",
   "execution_count": 14,
   "id": "582451b7-014c-43d2-9f2a-911a51c92112",
   "metadata": {},
   "outputs": [],
   "source": [
    "books_df = spark.read.csv(\"./data/books_data.csv\", header=True, inferSchema=True)"
   ]
  },
  {
   "cell_type": "markdown",
   "id": "ad8d0079-ecb3-422e-b055-bc7822bf2c86",
   "metadata": {},
   "source": [
    "## Getting a single value out of a Dataframe:\n",
    "----------------------------------------------"
   ]
  },
  {
   "cell_type": "code",
   "execution_count": 30,
   "id": "d8197a36-03db-4d67-816d-fcd02cf9ea29",
   "metadata": {},
   "outputs": [
    {
     "data": {
      "text/plain": [
       "272"
      ]
     },
     "execution_count": 30,
     "metadata": {},
     "output_type": "execute_result"
    }
   ],
   "source": [
    "books_df.rdd.collect()[0].books_count"
   ]
  },
  {
   "cell_type": "markdown",
   "id": "2ea9681e-b8ef-4aeb-8e5b-e0a4f50f2593",
   "metadata": {},
   "source": [
    "### 1. Total numbers of records:\n",
    "----------------------------------"
   ]
  },
  {
   "cell_type": "code",
   "execution_count": 19,
   "id": "5263baa3-0bc2-4211-bea3-8297efa43394",
   "metadata": {},
   "outputs": [
    {
     "data": {
      "text/plain": [
       "10000"
      ]
     },
     "execution_count": 19,
     "metadata": {},
     "output_type": "execute_result"
    }
   ],
   "source": [
    "books_df.count()"
   ]
  },
  {
   "cell_type": "markdown",
   "id": "3e5d742d-f4cf-4209-b092-3cbdb74dfa5c",
   "metadata": {},
   "source": [
    "### 2. Schema of dataframe:\n",
    "-------------------------------"
   ]
  },
  {
   "cell_type": "code",
   "execution_count": 9,
   "id": "71bd4716-0f32-493f-89ca-d7b8648ec4ec",
   "metadata": {
    "scrolled": true
   },
   "outputs": [
    {
     "name": "stdout",
     "output_type": "stream",
     "text": [
      "root\n",
      " |-- book_id: integer (nullable = true)\n",
      " |-- goodreads_book_id: integer (nullable = true)\n",
      " |-- best_book_id: integer (nullable = true)\n",
      " |-- work_id: integer (nullable = true)\n",
      " |-- books_count: integer (nullable = true)\n",
      " |-- isbn: string (nullable = true)\n",
      " |-- isbn13: double (nullable = true)\n",
      " |-- authors: string (nullable = true)\n",
      " |-- original_publication_year: integer (nullable = true)\n",
      " |-- original_title: string (nullable = true)\n",
      " |-- title: string (nullable = true)\n",
      " |-- language_code: string (nullable = true)\n",
      " |-- average_rating: string (nullable = true)\n",
      " |-- ratings_count: string (nullable = true)\n",
      " |-- work_ratings_count: string (nullable = true)\n",
      " |-- work_text_reviews_count: string (nullable = true)\n",
      " |-- ratings_1: double (nullable = true)\n",
      " |-- ratings_2: integer (nullable = true)\n",
      " |-- ratings_3: integer (nullable = true)\n",
      " |-- ratings_4: integer (nullable = true)\n",
      " |-- ratings_5: integer (nullable = true)\n",
      " |-- image_url: string (nullable = true)\n",
      " |-- small_image_url: string (nullable = true)\n",
      "\n"
     ]
    }
   ],
   "source": [
    "books_df.printSchema()"
   ]
  },
  {
   "cell_type": "code",
   "execution_count": 11,
   "id": "8dc944cd-e7db-42b0-81ba-9c2ce0035b4b",
   "metadata": {
    "scrolled": true
   },
   "outputs": [
    {
     "data": {
      "text/plain": [
       "[('book_id', 'int'),\n",
       " ('goodreads_book_id', 'int'),\n",
       " ('best_book_id', 'int'),\n",
       " ('work_id', 'int'),\n",
       " ('books_count', 'int'),\n",
       " ('isbn', 'string'),\n",
       " ('isbn13', 'double'),\n",
       " ('authors', 'string'),\n",
       " ('original_publication_year', 'int'),\n",
       " ('original_title', 'string'),\n",
       " ('title', 'string'),\n",
       " ('language_code', 'string'),\n",
       " ('average_rating', 'string'),\n",
       " ('ratings_count', 'string'),\n",
       " ('work_ratings_count', 'string'),\n",
       " ('work_text_reviews_count', 'string'),\n",
       " ('ratings_1', 'double'),\n",
       " ('ratings_2', 'int'),\n",
       " ('ratings_3', 'int'),\n",
       " ('ratings_4', 'int'),\n",
       " ('ratings_5', 'int'),\n",
       " ('image_url', 'string'),\n",
       " ('small_image_url', 'string')]"
      ]
     },
     "execution_count": 11,
     "metadata": {},
     "output_type": "execute_result"
    }
   ],
   "source": [
    "books_df.dtypes"
   ]
  },
  {
   "cell_type": "code",
   "execution_count": 10,
   "id": "294689f1-cfe8-4482-886d-ed71550c9a7b",
   "metadata": {
    "scrolled": true
   },
   "outputs": [
    {
     "name": "stdout",
     "output_type": "stream",
     "text": [
      "+-------+-----------------+------------+--------+-----------+----------+-------+--------------------+-------------------------+--------------------+--------------------+-------------+--------------+-------------+------------------+-----------------------+---------+---------+---------+---------+---------+--------------------+--------------------+\n",
      "|book_id|goodreads_book_id|best_book_id| work_id|books_count|      isbn| isbn13|             authors|original_publication_year|      original_title|               title|language_code|average_rating|ratings_count|work_ratings_count|work_text_reviews_count|ratings_1|ratings_2|ratings_3|ratings_4|ratings_5|           image_url|     small_image_url|\n",
      "+-------+-----------------+------------+--------+-----------+----------+-------+--------------------+-------------------------+--------------------+--------------------+-------------+--------------+-------------+------------------+-----------------------+---------+---------+---------+---------+---------+--------------------+--------------------+\n",
      "|      1|          2767052|     2767052| 2792775|        272| 439023483|9.78E12|     Suzanne Collins|                     2008|    The Hunger Games|The Hunger Games ...|          eng|          4.34|      4780653|           4942365|                 155254|  66715.0|   127936|   560092|  1481305|  2706317|https://images.gr...|https://images.gr...|\n",
      "|      2|                3|           3| 4640799|        491| 439554934|9.78E12|J.K. Rowling, Mar...|                     1997|Harry Potter and ...|Harry Potter and ...|          eng|          4.44|      4602479|           4800065|                  75867|  75504.0|   101676|   455024|  1156318|  3011543|https://images.gr...|https://images.gr...|\n",
      "|      3|            41865|       41865| 3212258|        226| 316015849|9.78E12|     Stephenie Meyer|                     2005|            Twilight|Twilight (Twiligh...|        en-US|          3.57|      3866839|           3916824|                  95009| 456191.0|   436802|   793319|   875073|  1355439|https://images.gr...|https://images.gr...|\n",
      "|      4|             2657|        2657| 3275794|        487|  61120081|9.78E12|          Harper Lee|                     1960|To Kill a Mocking...|To Kill a Mocking...|          eng|          4.25|      3198671|           3340896|                  72586|  60427.0|   117415|   446835|  1001952|  1714267|https://images.gr...|https://images.gr...|\n",
      "|      5|             4671|        4671|  245494|       1356| 743273567|9.78E12| F. Scott Fitzgerald|                     1925|    The Great Gatsby|    The Great Gatsby|          eng|          3.89|      2683664|           2773745|                  51992|  86236.0|   197621|   606158|   936012|   947718|https://images.gr...|https://images.gr...|\n",
      "|      6|         11870085|    11870085|16827462|        226| 525478817|9.78E12|          John Green|                     2012|The Fault in Our ...|The Fault in Our ...|          eng|          4.26|      2346404|           2478609|                 140739|  47994.0|    92723|   327550|   698471|  1311871|https://images.gr...|https://images.gr...|\n",
      "|      7|             5907|        5907| 1540236|        969| 618260307|9.78E12|      J.R.R. Tolkien|                     1937|The Hobbit or The...|          The Hobbit|        en-US|          4.25|      2071616|           2196809|                  37653|  46023.0|    76784|   288649|   665635|  1119718|https://images.gr...|https://images.gr...|\n",
      "|      8|             5107|        5107| 3036731|        360| 316769177|9.78E12|       J.D. Salinger|                     1951|The Catcher in th...|The Catcher in th...|          eng|          3.79|      2044241|           2120637|                  44920| 109383.0|   185520|   455042|   661516|   709176|https://images.gr...|https://images.gr...|\n",
      "|      9|              960|         960| 3338963|        311|1416524797|9.78E12|           Dan Brown|                     2000|    Angels & Demons |Angels & Demons  ...|        en-CA|          3.85|      2001311|           2078754|                  25112|  77841.0|   145740|   458429|   716569|   680175|https://images.gr...|https://images.gr...|\n",
      "|     10|             1885|        1885| 3060926|       3455| 679783261|9.78E12|         Jane Austen|                     1813| Pride and Prejudice| Pride and Prejudice|          eng|          4.24|      2035490|           2191465|                  49152|  54700.0|    86485|   284852|   609755|  1155673|https://images.gr...|https://images.gr...|\n",
      "|     11|            77203|       77203| 3295919|        283|1594480001|9.78E12|     Khaled Hosseini|                     2003|    The Kite Runner |     The Kite Runner|          eng|          4.26|      1813044|           1878095|                  59730|  34288.0|    59980|   226062|   628174|   929591|https://images.gr...|https://images.gr...|\n",
      "|     12|         13335037|    13335037|13155899|        210|  62024035|9.78E12|       Veronica Roth|                     2011|           Divergent|Divergent (Diverg...|          eng|          4.24|      1903563|           2216814|                 101023|  36315.0|    82870|   310297|   673028|  1114304|https://images.gr...|https://images.gr...|\n",
      "|     13|             5470|        5470|  153313|        995| 451524934|9.78E12|George Orwell, Er...|                     1949|Nineteen Eighty-Four|                1984|          eng|          4.14|      1956832|           2053394|                  45518|  41845.0|    86425|   324874|   692021|   908229|https://images.gr...|https://images.gr...|\n",
      "|     14|             7613|        7613| 2207778|        896| 452284244|9.78E12|       George Orwell|                     1945|Animal Farm: A Fa...|         Animal Farm|          eng|          3.87|      1881700|           1982987|                  35472|  66854.0|   135147|   433432|   698642|   648912|https://images.gr...|https://images.gr...|\n",
      "|     15|            48855|       48855| 3532896|        710| 553296981|9.78E12|Anne Frank, Elean...|                     1947|Het Achterhuis: D...|The Diary of a Yo...|          eng|           4.1|      1972666|           2024493|                  20825|  45225.0|    91270|   355756|   656870|   875372|https://images.gr...|https://images.gr...|\n",
      "|     16|          2429135|     2429135| 1708725|        274| 307269752|9.78E12|Stieg Larsson, Re...|                     2005|Män som hatar kvi...|The Girl with the...|          eng|          4.11|      1808403|           1929834|                  62543|  54835.0|    86051|   285413|   667485|   836050|https://images.gr...|https://images.gr...|\n",
      "|     17|          6148028|     6148028| 6171458|        201| 439023491|9.78E12|     Suzanne Collins|                     2009|       Catching Fire|Catching Fire (Th...|          eng|           4.3|      1831039|           1988079|                  88538|  10492.0|    48030|   262010|   687238|   980309|https://images.gr...|https://images.gr...|\n",
      "|     18|                5|           5| 2402163|        376|043965548X|9.78E12|J.K. Rowling, Mar...|                     1999|Harry Potter and ...|Harry Potter and ...|          eng|          4.53|      1832823|           1969375|                  36099|   6716.0|    20413|   166129|   509447|  1266670|https://images.gr...|https://images.gr...|\n",
      "|     19|               34|          34| 3204327|        566| 618346252|9.78E12|      J.R.R. Tolkien|                     1954| The Fellowship o...|The Fellowship of...|          eng|          4.34|      1766803|           1832541|                  15333|  38031.0|    55862|   202332|   493922|  1042394|https://images.gr...|https://images.gr...|\n",
      "|     20|          7260188|     7260188| 8812783|        239| 439023513|9.78E12|     Suzanne Collins|                     2010|          Mockingjay|Mockingjay (The H...|          eng|          4.03|      1719760|           1870748|                  96274|  30144.0|   110498|   373060|   618271|   738775|https://images.gr...|https://images.gr...|\n",
      "+-------+-----------------+------------+--------+-----------+----------+-------+--------------------+-------------------------+--------------------+--------------------+-------------+--------------+-------------+------------------+-----------------------+---------+---------+---------+---------+---------+--------------------+--------------------+\n",
      "only showing top 20 rows\n",
      "\n"
     ]
    }
   ],
   "source": [
    "books_df.show()"
   ]
  },
  {
   "cell_type": "markdown",
   "id": "9a284bf0-10b4-46b1-9de1-1a300e3ac576",
   "metadata": {},
   "source": [
    "### 3. Selecting sub-dataframe of some columns:"
   ]
  },
  {
   "cell_type": "code",
   "execution_count": 15,
   "id": "649c7553-d27b-4372-bf7b-ab65dd0c72a8",
   "metadata": {},
   "outputs": [
    {
     "name": "stdout",
     "output_type": "stream",
     "text": [
      "+-------+-----------------------------------------------------------+-----------+-------------+--------------+-------------+\n",
      "|book_id|title                                                      |books_count|language_code|average_rating|ratings_count|\n",
      "+-------+-----------------------------------------------------------+-----------+-------------+--------------+-------------+\n",
      "|1      |The Hunger Games (The Hunger Games, #1)                    |272        |eng          |4.34          |4780653      |\n",
      "|2      |Harry Potter and the Sorcerer's Stone (Harry Potter, #1)   |491        |eng          |4.44          |4602479      |\n",
      "|3      |Twilight (Twilight, #1)                                    |226        |en-US        |3.57          |3866839      |\n",
      "|4      |To Kill a Mockingbird                                      |487        |eng          |4.25          |3198671      |\n",
      "|5      |The Great Gatsby                                           |1356       |eng          |3.89          |2683664      |\n",
      "|6      |The Fault in Our Stars                                     |226        |eng          |4.26          |2346404      |\n",
      "|7      |The Hobbit                                                 |969        |en-US        |4.25          |2071616      |\n",
      "|8      |The Catcher in the Rye                                     |360        |eng          |3.79          |2044241      |\n",
      "|9      |Angels & Demons  (Robert Langdon, #1)                      |311        |en-CA        |3.85          |2001311      |\n",
      "|10     |Pride and Prejudice                                        |3455       |eng          |4.24          |2035490      |\n",
      "|11     |The Kite Runner                                            |283        |eng          |4.26          |1813044      |\n",
      "|12     |Divergent (Divergent, #1)                                  |210        |eng          |4.24          |1903563      |\n",
      "|13     |1984                                                       |995        |eng          |4.14          |1956832      |\n",
      "|14     |Animal Farm                                                |896        |eng          |3.87          |1881700      |\n",
      "|15     |The Diary of a Young Girl                                  |710        |eng          |4.1           |1972666      |\n",
      "|16     |The Girl with the Dragon Tattoo (Millennium, #1)           |274        |eng          |4.11          |1808403      |\n",
      "|17     |Catching Fire (The Hunger Games, #2)                       |201        |eng          |4.3           |1831039      |\n",
      "|18     |Harry Potter and the Prisoner of Azkaban (Harry Potter, #3)|376        |eng          |4.53          |1832823      |\n",
      "|19     |The Fellowship of the Ring (The Lord of the Rings, #1)     |566        |eng          |4.34          |1766803      |\n",
      "|20     |Mockingjay (The Hunger Games, #3)                          |239        |eng          |4.03          |1719760      |\n",
      "+-------+-----------------------------------------------------------+-----------+-------------+--------------+-------------+\n",
      "only showing top 20 rows\n",
      "\n"
     ]
    }
   ],
   "source": [
    "books_df2 = books_df.select( [\"book_id\", \"title\", \"books_count\", \"language_code\", \"average_rating\", \"ratings_count\"] )\n",
    "books_df2.show( truncate=False )"
   ]
  },
  {
   "cell_type": "markdown",
   "id": "3e0a2df0-43c2-414e-bc6c-d473e5ef337e",
   "metadata": {},
   "source": [
    "### 4. Dictinct language_code:\n",
    "--------"
   ]
  },
  {
   "cell_type": "code",
   "execution_count": 16,
   "id": "459d927a-51c7-4efc-9687-3a478bf68254",
   "metadata": {},
   "outputs": [
    {
     "name": "stdout",
     "output_type": "stream",
     "text": [
      "+-------------+\n",
      "|language_code|\n",
      "+-------------+\n",
      "|          fre|\n",
      "|           en|\n",
      "|        en-CA|\n",
      "|          rus|\n",
      "|          ind|\n",
      "|          per|\n",
      "|         null|\n",
      "|          nor|\n",
      "|          pol|\n",
      "|          vie|\n",
      "|          ara|\n",
      "|          por|\n",
      "|          swe|\n",
      "|          mul|\n",
      "|          eng|\n",
      "|          jpn|\n",
      "|           nl|\n",
      "|          dan|\n",
      "|        en-GB|\n",
      "|          fil|\n",
      "+-------------+\n",
      "only showing top 20 rows\n",
      "\n"
     ]
    }
   ],
   "source": [
    "books_df2.select(\"language_code\").distinct().show()"
   ]
  },
  {
   "cell_type": "markdown",
   "id": "5e3e7371-a056-4cbe-82cf-eb74fdadb683",
   "metadata": {},
   "source": [
    "### 5. Number of books per language_code, and siplaying in descending order of count:\n",
    "---------------------------------------------------------------------------------------"
   ]
  },
  {
   "cell_type": "code",
   "execution_count": 31,
   "id": "3745a289-67aa-49c9-8cf2-7a11516294a0",
   "metadata": {},
   "outputs": [
    {
     "name": "stdout",
     "output_type": "stream",
     "text": [
      "+--------------------+------------+\n",
      "|       language_code|num_of_books|\n",
      "+--------------------+------------+\n",
      "|                 eng|        6340|\n",
      "|               en-US|        2069|\n",
      "|                null|        1084|\n",
      "|               en-GB|         257|\n",
      "|                 ara|          64|\n",
      "|               en-CA|          58|\n",
      "|                 fre|          25|\n",
      "|                 ind|          21|\n",
      "|                 spa|          20|\n",
      "|                 ger|          13|\n",
      "|                 per|           7|\n",
      "|                 jpn|           7|\n",
      "|                 pol|           6|\n",
      "|                 por|           6|\n",
      "|                  en|           4|\n",
      "|                 nor|           3|\n",
      "|                 dan|           3|\n",
      "|                 ita|           2|\n",
      "|                 fil|           2|\n",
      "|                 rus|           1|\n",
      "|                 vie|           1|\n",
      "|                  nl|           1|\n",
      "|                 swe|           1|\n",
      "|                 tur|           1|\n",
      "|Bloody Jack (Bloo...|           1|\n",
      "|                 mul|           1|\n",
      "|                 rum|           1|\n",
      "| \"\"A Man Named Da...|           1|\n",
      "+--------------------+------------+\n",
      "\n"
     ]
    }
   ],
   "source": [
    "books_per_language_df = books_df2.groupBy(\"language_code\").agg( F.count(\"title\").alias(\"num_of_books\") ).orderBy( F.col(\"num_of_books\").desc() )\n",
    "books_per_language_df.show(50)"
   ]
  },
  {
   "cell_type": "code",
   "execution_count": 33,
   "id": "b2753123-7a44-4ff9-b489-b0b56ad30f8f",
   "metadata": {},
   "outputs": [
    {
     "name": "stdout",
     "output_type": "stream",
     "text": [
      "+-------------+------------+\n",
      "|language_code|num_of_books|\n",
      "+-------------+------------+\n",
      "|          eng|        6340|\n",
      "|        en-US|        2069|\n",
      "|        en-GB|         257|\n",
      "|          ara|          64|\n",
      "|        en-CA|          58|\n",
      "|          fre|          25|\n",
      "|          ind|          21|\n",
      "|          spa|          20|\n",
      "|          ger|          13|\n",
      "|          jpn|           7|\n",
      "|          per|           7|\n",
      "|          pol|           6|\n",
      "|          por|           6|\n",
      "|           en|           4|\n",
      "|          nor|           3|\n",
      "|          dan|           3|\n",
      "|          ita|           2|\n",
      "|          fil|           2|\n",
      "|          rus|           1|\n",
      "|          vie|           1|\n",
      "|          tur|           1|\n",
      "|          swe|           1|\n",
      "|          rum|           1|\n",
      "|          mul|           1|\n",
      "|           nl|           1|\n",
      "+-------------+------------+\n",
      "\n"
     ]
    }
   ],
   "source": [
    "books_per_language_df.filter( F.length(F.col(\"language_code\")) <= 5 ).show(50)"
   ]
  },
  {
   "cell_type": "markdown",
   "id": "d288bba1-fb0e-4dc8-b8e3-a38cbc62b8cb",
   "metadata": {},
   "source": [
    "### 6. Filtering records that have valid float values in \"average_rating\" column:\n",
    "-------------------------------------------------------------------------------------"
   ]
  },
  {
   "cell_type": "code",
   "execution_count": 37,
   "id": "7405411e-fc54-4831-bf4d-0df286634f2a",
   "metadata": {},
   "outputs": [
    {
     "name": "stdout",
     "output_type": "stream",
     "text": [
      "+-------+--------------------+-----------+--------------------+--------------------+-----------------+\n",
      "|book_id|               title|books_count|       language_code|      average_rating|    ratings_count|\n",
      "+-------+--------------------+-----------+--------------------+--------------------+-----------------+\n",
      "|   9265|    \"\"The Lost Boy\"\"|          7| \"\"A Man Named Da...|\"My Story: \"\"A Ch...| \"\"The Lost Boy\"\"|\n",
      "|   1793|One Night at the ...|         25|                 eng|                2.47|            40718|\n",
      "|   3550|     The Almost Moon|         63|                 eng|                2.67|            28299|\n",
      "|   8007|The Finkler Question|         45|                 eng|                2.76|             9627|\n",
      "|   4009|        Four Blondes|         57|                null|                 2.8|            22278|\n",
      "|   9021|                Lost|         18|                 eng|                 2.8|            12534|\n",
      "|   8166|Among the Ten Tho...|         19|                 eng|                2.84|             8458|\n",
      "|   8874|            Tell-All|         37|                null|                2.84|             9733|\n",
      "|   4283|Revenge Wears Pra...|         59|               en-US|                2.84|            19210|\n",
      "|   4614|The Emperor's Chi...|         45|                null|                2.93|            15362|\n",
      "|   8960|       The Red House|         36|                 eng|                2.93|            10621|\n",
      "|   4282|               Pygmy|         50|                 eng|                2.96|            21242|\n",
      "|   1409|The 3 Mistakes of...|         18|                 eng|                2.97|            53331|\n",
      "|   9523|       Beautiful You|         47|                 eng|                2.98|             8507|\n",
      "|   7450|           ظل الأفعى|         11|                 ara|                   3|             8299|\n",
      "|   3146|            Adultery|         88|                 eng|                3.01|            24797|\n",
      "|   6474|Seating Arrangements|         22|                null|                3.02|            14243|\n",
      "|   6636|       The Gathering|         59|                 eng|                3.04|            14292|\n",
      "|   8466|          ليتها تقرأ|          2|                 ara|                3.04|             9807|\n",
      "|   7980|Primates of Park ...|         20|                 eng|                3.05|             9210|\n",
      "+-------+--------------------+-----------+--------------------+--------------------+-----------------+\n",
      "only showing top 20 rows\n",
      "\n"
     ]
    }
   ],
   "source": [
    "books_df2.orderBy( \"average_rating\" ).show()\n",
    "# books_df2.orderBy( F.col(\"average_rating\").desc() ).show()"
   ]
  },
  {
   "cell_type": "code",
   "execution_count": 38,
   "id": "8dcb8819-9122-4742-9172-c2401f305ad7",
   "metadata": {},
   "outputs": [],
   "source": [
    "from pyspark.sql.types import BooleanType\n",
    "# To the col parameter of this UDF, values of each column will be passed one-by-one of all the records\n",
    "\n",
    "@F.udf( returnType=BooleanType() )\n",
    "def whether_valid_float( col ):\n",
    "    col_value = str(col)\n",
    "    digits = \"1234567890\"\n",
    "    if col_value[0] in digits and col_value[-1] in digits:\n",
    "        return True\n",
    "    else:\n",
    "        return False"
   ]
  },
  {
   "cell_type": "code",
   "execution_count": 41,
   "id": "4e2d7f9d-6a19-416d-b32a-9f6decfd3686",
   "metadata": {},
   "outputs": [
    {
     "name": "stdout",
     "output_type": "stream",
     "text": [
      "+-------+--------------------+-----------+-------------+--------------+-------------+\n",
      "|book_id|               title|books_count|language_code|average_rating|ratings_count|\n",
      "+-------+--------------------+-----------+-------------+--------------+-------------+\n",
      "|   3628|The Complete Calv...|         14|          eng|          4.82|        28900|\n",
      "|   3275|Harry Potter Boxe...|         11|          eng|          4.77|        33220|\n",
      "|    862|Words of Radiance...|         34|          eng|          4.77|        73572|\n",
      "|   7947|     ESV Study Bible|         96|          eng|          4.76|         8953|\n",
      "|   8854|Mark of the Lion ...|          6|        en-US|          4.76|         9081|\n",
      "|   4483|It's a Magical Wo...|         21|          eng|          4.75|        22351|\n",
      "|    422|Harry Potter Boxs...|         76|          eng|          4.74|       190050|\n",
      "|   6361|There's Treasure ...|         22|          eng|          4.74|        16766|\n",
      "|   3753|Harry Potter Coll...|          6|          eng|          4.73|        24618|\n",
      "|   6590|The Authoritative...|         21|          eng|          4.73|        16087|\n",
      "|   6920|The Indispensable...|         19|          eng|          4.73|        14597|\n",
      "|   1308|A Court of Mist a...|         39|          eng|          4.72|       108384|\n",
      "|   9566|Attack of the Der...|         24|          eng|          4.72|         9713|\n",
      "|   8978|The Revenge of th...|         20|         null|          4.71|        11503|\n",
      "|   7254|Homicidal Psycho ...|         23|          eng|          4.71|        14113|\n",
      "|   9076|Preach My Gospel:...|          5|         null|          4.71|         9891|\n",
      "|   5207|The Days Are Just...|         28|        en-US|          4.68|        19143|\n",
      "|   5919|Life Application ...|        183|          eng|          4.67|        13614|\n",
      "|   9141|The Way of Kings,...|         19|          eng|          4.67|         9792|\n",
      "|   2101|The Harry Potter ...|         17|          eng|          4.66|        43929|\n",
      "+-------+--------------------+-----------+-------------+--------------+-------------+\n",
      "only showing top 20 rows\n",
      "\n"
     ]
    }
   ],
   "source": [
    "# books_df2.filter( whether_valid_float( F.col(\"average_rating\") ) ).orderBy( \"average_rating\" ).show()\n",
    "books_df2.filter( whether_valid_float( \"average_rating\" ) ).orderBy( F.col(\"average_rating\").desc() ).show()"
   ]
  },
  {
   "cell_type": "markdown",
   "id": "f4820929-a7f8-45f6-9f97-139435cab61f",
   "metadata": {},
   "source": [
    "### 7. Adding \"movie_value\" tag to be \"good\", \"average\", \"bad\" based on average rating:\n",
    "-------------------------------------------------------------------------------------------\n",
    "- average_rating >= 4 = \"good\"\n",
    "- average_rating >= 3 and average_rating <4 = \"average\"\n",
    "- average_rating < 3 = \"bad\""
   ]
  },
  {
   "cell_type": "code",
   "execution_count": 46,
   "id": "9a14e2cb-06f5-47e4-a5f4-9d9b9615fc4f",
   "metadata": {},
   "outputs": [],
   "source": [
    "from pyspark.sql.types import DoubleType"
   ]
  },
  {
   "cell_type": "code",
   "execution_count": 47,
   "id": "41c20dce-6d55-4b56-8e44-043c12be9d96",
   "metadata": {},
   "outputs": [
    {
     "name": "stdout",
     "output_type": "stream",
     "text": [
      "+--------------+------+\n",
      "|average_rating|rating|\n",
      "+--------------+------+\n",
      "|          2.47|  2.47|\n",
      "|          2.67|  2.67|\n",
      "|          2.76|  2.76|\n",
      "|           2.8|   2.8|\n",
      "|           2.8|   2.8|\n",
      "|          2.84|  2.84|\n",
      "|          2.84|  2.84|\n",
      "|          2.84|  2.84|\n",
      "|          2.93|  2.93|\n",
      "|          2.93|  2.93|\n",
      "|          2.96|  2.96|\n",
      "|          2.97|  2.97|\n",
      "|          2.98|  2.98|\n",
      "|             3|   3.0|\n",
      "|          3.01|  3.01|\n",
      "|          3.02|  3.02|\n",
      "|          3.04|  3.04|\n",
      "|          3.04|  3.04|\n",
      "|          3.05|  3.05|\n",
      "|          3.07|  3.07|\n",
      "+--------------+------+\n",
      "only showing top 20 rows\n",
      "\n"
     ]
    }
   ],
   "source": [
    "ratings_df = books_df2.select( \"average_rating\" ).filter( whether_valid_float(\"average_rating\") ).withColumn( \"rating\", F.col(\"average_rating\").cast(DoubleType()) )\n",
    "ratings_df.orderBy(\"average_rating\").show()"
   ]
  },
  {
   "cell_type": "code",
   "execution_count": 48,
   "id": "7d35415e-a091-474c-a981-f8fc66c0802e",
   "metadata": {},
   "outputs": [
    {
     "name": "stdout",
     "output_type": "stream",
     "text": [
      "root\n",
      " |-- average_rating: string (nullable = true)\n",
      " |-- rating: double (nullable = true)\n",
      "\n"
     ]
    }
   ],
   "source": [
    "ratings_df.printSchema()"
   ]
  },
  {
   "cell_type": "code",
   "execution_count": 54,
   "id": "3fa50aa0-d9a4-4289-95c8-089a9c99d210",
   "metadata": {},
   "outputs": [
    {
     "name": "stdout",
     "output_type": "stream",
     "text": [
      "+--------------+------+-----------+\n",
      "|average_rating|rating|movie_value|\n",
      "+--------------+------+-----------+\n",
      "|          2.47|  2.47|        bad|\n",
      "|          2.67|  2.67|        bad|\n",
      "|          2.76|  2.76|        bad|\n",
      "|           2.8|   2.8|        bad|\n",
      "|           2.8|   2.8|        bad|\n",
      "|          2.84|  2.84|        bad|\n",
      "|          2.84|  2.84|        bad|\n",
      "|          2.84|  2.84|        bad|\n",
      "|          2.93|  2.93|        bad|\n",
      "|          2.93|  2.93|        bad|\n",
      "|          2.96|  2.96|        bad|\n",
      "|          2.97|  2.97|        bad|\n",
      "|          2.98|  2.98|        bad|\n",
      "|             3|   3.0|    average|\n",
      "|          3.01|  3.01|    average|\n",
      "|          3.02|  3.02|    average|\n",
      "|          3.04|  3.04|    average|\n",
      "|          3.04|  3.04|    average|\n",
      "|          3.05|  3.05|    average|\n",
      "|          3.07|  3.07|    average|\n",
      "+--------------+------+-----------+\n",
      "only showing top 20 rows\n",
      "\n"
     ]
    }
   ],
   "source": [
    "ratings_df.withColumn( \n",
    "    \"movie_value\",\n",
    "    F.when( F.col(\"rating\") >= 4, \"good\" ).when( (F.col(\"rating\") < 4) & (F.col(\"rating\") >= 3), \"average\" ).otherwise( \"bad\" )\n",
    ").orderBy( F.col(\"rating\").asc() ).show()"
   ]
  },
  {
   "cell_type": "code",
   "execution_count": null,
   "id": "3e44baf2-10fa-46c0-8920-abbb3eb0971c",
   "metadata": {},
   "outputs": [],
   "source": []
  }
 ],
 "metadata": {
  "kernelspec": {
   "display_name": "Python 3 (ipykernel)",
   "language": "python",
   "name": "python3"
  },
  "language_info": {
   "codemirror_mode": {
    "name": "ipython",
    "version": 3
   },
   "file_extension": ".py",
   "mimetype": "text/x-python",
   "name": "python",
   "nbconvert_exporter": "python",
   "pygments_lexer": "ipython3",
   "version": "3.10.6"
  }
 },
 "nbformat": 4,
 "nbformat_minor": 5
}
