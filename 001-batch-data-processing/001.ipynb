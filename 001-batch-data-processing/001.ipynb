{
 "cells": [
  {
   "cell_type": "markdown",
   "id": "d0df797d-8149-49ac-b4b1-e7c947551f5e",
   "metadata": {},
   "source": [
    "## Modifying Spark-related Environment variables:\n",
    "------------------------------------------------------"
   ]
  },
  {
   "cell_type": "code",
   "execution_count": 1,
   "id": "1b5c6a3f-0014-4df1-9315-c811ed1d968d",
   "metadata": {},
   "outputs": [
    {
     "data": {
      "text/plain": [
       "True"
      ]
     },
     "execution_count": 1,
     "metadata": {},
     "output_type": "execute_result"
    }
   ],
   "source": [
    "import os\n",
    "from dotenv import load_dotenv\n",
    "\n",
    "load_dotenv()"
   ]
  },
  {
   "cell_type": "code",
   "execution_count": 2,
   "id": "6ff52163-875f-452a-9d67-446157ffb96c",
   "metadata": {},
   "outputs": [
    {
     "name": "stdout",
     "output_type": "stream",
     "text": [
      "C:\\winutils\n",
      "D:\\Softwares\\Apache_Spark\\spark\n",
      "C:\\Users\\Debanjan Sarkar\\AppData\\Local\\Programs\\Python\\Python310\\python.exe\n"
     ]
    }
   ],
   "source": [
    "print( os.getenv(\"HADOOP_HOME\") )\n",
    "print( os.getenv(\"SPARK_HOME\") )\n",
    "print( os.getenv(\"PYSPARK_HOME\") )"
   ]
  },
  {
   "cell_type": "code",
   "execution_count": 4,
   "id": "00a291ed-2f7b-41b2-8c5e-e73d075d5283",
   "metadata": {},
   "outputs": [
    {
     "name": "stdout",
     "output_type": "stream",
     "text": [
      "E:/Programs & Codes/apache_spark/hadoop/winutils\n",
      "E:/Programs & Codes/apache_spark/spark_install\n"
     ]
    }
   ],
   "source": [
    "# print( os.getenv(\"HADOOP_HOME_NEW\") )\n",
    "# print( os.getenv(\"SPARK_HOME_NEW\") )\n",
    "# print( os.getenv(\"PYSPARK_HOME_NEW\") )"
   ]
  },
  {
   "cell_type": "code",
   "execution_count": 5,
   "id": "a522386c-b36b-4d29-bfa7-7f21a6020a21",
   "metadata": {},
   "outputs": [],
   "source": [
    "os.environ[\"HADOOP_HOME\"] = os.getenv(\"HADOOP_HOME_NEW\")\n",
    "os.environ[\"SPARK_HOME\"] = os.getenv(\"SPARK_HOME_NEW\")\n",
    "# os.environ[\"PYSPARK_HOME\"] = os.getenv(\"PYSPARK_HOME_NEW\")"
   ]
  },
  {
   "cell_type": "code",
   "execution_count": 6,
   "id": "4cc4a7fc-ebfc-4e4a-a37e-04c75ccca899",
   "metadata": {},
   "outputs": [
    {
     "name": "stdout",
     "output_type": "stream",
     "text": [
      "E:/Programs & Codes/apache_spark/hadoop/winutils\n",
      "E:/Programs & Codes/apache_spark/spark_install\n",
      "C:\\Users\\Debanjan Sarkar\\AppData\\Local\\Programs\\Python\\Python310\\python.exe\n"
     ]
    }
   ],
   "source": [
    "print( os.getenv(\"HADOOP_HOME\") )\n",
    "print( os.getenv(\"SPARK_HOME\") )\n",
    "print( os.getenv(\"PYSPARK_HOME\") )"
   ]
  },
  {
   "cell_type": "code",
   "execution_count": 7,
   "id": "32cb3436-48e6-48da-97c0-d53f451932e1",
   "metadata": {},
   "outputs": [
    {
     "name": "stdout",
     "output_type": "stream",
     "text": [
      "Name: findspark\n",
      "Version: 2.0.1\n",
      "Summary: Find pyspark to make it importable.\n",
      "Home-page: https://github.com/minrk/findspark\n",
      "Author: Min RK\n",
      "Author-email: benjaminrk@gmail.com\n",
      "License: BSD (3-clause)\n",
      "Location: e:\\programs & codes\\apache_spark\\_spark_venv\\lib\\site-packages\n",
      "Requires: \n",
      "Required-by: \n",
      "Note: you may need to restart the kernel to use updated packages.\n"
     ]
    }
   ],
   "source": [
    "pip show findspark"
   ]
  },
  {
   "cell_type": "code",
   "execution_count": 3,
   "id": "c10fb98e-1d94-48ce-943f-30f985b329df",
   "metadata": {},
   "outputs": [],
   "source": [
    "import findspark\n",
    "findspark.init()"
   ]
  },
  {
   "cell_type": "markdown",
   "id": "86875a09-8ee4-4f60-8b31-07e6f39d78f5",
   "metadata": {},
   "source": [
    "## PYSpark Coding:\n",
    "----------------------"
   ]
  },
  {
   "cell_type": "code",
   "execution_count": 4,
   "id": "2375513e-8b87-4056-9766-3c1b81298de7",
   "metadata": {},
   "outputs": [],
   "source": [
    "from pyspark.sql import SparkSession\n",
    "\n",
    "spark = SparkSession.builder.master(\"local[*]\").appName(\"001\").getOrCreate()"
   ]
  },
  {
   "cell_type": "code",
   "execution_count": 5,
   "id": "eec27764-9a9b-4738-8e42-1b66e771b7b6",
   "metadata": {},
   "outputs": [
    {
     "data": {
      "text/html": [
       "\n",
       "            <div>\n",
       "                <p><b>SparkSession - in-memory</b></p>\n",
       "                \n",
       "        <div>\n",
       "            <p><b>SparkContext</b></p>\n",
       "\n",
       "            <p><a href=\"http://169.254.250.122:4040\">Spark UI</a></p>\n",
       "\n",
       "            <dl>\n",
       "              <dt>Version</dt>\n",
       "                <dd><code>v3.3.2</code></dd>\n",
       "              <dt>Master</dt>\n",
       "                <dd><code>local[*]</code></dd>\n",
       "              <dt>AppName</dt>\n",
       "                <dd><code>001</code></dd>\n",
       "            </dl>\n",
       "        </div>\n",
       "        \n",
       "            </div>\n",
       "        "
      ],
      "text/plain": [
       "<pyspark.sql.session.SparkSession at 0x19fe6876440>"
      ]
     },
     "execution_count": 5,
     "metadata": {},
     "output_type": "execute_result"
    }
   ],
   "source": [
    "spark"
   ]
  },
  {
   "cell_type": "code",
   "execution_count": null,
   "id": "949fea29-b2b0-4b59-8dd9-48bdd5644c13",
   "metadata": {},
   "outputs": [],
   "source": []
  }
 ],
 "metadata": {
  "kernelspec": {
   "display_name": "Python 3 (ipykernel)",
   "language": "python",
   "name": "python3"
  },
  "language_info": {
   "codemirror_mode": {
    "name": "ipython",
    "version": 3
   },
   "file_extension": ".py",
   "mimetype": "text/x-python",
   "name": "python",
   "nbconvert_exporter": "python",
   "pygments_lexer": "ipython3",
   "version": "3.10.6"
  }
 },
 "nbformat": 4,
 "nbformat_minor": 5
}
