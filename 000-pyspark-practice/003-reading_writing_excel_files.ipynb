{
 "cells": [
  {
   "cell_type": "markdown",
   "id": "d147ee0e-0a63-4be1-83d4-f3954a1eb693",
   "metadata": {},
   "source": [
    "<h1><center>Reading and Writing Excel files in PySpark</center></h1>\n",
    "<hr><hr><hr>"
   ]
  },
  {
   "cell_type": "markdown",
   "id": "28cee764-c58d-4ec7-972b-86d2395925d8",
   "metadata": {},
   "source": [
    "- Medium page link for instructions for setting up `com.crealytics` excel jar file, and working with excel file data in local pyspark: \\\n",
    "    - `https://medium.com/@amitjoshi7/how-to-read-excel-files-using-pyspark-in-databricks-637bb21b90be`\n",
    "\n",
    "- Spark version installed on my system: \\\n",
    "    `2.12:3.3.2`\n",
    "\n",
    "\n",
    "### All the jar files that are downloaded below must be placed inside the `jars` folder of the spark installation directory in the localmachine:\n",
    "-------------------------------------------------------------------------------------------------------------------------------------------------\n",
    "- Required jar file for handling excel files using pyspark, for this specific spark version `3.3.2`: \\\n",
    "    - `spark-excel_2.12-3.3.2_0.19.0.jar`\n",
    "\n",
    "#### Required links for setup:\n",
    "- Download page for `spark-excel_2.12-3.3.2_0.19.0.jar`: \\\n",
    "    `https://mvnrepository.com/artifact/com.crealytics/spark-excel_2.12/3.3.2_0.19.0`\n"
   ]
  },
  {
   "cell_type": "code",
   "execution_count": 7,
   "id": "42abc468-4907-4e04-aefb-6cf4a5201496",
   "metadata": {},
   "outputs": [
    {
     "name": "stdout",
     "output_type": "stream",
     "text": [
      "Name: ipynbnameNote: you may need to restart the kernel to use updated packages.\n",
      "\n",
      "Version: 2024.1.0.0\n",
      "Summary: Simply returns either notebook filename or the full path to the notebook when run from Jupyter notebook in browser.\n",
      "Home-page: https://github.com/msm1089/ipynbname\n",
      "Author: Mark McPherson\n",
      "Author-email: msm1089@yahoo.co.uk\n",
      "License: MIT\n",
      "Location: e:\\programs & codes\\apache_spark\\_spark_venv\\lib\\site-packages\n",
      "Requires: ipykernel\n",
      "Required-by: \n"
     ]
    }
   ],
   "source": [
    "pip show ipynbname"
   ]
  },
  {
   "cell_type": "code",
   "execution_count": 8,
   "id": "6230b16f-e089-40c3-b109-f044aac0d9f2",
   "metadata": {},
   "outputs": [
    {
     "name": "stdout",
     "output_type": "stream",
     "text": [
      "E:\\Programs & Codes\\apache_spark\\my_pyspark_notebooks\\000-pyspark-practice\n",
      "SPARK Home:-- D:\\Softwares\\Apache_Spark\\spark\n",
      "Notebook name:   003-reading_writing_excel_files\n"
     ]
    }
   ],
   "source": [
    "import os\n",
    "import ipynbname\n",
    "\n",
    "notebook_name = ipynbname.name()\n",
    "\n",
    "print(os.getcwd())\n",
    "print(\"SPARK Home:--\", os.getenv(\"SPARK_HOME\"))\n",
    "print(\"Notebook name:  \", notebook_name)"
   ]
  },
  {
   "cell_type": "code",
   "execution_count": 5,
   "id": "04ed1934-cd9c-4e2d-a8db-14869080ace0",
   "metadata": {},
   "outputs": [],
   "source": [
    "import findspark\n",
    "findspark.init()"
   ]
  },
  {
   "cell_type": "code",
   "execution_count": 13,
   "id": "11c7baee-84e8-4f57-9e8c-39a5f692e55c",
   "metadata": {},
   "outputs": [
    {
     "name": "stdout",
     "output_type": "stream",
     "text": [
      "D:\\Softwares\\Apache_Spark\\spark\\jars\\spark-excel_2.12-3.3.2_0.19.0.jar\n"
     ]
    }
   ],
   "source": [
    "excel_jar_path = os.getenv(\"SPARK_HOME\") + \"\\\\jars\\\\spark-excel_2.12-3.3.2_0.19.0.jar\"\n",
    "\n",
    "print( excel_jar_path )"
   ]
  },
  {
   "cell_type": "code",
   "execution_count": 15,
   "id": "bd87b86c-4e0d-424e-8545-fe4ba780d7ce",
   "metadata": {},
   "outputs": [
    {
     "data": {
      "text/html": [
       "\n",
       "            <div>\n",
       "                <p><b>SparkSession - in-memory</b></p>\n",
       "                \n",
       "        <div>\n",
       "            <p><b>SparkContext</b></p>\n",
       "\n",
       "            <p><a href=\"http://DEBANJAN:4040\">Spark UI</a></p>\n",
       "\n",
       "            <dl>\n",
       "              <dt>Version</dt>\n",
       "                <dd><code>v3.3.2</code></dd>\n",
       "              <dt>Master</dt>\n",
       "                <dd><code>local[*]</code></dd>\n",
       "              <dt>AppName</dt>\n",
       "                <dd><code>003-reading_writing_excel_files</code></dd>\n",
       "            </dl>\n",
       "        </div>\n",
       "        \n",
       "            </div>\n",
       "        "
      ],
      "text/plain": [
       "<pyspark.sql.session.SparkSession at 0x29694271c90>"
      ]
     },
     "execution_count": 15,
     "metadata": {},
     "output_type": "execute_result"
    }
   ],
   "source": [
    "from pyspark.sql import SparkSession\n",
    "\n",
    "spark = (\n",
    "    SparkSession.builder\n",
    "    .master(\"local[*]\")\n",
    "    .config(\"spark.jars\", excel_jar_path)\n",
    "    .appName( notebook_name )\n",
    "    .getOrCreate()\n",
    ")\n",
    "\n",
    "spark"
   ]
  },
  {
   "cell_type": "code",
   "execution_count": 20,
   "id": "a742742e-76dd-4710-a7a5-c2057c437b98",
   "metadata": {},
   "outputs": [],
   "source": [
    "excel_file_path = \"./data/JGEC_central_database.xlsx\""
   ]
  },
  {
   "cell_type": "code",
   "execution_count": 21,
   "id": "b44da989-b206-4246-9c04-292b29d12c17",
   "metadata": {},
   "outputs": [],
   "source": [
    "# Read an entire sheet\n",
    "jgec_df = (\n",
    "    spark.read\n",
    "    .format(\"com.crealytics.spark.excel\")\n",
    "    .option(\"header\", True)\n",
    "    .option(\"inferSchema\", True)\n",
    "    .load( excel_file_path )\n",
    ")"
   ]
  },
  {
   "cell_type": "code",
   "execution_count": 17,
   "id": "01712982-69ca-4f71-a005-0daf3e280dd5",
   "metadata": {},
   "outputs": [
    {
     "name": "stdout",
     "output_type": "stream",
     "text": [
      "+------+----+--------------------+----------+------+--------------------+--------+----------+----+--------------------+--------------------+--------------------+-------------+--------------------+-------------+---------------+--------------------+--------------------+----------+\n",
      "|  date|dept|               email|graduation|hostel|            hostelID|hostelNo|hostelPaid|  id|                name|           paperCode|           paperName|         phNo|            receipts|        regNo|         rollNo|          tutionFees|            tutionID|tutionPaid|\n",
      "+------+----+--------------------+----------+------+--------------------+--------+----------+----+--------------------+--------------------+--------------------+-------------+--------------------+-------------+---------------+--------------------+--------------------+----------+\n",
      "|  NULL| CSE|jm2019@cse.jgec.a...|        UG|   YES|                NULL|       3|        NO|14.0|    Jyotirmoy Mondal|CS 801A\\r\\nCS-802...|Cryptography and ...|7.908404064E9|                NULL|2.147483647E9|  2.147483647E9|College_fees_tran...|         19823183730|       YES|\n",
      "|  NULL| ECE|sm2083@ece.jgec.a...|        UG|    NO|                NULL|    NULL|      NULL|18.0|    SAPTARSHI MANDAL|      EC801D, EC802B|Radar & Navigatio...|9.641977376E9|                NULL|2.147483647E9|  2.147483647E9|ECE_17101105083_S...|         19816744576|       YES|\n",
      "|  NULL|  EE|ud2005@ee.jgec.ac.in|        UG|    NO|                NULL|    NULL|      NULL|19.0|           Uppal Das|EE-802(c) ; EC(EE...|Power Generation ...|9.073264839E9|                NULL|2.147483647E9|  2.147483647E9|16101102005 - Upp...|         19719166092|       YES|\n",
      "|  NULL| CSE|ak2087@cse.jgec.a...|        UG|    NO|                NULL|    NULL|      NULL|21.0|       Arpan Khaling|    Hu801 CS801CS802|FinancialManageme...| 8.75942952E9|             <blank>|    1.7101E11|1.7101104087E10|                NULL|018416692084 / 01...|       YES|\n",
      "|  NULL|  EE|mahadev10.02.1997...|        UG|    NO|                NULL|    NULL|      NULL|22.0|      MAHADEV MANDAL|EE-802(a)-Electiv...|   FACTs & HVDC t...|9.635939475E9|             <blank>|    1.7101E11|1.7101102088E10|                NULL|NEFT/MB/AXMB20197...|       YES|\n",
      "|  NULL|  EE|ss2058@ee.jgec.ac.in|        UG|   YES|                NULL|       3|        NO|23.0|     Sk Saheen Sarif|EC(EE)801B EE802 ...|Utilization of el...|9.932358782E9|                NULL|2.147483647E9|  2.147483647E9|Screenshot_2020-0...|         20011913505|       YES|\n",
      "|3/2/20|  ME|sd2028@me.jgec.ac.in|        UG|   YES|I have submitted ...|       3|       YES|24.0|           Soham Das|ME-802A\\r\\nME-803...|Renewable Energy ...|9.051816049E9|WhatsApp Image 20...|2.147483647E9|  2.147483647E9|JGEC fees payment...|          IHN0329063|       YES|\n",
      "|  NULL|  IT|dipshichakraborty...|        UG|    NO|                NULL|    NULL|      NULL|25.0|  Dipshi Chakraborty|  IT 801A\\r\\nIT 802B|E Commerce\\r\\nCyb...|8.670369596E9|                NULL|2.147483647E9|  2.147483647E9|TransactionReceip...|P2007161228057257...|       YES|\n",
      "|  NULL|  EE|sadhukalyanshis@g...|        PG|    NO|                NULL|    NULL|      NULL|26.0|    KALYANSHIS SADHU|             PED-481|Major Project Pha...|8.101070787E9|                NULL|2.147483647E9|  2.147483647E9|clg_fees_e_reciep...|          IHN0438704|       YES|\n",
      "|  NULL|  IT|bs2024@it.jgec.ac.in|        UG|    NO|                NULL|    NULL|      NULL|27.0|          Bickey Sah|HU-801 IT-801 IT-802|Financial-Managem...|9.614889213E9|                NULL|2.147483647E9|  2.147483647E9|tution fees recei...|         19716230139|       YES|\n",
      "|  NULL|  CE|sc2009@ce.jgec.ac.in|        UG|    NO|                NULL|    NULL|      NULL|28.0|  SOURAV CHAKRABORTY|      CE802D, CE803F|HYDRAULIC STRUCTU...|8.768712486E9|             <blank>|    1.6101E11|1.6101101009E10|             <blank>|Tuition Fees Tran...|       YES|\n",
      "|  NULL|  ME|mech.ani95@gmail.com|        UG|    NO|                NULL|    NULL|      NULL|29.0|     ANIMESH SAMANTA|ME803C AUTOMOBILE...|ME802A RENEWABLE ...| 8.34894081E9|                NULL|2.147483647E9|  2.147483647E9|     17101103093.pdf|         19320024358|       YES|\n",
      "|  NULL|  CE|debdome98.dd@gmai...|        UG|    NO|                NULL|    NULL|      NULL|30.0|      DEBAPRIYA DOME|Air Pollution and...|Hydraulic Structu...|8.918534597E9|             <blank>|    1.6101E11|1.6101101044E10|             <blank>|            SB498800|       YES|\n",
      "|  NULL|  ME|malayjyotidebnath...|        UG|    NO|                NULL|    NULL|      NULL|31.0| Malay Jyoti Debnath|  ME 802A\\r\\nME 803C|Renewable Energy ...|9.002304538E9|                NULL|2.147483647E9|  2.147483647E9|IMG_20200719_2151...|         19213602072|       YES|\n",
      "|  NULL|  CE|rudradurgapur97@g...|        UG|    NO|                NULL|    NULL|      NULL|33.0|      Rudranil kundu|Elective(I)- CE-8...|Elective -I (Hydr...|8.900120854E9|                NULL|2.147483647E9|  2.147483647E9|    college fees.pdf|            SB498800|       YES|\n",
      "|  NULL| ECE|taniaguha24@gmail...|        UG|    NO|                NULL|    NULL|      NULL|36.0|          Tania Guha|1) HU 801\\r\\n2) E...|1) Financial mana...|7.001765053E9|                NULL|2.147483647E9|  2.147483647E9|IMG-20200714-WA00...|         19615273310|       YES|\n",
      "|  NULL|  EE|pranjitkumarroy21...|        PG|    NO|                NULL|    NULL|      NULL|37.0|   Pranjit Kumar Roy|             PED-481|Major Project Pha...|7.003772553E9|                NULL|2.147483647E9|  2.147483647E9|CamScanner 07-17-...|            7.19E+13|       YES|\n",
      "|  NULL|  CE|kn2023@ce.jgec.ac.in|        UG|    NO|                NULL|    NULL|      NULL|39.0|Kausik Nath Talukder|CE 801\\r\\nCE 802\\...|Construction Mana...|8.759764474E9|                NULL|2.147483647E9|  2.147483647E9|    Fees details.pdf|         19914187043|       YES|\n",
      "|  NULL| ECE|bhaskar8bhushan@g...|        UG|   YES|                NULL|       3|        NO|40.0|     Bhaskar Bhushan|HU-801\\r\\nEC-801D...|Financial Managem...|9.679055345E9|                NULL|2.147483647E9|  2.147483647E9|                NULL|                NULL|        NO|\n",
      "|  NULL|  CE|pm2088@ce.jgec.ac.in|        UG|    NO|                NULL|    NULL|      NULL|41.0|   PRIYANKA MAJUMDAR|CE â€“ 802D    CE...|Hydraulic Structu...|8.116340861E9|             <blank>|    1.7101E11|1.7101101088E10|             <blank>|017714989017 (Tut...|       YES|\n",
      "+------+----+--------------------+----------+------+--------------------+--------+----------+----+--------------------+--------------------+--------------------+-------------+--------------------+-------------+---------------+--------------------+--------------------+----------+\n",
      "only showing top 20 rows\n",
      "\n"
     ]
    }
   ],
   "source": [
    "jgec_df.show()"
   ]
  },
  {
   "cell_type": "code",
   "execution_count": 18,
   "id": "8a62be07-7b8a-4545-a5b9-848e6d6445f6",
   "metadata": {},
   "outputs": [
    {
     "name": "stdout",
     "output_type": "stream",
     "text": [
      "root\n",
      " |-- date: string (nullable = true)\n",
      " |-- dept: string (nullable = true)\n",
      " |-- email: string (nullable = true)\n",
      " |-- graduation: string (nullable = true)\n",
      " |-- hostel: string (nullable = true)\n",
      " |-- hostelID: string (nullable = true)\n",
      " |-- hostelNo: string (nullable = true)\n",
      " |-- hostelPaid: string (nullable = true)\n",
      " |-- id: double (nullable = true)\n",
      " |-- name: string (nullable = true)\n",
      " |-- paperCode: string (nullable = true)\n",
      " |-- paperName: string (nullable = true)\n",
      " |-- phNo: double (nullable = true)\n",
      " |-- receipts: string (nullable = true)\n",
      " |-- regNo: double (nullable = true)\n",
      " |-- rollNo: double (nullable = true)\n",
      " |-- tutionFees: string (nullable = true)\n",
      " |-- tutionID: string (nullable = true)\n",
      " |-- tutionPaid: string (nullable = true)\n",
      "\n"
     ]
    }
   ],
   "source": [
    "jgec_df.printSchema()"
   ]
  },
  {
   "cell_type": "code",
   "execution_count": 34,
   "id": "d6ec8338-e533-4ede-9036-e58fb2c9aea6",
   "metadata": {},
   "outputs": [],
   "source": [
    "# Read specifid cells:\n",
    "\n",
    "jgec_df_partial = (\n",
    "    spark.read\n",
    "    .format(\"com.crealytics.spark.excel\")\n",
    "    .option(\"header\", True)\n",
    "    .option(\"inferSchema\", True)\n",
    "    .option(\"dataAddress\", \"'JGEC db sheet'!A1:E10\" )\n",
    "    .option(\"treatEmptyValuesAsNulls\", \"true\")  #to treat empty values as null\n",
    "    .load( excel_file_path )\n",
    ")"
   ]
  },
  {
   "cell_type": "code",
   "execution_count": 35,
   "id": "05613801-b4ba-4c91-bc58-331ed97c5932",
   "metadata": {},
   "outputs": [
    {
     "name": "stdout",
     "output_type": "stream",
     "text": [
      "+------+----+-----------------------------+----------+------+\n",
      "|date  |dept|email                        |graduation|hostel|\n",
      "+------+----+-----------------------------+----------+------+\n",
      "|NULL  |CSE |jm2019@cse.jgec.ac.in        |UG        |YES   |\n",
      "|NULL  |ECE |sm2083@ece.jgec.ac.in        |UG        |NO    |\n",
      "|NULL  |EE  |ud2005@ee.jgec.ac.in         |UG        |NO    |\n",
      "|NULL  |CSE |ak2087@cse.jgec.ac.in        |UG        |NO    |\n",
      "|NULL  |EE  |mahadev10.02.1997@gmail.com  |UG        |NO    |\n",
      "|NULL  |EE  |ss2058@ee.jgec.ac.in         |UG        |YES   |\n",
      "|3/2/20|ME  |sd2028@me.jgec.ac.in         |UG        |YES   |\n",
      "|NULL  |IT  |dipshichakraborty29@gmail.com|UG        |NO    |\n",
      "|NULL  |EE  |sadhukalyanshis@gmail.com    |PG        |NO    |\n",
      "+------+----+-----------------------------+----------+------+\n",
      "\n"
     ]
    }
   ],
   "source": [
    "jgec_df_partial.show(truncate=False)"
   ]
  },
  {
   "cell_type": "code",
   "execution_count": 45,
   "id": "27bcfe71-01bd-48d6-ae21-29cedfd79104",
   "metadata": {},
   "outputs": [],
   "source": [
    "# write the dataframe to a different sheet of same workbook\n",
    "\n",
    "(\n",
    "    jgec_df_partial.write\n",
    "    .format(\"com.crealytics.spark.excel\")\n",
    "    .option(\"header\", True)\n",
    "    .option(\"inferSchema\", True)\n",
    "    .option(\"dataAddress\", \"'new_sheet'!A2:Z100\")\n",
    "    .save( \"./data/jgec_saved_by_pyspark.xlsx\" )\n",
    ")"
   ]
  },
  {
   "cell_type": "code",
   "execution_count": null,
   "id": "e8255b7a-c738-4d30-8aad-4cf4e99b3e09",
   "metadata": {},
   "outputs": [],
   "source": []
  }
 ],
 "metadata": {
  "kernelspec": {
   "display_name": "Python 3 (ipykernel)",
   "language": "python",
   "name": "python3"
  },
  "language_info": {
   "codemirror_mode": {
    "name": "ipython",
    "version": 3
   },
   "file_extension": ".py",
   "mimetype": "text/x-python",
   "name": "python",
   "nbconvert_exporter": "python",
   "pygments_lexer": "ipython3",
   "version": "3.10.6"
  }
 },
 "nbformat": 4,
 "nbformat_minor": 5
}
