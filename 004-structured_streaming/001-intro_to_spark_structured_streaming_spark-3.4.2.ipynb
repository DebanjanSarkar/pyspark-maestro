{
 "cells": [
  {
   "cell_type": "markdown",
   "id": "f774fb4d-59a3-4ac1-9255-538d223d24be",
   "metadata": {},
   "source": [
    "<h1><center>Spark Structured Streaming</center></h1>\n",
    "<hr><hr><hr>"
   ]
  },
  {
   "cell_type": "markdown",
   "id": "628c2cfe-9a3b-4b21-8f0c-43d3b579e429",
   "metadata": {},
   "source": [
    "- Stackoverflow page for instructions for setting up kafka with local pyspark: \\\n",
    "    `https://stackoverflow.com/questions/70374571/connecting-pyspark-with-kafka`\n",
    "- Kafka version installed on my system: \\\n",
    "    `3.12:3.7.1`\n",
    "- Bootstrap server hostname for kafka local server: \\\n",
    "    `localhost:9092`\n",
    "\n",
    "### All the jar files that are downloaded below must be placed inside the `jars` folder of the spark installation directory in the localmachine:\n",
    "-------------------------------------------------------------------------------------------------------------------------------------------------\n",
    "- Required jar file for kafka, for this specific spark version `3.4.2`: \\\n",
    "    `spark-sql-kafka-0-10_2.12:3.4.2`\n",
    "- Required links for setup:\n",
    "- Maven central repository for `spark-sql-kafka-0-10_2.12:3.4.2`: \\\n",
    "    `https://central.sonatype.com/artifact/org.apache.spark/spark-sql-kafka-0-10_2.12/3.4.2`\n",
    "- Download page for `spark-sql-kafka-0-10_2.12:3.4.2`: \\\n",
    "    `https://mvnrepository.com/artifact/org.apache.spark/spark-sql-kafka-0-10_2.12/3.4.2`\n",
    "- Maven Central Repository for `kafka-clients:3.7.1`: \\\n",
    "    `https://central.sonatype.com/artifact/org.apache.kafka/kafka-clients`\n",
    "- Download Page for `kafka-clients:3.7.1`: \\\n",
    "    `https://mvnrepository.com/artifact/org.apache.kafka/kafka-clients/3.7.1`"
   ]
  },
  {
   "cell_type": "code",
   "execution_count": 1,
   "id": "3ac77778-0863-4464-9b39-0a8a2c915b5e",
   "metadata": {},
   "outputs": [
    {
     "data": {
      "text/plain": [
       "True"
      ]
     },
     "execution_count": 1,
     "metadata": {},
     "output_type": "execute_result"
    }
   ],
   "source": [
    "# from dotenv import load_dotenv\n",
    "# load_dotenv()"
   ]
  },
  {
   "cell_type": "code",
   "execution_count": 1,
   "id": "938c4cf6-d863-4490-a979-db846b2b2aac",
   "metadata": {},
   "outputs": [],
   "source": [
    "import findspark\n",
    "findspark.init()"
   ]
  },
  {
   "cell_type": "code",
   "execution_count": 2,
   "id": "d2fe2d6e-238e-4938-9b27-f7b31cdd5810",
   "metadata": {},
   "outputs": [],
   "source": [
    "scala_version = '2.12'\n",
    "spark_version = '3.4.2'\n",
    "kafka_client_version = '3.7.1' # kafka specific version installed in system, that is in \"c:\\kafka\", client Jar file package of this version must be downloaded\n",
    "\n",
    "packages = [\n",
    "    f'org.apache.spark:spark-sql-kafka-0-10_{scala_version}:{spark_version}',\n",
    "    f'org.apache.kafka:kafka-clients:{kafka_client_version}'\n",
    "]"
   ]
  },
  {
   "cell_type": "code",
   "execution_count": 3,
   "id": "960f65be-fd45-4b44-a007-a15c0022aa0b",
   "metadata": {},
   "outputs": [],
   "source": [
    "import time"
   ]
  },
  {
   "cell_type": "code",
   "execution_count": 4,
   "id": "f7c563da-5bed-4b07-b982-56917cebe904",
   "metadata": {},
   "outputs": [
    {
     "data": {
      "text/html": [
       "\n",
       "            <div>\n",
       "                <p><b>SparkSession - in-memory</b></p>\n",
       "                \n",
       "        <div>\n",
       "            <p><b>SparkContext</b></p>\n",
       "\n",
       "            <p><a href=\"http://DEBANJAN:4040\">Spark UI</a></p>\n",
       "\n",
       "            <dl>\n",
       "              <dt>Version</dt>\n",
       "                <dd><code>v3.3.2</code></dd>\n",
       "              <dt>Master</dt>\n",
       "                <dd><code>local[*]</code></dd>\n",
       "              <dt>AppName</dt>\n",
       "                <dd><code>01-Intro to Spark Structured Streaming</code></dd>\n",
       "            </dl>\n",
       "        </div>\n",
       "        \n",
       "            </div>\n",
       "        "
      ],
      "text/plain": [
       "<pyspark.sql.session.SparkSession at 0x29ea02b1630>"
      ]
     },
     "execution_count": 4,
     "metadata": {},
     "output_type": "execute_result"
    }
   ],
   "source": [
    "from pyspark.sql import SparkSession\n",
    "\n",
    "spark = ( \n",
    "    SparkSession\n",
    "    .builder\n",
    "    .master(\"local[*]\")\n",
    "    .appName(\"01-Intro to Spark Structured Streaming\")\n",
    "    .config(\"spark.jars.packages\", \",\".join(packages))\n",
    "    .getOrCreate()\n",
    ")\n",
    "spark"
   ]
  },
  {
   "cell_type": "code",
   "execution_count": 6,
   "id": "6a221012-16b5-41b8-8d4d-ae8dd78c264c",
   "metadata": {},
   "outputs": [],
   "source": [
    "# code for testing if hadoop is working fine with spark\n",
    "# spark.range(100).write.format(\"parquet\").save(\"./parquet_range\")"
   ]
  },
  {
   "cell_type": "code",
   "execution_count": 5,
   "id": "ec14a0ce-2ba3-4718-a602-7d85048bb4b7",
   "metadata": {},
   "outputs": [],
   "source": [
    "kafka_topic_name = \"first_topic\"\n",
    "kafka_broker = \"localhost:9092\""
   ]
  },
  {
   "cell_type": "code",
   "execution_count": 6,
   "id": "da1580cb-03a8-441f-8ffb-de83eb8cfe58",
   "metadata": {},
   "outputs": [],
   "source": [
    "streaming_df = spark.readStream\\\n",
    "    .format(\"kafka\") \\\n",
    "    .option(\"kafka.bootstrap.servers\", kafka_broker) \\\n",
    "    .option(\"subscribe\", kafka_topic_name) \\\n",
    "    .option(\"startingOffsets\", \"earliest\") \\\n",
    "    .load()"
   ]
  },
  {
   "cell_type": "code",
   "execution_count": 7,
   "id": "252b8cbc-3061-48bb-8d1d-6d8c251d4540",
   "metadata": {},
   "outputs": [
    {
     "name": "stdout",
     "output_type": "stream",
     "text": [
      "<class 'pyspark.sql.dataframe.DataFrame'>\n"
     ]
    }
   ],
   "source": [
    "print( type(streaming_df) )"
   ]
  },
  {
   "cell_type": "code",
   "execution_count": 9,
   "id": "f5983399-76c0-48ec-b8bc-7afe53856102",
   "metadata": {},
   "outputs": [
    {
     "name": "stdout",
     "output_type": "stream",
     "text": [
      "root\n",
      " |-- key: binary (nullable = true)\n",
      " |-- value: binary (nullable = true)\n",
      " |-- topic: string (nullable = true)\n",
      " |-- partition: integer (nullable = true)\n",
      " |-- offset: long (nullable = true)\n",
      " |-- timestamp: timestamp (nullable = true)\n",
      " |-- timestampType: integer (nullable = true)\n",
      "\n"
     ]
    }
   ],
   "source": [
    "streaming_df.printSchema()"
   ]
  },
  {
   "cell_type": "code",
   "execution_count": 8,
   "id": "22b40344-a7c3-4b05-9be4-b3e446f4c8b5",
   "metadata": {},
   "outputs": [
    {
     "data": {
      "text/plain": [
       "<pyspark.sql.streaming.query.StreamingQuery at 0x1ba2c472a40>"
      ]
     },
     "execution_count": 8,
     "metadata": {},
     "output_type": "execute_result"
    }
   ],
   "source": [
    "(\n",
    "    streaming_df.writeStream\n",
    "    .format(\"console\")\n",
    "    .outputMode(\"append\")\n",
    "    .option(\"checkpointLocation\", \"./checkpoints\")\n",
    "    # .trigger(availableNow=True)\n",
    "    .start()\n",
    "    # .awaitTermination()\n",
    ")"
   ]
  },
  {
   "cell_type": "code",
   "execution_count": 11,
   "id": "f093bfa2-f5c0-4779-9ada-66286760d41b",
   "metadata": {},
   "outputs": [],
   "source": [
    "cast_df = streaming_df.selectExpr(\"CAST(key AS STRING)\", \"CAST(value AS STRING)\")"
   ]
  },
  {
   "cell_type": "code",
   "execution_count": 12,
   "id": "59b5d957-19c1-45e7-a9fd-c4f302a3f188",
   "metadata": {},
   "outputs": [
    {
     "data": {
      "text/plain": [
       "<pyspark.sql.streaming.query.StreamingQuery at 0x1ba2d781090>"
      ]
     },
     "execution_count": 12,
     "metadata": {},
     "output_type": "execute_result"
    }
   ],
   "source": [
    "(\n",
    "    cast_df.writeStream\n",
    "    .format(\"console\")\n",
    "    .outputMode(\"append\")\n",
    "    .option(\"checkpointLocation\", \"./checkpoints\")\n",
    "    # .trigger(availableNow=True)\n",
    "    .start()\n",
    "    # .awaitTermination()\n",
    ")"
   ]
  },
  {
   "cell_type": "code",
   "execution_count": 19,
   "id": "02ef8114-9850-4731-aff4-f699e13160fd",
   "metadata": {},
   "outputs": [
    {
     "name": "stdout",
     "output_type": "stream",
     "text": [
      "+---+-----+-----+---------+------+---------+-------------+\n",
      "|key|value|topic|partition|offset|timestamp|timestampType|\n",
      "+---+-----+-----+---------+------+---------+-------------+\n",
      "+---+-----+-----+---------+------+---------+-------------+\n",
      "\n",
      "+---+-----+-----+---------+------+---------+-------------+\n",
      "|key|value|topic|partition|offset|timestamp|timestampType|\n",
      "+---+-----+-----+---------+------+---------+-------------+\n",
      "+---+-----+-----+---------+------+---------+-------------+\n",
      "\n",
      "+---+-----+-----+---------+------+---------+-------------+\n",
      "|key|value|topic|partition|offset|timestamp|timestampType|\n",
      "+---+-----+-----+---------+------+---------+-------------+\n",
      "+---+-----+-----+---------+------+---------+-------------+\n",
      "\n",
      "+---+-----+-----+---------+------+---------+-------------+\n",
      "|key|value|topic|partition|offset|timestamp|timestampType|\n",
      "+---+-----+-----+---------+------+---------+-------------+\n",
      "+---+-----+-----+---------+------+---------+-------------+\n",
      "\n",
      "+---+-----+-----+---------+------+---------+-------------+\n",
      "|key|value|topic|partition|offset|timestamp|timestampType|\n",
      "+---+-----+-----+---------+------+---------+-------------+\n",
      "+---+-----+-----+---------+------+---------+-------------+\n",
      "\n"
     ]
    }
   ],
   "source": [
    "query1 = streaming_df.writeStream.queryName(\"counting\").format(\"memory\").outputMode(\"append\").start()\n",
    "for x in range(5):\n",
    "  spark.sql(\"select * from counting\").show()\n",
    "  time.sleep(5)"
   ]
  },
  {
   "cell_type": "code",
   "execution_count": null,
   "id": "8165ac27-1fb5-4533-90f4-1e3bcc5ee115",
   "metadata": {},
   "outputs": [],
   "source": [
    "st_query = (\n",
    "    streaming_df.writeStream\n",
    "    .format(\"\")\n",
    "    .trigger(availableNow=True)\n",
    "    .start()\n",
    ")"
   ]
  }
 ],
 "metadata": {
  "kernelspec": {
   "display_name": "Python 3 (ipykernel)",
   "language": "python",
   "name": "python3"
  },
  "language_info": {
   "codemirror_mode": {
    "name": "ipython",
    "version": 3
   },
   "file_extension": ".py",
   "mimetype": "text/x-python",
   "name": "python",
   "nbconvert_exporter": "python",
   "pygments_lexer": "ipython3",
   "version": "3.10.6"
  }
 },
 "nbformat": 4,
 "nbformat_minor": 5
}
