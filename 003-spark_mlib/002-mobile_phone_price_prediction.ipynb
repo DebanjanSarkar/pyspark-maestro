{
 "cells": [
  {
   "cell_type": "markdown",
   "id": "575500e4-16d9-4dbc-bf84-9ee0fd4caf3f",
   "metadata": {},
   "source": [
    "<h1><center>Regression Model, using Spark MLib to predict Mobile price based on various features</center></h1>\n",
    "<hr><hr><hr>"
   ]
  },
  {
   "cell_type": "markdown",
   "id": "20c9ee30-406b-4b29-a171-72c3cb3faa0a",
   "metadata": {},
   "source": [
    "## Configurations:\n",
    "---------------------"
   ]
  },
  {
   "cell_type": "code",
   "execution_count": 1,
   "id": "816a2292-b1fb-430c-bb38-22afb99ff6c7",
   "metadata": {},
   "outputs": [
    {
     "data": {
      "text/plain": [
       "True"
      ]
     },
     "execution_count": 1,
     "metadata": {},
     "output_type": "execute_result"
    }
   ],
   "source": [
    "from dotenv import load_dotenv\n",
    "load_dotenv()"
   ]
  },
  {
   "cell_type": "code",
   "execution_count": 2,
   "id": "d099d571-ca56-4112-bf70-f5f24dc4d679",
   "metadata": {},
   "outputs": [],
   "source": [
    "import findspark\n",
    "findspark.init()"
   ]
  },
  {
   "cell_type": "code",
   "execution_count": 3,
   "id": "17c5dae4-e951-4340-a1ce-387cbd0675d0",
   "metadata": {},
   "outputs": [],
   "source": [
    "from pyspark.sql import SparkSession\n",
    "\n",
    "spark = SparkSession.builder.master(\"local[*]\").appName(\"Phone Price Prediction\").getOrCreate()"
   ]
  },
  {
   "cell_type": "code",
   "execution_count": 4,
   "id": "ec3bf38c-02ed-44dc-bd42-e6778e7d1330",
   "metadata": {},
   "outputs": [
    {
     "data": {
      "text/html": [
       "\n",
       "            <div>\n",
       "                <p><b>SparkSession - in-memory</b></p>\n",
       "                \n",
       "        <div>\n",
       "            <p><b>SparkContext</b></p>\n",
       "\n",
       "            <p><a href=\"http://CBLLAP3157:4040\">Spark UI</a></p>\n",
       "\n",
       "            <dl>\n",
       "              <dt>Version</dt>\n",
       "                <dd><code>v3.4.2</code></dd>\n",
       "              <dt>Master</dt>\n",
       "                <dd><code>local[*]</code></dd>\n",
       "              <dt>AppName</dt>\n",
       "                <dd><code>Phone Price Prediction</code></dd>\n",
       "            </dl>\n",
       "        </div>\n",
       "        \n",
       "            </div>\n",
       "        "
      ],
      "text/plain": [
       "<pyspark.sql.session.SparkSession at 0x24539df6d10>"
      ]
     },
     "execution_count": 4,
     "metadata": {},
     "output_type": "execute_result"
    }
   ],
   "source": [
    "spark"
   ]
  },
  {
   "cell_type": "code",
   "execution_count": 5,
   "id": "0cc893f8-1e69-46e9-a49a-6efdcb3e8175",
   "metadata": {},
   "outputs": [],
   "source": [
    "sc = spark.sparkContext"
   ]
  },
  {
   "cell_type": "code",
   "execution_count": 6,
   "id": "7efc083a-b731-4b51-9242-45ca183e7085",
   "metadata": {},
   "outputs": [],
   "source": [
    "spark.conf.set(\"spark.sql.shuffle.partitions\", sc.defaultParallelism)"
   ]
  },
  {
   "cell_type": "code",
   "execution_count": 7,
   "id": "d3e20565-c497-42fe-91d5-fa091b1a7a09",
   "metadata": {},
   "outputs": [],
   "source": [
    "import pyspark.sql.functions as F\n",
    "from pyspark.sql.types import IntegerType, ArrayType, DoubleType"
   ]
  },
  {
   "cell_type": "code",
   "execution_count": 8,
   "id": "6b373b40-e33b-4b9f-8ede-518cd5dc0c34",
   "metadata": {},
   "outputs": [
    {
     "name": "stdout",
     "output_type": "stream",
     "text": [
      "+---+--------------------+------+----------+--------------------+--------+-----------------+----------+--------------------+--------------------+---------------+------+-------+---------------+------------------+--------------------+--------------------+-------------------+\n",
      "| id|                Name|Rating|Spec_score|           No_of_sim|     Ram|          Battery|   Display|              Camera|     External_Memory|Android_version| Price|company| Inbuilt_memory|     fast_charging|   Screen_resolution|           Processor|     Processor_name|\n",
      "+---+--------------------+------+----------+--------------------+--------+-----------------+----------+--------------------+--------------------+---------------+------+-------+---------------+------------------+--------------------+--------------------+-------------------+\n",
      "|  0|Samsung Galaxy F1...|  4.65|        68|Dual Sim, 3G, 4G,...|4 GB RAM|6000 mAh Battery |6.6 inches|50 MP + 2 MP Dual...|Memory Card Suppo...|             13| 9,999|Samsung| 128 GB inbuilt| 25W Fast Charging| 2408 x 1080 px D...| Octa Core Processor|        Exynos 1330|\n",
      "|  1|  Samsung Galaxy A11|   4.2|        63|Dual Sim, 3G, 4G,...|2 GB RAM|4000 mAh Battery |6.4 inches|13 MP + 5 MP + 2 ...|Memory Card Suppo...|             10| 9,990|Samsung|  32 GB inbuilt| 15W Fast Charging| 720 x 1560 px Di...|   1.8 GHz Processor|          Octa Core|\n",
      "|  2|  Samsung Galaxy A13|   4.3|        75|Dual Sim, 3G, 4G,...|4 GB RAM|5000 mAh Battery |6.6 inches|50 MP Quad Rear &...|Memory Card Suppo...|             12|11,999|Samsung|  64 GB inbuilt| 25W Fast Charging| 1080 x 2408 px D...|     2 GHz Processor|          Octa Core|\n",
      "|  3|  Samsung Galaxy F23|   4.1|        73|Dual Sim, 3G, 4G,...|4 GB RAM| 6000 mAh Battery|6.4 inches|48 MP Quad Rear &...|Memory Card Suppo...|             12|11,999|Samsung|  64 GB inbuilt|              null|       720 x 1600 px|           Octa Core|          Helio G88|\n",
      "|  4|Samsung Galaxy A0...|   4.1|        69|Dual Sim, 3G, 4G,...|4 GB RAM|5000 mAh Battery |6.5 inches|13 MP + 2 MP + 2 ...|Memory Card Suppo...|             11|11,999|Samsung|  64 GB inbuilt| 15W Fast Charging| 720 x 1600 px Di...|           Octa Core|          Helio P35|\n",
      "|  5|Samsung Galaxy M1...|   4.4|        75|Dual Sim, 3G, 4G,...|6 GB RAM|5000 mAh Battery |6.5 inches|50 MP + 2 MP Dual...|Memory Card Suppo...|             12|11,990|Samsung| 128 GB inbuilt| 15W Fast Charging|       720 x 1600 px|           Octa Core|      Dimensity 700|\n",
      "|  6|Samsung Galaxy M2...|   4.1|        76|Dual Sim, 3G, 4G,...|4 GB RAM|6000 mAh Battery |6.4 inches|48 MP + 8 MP + 5 ...|Memory Card Suppo...|             11|11,990|Samsung|  64 GB inbuilt| 15W Fast Charging| 1080 x 2340 px D...|           Octa Core|        Exynos 9611|\n",
      "|  7|  Samsung Galaxy A12|   4.1|        71|Dual Sim, 3G, 4G,...|4 GB RAM|5000 mAh Battery |6.5 inches|48 MP Quad Rear &...|Memory Card Suppo...|             10|11,990|Samsung|  64 GB inbuilt| 15W Fast Charging| 720 x 1560 px Di...|           Octa Core|          Helio P35|\n",
      "|  8|Samsung Galaxy A1...|  4.05|        75|Dual Sim, 3G, 4G,...|4 GB RAM|5000 mAh Battery |6.6 inches|50 MP + 2 MP + 2 ...|Memory Card Suppo...|             13|11,599|Samsung|  64 GB inbuilt| 15W Fast Charging|      1080 x 2408 px|           Octa Core|        Exynos 1330|\n",
      "|  9|  Samsung Galaxy M13|   4.5|        75|Dual Sim, 3G, 4G,...|6 GB RAM|6000 mAh Battery |6.6 inches|50 MP + 5 MP + 2 ...|Memory Card Suppo...|             12|12,298|Samsung| 128 GB inbuilt| 15W Fast Charging| 1080 x 2400 px D...|           Octa Core|        Exynos  850|\n",
      "| 10|Samsung Galaxy F3...|  4.25|        85|Dual Sim, 3G, 4G,...|8 GB RAM|6000 mAh Battery |6.5 inches|50 MP + 8 MP + 2 ...|Memory Card (Hybr...|             13|14,999|Samsung| 128 GB inbuilt| 25W Fast Charging|      1080 x 2340 px|           Octa Core|        Exynos 1280|\n",
      "| 11|Samsung Galaxy F2...|   4.4|        78|Dual Sim, 3G, 4G,...|4 GB RAM|5000 mAh Battery |6.6 inches|50 MP + 8 MP + 2 ...|Memory Card Suppo...|             12|14,999|Samsung| 128 GB inbuilt| 25W Fast Charging|      1080 x 2408 px|           Octa Core|     Snapdragon 695|\n",
      "| 12|  Samsung Galaxy F13|  4.05|        72|Dual Sim, 3G, 4G,...|4 GB RAM|6000 mAh Battery |6.6 inches|50 MP + 5 MP + 2 ...|Memory Card Suppo...|             12|14,999|Samsung|  64 GB inbuilt| 15W Fast Charging| 2408 x 1080 px D...|           Octa Core|         Exynos 850|\n",
      "| 13|  Samsung Galaxy M23|   4.4|        75|Dual Sim, 3G, 4G,...|4 GB RAM|5000 mAh Battery |6.4 inches|48 MP Quad Rear &...|Memory Card Suppo...|             12|14,999|Samsung| 128 GB inbuilt| 18W Fast Charging|       720 x 1600 px|           Octa Core|          Helio G88|\n",
      "| 14|Samsung Galaxy M1...|  4.05|        75|Dual Sim, 3G, 4G,...|6 GB RAM|6000 mAh Battery |6.5 inches|48 MP Quad Rear &...|Memory Card Suppo...|             11|14,999|Samsung| 128 GB inbuilt| 15W Fast Charging|       720 x 1600 px|           Octa Core|        Exynos  850|\n",
      "| 15|  Samsung Galaxy A41|   4.1|        74|Dual Sim, 3G, 4G,...|4 GB RAM| 3500 mAh Battery|6.1 inches|48 MP + 8 MP + 5 ...|Memory Card Suppo...|             10|14,999|Samsung|  64 GB inbuilt|              null| 1080 x 2340 px D...|           Octa Core|          Helio P65|\n",
      "| 16|Samsung Galaxy F1...|   4.2|        73|Dual Sim, 3G, 4G,...|6 GB RAM|6000 mAh Battery |6.6 inches|50 MP + 13 MP + 2...|Memory Card (Hybr...|             15|14,990|Samsung| 128 GB inbuilt| 25W Fast Charging|      1080 x 2340 px|                null|Octa Core Processor|\n",
      "| 17|  Samsung Galaxy F14|  4.75|        75|Dual Sim, 3G, 4G,...|4 GB RAM|5000 mAh Battery |6.7 inches|50 MP + 2 MP + 2 ...|Memory Card Suppo...|             13|14,990|Samsung| 128 GB inbuilt| 25W Fast Charging| 1080 x 2400 px D...|           Octa Core|     Snapdragon 680|\n",
      "| 18|Samsung Galaxy A1...|  4.75|        79|Dual Sim, 3G, 4G,...|6 GB RAM|5000 mAh Battery |6.6 inches|50 MP + 2 MP + 2 ...|Memory Card Suppo...|             13|14,949|Samsung| 128 GB inbuilt| 15W Fast Charging|      1080 x 2408 px|           Octa Core|        Exynos 1330|\n",
      "| 19|  Samsung Galaxy A32|   4.3|        80|Dual Sim, 3G, 4G,...|6 GB RAM|5000 mAh Battery |6.4 inches|64 MP Quad Rear &...|Memory Card Suppo...|             11|19,999|Samsung| 128 GB inbuilt| 15W Fast Charging|      1080 x 2400 px|           Octa Core|          Helio G80|\n",
      "+---+--------------------+------+----------+--------------------+--------+-----------------+----------+--------------------+--------------------+---------------+------+-------+---------------+------------------+--------------------+--------------------+-------------------+\n",
      "only showing top 20 rows\n",
      "\n"
     ]
    }
   ],
   "source": [
    "mobile_df = spark.read.csv(\"./data/mobile phone price prediction.csv\", header=True, inferSchema=True).withColumnRenamed(\"_c0\", \"id\")\n",
    "mobile_df.show()"
   ]
  },
  {
   "cell_type": "code",
   "execution_count": 9,
   "id": "36602594-463d-4647-82c4-0afea65a43fb",
   "metadata": {},
   "outputs": [
    {
     "data": {
      "text/plain": [
       "1370"
      ]
     },
     "execution_count": 9,
     "metadata": {},
     "output_type": "execute_result"
    }
   ],
   "source": [
    "mobile_df.count()"
   ]
  },
  {
   "cell_type": "code",
   "execution_count": 74,
   "id": "ad5ce088-8b54-4a65-b848-c084f3f16ac5",
   "metadata": {},
   "outputs": [
    {
     "name": "stdout",
     "output_type": "stream",
     "text": [
      "<class 'pandas.core.frame.DataFrame'>\n",
      "        id                                  Name  Rating  Spec_score  \\\n",
      "0        0                 Samsung Galaxy F14 5G    4.65          68   \n",
      "1        1                    Samsung Galaxy A11    4.20          63   \n",
      "2        2                    Samsung Galaxy A13    4.30          75   \n",
      "3        3                    Samsung Galaxy F23    4.10          73   \n",
      "4        4  Samsung Galaxy A03s (4GB RAM + 64GB)    4.10          69   \n",
      "...    ...                                   ...     ...         ...   \n",
      "1365  1365                               TCL 40R    4.05          75   \n",
      "1366  1366                 TCL 50 XL NxtPaper 5G    4.10          80   \n",
      "1367  1367                 TCL 50 XE NxtPaper 5G    4.00          80   \n",
      "1368  1368                    TCL 40 NxtPaper 5G    4.50          79   \n",
      "1369  1369                           TCL Trifold    4.65          93   \n",
      "\n",
      "                                No_of_sim        Ram            Battery  \\\n",
      "0           Dual Sim, 3G, 4G, 5G, VoLTE,    4 GB RAM  6000 mAh Battery    \n",
      "1               Dual Sim, 3G, 4G, VoLTE,    2 GB RAM  4000 mAh Battery    \n",
      "2               Dual Sim, 3G, 4G, VoLTE,    4 GB RAM  5000 mAh Battery    \n",
      "3               Dual Sim, 3G, 4G, VoLTE,    4 GB RAM   6000 mAh Battery   \n",
      "4               Dual Sim, 3G, 4G, VoLTE,    4 GB RAM  5000 mAh Battery    \n",
      "...                                   ...        ...                ...   \n",
      "1365        Dual Sim, 3G, 4G, 5G, VoLTE,    4 GB RAM  5000 mAh Battery    \n",
      "1366            Dual Sim, 3G, 4G, VoLTE,    8 GB RAM  5000 mAh Battery    \n",
      "1367        Dual Sim, 3G, 4G, 5G, VoLTE,    6 GB RAM  5000 mAh Battery    \n",
      "1368        Dual Sim, 3G, 4G, 5G, VoLTE,    6 GB RAM  5000 mAh Battery    \n",
      "1369  Dual Sim, 3G, 4G, 5G, VoLTE, Vo5G,   12 GB RAM  4600 mAh Battery    \n",
      "\n",
      "         Display                                             Camera  \\\n",
      "0     6.6 inches    50 MP + 2 MP Dual Rear &amp; 13 MP Front Camera   \n",
      "1     6.4 inches  13 MP + 5 MP + 2 MP Triple Rear &amp; 8 MP Fro...   \n",
      "2     6.6 inches            50 MP Quad Rear &amp; 8 MP Front Camera   \n",
      "3     6.4 inches           48 MP Quad Rear &amp; 13 MP Front Camera   \n",
      "4     6.5 inches  13 MP + 2 MP + 2 MP Triple Rear &amp; 5 MP Fro...   \n",
      "...          ...                                                ...   \n",
      "1365  6.6 inches  50 MP + 2 MP + 2 MP Triple Rear &amp; 8 MP Fro...   \n",
      "1366  6.8 inches    50 MP + 2 MP Dual Rear &amp; 16 MP Front Camera   \n",
      "1367  6.6 inches    50 MP + 2 MP Dual Rear &amp; 16 MP Front Camera   \n",
      "1368  6.6 inches  50 MP + 2 MP + 2 MP Triple Rear &amp; 8 MP Fro...   \n",
      "1369   10 inches                     Foldable Display, Dual Display   \n",
      "\n",
      "                                        External_Memory Android_version  \\\n",
      "0                      Memory Card Supported, upto 1 TB              13   \n",
      "1                    Memory Card Supported, upto 512 GB              10   \n",
      "2                      Memory Card Supported, upto 1 TB              12   \n",
      "3                      Memory Card Supported, upto 1 TB              12   \n",
      "4                      Memory Card Supported, upto 1 TB              11   \n",
      "...                                                 ...             ...   \n",
      "1365                               Memory Card (Hybrid)              12   \n",
      "1366                               Memory Card (Hybrid)              14   \n",
      "1367                   Memory Card Supported, upto 1 TB              13   \n",
      "1368                   Memory Card Supported, upto 1 TB              13   \n",
      "1369  50 MP + 48 MP + 8 MP Triple Rear &amp; 32 MP F...              13   \n",
      "\n",
      "         Price  company   Inbuilt_memory       fast_charging  \\\n",
      "0        9,999  Samsung   128 GB inbuilt   25W Fast Charging   \n",
      "1        9,990  Samsung    32 GB inbuilt   15W Fast Charging   \n",
      "2       11,999  Samsung    64 GB inbuilt   25W Fast Charging   \n",
      "3       11,999  Samsung    64 GB inbuilt                None   \n",
      "4       11,999  Samsung    64 GB inbuilt   15W Fast Charging   \n",
      "...        ...      ...              ...                 ...   \n",
      "1365    18,999      TCL    64 GB inbuilt   15W Fast Charging   \n",
      "1366    24,990      TCL   128 GB inbuilt   33W Fast Charging   \n",
      "1367    23,990      TCL   256 GB inbuilt   18W Fast Charging   \n",
      "1368    22,499      TCL   256 GB inbuilt   15W Fast Charging   \n",
      "1369  1,19,990      TCL   256 GB inbuilt   67W Fast Charging   \n",
      "\n",
      "                                  Screen_resolution             Processor  \\\n",
      "0      2408 x 1080 px Display with Water Drop Notch   Octa Core Processor   \n",
      "1             720 x 1560 px Display with Punch Hole     1.8 GHz Processor   \n",
      "2      1080 x 2408 px Display with Water Drop Notch       2 GHz Processor   \n",
      "3                                     720 x 1600 px             Octa Core   \n",
      "4       720 x 1600 px Display with Water Drop Notch             Octa Core   \n",
      "...                                             ...                   ...   \n",
      "1365                                  720 x 1612 px             Octa Core   \n",
      "1366                                 1200 x 2400 px             Octa Core   \n",
      "1367                                  720 x 1612 px             Octa Core   \n",
      "1368                                  720 x 1612 px             Octa Core   \n",
      "1369                                 1916 x 2160 px             Octa Core   \n",
      "\n",
      "         Processor_name  \n",
      "0           Exynos 1330  \n",
      "1             Octa Core  \n",
      "2             Octa Core  \n",
      "3             Helio G88  \n",
      "4             Helio P35  \n",
      "...                 ...  \n",
      "1365   Dimensity 700 5G  \n",
      "1366     Dimensity 7050  \n",
      "1367     Dimensity 6080  \n",
      "1368     Dimensity 6020  \n",
      "1369  Snapdragon 8 Gen2  \n",
      "\n",
      "[1370 rows x 18 columns]\n"
     ]
    }
   ],
   "source": [
    "print( type(mobile_df.toPandas()) )\n",
    "print( mobile_df.toPandas() )"
   ]
  },
  {
   "cell_type": "code",
   "execution_count": 10,
   "id": "b29df05f-66e9-4ef3-a78f-7d2418d84e8d",
   "metadata": {},
   "outputs": [
    {
     "name": "stdout",
     "output_type": "stream",
     "text": [
      "+---+--------------------+------+----------+--------------------+--------+-----------------+----------+--------------------+--------------------+---------------+------+-------+---------------+------------------+--------------------+--------------------+-------------------+\n",
      "|_c0|                Name|Rating|Spec_score|           No_of_sim|     Ram|          Battery|   Display|              Camera|     External_Memory|Android_version| Price|company| Inbuilt_memory|     fast_charging|   Screen_resolution|           Processor|     Processor_name|\n",
      "+---+--------------------+------+----------+--------------------+--------+-----------------+----------+--------------------+--------------------+---------------+------+-------+---------------+------------------+--------------------+--------------------+-------------------+\n",
      "|  0|Samsung Galaxy F1...|  4.65|        68|Dual Sim, 3G, 4G,...|4 GB RAM|6000 mAh Battery |6.6 inches|50 MP + 2 MP Dual...|Memory Card Suppo...|             13| 9,999|Samsung| 128 GB inbuilt| 25W Fast Charging| 2408 x 1080 px D...| Octa Core Processor|        Exynos 1330|\n",
      "|  1|  Samsung Galaxy A11|   4.2|        63|Dual Sim, 3G, 4G,...|2 GB RAM|4000 mAh Battery |6.4 inches|13 MP + 5 MP + 2 ...|Memory Card Suppo...|             10| 9,990|Samsung|  32 GB inbuilt| 15W Fast Charging| 720 x 1560 px Di...|   1.8 GHz Processor|          Octa Core|\n",
      "|  2|  Samsung Galaxy A13|   4.3|        75|Dual Sim, 3G, 4G,...|4 GB RAM|5000 mAh Battery |6.6 inches|50 MP Quad Rear &...|Memory Card Suppo...|             12|11,999|Samsung|  64 GB inbuilt| 25W Fast Charging| 1080 x 2408 px D...|     2 GHz Processor|          Octa Core|\n",
      "|  3|  Samsung Galaxy F23|   4.1|        73|Dual Sim, 3G, 4G,...|4 GB RAM| 6000 mAh Battery|6.4 inches|48 MP Quad Rear &...|Memory Card Suppo...|             12|11,999|Samsung|  64 GB inbuilt|              null|       720 x 1600 px|           Octa Core|          Helio G88|\n",
      "|  4|Samsung Galaxy A0...|   4.1|        69|Dual Sim, 3G, 4G,...|4 GB RAM|5000 mAh Battery |6.5 inches|13 MP + 2 MP + 2 ...|Memory Card Suppo...|             11|11,999|Samsung|  64 GB inbuilt| 15W Fast Charging| 720 x 1600 px Di...|           Octa Core|          Helio P35|\n",
      "|  5|Samsung Galaxy M1...|   4.4|        75|Dual Sim, 3G, 4G,...|6 GB RAM|5000 mAh Battery |6.5 inches|50 MP + 2 MP Dual...|Memory Card Suppo...|             12|11,990|Samsung| 128 GB inbuilt| 15W Fast Charging|       720 x 1600 px|           Octa Core|      Dimensity 700|\n",
      "|  6|Samsung Galaxy M2...|   4.1|        76|Dual Sim, 3G, 4G,...|4 GB RAM|6000 mAh Battery |6.4 inches|48 MP + 8 MP + 5 ...|Memory Card Suppo...|             11|11,990|Samsung|  64 GB inbuilt| 15W Fast Charging| 1080 x 2340 px D...|           Octa Core|        Exynos 9611|\n",
      "|  7|  Samsung Galaxy A12|   4.1|        71|Dual Sim, 3G, 4G,...|4 GB RAM|5000 mAh Battery |6.5 inches|48 MP Quad Rear &...|Memory Card Suppo...|             10|11,990|Samsung|  64 GB inbuilt| 15W Fast Charging| 720 x 1560 px Di...|           Octa Core|          Helio P35|\n",
      "|  8|Samsung Galaxy A1...|  4.05|        75|Dual Sim, 3G, 4G,...|4 GB RAM|5000 mAh Battery |6.6 inches|50 MP + 2 MP + 2 ...|Memory Card Suppo...|             13|11,599|Samsung|  64 GB inbuilt| 15W Fast Charging|      1080 x 2408 px|           Octa Core|        Exynos 1330|\n",
      "|  9|  Samsung Galaxy M13|   4.5|        75|Dual Sim, 3G, 4G,...|6 GB RAM|6000 mAh Battery |6.6 inches|50 MP + 5 MP + 2 ...|Memory Card Suppo...|             12|12,298|Samsung| 128 GB inbuilt| 15W Fast Charging| 1080 x 2400 px D...|           Octa Core|        Exynos  850|\n",
      "| 10|Samsung Galaxy F3...|  4.25|        85|Dual Sim, 3G, 4G,...|8 GB RAM|6000 mAh Battery |6.5 inches|50 MP + 8 MP + 2 ...|Memory Card (Hybr...|             13|14,999|Samsung| 128 GB inbuilt| 25W Fast Charging|      1080 x 2340 px|           Octa Core|        Exynos 1280|\n",
      "| 11|Samsung Galaxy F2...|   4.4|        78|Dual Sim, 3G, 4G,...|4 GB RAM|5000 mAh Battery |6.6 inches|50 MP + 8 MP + 2 ...|Memory Card Suppo...|             12|14,999|Samsung| 128 GB inbuilt| 25W Fast Charging|      1080 x 2408 px|           Octa Core|     Snapdragon 695|\n",
      "| 12|  Samsung Galaxy F13|  4.05|        72|Dual Sim, 3G, 4G,...|4 GB RAM|6000 mAh Battery |6.6 inches|50 MP + 5 MP + 2 ...|Memory Card Suppo...|             12|14,999|Samsung|  64 GB inbuilt| 15W Fast Charging| 2408 x 1080 px D...|           Octa Core|         Exynos 850|\n",
      "| 13|  Samsung Galaxy M23|   4.4|        75|Dual Sim, 3G, 4G,...|4 GB RAM|5000 mAh Battery |6.4 inches|48 MP Quad Rear &...|Memory Card Suppo...|             12|14,999|Samsung| 128 GB inbuilt| 18W Fast Charging|       720 x 1600 px|           Octa Core|          Helio G88|\n",
      "| 14|Samsung Galaxy M1...|  4.05|        75|Dual Sim, 3G, 4G,...|6 GB RAM|6000 mAh Battery |6.5 inches|48 MP Quad Rear &...|Memory Card Suppo...|             11|14,999|Samsung| 128 GB inbuilt| 15W Fast Charging|       720 x 1600 px|           Octa Core|        Exynos  850|\n",
      "| 15|  Samsung Galaxy A41|   4.1|        74|Dual Sim, 3G, 4G,...|4 GB RAM| 3500 mAh Battery|6.1 inches|48 MP + 8 MP + 5 ...|Memory Card Suppo...|             10|14,999|Samsung|  64 GB inbuilt|              null| 1080 x 2340 px D...|           Octa Core|          Helio P65|\n",
      "| 16|Samsung Galaxy F1...|   4.2|        73|Dual Sim, 3G, 4G,...|6 GB RAM|6000 mAh Battery |6.6 inches|50 MP + 13 MP + 2...|Memory Card (Hybr...|             15|14,990|Samsung| 128 GB inbuilt| 25W Fast Charging|      1080 x 2340 px|                null|Octa Core Processor|\n",
      "| 17|  Samsung Galaxy F14|  4.75|        75|Dual Sim, 3G, 4G,...|4 GB RAM|5000 mAh Battery |6.7 inches|50 MP + 2 MP + 2 ...|Memory Card Suppo...|             13|14,990|Samsung| 128 GB inbuilt| 25W Fast Charging| 1080 x 2400 px D...|           Octa Core|     Snapdragon 680|\n",
      "| 18|Samsung Galaxy A1...|  4.75|        79|Dual Sim, 3G, 4G,...|6 GB RAM|5000 mAh Battery |6.6 inches|50 MP + 2 MP + 2 ...|Memory Card Suppo...|             13|14,949|Samsung| 128 GB inbuilt| 15W Fast Charging|      1080 x 2408 px|           Octa Core|        Exynos 1330|\n",
      "| 19|  Samsung Galaxy A32|   4.3|        80|Dual Sim, 3G, 4G,...|6 GB RAM|5000 mAh Battery |6.4 inches|64 MP Quad Rear &...|Memory Card Suppo...|             11|19,999|Samsung| 128 GB inbuilt| 15W Fast Charging|      1080 x 2400 px|           Octa Core|          Helio G80|\n",
      "+---+--------------------+------+----------+--------------------+--------+-----------------+----------+--------------------+--------------------+---------------+------+-------+---------------+------------------+--------------------+--------------------+-------------------+\n",
      "only showing top 20 rows\n",
      "\n"
     ]
    }
   ],
   "source": [
    "opt = {\n",
    "    \"header\": True,\n",
    "    \"inferSchema\":True\n",
    "}\n",
    "\n",
    "mobile_df2 = spark.read.format(\"csv\").options(**opt).load(\"./data/mobile phone price prediction.csv\")\n",
    "mobile_df2.show()"
   ]
  },
  {
   "cell_type": "code",
   "execution_count": 11,
   "id": "28d16a30-60ab-46b0-8753-ad7a24bf88e5",
   "metadata": {},
   "outputs": [
    {
     "name": "stdout",
     "output_type": "stream",
     "text": [
      "root\n",
      " |-- id: integer (nullable = true)\n",
      " |-- Name: string (nullable = true)\n",
      " |-- Rating: double (nullable = true)\n",
      " |-- Spec_score: integer (nullable = true)\n",
      " |-- No_of_sim: string (nullable = true)\n",
      " |-- Ram: string (nullable = true)\n",
      " |-- Battery: string (nullable = true)\n",
      " |-- Display: string (nullable = true)\n",
      " |-- Camera: string (nullable = true)\n",
      " |-- External_Memory: string (nullable = true)\n",
      " |-- Android_version: string (nullable = true)\n",
      " |-- Price: string (nullable = true)\n",
      " |-- company: string (nullable = true)\n",
      " |-- Inbuilt_memory: string (nullable = true)\n",
      " |-- fast_charging: string (nullable = true)\n",
      " |-- Screen_resolution: string (nullable = true)\n",
      " |-- Processor: string (nullable = true)\n",
      " |-- Processor_name: string (nullable = true)\n",
      "\n"
     ]
    }
   ],
   "source": [
    "mobile_df.printSchema()"
   ]
  },
  {
   "cell_type": "code",
   "execution_count": 12,
   "id": "b18f59cc-0dff-4382-b508-c696007312c4",
   "metadata": {},
   "outputs": [
    {
     "name": "stdout",
     "output_type": "stream",
     "text": [
      "+-------------------+\n",
      "|Processor_name     |\n",
      "+-------------------+\n",
      "|Snapdragon 695     |\n",
      "|Snapdragon 750G    |\n",
      "|Snapdragon 7s Gen2 |\n",
      "|Exynos 2100        |\n",
      "|Dimensity 6020     |\n",
      "|Snapdragon 7 Gen3  |\n",
      "|Snapdragon 782G    |\n",
      "|Dimensity 8300     |\n",
      "|Dimensity 9300 Plus|\n",
      "|Snapdragon  7 Gen1 |\n",
      "|Snapdragon 7+ Gen3 |\n",
      "|Dimensity 8100-Max |\n",
      "|Snapdragon  870    |\n",
      "|Dimensity 8100     |\n",
      "|Snapdragon  480+   |\n",
      "|Tensor G2          |\n",
      "|Snapdragon  765G   |\n",
      "|Snapdragon  439    |\n",
      "|Exynos 1280        |\n",
      "|Exynos 2400        |\n",
      "+-------------------+\n",
      "only showing top 20 rows\n",
      "\n"
     ]
    }
   ],
   "source": [
    "(\n",
    "    mobile_df.select(\"Processor_name\").distinct()\n",
    "    .show(truncate=False)\n",
    ")"
   ]
  },
  {
   "cell_type": "code",
   "execution_count": 13,
   "id": "975dd7bc-e267-46cb-b425-3b798787704d",
   "metadata": {},
   "outputs": [
    {
     "name": "stdout",
     "output_type": "stream",
     "text": [
      "+------+----------+--------+-----------------+----------+---------------------------------------------------------+---------------+---------------+------------------+---------------------------------------------+------+\n",
      "|Rating|Spec_score|Ram     |Battery          |Display   |Camera                                                   |Android_version|Inbuilt_memory |fast_charging     |Screen_resolution                            |Price |\n",
      "+------+----------+--------+-----------------+----------+---------------------------------------------------------+---------------+---------------+------------------+---------------------------------------------+------+\n",
      "|4.65  |68        |4 GB RAM|6000 mAh Battery |6.6 inches|50 MP + 2 MP Dual Rear &amp; 13 MP Front Camera          |13             | 128 GB inbuilt| 25W Fast Charging| 2408 x 1080 px Display with Water Drop Notch|9,999 |\n",
      "|4.2   |63        |2 GB RAM|4000 mAh Battery |6.4 inches|13 MP + 5 MP + 2 MP Triple Rear &amp; 8 MP Front Camera  |10             | 32 GB inbuilt | 15W Fast Charging| 720 x 1560 px Display with Punch Hole       |9,990 |\n",
      "|4.3   |75        |4 GB RAM|5000 mAh Battery |6.6 inches|50 MP Quad Rear &amp; 8 MP Front Camera                  |12             | 64 GB inbuilt | 25W Fast Charging| 1080 x 2408 px Display with Water Drop Notch|11,999|\n",
      "|4.1   |73        |4 GB RAM|6000 mAh Battery |6.4 inches|48 MP Quad Rear &amp; 13 MP Front Camera                 |12             | 64 GB inbuilt |null              | 720 x 1600 px                               |11,999|\n",
      "|4.1   |69        |4 GB RAM|5000 mAh Battery |6.5 inches|13 MP + 2 MP + 2 MP Triple Rear &amp; 5 MP Front Camera  |11             | 64 GB inbuilt | 15W Fast Charging| 720 x 1600 px Display with Water Drop Notch |11,999|\n",
      "|4.4   |75        |6 GB RAM|5000 mAh Battery |6.5 inches|50 MP + 2 MP Dual Rear &amp; 5 MP Front Camera           |12             | 128 GB inbuilt| 15W Fast Charging| 720 x 1600 px                               |11,990|\n",
      "|4.1   |76        |4 GB RAM|6000 mAh Battery |6.4 inches|48 MP + 8 MP + 5 MP Triple Rear &amp; 20 MP Front Camera |11             | 64 GB inbuilt | 15W Fast Charging| 1080 x 2340 px Display with Water Drop Notch|11,990|\n",
      "|4.1   |71        |4 GB RAM|5000 mAh Battery |6.5 inches|48 MP Quad Rear &amp; 8 MP Front Camera                  |10             | 64 GB inbuilt | 15W Fast Charging| 720 x 1560 px Display with Water Drop Notch |11,990|\n",
      "|4.05  |75        |4 GB RAM|5000 mAh Battery |6.6 inches|50 MP + 2 MP + 2 MP Triple Rear &amp; 13 MP Front Camera |13             | 64 GB inbuilt | 15W Fast Charging| 1080 x 2408 px                              |11,599|\n",
      "|4.5   |75        |6 GB RAM|6000 mAh Battery |6.6 inches|50 MP + 5 MP + 2 MP Triple Rear &amp; 8 MP Front Camera  |12             | 128 GB inbuilt| 15W Fast Charging| 1080 x 2400 px Display with Water Drop Notch|12,298|\n",
      "|4.25  |85        |8 GB RAM|6000 mAh Battery |6.5 inches|50 MP + 8 MP + 2 MP Triple Rear &amp; 13 MP Front Camera |13             | 128 GB inbuilt| 25W Fast Charging| 1080 x 2340 px                              |14,999|\n",
      "|4.4   |78        |4 GB RAM|5000 mAh Battery |6.6 inches|50 MP + 8 MP + 2 MP Triple Rear &amp; 8 MP Front Camera  |12             | 128 GB inbuilt| 25W Fast Charging| 1080 x 2408 px                              |14,999|\n",
      "|4.05  |72        |4 GB RAM|6000 mAh Battery |6.6 inches|50 MP + 5 MP + 2 MP Triple Rear &amp; 8 MP Front Camera  |12             | 64 GB inbuilt | 15W Fast Charging| 2408 x 1080 px Display with Water Drop Notch|14,999|\n",
      "|4.4   |75        |4 GB RAM|5000 mAh Battery |6.4 inches|48 MP Quad Rear &amp; 13 MP Front Camera                 |12             | 128 GB inbuilt| 18W Fast Charging| 720 x 1600 px                               |14,999|\n",
      "|4.05  |75        |6 GB RAM|6000 mAh Battery |6.5 inches|48 MP Quad Rear &amp; 8 MP Front Camera                  |11             | 128 GB inbuilt| 15W Fast Charging| 720 x 1600 px                               |14,999|\n",
      "|4.1   |74        |4 GB RAM|3500 mAh Battery |6.1 inches|48 MP + 8 MP + 5 MP Triple Rear &amp; 25 MP Front Camera |10             | 64 GB inbuilt |null              | 1080 x 2340 px Display with Water Drop Notch|14,999|\n",
      "|4.2   |73        |6 GB RAM|6000 mAh Battery |6.6 inches|50 MP + 13 MP + 2 MP Triple Rear &amp; 32 MP Front Camera|15             | 128 GB inbuilt| 25W Fast Charging| 1080 x 2340 px                              |14,990|\n",
      "|4.75  |75        |4 GB RAM|5000 mAh Battery |6.7 inches|50 MP + 2 MP + 2 MP Triple Rear &amp; 13 MP Front Camera |13             | 128 GB inbuilt| 25W Fast Charging| 1080 x 2400 px Display with Water Drop Notch|14,990|\n",
      "|4.75  |79        |6 GB RAM|5000 mAh Battery |6.6 inches|50 MP + 2 MP + 2 MP Triple Rear &amp; 13 MP Front Camera |13             | 128 GB inbuilt| 15W Fast Charging| 1080 x 2408 px                              |14,949|\n",
      "|4.3   |80        |6 GB RAM|5000 mAh Battery |6.4 inches|64 MP Quad Rear &amp; 20 MP Front Camera                 |11             | 128 GB inbuilt| 15W Fast Charging| 1080 x 2400 px                              |19,999|\n",
      "+------+----------+--------+-----------------+----------+---------------------------------------------------------+---------------+---------------+------------------+---------------------------------------------+------+\n",
      "only showing top 20 rows\n",
      "\n"
     ]
    }
   ],
   "source": [
    "mobile_df_req = mobile_df.select([\n",
    "    \"Rating\", \n",
    "    \"Spec_score\", \n",
    "    \"Ram\", \n",
    "    \"Battery\", \n",
    "    \"Display\", \n",
    "    \"Camera\", \n",
    "    \"Android_version\", \n",
    "    \"Inbuilt_memory\",\n",
    "    \"fast_charging\",\n",
    "    \"Screen_resolution\",\n",
    "    \"Price\"\n",
    "])\n",
    "mobile_df_req.show(truncate=False)"
   ]
  },
  {
   "cell_type": "code",
   "execution_count": 14,
   "id": "d7cde99e-110b-4884-8342-24d1ae01a7e9",
   "metadata": {},
   "outputs": [
    {
     "name": "stdout",
     "output_type": "stream",
     "text": [
      "+---------------------------------------------------------+-----------+----------+---------------+\n",
      "|Camera                                                   |Cam        |Cam2      |cam3           |\n",
      "+---------------------------------------------------------+-----------+----------+---------------+\n",
      "|50 MP + 2 MP Dual Rear &amp; 13 MP Front Camera          |50,2,13,   |50,2,13   |[50, 2, 13]    |\n",
      "|13 MP + 5 MP + 2 MP Triple Rear &amp; 8 MP Front Camera  |13,5,2,8,  |13,5,2,8  |[13, 5, 2, 8]  |\n",
      "|13 MP + 2 MP + 2 MP Triple Rear &amp; 5 MP Front Camera  |13,2,2,5,  |13,2,2,5  |[13, 2, 2, 5]  |\n",
      "|50 MP + 2 MP Dual Rear &amp; 5 MP Front Camera           |50,2,5,    |50,2,5    |[50, 2, 5]     |\n",
      "|48 MP + 8 MP + 5 MP Triple Rear &amp; 20 MP Front Camera |48,8,5,20, |48,8,5,20 |[48, 8, 5, 20] |\n",
      "|50 MP + 2 MP + 2 MP Triple Rear &amp; 13 MP Front Camera |50,2,2,13, |50,2,2,13 |[50, 2, 2, 13] |\n",
      "|50 MP + 5 MP + 2 MP Triple Rear &amp; 8 MP Front Camera  |50,5,2,8,  |50,5,2,8  |[50, 5, 2, 8]  |\n",
      "|50 MP + 8 MP + 2 MP Triple Rear &amp; 13 MP Front Camera |50,8,2,13, |50,8,2,13 |[50, 8, 2, 13] |\n",
      "|50 MP + 8 MP + 2 MP Triple Rear &amp; 8 MP Front Camera  |50,8,2,8,  |50,8,2,8  |[50, 8, 2, 8]  |\n",
      "|50 MP + 5 MP + 2 MP Triple Rear &amp; 8 MP Front Camera  |50,5,2,8,  |50,5,2,8  |[50, 5, 2, 8]  |\n",
      "|48 MP + 8 MP + 5 MP Triple Rear &amp; 25 MP Front Camera |48,8,5,25, |48,8,5,25 |[48, 8, 5, 25] |\n",
      "|50 MP + 13 MP + 2 MP Triple Rear &amp; 32 MP Front Camera|50,13,2,32,|50,13,2,32|[50, 13, 2, 32]|\n",
      "|50 MP + 2 MP + 2 MP Triple Rear &amp; 13 MP Front Camera |50,2,2,13, |50,2,2,13 |[50, 2, 2, 13] |\n",
      "|50 MP + 2 MP + 2 MP Triple Rear &amp; 13 MP Front Camera |50,2,2,13, |50,2,2,13 |[50, 2, 2, 13] |\n",
      "|64 MP + 8 MP + 5 MP Triple Rear &amp; 32 MP Front Camera |64,8,5,32, |64,8,5,32 |[64, 8, 5, 32] |\n",
      "|13 MP + 2 MP Dual Rear &amp; 16 MP Front Camera          |13,2,16,   |13,2,16   |[13, 2, 16]    |\n",
      "|50 MP + 2 MP Dual Rear &amp; 16 MP Front Camera          |50,2,16,   |50,2,16   |[50, 2, 16]    |\n",
      "|50 MP + 5 MP + 2 MP Triple Rear &amp; 13 MP Front Camera |50,5,2,13, |50,5,2,13 |[50, 5, 2, 13] |\n",
      "|50 MP + 5 MP + 2 MP Triple Rear &amp; 8 MP Front Camera  |50,5,2,8,  |50,5,2,8  |[50, 5, 2, 8]  |\n",
      "|64 MP + 8 MP + 2 MP Triple Rear &amp; 16 MP Front Camera |64,8,2,16, |64,8,2,16 |[64, 8, 2, 16] |\n",
      "+---------------------------------------------------------+-----------+----------+---------------+\n",
      "only showing top 20 rows\n",
      "\n"
     ]
    }
   ],
   "source": [
    "# Filtering all those mobile phones that have more than 2 cameras in it.\n",
    "(\n",
    "    mobile_df_req\n",
    "    .select(\"Camera\")\n",
    "    .withColumn(\"Cam\", F.regexp_replace(F.col(\"Camera\"), r'([^0-9])+' , ',' ) )\n",
    "    .withColumn(\"Cam2\",F.expr(\"substring(Cam, 1, length(Cam) - 1)\"))\n",
    "    .withColumn(\"cam3\",F.split(\"Cam2\",','))\n",
    "    .filter(F.size(F.col(\"cam3\"))>2)\n",
    "    .show(truncate=False)\n",
    ")"
   ]
  },
  {
   "cell_type": "code",
   "execution_count": 15,
   "id": "d8456433-79a3-48ce-9054-6b0fb2fdc1e7",
   "metadata": {},
   "outputs": [
    {
     "name": "stdout",
     "output_type": "stream",
     "text": [
      "+---------------------------------------------+------------------+\n",
      "|Screen_resolution                            |Screen_resolution2|\n",
      "+---------------------------------------------+------------------+\n",
      "| 1080 x 1920 px Display                      |,1080,1920,       |\n",
      "| 1080 x 1920 px                              |,1080,1920,       |\n",
      "| 1080 x 2160 px                              |,1080,2160,       |\n",
      "| 1080 x 2220 px Display                      |,1080,2220,       |\n",
      "| 1080 x 2246 px Display with Large Notch     |,1080,2246,       |\n",
      "| 1080 x 2256 px Display                      |,1080,2256,       |\n",
      "| 1080 x 2280 px Display                      |,1080,2280,       |\n",
      "| 1080 x 2280 px Display with Water Drop Notch|,1080,2280,       |\n",
      "| 1080 x 2340 px                              |,1080,2340,       |\n",
      "| 1080 x 2340 px                              |,1080,2340,       |\n",
      "| 1080 x 2340 px Display with Punch Hole      |,1080,2340,       |\n",
      "| 1080 x 2340 px                              |,1080,2340,       |\n",
      "| 1080 x 2340 px Display with Water Drop Notch|,1080,2340,       |\n",
      "| 1080 x 2340 px                              |,1080,2340,       |\n",
      "| 1080 x 2340 px Display with Water Drop Notch|,1080,2340,       |\n",
      "| 1080 x 2340 px Display with Water Drop Notch|,1080,2340,       |\n",
      "| 1080 x 2340 px                              |,1080,2340,       |\n",
      "| 1080 x 2340 px Display with Water Drop Notch|,1080,2340,       |\n",
      "| 1080 x 2340 px                              |,1080,2340,       |\n",
      "| 1080 x 2340 px                              |,1080,2340,       |\n",
      "+---------------------------------------------+------------------+\n",
      "only showing top 20 rows\n",
      "\n"
     ]
    }
   ],
   "source": [
    "(\n",
    "    mobile_df_req\n",
    "    .select(\"Screen_resolution\")\n",
    "    .withColumn( \"Screen_resolution2\", F.regexp_replace( F.col(\"Screen_resolution\"), r'([^0-9])+' , ',' ) )  \n",
    "    .where( F.col(\"Screen_resolution2\") != F.lit(\",\") )\n",
    "    .orderBy( F.col(\"Screen_resolution2\") )\n",
    "    .show(truncate=False)\n",
    ")"
   ]
  },
  {
   "cell_type": "markdown",
   "id": "14ab3005-ca49-44c9-b258-2db13f15f986",
   "metadata": {},
   "source": [
    "## - Feature Columns Generation: \n",
    "-------------------------------------\n",
    "### Formatting required columns to Numerical datatype, by Data Extraction and Type Conversion:"
   ]
  },
  {
   "cell_type": "code",
   "execution_count": 16,
   "id": "9e47a573-154d-4574-a793-6a7fdd64b936",
   "metadata": {},
   "outputs": [],
   "source": [
    "mobile_df_req_final = (\n",
    "    mobile_df_req.withColumn(\"Price\",F.regexp_replace(F.col(\"Price\"),',',''))  # Removing the comma, to convert string to integer\n",
    "    .withColumn( \"Price\", F.col(\"Price\").cast(IntegerType()) )\n",
    "    .withColumn( \"Ram\", F.regexp_extract( F.col(\"Ram\"), r'([0-9])+', 0 ) )  # Taking the numerical part of RAM column data\n",
    "    .withColumn( \"Ram\", F.col(\"Ram\").cast(\"int\") )\n",
    "    .withColumn( \"Battery\", F.regexp_extract( F.col(\"Battery\"), r'([0-9])+', 0 ) )  # Taking the numerical part from Battery column data.\n",
    "    .withColumn( \"Battery\", F.col(\"Battery\").cast(IntegerType()) )\n",
    "    .withColumn( \"Display\", F.regexp_extract( F.col(\"Display\"), r'([0-9].[0-9])', 1 ) )  # Taking only the numerical part of display\n",
    "    .withColumn( \"Display\", F.col(\"Display\").cast(\"float\") )\n",
    "    .withColumn( \"Camera\", F.regexp_replace( F.col(\"Camera\"), r'([^0-9])+' , ',' ) )  # Replacing all the non-numeric characters with comma\n",
    "    .where( F.col(\"Camera\") != F.lit(\",\") )  # Filtering out all the records having no number in Camera column.\n",
    "    .withColumn( \"Camera\", F.expr(\"substring(Camera, 1, length(Camera)-1)\") )  # Removing extra comma(,) at the end\n",
    "    .withColumn( \"Camera\", F.split(F.col(\"Camera\"), \",\") )  # Converting the comma-separated string into an array-type column.\n",
    "    .withColumn( \"Camera\", F.col(\"Camera\").cast(ArrayType(IntegerType())) )  # Converting array of strings to an array of integers.\n",
    "    .withColumn( \"Android_version\", F.col(\"Android_version\").cast(IntegerType()) )\n",
    "    .withColumn( \"Inbuilt_memory\", F.regexp_extract(F.col(\"Inbuilt_memory\"), r\"([0-9]+)\", 1 ) )  # Extracting numerical part of Inbuilt_Memory\n",
    "    .withColumn( \"Inbuilt_memory\", F.col(\"Inbuilt_memory\").cast(\"int\") )\n",
    "    .withColumn(\"fast_charging\", F.when(F.col(\"fast_charging\").isNull(), 0).otherwise(F.col(\"fast_charging\")) )  # Replacing null value with 0\n",
    "    .withColumn(\"fast_charging\", F.regexp_extract( F.col(\"fast_charging\"), r\"([0-9]+)\", 1 ) )  # Extracting numerical part of fast_charging\n",
    "    .withColumn(\"fast_charging\", F.col(\"fast_charging\").cast(\"int\") )\n",
    "    .withColumn(\"Screen_resolution\", F.regexp_replace( F.col(\"Screen_resolution\"), r\"([^0-9])+\", \",\" ) )  # Replacing non-numeric parts with comma(,)\n",
    "    .where( F.col(\"Screen_resolution\") != F.lit(\",\") )  # Filtering out all the records having no number in Camera column.\n",
    "    .withColumn(\"Screen_resolution\", F.expr(\"substring(Screen_resolution, 2, len(Screen_resolution)-2)\") )  # Removing comma at beginning and at end.\n",
    "    .withColumn(\"Screen_resolution\", F.split(F.col(\"Screen_resolution\"), \",\") )  #  Converting comma-separated string to an array\n",
    "    .withColumn(\"Screen_resolution\", F.col(\"Screen_resolution\").cast(ArrayType(IntegerType())) )\n",
    ")"
   ]
  },
  {
   "cell_type": "code",
   "execution_count": 17,
   "id": "b5f82855-a5af-486f-a1f7-e51ebda99057",
   "metadata": {},
   "outputs": [
    {
     "name": "stdout",
     "output_type": "stream",
     "text": [
      "root\n",
      " |-- Rating: double (nullable = true)\n",
      " |-- Spec_score: integer (nullable = true)\n",
      " |-- Ram: integer (nullable = true)\n",
      " |-- Battery: integer (nullable = true)\n",
      " |-- Display: float (nullable = true)\n",
      " |-- Camera: array (nullable = true)\n",
      " |    |-- element: integer (containsNull = true)\n",
      " |-- Android_version: integer (nullable = true)\n",
      " |-- Inbuilt_memory: integer (nullable = true)\n",
      " |-- fast_charging: integer (nullable = true)\n",
      " |-- Screen_resolution: array (nullable = true)\n",
      " |    |-- element: integer (containsNull = true)\n",
      " |-- Price: integer (nullable = true)\n",
      "\n"
     ]
    }
   ],
   "source": [
    "mobile_df_req_final.printSchema()"
   ]
  },
  {
   "cell_type": "code",
   "execution_count": 18,
   "id": "0e510c0b-437d-4527-a52f-b126a6895d32",
   "metadata": {},
   "outputs": [
    {
     "name": "stdout",
     "output_type": "stream",
     "text": [
      "+------+----------+---+-------+-------+---------------+---------------+--------------+-------------+-----------------+-----+\n",
      "|Rating|Spec_score|Ram|Battery|Display|         Camera|Android_version|Inbuilt_memory|fast_charging|Screen_resolution|Price|\n",
      "+------+----------+---+-------+-------+---------------+---------------+--------------+-------------+-----------------+-----+\n",
      "|  4.65|        68|  4|   6000|    6.6|    [50, 2, 13]|             13|           128|           25|     [2408, 1080]| 9999|\n",
      "|   4.2|        63|  2|   4000|    6.4|  [13, 5, 2, 8]|             10|            32|           15|      [720, 1560]| 9990|\n",
      "|   4.3|        75|  4|   5000|    6.6|        [50, 8]|             12|            64|           25|     [1080, 2408]|11999|\n",
      "|   4.1|        73|  4|   6000|    6.4|       [48, 13]|             12|            64|            0|      [720, 1600]|11999|\n",
      "|   4.1|        69|  4|   5000|    6.5|  [13, 2, 2, 5]|             11|            64|           15|      [720, 1600]|11999|\n",
      "|   4.4|        75|  6|   5000|    6.5|     [50, 2, 5]|             12|           128|           15|      [720, 1600]|11990|\n",
      "|   4.1|        76|  4|   6000|    6.4| [48, 8, 5, 20]|             11|            64|           15|     [1080, 2340]|11990|\n",
      "|   4.1|        71|  4|   5000|    6.5|        [48, 8]|             10|            64|           15|      [720, 1560]|11990|\n",
      "|  4.05|        75|  4|   5000|    6.6| [50, 2, 2, 13]|             13|            64|           15|     [1080, 2408]|11599|\n",
      "|   4.5|        75|  6|   6000|    6.6|  [50, 5, 2, 8]|             12|           128|           15|     [1080, 2400]|12298|\n",
      "|  4.25|        85|  8|   6000|    6.5| [50, 8, 2, 13]|             13|           128|           25|     [1080, 2340]|14999|\n",
      "|   4.4|        78|  4|   5000|    6.6|  [50, 8, 2, 8]|             12|           128|           25|     [1080, 2408]|14999|\n",
      "|  4.05|        72|  4|   6000|    6.6|  [50, 5, 2, 8]|             12|            64|           15|     [2408, 1080]|14999|\n",
      "|   4.4|        75|  4|   5000|    6.4|       [48, 13]|             12|           128|           18|      [720, 1600]|14999|\n",
      "|  4.05|        75|  6|   6000|    6.5|        [48, 8]|             11|           128|           15|      [720, 1600]|14999|\n",
      "|   4.1|        74|  4|   3500|    6.1| [48, 8, 5, 25]|             10|            64|            0|     [1080, 2340]|14999|\n",
      "|   4.2|        73|  6|   6000|    6.6|[50, 13, 2, 32]|             15|           128|           25|     [1080, 2340]|14990|\n",
      "|  4.75|        75|  4|   5000|    6.7| [50, 2, 2, 13]|             13|           128|           25|     [1080, 2400]|14990|\n",
      "|  4.75|        79|  6|   5000|    6.6| [50, 2, 2, 13]|             13|           128|           15|     [1080, 2408]|14949|\n",
      "|   4.3|        80|  6|   5000|    6.4|       [64, 20]|             11|           128|           15|     [1080, 2400]|19999|\n",
      "+------+----------+---+-------+-------+---------------+---------------+--------------+-------------+-----------------+-----+\n",
      "only showing top 20 rows\n",
      "\n"
     ]
    }
   ],
   "source": [
    "mobile_df_req_final.show()"
   ]
  },
  {
   "cell_type": "markdown",
   "id": "4dc2b984-959a-45cd-ad6f-bbfc466a509e",
   "metadata": {},
   "source": [
    "## - Handling Outliers and Null values:\n",
    "-----------------------------------------\n",
    "Removing the columns with Outliers and Null values."
   ]
  },
  {
   "cell_type": "code",
   "execution_count": 19,
   "id": "bf72eeef-0546-41b5-8e14-9212566fe60b",
   "metadata": {},
   "outputs": [
    {
     "name": "stdout",
     "output_type": "stream",
     "text": [
      "+------+----------+---+-------+-------+---------------+---------------+--------------+-------------+-----------------+-----+\n",
      "|Rating|Spec_score|Ram|Battery|Display|Camera         |Android_version|Inbuilt_memory|fast_charging|Screen_resolution|Price|\n",
      "+------+----------+---+-------+-------+---------------+---------------+--------------+-------------+-----------------+-----+\n",
      "|4.0   |42        |1  |1900   |4.5    |[5, 2]         |null           |16            |0            |[480, 854]       |7499 |\n",
      "|4.25  |55        |2  |3000   |null   |[5, 2]         |14             |32            |10           |[540, 1092]      |7990 |\n",
      "|4.05  |69        |6  |5000   |6.7    |[8, 0, 8, 5]   |14             |128           |18           |[720, 1650]      |6999 |\n",
      "|4.45  |66        |4  |5000   |6.5    |[8, 0, 8, 5]   |13             |64            |10           |[720, 1600]      |8499 |\n",
      "|4.75  |70        |6  |5000   |6.5    |[8, 0, 8, 5]   |13             |128           |10           |[720, 1600]      |8999 |\n",
      "|4.25  |66        |4  |5000   |6.5    |[8, 0, 8, 5]   |13             |64            |10           |[720, 1600]      |7990 |\n",
      "|4.55  |57        |2  |4000   |6.6    |[8, 2, 0, 3, 8]|10             |32            |0            |[1600, 720]      |6990 |\n",
      "|4.4   |61        |3  |5000   |6.5    |[8, 5]         |12             |32            |10           |[720, 1600]      |7299 |\n",
      "|4.4   |66        |4  |5000   |6.5    |[8, 5]         |12             |128           |18           |[720, 1600]      |10499|\n",
      "|4.55  |58        |2  |5000   |6.5    |[8, 5]         |12             |32            |10           |[720, 1600]      |6950 |\n",
      "|4.5   |60        |3  |5000   |6.5    |[8, 5]         |11             |32            |0            |[720, 1600]      |7199 |\n",
      "|4.15  |61        |4  |5000   |6.5    |[8, 5]         |11             |64            |0            |[720, 1600]      |7480 |\n",
      "|4.25  |59        |2  |5000   |6.5    |[8, 5]         |11             |32            |0            |[720, 1600]      |7499 |\n",
      "|4.0   |62        |4  |5000   |6.5    |[8, 5]         |12             |64            |10           |[720, 1600]      |7950 |\n",
      "|4.35  |54        |3  |5000   |6.5    |[8, 5]         |12             |32            |10           |[720, 1600]      |9999 |\n",
      "|4.35  |60        |2  |5000   |6.5    |[8, 5]         |11             |32            |10           |[720, 1600]      |8033 |\n",
      "|4.05  |54        |2  |5000   |6.5    |[8, 5]         |10             |32            |0            |[720, 1600]      |7899 |\n",
      "|4.0   |49        |1  |2600   |null   |[8, 5]         |null           |8             |0            |[540, 960]       |8999 |\n",
      "|4.2   |64        |4  |5000   |6.5    |[8, 5]         |13             |64            |18           |[720, 1600]      |8980 |\n",
      "|4.5   |53        |2  |5000   |6.5    |[8, 5]         |12             |32            |10           |[720, 1600]      |8999 |\n",
      "|4.35  |54        |3  |5000   |6.5    |[8, 5]         |12             |32            |10           |[720, 1600]      |8489 |\n",
      "|4.2   |64        |4  |5000   |6.5    |[8, 5]         |13             |64            |18           |[720, 1600]      |9999 |\n",
      "|4.4   |64        |3  |5000   |6.7    |[8, 5]         |13             |64            |10           |[720, 1650]      |6999 |\n",
      "|4.7   |66        |4  |5000   |6.5    |[8, 5]         |13             |64            |10           |[720, 1600]      |7900 |\n",
      "|4.4   |69        |6  |5000   |6.7    |[8, 5]         |13             |128           |10           |[720, 1650]      |8999 |\n",
      "|4.4   |67        |4  |5000   |6.7    |[8, 5]         |13             |128           |10           |[720, 1650]      |7890 |\n",
      "|4.3   |61        |2  |5000   |6.5    |[8, 5]         |11             |32            |0            |[720, 1600]      |8490 |\n",
      "|4.2   |60        |2  |5000   |6.5    |[8, 5]         |12             |32            |0            |[720, 1600]      |8990 |\n",
      "|4.15  |51        |2  |2650   |5.2    |[8, 5]         |null           |16            |0            |[720, 1280]      |12350|\n",
      "|4.0   |55        |2  |3000   |null   |[8, 5]         |12             |32            |0            |[480, 960]       |7999 |\n",
      "|4.4   |67        |6  |10500  |2.1    |[8, 8]         |14             |128           |33           |[1600, 2560]     |29990|\n",
      "|4.45  |66        |4  |3000   |5.6    |[12, 2, 8]     |null           |64            |18           |[1080, 2220]     |13999|\n",
      "|4.3   |71        |6  |4410   |6.1    |[12, 2, 12, 8] |12             |128           |null         |[1080, 2400]     |43999|\n",
      "|4.5   |89        |12 |4300   |6.8    |[12, 10]       |null           |256           |45           |[1440, 3040]     |49999|\n",
      "|4.2   |75        |6  |3300   |6.3    |[12, 12, 8]    |null           |64            |null         |[1440, 2960]     |65690|\n",
      "|4.4   |76        |6  |3500   |6.2    |[12, 12, 8]    |null           |64            |null         |[1440, 2960]     |70000|\n",
      "|4.75  |79        |8  |4200   |6.4    |[12, 12, 8, 32]|12             |128           |33           |[1080, 2400]     |51999|\n",
      "|4.35  |87        |8  |4500   |6.4    |[12, 12, 8, 32]|13             |256           |25           |[1080, 2340]     |29999|\n",
      "|4.35  |88        |8  |4500   |6.5    |[12, 12, 8, 32]|10             |128           |null         |[1080, 2400]     |29999|\n",
      "|4.2   |86        |8  |4500   |6.5    |[12, 12, 8, 32]|10             |128           |25           |[1080, 2400]     |59999|\n",
      "|4.1   |86        |8  |4500   |6.4    |[12, 12, 8, 32]|13             |128           |25           |[1080, 2340]     |69999|\n",
      "|4.35  |87        |8  |4500   |6.4    |[12, 12, 8, 32]|13             |256           |25           |[1080, 2340]     |33779|\n",
      "|4.7   |86        |8  |4500   |6.4    |[12, 12, 8, 32]|12             |128           |25           |[1080, 2340]     |32883|\n",
      "|4.1   |86        |8  |4500   |6.4    |[12, 12, 8, 32]|13             |128           |25           |[1080, 2340]     |29999|\n",
      "|4.35  |68        |3  |5000   |6.5    |[12, 13]       |null           |32            |0            |[720, 1600]      |7499 |\n",
      "|4.15  |69        |4  |5000   |6.5    |[12, 13]       |null           |64            |0            |[720, 1600]      |9999 |\n",
      "|4.0   |46        |2  |2100   |null   |[13]           |null           |64            |0            |[576, 1440]      |9990 |\n",
      "|4.7   |68        |4  |5000   |6.5    |[13, 0, 3, 5]  |12             |128           |0            |[720, 1600]      |11499|\n",
      "|4.1   |67        |4  |5000   |6.5    |[13, 0, 8, 5]  |14             |64            |15           |[720, 1612]      |7999 |\n",
      "|4.0   |65        |4  |5000   |6.5    |[13, 0, 8, 5]  |14             |64            |15           |[720, 1612]      |6990 |\n",
      "+------+----------+---+-------+-------+---------------+---------------+--------------+-------------+-----------------+-----+\n",
      "only showing top 50 rows\n",
      "\n"
     ]
    }
   ],
   "source": [
    "mobile_df_req_final.orderBy( F.col(\"Camera\").asc() ).show(50, truncate=False)"
   ]
  },
  {
   "cell_type": "markdown",
   "id": "5dedbd59-ed07-475c-a06d-c4267fc45bef",
   "metadata": {},
   "source": [
    "- `Rating` column has no null values and no outliers.\n",
    "- `Spec_score` column has no null values and no outliers.\n",
    "- `Ram` column has upper-limit exceeding outliers. Idle Range: `1 to 30`\n",
    "- `Battery` column has outliers below lower-limit. Idle Range: `500 to 11000`\n",
    "- `Display` column `has null values`, and has outliern values below and above lower-limit and upper limit respec. Idle Range: `4.0 to 8.5`\n",
    "- `Camera` column has arrays with `null` value only. Array size to be considered: `1 to 4`. More than 4 value containing arrays should be dropped.\n",
    "- `Android_version` column has more than `400 null-value` containing records.\n",
    "- `Inbuilt_memory` column `has null values`, as well as outlier values before lower-limit. Idle Range: `2 to 512`\n",
    "- `fast_charging` column `has null values`.\n",
    "- `Screen_resolution` column `has null values`, and array with null value only."
   ]
  },
  {
   "cell_type": "code",
   "execution_count": 20,
   "id": "ffd49153-1fed-465e-9ae9-7edb670a10e4",
   "metadata": {},
   "outputs": [],
   "source": [
    "features_df = (\n",
    "    mobile_df_req_final.where( F.col(\"Ram\") <= 30 )\n",
    "    .where( F.col(\"Battery\") >= 500 )\n",
    "    .where( ( F.col(\"Display\").isNotNull() ) & ( F.col(\"Display\") >= 4.0 ) & ( F.col(\"Display\") <= 8.5 ) )\n",
    "    .where( ( F.col(\"Camera\").isNotNull() ) & ( F.size(F.col(\"Camera\")) <= 4 ) )\n",
    "    .where( F.col(\"Android_version\").isNotNull() )\n",
    "    .where( ( F.col(\"Inbuilt_memory\").isNotNull() ) & ( F.col(\"Inbuilt_memory\") >= 2 ) )\n",
    "    .where( F.col(\"fast_charging\").isNotNull() )\n",
    "    .where( F.col(\"Screen_resolution\").isNotNull() )\n",
    ")"
   ]
  },
  {
   "cell_type": "code",
   "execution_count": 21,
   "id": "359483d7-41b3-4336-9277-6ad95c61913c",
   "metadata": {},
   "outputs": [
    {
     "data": {
      "text/plain": [
       "819"
      ]
     },
     "execution_count": 21,
     "metadata": {},
     "output_type": "execute_result"
    }
   ],
   "source": [
    "features_df.count()"
   ]
  },
  {
   "cell_type": "code",
   "execution_count": 39,
   "id": "25b5a720-f47f-401f-996d-e497a9bfd246",
   "metadata": {},
   "outputs": [
    {
     "name": "stdout",
     "output_type": "stream",
     "text": [
      "+------+----------+---+-------+-------+-------------+---------------+--------------+-------------+-----------------+-----+\n",
      "|Rating|Spec_score|Ram|Battery|Display|       Camera|Android_version|Inbuilt_memory|fast_charging|Screen_resolution|Price|\n",
      "+------+----------+---+-------+-------+-------------+---------------+--------------+-------------+-----------------+-----+\n",
      "|  4.45|        61|  2|   3900|    6.2|[13, 5, 2, 8]|             10|            32|            0|      [720, 1520]| 9499|\n",
      "|   4.7|        67|  6|   4000|    6.2|     [16, 13]|             10|           128|            0|      [720, 1520]| 7499|\n",
      "|   4.3|        63|  6|   4000|    6.5|      [13, 5]|             12|           128|           10|      [720, 1520]|13990|\n",
      "|  4.65|        65|  4|   5000|    6.5|  [13, 2, 13]|             10|            64|            0|      [720, 1544]| 9990|\n",
      "|   4.2|        63|  2|   4000|    6.4|[13, 5, 2, 8]|             10|            32|           15|      [720, 1560]| 9990|\n",
      "|   4.1|        71|  4|   5000|    6.5|      [48, 8]|             10|            64|           15|      [720, 1560]|11990|\n",
      "|  4.05|        60|  2|   3000|    5.7|   [13, 2, 5]|             10|            16|            0|      [720, 1560]| 7999|\n",
      "|  4.45|        67|  3|   5000|    6.5|   [48, 2, 5]|             11|            32|           15|      [720, 1560]| 9499|\n",
      "|   4.5|        70|  4|   5000|    6.5|   [48, 2, 5]|             11|            64|           15|      [720, 1560]|10490|\n",
      "|  4.25|        69|  4|   6000|    6.5|[13, 2, 2, 8]|             10|            64|           18|      [720, 1560]|14999|\n",
      "|  4.05|        60|  3|   3000|    6.1|      [13, 8]|             12|            32|            0|      [720, 1560]| 7990|\n",
      "|   4.0|        67|  3|   5000|    6.5|[13, 2, 2, 8]|             10|            64|           18|      [720, 1600]|11490|\n",
      "|  4.15|        71|  4|   5000|    6.5|   [13, 2, 8]|             12|           128|            0|      [720, 1600]|14999|\n",
      "|  4.35|        68|  3|   5000|    6.5|[13, 2, 2, 8]|             11|            64|            0|      [720, 1600]|11990|\n",
      "|   4.4|        71|  8|   5000|    6.5|   [13, 2, 8]|             12|           128|           18|      [720, 1600]|14999|\n",
      "|   4.4|        75|  4|   5000|    6.4|     [48, 13]|             12|           128|           18|      [720, 1600]|14999|\n",
      "|  4.15|        74|  4|   5000|    6.5|[50, 2, 2, 8]|             11|           128|           18|      [720, 1600]|14990|\n",
      "|   4.1|        76|  6|   5000|    6.4|     [48, 13]|             11|           128|           15|      [720, 1600]|19799|\n",
      "|  4.55|        73|  6|   5000|    6.5|[13, 2, 2, 8]|             11|           128|           18|      [720, 1600]|14990|\n",
      "|   4.3|        61|  2|   5000|    6.5|       [8, 5]|             11|            32|            0|      [720, 1600]| 8490|\n",
      "+------+----------+---+-------+-------+-------------+---------------+--------------+-------------+-----------------+-----+\n",
      "only showing top 20 rows\n",
      "\n"
     ]
    }
   ],
   "source": [
    "features_df.orderBy( F.col(\"Screen_resolution\").asc() ).show()"
   ]
  },
  {
   "cell_type": "code",
   "execution_count": 23,
   "id": "7a41dad3-a310-42e9-9e60-5721033e1ed4",
   "metadata": {},
   "outputs": [
    {
     "name": "stdout",
     "output_type": "stream",
     "text": [
      "+------------+\n",
      "|      Camera|\n",
      "+------------+\n",
      "|[8, 0, 8, 5]|\n",
      "|[8, 0, 8, 5]|\n",
      "|[8, 0, 8, 5]|\n",
      "|[8, 0, 8, 5]|\n",
      "|      [8, 5]|\n",
      "|      [8, 5]|\n",
      "|      [8, 5]|\n",
      "|      [8, 5]|\n",
      "|      [8, 5]|\n",
      "|      [8, 5]|\n",
      "|      [8, 5]|\n",
      "|      [8, 5]|\n",
      "|      [8, 5]|\n",
      "|      [8, 5]|\n",
      "|      [8, 5]|\n",
      "|      [8, 5]|\n",
      "|      [8, 5]|\n",
      "|      [8, 5]|\n",
      "|      [8, 5]|\n",
      "|      [8, 5]|\n",
      "+------------+\n",
      "only showing top 20 rows\n",
      "\n"
     ]
    }
   ],
   "source": [
    "features_df.select( \"Camera\" ).orderBy( F.col(\"Camera\") ).show()"
   ]
  },
  {
   "cell_type": "markdown",
   "id": "2f4b7207-263b-4297-8500-2568cb26b0d3",
   "metadata": {},
   "source": [
    "## Handling Array Type columns:\n",
    "---------------------------------\n",
    "- To apply Regression modelling technique, input and output columns type should of integer or float type, else it cannot be transformed into a Vector using the `VectorAssembler` class. Thus, array type columns must be represented in numerical format.\n",
    "- In our case, we have `Camera` and `Screen_resolution` columns as array type columns containing integer values. To represent their true nature, and value of magnitude, we can transform them in the following way:\n",
    "    - The camera column can be transformed to an integer column by adding all the integers in the array, as this would roughly show the total number of megapixels all the camera have, when combined.\n",
    "    - The screen resulotion column could be transformed to an integer by multiplying the integers, as this would depict the total number of pixels the mobile has in its display."
   ]
  },
  {
   "cell_type": "code",
   "execution_count": 40,
   "id": "d6e6679f-fbaa-4bd4-92d6-a5e64aca708e",
   "metadata": {},
   "outputs": [],
   "source": [
    "@F.udf( returnType=IntegerType() )\n",
    "def add_array_elements( arr ):\n",
    "    result = 0\n",
    "    for i in arr:\n",
    "        result += i\n",
    "    return result\n",
    "\n",
    "@F.udf( returnType=IntegerType() )\n",
    "def multiply_array_elements( arr ):\n",
    "    result = 1\n",
    "    for i in arr:\n",
    "        result *= i\n",
    "    return result"
   ]
  },
  {
   "cell_type": "code",
   "execution_count": 42,
   "id": "5bc64b02-dd7f-4eb5-90d3-79ed0255abed",
   "metadata": {},
   "outputs": [],
   "source": [
    "features_df = (\n",
    "    features_df.withColumn( \"Camera\", add_array_elements(F.col(\"Camera\")) )\n",
    "    .withColumn( \"Screen_resolution\", multiply_array_elements( F.col(\"Screen_resolution\") ) )\n",
    ")"
   ]
  },
  {
   "cell_type": "code",
   "execution_count": 30,
   "id": "5c7a65ef-1777-41bb-87aa-6466c819ed80",
   "metadata": {
    "scrolled": true
   },
   "outputs": [
    {
     "ename": "Py4JJavaError",
     "evalue": "An error occurred while calling o286.parquet.\n: ExitCodeException exitCode=-1073741515: \r\n\tat org.apache.hadoop.util.Shell.runCommand(Shell.java:1007)\r\n\tat org.apache.hadoop.util.Shell.run(Shell.java:900)\r\n\tat org.apache.hadoop.util.Shell$ShellCommandExecutor.execute(Shell.java:1212)\r\n\tat org.apache.hadoop.util.Shell.execCommand(Shell.java:1306)\r\n\tat org.apache.hadoop.util.Shell.execCommand(Shell.java:1288)\r\n\tat org.apache.hadoop.fs.RawLocalFileSystem.setPermission(RawLocalFileSystem.java:978)\r\n\tat org.apache.hadoop.fs.RawLocalFileSystem.mkOneDirWithMode(RawLocalFileSystem.java:660)\r\n\tat org.apache.hadoop.fs.RawLocalFileSystem.mkdirsWithOptionalPermission(RawLocalFileSystem.java:700)\r\n\tat org.apache.hadoop.fs.RawLocalFileSystem.mkdirs(RawLocalFileSystem.java:672)\r\n\tat org.apache.hadoop.fs.RawLocalFileSystem.mkdirsWithOptionalPermission(RawLocalFileSystem.java:699)\r\n\tat org.apache.hadoop.fs.RawLocalFileSystem.mkdirs(RawLocalFileSystem.java:672)\r\n\tat org.apache.hadoop.fs.RawLocalFileSystem.mkdirsWithOptionalPermission(RawLocalFileSystem.java:699)\r\n\tat org.apache.hadoop.fs.RawLocalFileSystem.mkdirs(RawLocalFileSystem.java:672)\r\n\tat org.apache.hadoop.fs.RawLocalFileSystem.mkdirsWithOptionalPermission(RawLocalFileSystem.java:699)\r\n\tat org.apache.hadoop.fs.RawLocalFileSystem.mkdirs(RawLocalFileSystem.java:672)\r\n\tat org.apache.hadoop.fs.ChecksumFileSystem.mkdirs(ChecksumFileSystem.java:788)\r\n\tat org.apache.hadoop.mapreduce.lib.output.FileOutputCommitter.setupJob(FileOutputCommitter.java:356)\r\n\tat org.apache.spark.internal.io.HadoopMapReduceCommitProtocol.setupJob(HadoopMapReduceCommitProtocol.scala:188)\r\n\tat org.apache.spark.sql.execution.datasources.FileFormatWriter$.writeAndCommit(FileFormatWriter.scala:269)\r\n\tat org.apache.spark.sql.execution.datasources.FileFormatWriter$.executeWrite(FileFormatWriter.scala:304)\r\n\tat org.apache.spark.sql.execution.datasources.FileFormatWriter$.write(FileFormatWriter.scala:190)\r\n\tat org.apache.spark.sql.execution.datasources.InsertIntoHadoopFsRelationCommand.run(InsertIntoHadoopFsRelationCommand.scala:190)\r\n\tat org.apache.spark.sql.execution.command.DataWritingCommandExec.sideEffectResult$lzycompute(commands.scala:113)\r\n\tat org.apache.spark.sql.execution.command.DataWritingCommandExec.sideEffectResult(commands.scala:111)\r\n\tat org.apache.spark.sql.execution.command.DataWritingCommandExec.executeCollect(commands.scala:125)\r\n\tat org.apache.spark.sql.execution.QueryExecution$$anonfun$eagerlyExecuteCommands$1.$anonfun$applyOrElse$1(QueryExecution.scala:98)\r\n\tat org.apache.spark.sql.execution.SQLExecution$.$anonfun$withNewExecutionId$6(SQLExecution.scala:118)\r\n\tat org.apache.spark.sql.execution.SQLExecution$.withSQLConfPropagated(SQLExecution.scala:195)\r\n\tat org.apache.spark.sql.execution.SQLExecution$.$anonfun$withNewExecutionId$1(SQLExecution.scala:103)\r\n\tat org.apache.spark.sql.SparkSession.withActive(SparkSession.scala:827)\r\n\tat org.apache.spark.sql.execution.SQLExecution$.withNewExecutionId(SQLExecution.scala:65)\r\n\tat org.apache.spark.sql.execution.QueryExecution$$anonfun$eagerlyExecuteCommands$1.applyOrElse(QueryExecution.scala:98)\r\n\tat org.apache.spark.sql.execution.QueryExecution$$anonfun$eagerlyExecuteCommands$1.applyOrElse(QueryExecution.scala:94)\r\n\tat org.apache.spark.sql.catalyst.trees.TreeNode.$anonfun$transformDownWithPruning$1(TreeNode.scala:512)\r\n\tat org.apache.spark.sql.catalyst.trees.CurrentOrigin$.withOrigin(TreeNode.scala:104)\r\n\tat org.apache.spark.sql.catalyst.trees.TreeNode.transformDownWithPruning(TreeNode.scala:512)\r\n\tat org.apache.spark.sql.catalyst.plans.logical.LogicalPlan.org$apache$spark$sql$catalyst$plans$logical$AnalysisHelper$$super$transformDownWithPruning(LogicalPlan.scala:31)\r\n\tat org.apache.spark.sql.catalyst.plans.logical.AnalysisHelper.transformDownWithPruning(AnalysisHelper.scala:267)\r\n\tat org.apache.spark.sql.catalyst.plans.logical.AnalysisHelper.transformDownWithPruning$(AnalysisHelper.scala:263)\r\n\tat org.apache.spark.sql.catalyst.plans.logical.LogicalPlan.transformDownWithPruning(LogicalPlan.scala:31)\r\n\tat org.apache.spark.sql.catalyst.plans.logical.LogicalPlan.transformDownWithPruning(LogicalPlan.scala:31)\r\n\tat org.apache.spark.sql.catalyst.trees.TreeNode.transformDown(TreeNode.scala:488)\r\n\tat org.apache.spark.sql.execution.QueryExecution.eagerlyExecuteCommands(QueryExecution.scala:94)\r\n\tat org.apache.spark.sql.execution.QueryExecution.commandExecuted$lzycompute(QueryExecution.scala:81)\r\n\tat org.apache.spark.sql.execution.QueryExecution.commandExecuted(QueryExecution.scala:79)\r\n\tat org.apache.spark.sql.execution.QueryExecution.assertCommandExecuted(QueryExecution.scala:133)\r\n\tat org.apache.spark.sql.DataFrameWriter.runCommand(DataFrameWriter.scala:856)\r\n\tat org.apache.spark.sql.DataFrameWriter.saveToV1Source(DataFrameWriter.scala:387)\r\n\tat org.apache.spark.sql.DataFrameWriter.saveInternal(DataFrameWriter.scala:360)\r\n\tat org.apache.spark.sql.DataFrameWriter.save(DataFrameWriter.scala:239)\r\n\tat org.apache.spark.sql.DataFrameWriter.parquet(DataFrameWriter.scala:789)\r\n\tat java.base/jdk.internal.reflect.NativeMethodAccessorImpl.invoke0(Native Method)\r\n\tat java.base/jdk.internal.reflect.NativeMethodAccessorImpl.invoke(NativeMethodAccessorImpl.java:77)\r\n\tat java.base/jdk.internal.reflect.DelegatingMethodAccessorImpl.invoke(DelegatingMethodAccessorImpl.java:43)\r\n\tat java.base/java.lang.reflect.Method.invoke(Method.java:568)\r\n\tat py4j.reflection.MethodInvoker.invoke(MethodInvoker.java:244)\r\n\tat py4j.reflection.ReflectionEngine.invoke(ReflectionEngine.java:374)\r\n\tat py4j.Gateway.invoke(Gateway.java:282)\r\n\tat py4j.commands.AbstractCommand.invokeMethod(AbstractCommand.java:132)\r\n\tat py4j.commands.CallCommand.execute(CallCommand.java:79)\r\n\tat py4j.ClientServerConnection.waitForCommands(ClientServerConnection.java:182)\r\n\tat py4j.ClientServerConnection.run(ClientServerConnection.java:106)\r\n\tat java.base/java.lang.Thread.run(Thread.java:842)\r\n",
     "output_type": "error",
     "traceback": [
      "\u001b[1;31m---------------------------------------------------------------------------\u001b[0m",
      "\u001b[1;31mPy4JJavaError\u001b[0m                             Traceback (most recent call last)",
      "Cell \u001b[1;32mIn[30], line 1\u001b[0m\n\u001b[1;32m----> 1\u001b[0m \u001b[43mfeatures_df\u001b[49m\u001b[38;5;241;43m.\u001b[39;49m\u001b[43mwrite\u001b[49m\u001b[38;5;241;43m.\u001b[39;49m\u001b[43mparquet\u001b[49m\u001b[43m(\u001b[49m\u001b[38;5;124;43m\"\u001b[39;49m\u001b[38;5;124;43mfile:///data/mobile_features_cleaned.parquet\u001b[39;49m\u001b[38;5;124;43m\"\u001b[39;49m\u001b[43m,\u001b[49m\u001b[43m \u001b[49m\u001b[43mmode\u001b[49m\u001b[38;5;241;43m=\u001b[39;49m\u001b[38;5;124;43m\"\u001b[39;49m\u001b[38;5;124;43moverwrite\u001b[39;49m\u001b[38;5;124;43m\"\u001b[39;49m\u001b[43m)\u001b[49m\n",
      "File \u001b[1;32mC:\\Personal\\Softwares\\spark\\python\\pyspark\\sql\\readwriter.py:1656\u001b[0m, in \u001b[0;36mDataFrameWriter.parquet\u001b[1;34m(self, path, mode, partitionBy, compression)\u001b[0m\n\u001b[0;32m   1654\u001b[0m     \u001b[38;5;28mself\u001b[39m\u001b[38;5;241m.\u001b[39mpartitionBy(partitionBy)\n\u001b[0;32m   1655\u001b[0m \u001b[38;5;28mself\u001b[39m\u001b[38;5;241m.\u001b[39m_set_opts(compression\u001b[38;5;241m=\u001b[39mcompression)\n\u001b[1;32m-> 1656\u001b[0m \u001b[38;5;28;43mself\u001b[39;49m\u001b[38;5;241;43m.\u001b[39;49m\u001b[43m_jwrite\u001b[49m\u001b[38;5;241;43m.\u001b[39;49m\u001b[43mparquet\u001b[49m\u001b[43m(\u001b[49m\u001b[43mpath\u001b[49m\u001b[43m)\u001b[49m\n",
      "File \u001b[1;32mC:\\Personal\\Softwares\\spark\\python\\lib\\py4j-0.10.9.7-src.zip\\py4j\\java_gateway.py:1322\u001b[0m, in \u001b[0;36mJavaMember.__call__\u001b[1;34m(self, *args)\u001b[0m\n\u001b[0;32m   1316\u001b[0m command \u001b[38;5;241m=\u001b[39m proto\u001b[38;5;241m.\u001b[39mCALL_COMMAND_NAME \u001b[38;5;241m+\u001b[39m\\\n\u001b[0;32m   1317\u001b[0m     \u001b[38;5;28mself\u001b[39m\u001b[38;5;241m.\u001b[39mcommand_header \u001b[38;5;241m+\u001b[39m\\\n\u001b[0;32m   1318\u001b[0m     args_command \u001b[38;5;241m+\u001b[39m\\\n\u001b[0;32m   1319\u001b[0m     proto\u001b[38;5;241m.\u001b[39mEND_COMMAND_PART\n\u001b[0;32m   1321\u001b[0m answer \u001b[38;5;241m=\u001b[39m \u001b[38;5;28mself\u001b[39m\u001b[38;5;241m.\u001b[39mgateway_client\u001b[38;5;241m.\u001b[39msend_command(command)\n\u001b[1;32m-> 1322\u001b[0m return_value \u001b[38;5;241m=\u001b[39m \u001b[43mget_return_value\u001b[49m\u001b[43m(\u001b[49m\n\u001b[0;32m   1323\u001b[0m \u001b[43m    \u001b[49m\u001b[43manswer\u001b[49m\u001b[43m,\u001b[49m\u001b[43m \u001b[49m\u001b[38;5;28;43mself\u001b[39;49m\u001b[38;5;241;43m.\u001b[39;49m\u001b[43mgateway_client\u001b[49m\u001b[43m,\u001b[49m\u001b[43m \u001b[49m\u001b[38;5;28;43mself\u001b[39;49m\u001b[38;5;241;43m.\u001b[39;49m\u001b[43mtarget_id\u001b[49m\u001b[43m,\u001b[49m\u001b[43m \u001b[49m\u001b[38;5;28;43mself\u001b[39;49m\u001b[38;5;241;43m.\u001b[39;49m\u001b[43mname\u001b[49m\u001b[43m)\u001b[49m\n\u001b[0;32m   1325\u001b[0m \u001b[38;5;28;01mfor\u001b[39;00m temp_arg \u001b[38;5;129;01min\u001b[39;00m temp_args:\n\u001b[0;32m   1326\u001b[0m     \u001b[38;5;28;01mif\u001b[39;00m \u001b[38;5;28mhasattr\u001b[39m(temp_arg, \u001b[38;5;124m\"\u001b[39m\u001b[38;5;124m_detach\u001b[39m\u001b[38;5;124m\"\u001b[39m):\n",
      "File \u001b[1;32mC:\\Personal\\Softwares\\spark\\python\\pyspark\\errors\\exceptions\\captured.py:169\u001b[0m, in \u001b[0;36mcapture_sql_exception.<locals>.deco\u001b[1;34m(*a, **kw)\u001b[0m\n\u001b[0;32m    167\u001b[0m \u001b[38;5;28;01mdef\u001b[39;00m \u001b[38;5;21mdeco\u001b[39m(\u001b[38;5;241m*\u001b[39ma: Any, \u001b[38;5;241m*\u001b[39m\u001b[38;5;241m*\u001b[39mkw: Any) \u001b[38;5;241m-\u001b[39m\u001b[38;5;241m>\u001b[39m Any:\n\u001b[0;32m    168\u001b[0m     \u001b[38;5;28;01mtry\u001b[39;00m:\n\u001b[1;32m--> 169\u001b[0m         \u001b[38;5;28;01mreturn\u001b[39;00m \u001b[43mf\u001b[49m\u001b[43m(\u001b[49m\u001b[38;5;241;43m*\u001b[39;49m\u001b[43ma\u001b[49m\u001b[43m,\u001b[49m\u001b[43m \u001b[49m\u001b[38;5;241;43m*\u001b[39;49m\u001b[38;5;241;43m*\u001b[39;49m\u001b[43mkw\u001b[49m\u001b[43m)\u001b[49m\n\u001b[0;32m    170\u001b[0m     \u001b[38;5;28;01mexcept\u001b[39;00m Py4JJavaError \u001b[38;5;28;01mas\u001b[39;00m e:\n\u001b[0;32m    171\u001b[0m         converted \u001b[38;5;241m=\u001b[39m convert_exception(e\u001b[38;5;241m.\u001b[39mjava_exception)\n",
      "File \u001b[1;32mC:\\Personal\\Softwares\\spark\\python\\lib\\py4j-0.10.9.7-src.zip\\py4j\\protocol.py:326\u001b[0m, in \u001b[0;36mget_return_value\u001b[1;34m(answer, gateway_client, target_id, name)\u001b[0m\n\u001b[0;32m    324\u001b[0m value \u001b[38;5;241m=\u001b[39m OUTPUT_CONVERTER[\u001b[38;5;28mtype\u001b[39m](answer[\u001b[38;5;241m2\u001b[39m:], gateway_client)\n\u001b[0;32m    325\u001b[0m \u001b[38;5;28;01mif\u001b[39;00m answer[\u001b[38;5;241m1\u001b[39m] \u001b[38;5;241m==\u001b[39m REFERENCE_TYPE:\n\u001b[1;32m--> 326\u001b[0m     \u001b[38;5;28;01mraise\u001b[39;00m Py4JJavaError(\n\u001b[0;32m    327\u001b[0m         \u001b[38;5;124m\"\u001b[39m\u001b[38;5;124mAn error occurred while calling \u001b[39m\u001b[38;5;132;01m{0}\u001b[39;00m\u001b[38;5;132;01m{1}\u001b[39;00m\u001b[38;5;132;01m{2}\u001b[39;00m\u001b[38;5;124m.\u001b[39m\u001b[38;5;130;01m\\n\u001b[39;00m\u001b[38;5;124m\"\u001b[39m\u001b[38;5;241m.\u001b[39m\n\u001b[0;32m    328\u001b[0m         \u001b[38;5;28mformat\u001b[39m(target_id, \u001b[38;5;124m\"\u001b[39m\u001b[38;5;124m.\u001b[39m\u001b[38;5;124m\"\u001b[39m, name), value)\n\u001b[0;32m    329\u001b[0m \u001b[38;5;28;01melse\u001b[39;00m:\n\u001b[0;32m    330\u001b[0m     \u001b[38;5;28;01mraise\u001b[39;00m Py4JError(\n\u001b[0;32m    331\u001b[0m         \u001b[38;5;124m\"\u001b[39m\u001b[38;5;124mAn error occurred while calling \u001b[39m\u001b[38;5;132;01m{0}\u001b[39;00m\u001b[38;5;132;01m{1}\u001b[39;00m\u001b[38;5;132;01m{2}\u001b[39;00m\u001b[38;5;124m. Trace:\u001b[39m\u001b[38;5;130;01m\\n\u001b[39;00m\u001b[38;5;132;01m{3}\u001b[39;00m\u001b[38;5;130;01m\\n\u001b[39;00m\u001b[38;5;124m\"\u001b[39m\u001b[38;5;241m.\u001b[39m\n\u001b[0;32m    332\u001b[0m         \u001b[38;5;28mformat\u001b[39m(target_id, \u001b[38;5;124m\"\u001b[39m\u001b[38;5;124m.\u001b[39m\u001b[38;5;124m\"\u001b[39m, name, value))\n",
      "\u001b[1;31mPy4JJavaError\u001b[0m: An error occurred while calling o286.parquet.\n: ExitCodeException exitCode=-1073741515: \r\n\tat org.apache.hadoop.util.Shell.runCommand(Shell.java:1007)\r\n\tat org.apache.hadoop.util.Shell.run(Shell.java:900)\r\n\tat org.apache.hadoop.util.Shell$ShellCommandExecutor.execute(Shell.java:1212)\r\n\tat org.apache.hadoop.util.Shell.execCommand(Shell.java:1306)\r\n\tat org.apache.hadoop.util.Shell.execCommand(Shell.java:1288)\r\n\tat org.apache.hadoop.fs.RawLocalFileSystem.setPermission(RawLocalFileSystem.java:978)\r\n\tat org.apache.hadoop.fs.RawLocalFileSystem.mkOneDirWithMode(RawLocalFileSystem.java:660)\r\n\tat org.apache.hadoop.fs.RawLocalFileSystem.mkdirsWithOptionalPermission(RawLocalFileSystem.java:700)\r\n\tat org.apache.hadoop.fs.RawLocalFileSystem.mkdirs(RawLocalFileSystem.java:672)\r\n\tat org.apache.hadoop.fs.RawLocalFileSystem.mkdirsWithOptionalPermission(RawLocalFileSystem.java:699)\r\n\tat org.apache.hadoop.fs.RawLocalFileSystem.mkdirs(RawLocalFileSystem.java:672)\r\n\tat org.apache.hadoop.fs.RawLocalFileSystem.mkdirsWithOptionalPermission(RawLocalFileSystem.java:699)\r\n\tat org.apache.hadoop.fs.RawLocalFileSystem.mkdirs(RawLocalFileSystem.java:672)\r\n\tat org.apache.hadoop.fs.RawLocalFileSystem.mkdirsWithOptionalPermission(RawLocalFileSystem.java:699)\r\n\tat org.apache.hadoop.fs.RawLocalFileSystem.mkdirs(RawLocalFileSystem.java:672)\r\n\tat org.apache.hadoop.fs.ChecksumFileSystem.mkdirs(ChecksumFileSystem.java:788)\r\n\tat org.apache.hadoop.mapreduce.lib.output.FileOutputCommitter.setupJob(FileOutputCommitter.java:356)\r\n\tat org.apache.spark.internal.io.HadoopMapReduceCommitProtocol.setupJob(HadoopMapReduceCommitProtocol.scala:188)\r\n\tat org.apache.spark.sql.execution.datasources.FileFormatWriter$.writeAndCommit(FileFormatWriter.scala:269)\r\n\tat org.apache.spark.sql.execution.datasources.FileFormatWriter$.executeWrite(FileFormatWriter.scala:304)\r\n\tat org.apache.spark.sql.execution.datasources.FileFormatWriter$.write(FileFormatWriter.scala:190)\r\n\tat org.apache.spark.sql.execution.datasources.InsertIntoHadoopFsRelationCommand.run(InsertIntoHadoopFsRelationCommand.scala:190)\r\n\tat org.apache.spark.sql.execution.command.DataWritingCommandExec.sideEffectResult$lzycompute(commands.scala:113)\r\n\tat org.apache.spark.sql.execution.command.DataWritingCommandExec.sideEffectResult(commands.scala:111)\r\n\tat org.apache.spark.sql.execution.command.DataWritingCommandExec.executeCollect(commands.scala:125)\r\n\tat org.apache.spark.sql.execution.QueryExecution$$anonfun$eagerlyExecuteCommands$1.$anonfun$applyOrElse$1(QueryExecution.scala:98)\r\n\tat org.apache.spark.sql.execution.SQLExecution$.$anonfun$withNewExecutionId$6(SQLExecution.scala:118)\r\n\tat org.apache.spark.sql.execution.SQLExecution$.withSQLConfPropagated(SQLExecution.scala:195)\r\n\tat org.apache.spark.sql.execution.SQLExecution$.$anonfun$withNewExecutionId$1(SQLExecution.scala:103)\r\n\tat org.apache.spark.sql.SparkSession.withActive(SparkSession.scala:827)\r\n\tat org.apache.spark.sql.execution.SQLExecution$.withNewExecutionId(SQLExecution.scala:65)\r\n\tat org.apache.spark.sql.execution.QueryExecution$$anonfun$eagerlyExecuteCommands$1.applyOrElse(QueryExecution.scala:98)\r\n\tat org.apache.spark.sql.execution.QueryExecution$$anonfun$eagerlyExecuteCommands$1.applyOrElse(QueryExecution.scala:94)\r\n\tat org.apache.spark.sql.catalyst.trees.TreeNode.$anonfun$transformDownWithPruning$1(TreeNode.scala:512)\r\n\tat org.apache.spark.sql.catalyst.trees.CurrentOrigin$.withOrigin(TreeNode.scala:104)\r\n\tat org.apache.spark.sql.catalyst.trees.TreeNode.transformDownWithPruning(TreeNode.scala:512)\r\n\tat org.apache.spark.sql.catalyst.plans.logical.LogicalPlan.org$apache$spark$sql$catalyst$plans$logical$AnalysisHelper$$super$transformDownWithPruning(LogicalPlan.scala:31)\r\n\tat org.apache.spark.sql.catalyst.plans.logical.AnalysisHelper.transformDownWithPruning(AnalysisHelper.scala:267)\r\n\tat org.apache.spark.sql.catalyst.plans.logical.AnalysisHelper.transformDownWithPruning$(AnalysisHelper.scala:263)\r\n\tat org.apache.spark.sql.catalyst.plans.logical.LogicalPlan.transformDownWithPruning(LogicalPlan.scala:31)\r\n\tat org.apache.spark.sql.catalyst.plans.logical.LogicalPlan.transformDownWithPruning(LogicalPlan.scala:31)\r\n\tat org.apache.spark.sql.catalyst.trees.TreeNode.transformDown(TreeNode.scala:488)\r\n\tat org.apache.spark.sql.execution.QueryExecution.eagerlyExecuteCommands(QueryExecution.scala:94)\r\n\tat org.apache.spark.sql.execution.QueryExecution.commandExecuted$lzycompute(QueryExecution.scala:81)\r\n\tat org.apache.spark.sql.execution.QueryExecution.commandExecuted(QueryExecution.scala:79)\r\n\tat org.apache.spark.sql.execution.QueryExecution.assertCommandExecuted(QueryExecution.scala:133)\r\n\tat org.apache.spark.sql.DataFrameWriter.runCommand(DataFrameWriter.scala:856)\r\n\tat org.apache.spark.sql.DataFrameWriter.saveToV1Source(DataFrameWriter.scala:387)\r\n\tat org.apache.spark.sql.DataFrameWriter.saveInternal(DataFrameWriter.scala:360)\r\n\tat org.apache.spark.sql.DataFrameWriter.save(DataFrameWriter.scala:239)\r\n\tat org.apache.spark.sql.DataFrameWriter.parquet(DataFrameWriter.scala:789)\r\n\tat java.base/jdk.internal.reflect.NativeMethodAccessorImpl.invoke0(Native Method)\r\n\tat java.base/jdk.internal.reflect.NativeMethodAccessorImpl.invoke(NativeMethodAccessorImpl.java:77)\r\n\tat java.base/jdk.internal.reflect.DelegatingMethodAccessorImpl.invoke(DelegatingMethodAccessorImpl.java:43)\r\n\tat java.base/java.lang.reflect.Method.invoke(Method.java:568)\r\n\tat py4j.reflection.MethodInvoker.invoke(MethodInvoker.java:244)\r\n\tat py4j.reflection.ReflectionEngine.invoke(ReflectionEngine.java:374)\r\n\tat py4j.Gateway.invoke(Gateway.java:282)\r\n\tat py4j.commands.AbstractCommand.invokeMethod(AbstractCommand.java:132)\r\n\tat py4j.commands.CallCommand.execute(CallCommand.java:79)\r\n\tat py4j.ClientServerConnection.waitForCommands(ClientServerConnection.java:182)\r\n\tat py4j.ClientServerConnection.run(ClientServerConnection.java:106)\r\n\tat java.base/java.lang.Thread.run(Thread.java:842)\r\n"
     ]
    }
   ],
   "source": [
    "features_df.write.parquet(\"file:///data/mobile_features_cleaned.parquet\", mode=\"overwrite\")"
   ]
  },
  {
   "cell_type": "code",
   "execution_count": 43,
   "id": "aa3aa249-37cb-448d-90fb-1da1715c6236",
   "metadata": {},
   "outputs": [
    {
     "name": "stdout",
     "output_type": "stream",
     "text": [
      "+------+----------+---+-------+-------+------+---------------+--------------+-------------+-----------------+-----+\n",
      "|Rating|Spec_score|Ram|Battery|Display|Camera|Android_version|Inbuilt_memory|fast_charging|Screen_resolution|Price|\n",
      "+------+----------+---+-------+-------+------+---------------+--------------+-------------+-----------------+-----+\n",
      "|  4.65|        68|  4|   6000|    6.6|    65|             13|           128|           25|          2600640| 9999|\n",
      "|   4.2|        63|  2|   4000|    6.4|    28|             10|            32|           15|          1123200| 9990|\n",
      "|   4.3|        75|  4|   5000|    6.6|    58|             12|            64|           25|          2600640|11999|\n",
      "|   4.1|        73|  4|   6000|    6.4|    61|             12|            64|            0|          1152000|11999|\n",
      "|   4.1|        69|  4|   5000|    6.5|    22|             11|            64|           15|          1152000|11999|\n",
      "|   4.4|        75|  6|   5000|    6.5|    57|             12|           128|           15|          1152000|11990|\n",
      "|   4.1|        76|  4|   6000|    6.4|    81|             11|            64|           15|          2527200|11990|\n",
      "|   4.1|        71|  4|   5000|    6.5|    56|             10|            64|           15|          1123200|11990|\n",
      "|  4.05|        75|  4|   5000|    6.6|    67|             13|            64|           15|          2600640|11599|\n",
      "|   4.5|        75|  6|   6000|    6.6|    65|             12|           128|           15|          2592000|12298|\n",
      "|  4.25|        85|  8|   6000|    6.5|    73|             13|           128|           25|          2527200|14999|\n",
      "|   4.4|        78|  4|   5000|    6.6|    68|             12|           128|           25|          2600640|14999|\n",
      "|  4.05|        72|  4|   6000|    6.6|    65|             12|            64|           15|          2600640|14999|\n",
      "|   4.4|        75|  4|   5000|    6.4|    61|             12|           128|           18|          1152000|14999|\n",
      "|  4.05|        75|  6|   6000|    6.5|    56|             11|           128|           15|          1152000|14999|\n",
      "|   4.1|        74|  4|   3500|    6.1|    86|             10|            64|            0|          2527200|14999|\n",
      "|   4.2|        73|  6|   6000|    6.6|    97|             15|           128|           25|          2527200|14990|\n",
      "|  4.75|        75|  4|   5000|    6.7|    67|             13|           128|           25|          2592000|14990|\n",
      "|  4.75|        79|  6|   5000|    6.6|    67|             13|           128|           15|          2600640|14949|\n",
      "|   4.3|        80|  6|   5000|    6.4|    84|             11|           128|           15|          2592000|19999|\n",
      "+------+----------+---+-------+-------+------+---------------+--------------+-------------+-----------------+-----+\n",
      "only showing top 20 rows\n",
      "\n"
     ]
    }
   ],
   "source": [
    "features_df.show()"
   ]
  },
  {
   "cell_type": "code",
   "execution_count": 44,
   "id": "1b4167fb-ca20-4e18-9fc1-e0aecd00c246",
   "metadata": {},
   "outputs": [
    {
     "name": "stdout",
     "output_type": "stream",
     "text": [
      "root\n",
      " |-- Rating: double (nullable = true)\n",
      " |-- Spec_score: integer (nullable = true)\n",
      " |-- Ram: integer (nullable = true)\n",
      " |-- Battery: integer (nullable = true)\n",
      " |-- Display: float (nullable = true)\n",
      " |-- Camera: integer (nullable = true)\n",
      " |-- Android_version: integer (nullable = true)\n",
      " |-- Inbuilt_memory: integer (nullable = true)\n",
      " |-- fast_charging: integer (nullable = true)\n",
      " |-- Screen_resolution: integer (nullable = true)\n",
      " |-- Price: integer (nullable = true)\n",
      "\n"
     ]
    }
   ],
   "source": [
    "features_df.printSchema()"
   ]
  },
  {
   "cell_type": "markdown",
   "id": "62bde795-ebb0-4fca-9ce8-01151e6e2b06",
   "metadata": {},
   "source": [
    "# Creating the Regression Model:\n",
    "----------------------------------"
   ]
  },
  {
   "cell_type": "code",
   "execution_count": 35,
   "id": "fd92a607-a6a3-4ce0-a996-e7218a0b9687",
   "metadata": {},
   "outputs": [],
   "source": [
    "from pyspark.ml.feature import VectorAssembler"
   ]
  },
  {
   "cell_type": "code",
   "execution_count": 37,
   "id": "39d621b5-10aa-427c-8ab1-5de344ce78e3",
   "metadata": {},
   "outputs": [],
   "source": [
    "input_features_assembler = VectorAssembler(\n",
    "    inputCols = [\n",
    "        'Rating',\n",
    "        'Spec_score',\n",
    "        'Ram',\n",
    "        'Battery',\n",
    "        'Display',\n",
    "        'Camera',\n",
    "        'Android_version',\n",
    "        'Inbuilt_memory',\n",
    "        'fast_charging',\n",
    "        'Screen_resolution'\n",
    "    ],\n",
    "    outputCol = \"independent_features\"\n",
    ")"
   ]
  },
  {
   "cell_type": "code",
   "execution_count": 45,
   "id": "28c847e5-824f-4bbe-9402-29bb0efe5d4e",
   "metadata": {},
   "outputs": [
    {
     "name": "stdout",
     "output_type": "stream",
     "text": [
      "+------+----------+---+-------+-------+------+---------------+--------------+-------------+-----------------+-----+--------------------+\n",
      "|Rating|Spec_score|Ram|Battery|Display|Camera|Android_version|Inbuilt_memory|fast_charging|Screen_resolution|Price|independent_features|\n",
      "+------+----------+---+-------+-------+------+---------------+--------------+-------------+-----------------+-----+--------------------+\n",
      "|  4.65|        68|  4|   6000|    6.6|    65|             13|           128|           25|          2600640| 9999|[4.65,68.0,4.0,60...|\n",
      "|   4.2|        63|  2|   4000|    6.4|    28|             10|            32|           15|          1123200| 9990|[4.2,63.0,2.0,400...|\n",
      "|   4.3|        75|  4|   5000|    6.6|    58|             12|            64|           25|          2600640|11999|[4.3,75.0,4.0,500...|\n",
      "|   4.1|        73|  4|   6000|    6.4|    61|             12|            64|            0|          1152000|11999|[4.1,73.0,4.0,600...|\n",
      "|   4.1|        69|  4|   5000|    6.5|    22|             11|            64|           15|          1152000|11999|[4.1,69.0,4.0,500...|\n",
      "|   4.4|        75|  6|   5000|    6.5|    57|             12|           128|           15|          1152000|11990|[4.4,75.0,6.0,500...|\n",
      "|   4.1|        76|  4|   6000|    6.4|    81|             11|            64|           15|          2527200|11990|[4.1,76.0,4.0,600...|\n",
      "|   4.1|        71|  4|   5000|    6.5|    56|             10|            64|           15|          1123200|11990|[4.1,71.0,4.0,500...|\n",
      "|  4.05|        75|  4|   5000|    6.6|    67|             13|            64|           15|          2600640|11599|[4.05,75.0,4.0,50...|\n",
      "|   4.5|        75|  6|   6000|    6.6|    65|             12|           128|           15|          2592000|12298|[4.5,75.0,6.0,600...|\n",
      "|  4.25|        85|  8|   6000|    6.5|    73|             13|           128|           25|          2527200|14999|[4.25,85.0,8.0,60...|\n",
      "|   4.4|        78|  4|   5000|    6.6|    68|             12|           128|           25|          2600640|14999|[4.4,78.0,4.0,500...|\n",
      "|  4.05|        72|  4|   6000|    6.6|    65|             12|            64|           15|          2600640|14999|[4.05,72.0,4.0,60...|\n",
      "|   4.4|        75|  4|   5000|    6.4|    61|             12|           128|           18|          1152000|14999|[4.4,75.0,4.0,500...|\n",
      "|  4.05|        75|  6|   6000|    6.5|    56|             11|           128|           15|          1152000|14999|[4.05,75.0,6.0,60...|\n",
      "|   4.1|        74|  4|   3500|    6.1|    86|             10|            64|            0|          2527200|14999|[4.1,74.0,4.0,350...|\n",
      "|   4.2|        73|  6|   6000|    6.6|    97|             15|           128|           25|          2527200|14990|[4.2,73.0,6.0,600...|\n",
      "|  4.75|        75|  4|   5000|    6.7|    67|             13|           128|           25|          2592000|14990|[4.75,75.0,4.0,50...|\n",
      "|  4.75|        79|  6|   5000|    6.6|    67|             13|           128|           15|          2600640|14949|[4.75,79.0,6.0,50...|\n",
      "|   4.3|        80|  6|   5000|    6.4|    84|             11|           128|           15|          2592000|19999|[4.3,80.0,6.0,500...|\n",
      "+------+----------+---+-------+-------+------+---------------+--------------+-------------+-----------------+-----+--------------------+\n",
      "only showing top 20 rows\n",
      "\n"
     ]
    }
   ],
   "source": [
    "features_df_final = input_features_assembler.transform( features_df )\n",
    "features_df_final.show()"
   ]
  },
  {
   "cell_type": "code",
   "execution_count": 48,
   "id": "28b5d1c8-d27c-4b58-9c4b-427215519091",
   "metadata": {},
   "outputs": [],
   "source": [
    "features_df_final = features_df_final.select( [\"independent_features\", \"Price\"] )"
   ]
  },
  {
   "cell_type": "code",
   "execution_count": 50,
   "id": "bc37885b-fea1-45d4-8ba5-046c474c249b",
   "metadata": {},
   "outputs": [
    {
     "name": "stdout",
     "output_type": "stream",
     "text": [
      "+-----------------------------------------------------------------------+-----+\n",
      "|independent_features                                                   |Price|\n",
      "+-----------------------------------------------------------------------+-----+\n",
      "|[4.65,68.0,4.0,6000.0,6.599999904632568,65.0,13.0,128.0,25.0,2600640.0]|9999 |\n",
      "|[4.2,63.0,2.0,4000.0,6.400000095367432,28.0,10.0,32.0,15.0,1123200.0]  |9990 |\n",
      "|[4.3,75.0,4.0,5000.0,6.599999904632568,58.0,12.0,64.0,25.0,2600640.0]  |11999|\n",
      "|[4.1,73.0,4.0,6000.0,6.400000095367432,61.0,12.0,64.0,0.0,1152000.0]   |11999|\n",
      "|[4.1,69.0,4.0,5000.0,6.5,22.0,11.0,64.0,15.0,1152000.0]                |11999|\n",
      "|[4.4,75.0,6.0,5000.0,6.5,57.0,12.0,128.0,15.0,1152000.0]               |11990|\n",
      "|[4.1,76.0,4.0,6000.0,6.400000095367432,81.0,11.0,64.0,15.0,2527200.0]  |11990|\n",
      "|[4.1,71.0,4.0,5000.0,6.5,56.0,10.0,64.0,15.0,1123200.0]                |11990|\n",
      "|[4.05,75.0,4.0,5000.0,6.599999904632568,67.0,13.0,64.0,15.0,2600640.0] |11599|\n",
      "|[4.5,75.0,6.0,6000.0,6.599999904632568,65.0,12.0,128.0,15.0,2592000.0] |12298|\n",
      "|[4.25,85.0,8.0,6000.0,6.5,73.0,13.0,128.0,25.0,2527200.0]              |14999|\n",
      "|[4.4,78.0,4.0,5000.0,6.599999904632568,68.0,12.0,128.0,25.0,2600640.0] |14999|\n",
      "|[4.05,72.0,4.0,6000.0,6.599999904632568,65.0,12.0,64.0,15.0,2600640.0] |14999|\n",
      "|[4.4,75.0,4.0,5000.0,6.400000095367432,61.0,12.0,128.0,18.0,1152000.0] |14999|\n",
      "|[4.05,75.0,6.0,6000.0,6.5,56.0,11.0,128.0,15.0,1152000.0]              |14999|\n",
      "|[4.1,74.0,4.0,3500.0,6.099999904632568,86.0,10.0,64.0,0.0,2527200.0]   |14999|\n",
      "|[4.2,73.0,6.0,6000.0,6.599999904632568,97.0,15.0,128.0,25.0,2527200.0] |14990|\n",
      "|[4.75,75.0,4.0,5000.0,6.699999809265137,67.0,13.0,128.0,25.0,2592000.0]|14990|\n",
      "|[4.75,79.0,6.0,5000.0,6.599999904632568,67.0,13.0,128.0,15.0,2600640.0]|14949|\n",
      "|[4.3,80.0,6.0,5000.0,6.400000095367432,84.0,11.0,128.0,15.0,2592000.0] |19999|\n",
      "+-----------------------------------------------------------------------+-----+\n",
      "only showing top 20 rows\n",
      "\n"
     ]
    }
   ],
   "source": [
    "features_df_final.show(truncate=False)"
   ]
  },
  {
   "cell_type": "code",
   "execution_count": 52,
   "id": "d7a0c7ec-983d-4a83-ae40-eaed1ca66cf8",
   "metadata": {},
   "outputs": [
    {
     "data": {
      "text/plain": [
       "819"
      ]
     },
     "execution_count": 52,
     "metadata": {},
     "output_type": "execute_result"
    }
   ],
   "source": [
    "features_df_final.count()"
   ]
  },
  {
   "cell_type": "markdown",
   "id": "c3ba4a89-7052-422a-baf5-e19abda38912",
   "metadata": {},
   "source": [
    "### Training df and testing df split:"
   ]
  },
  {
   "cell_type": "code",
   "execution_count": 53,
   "id": "194b4180-5976-4e88-b17c-45cd9996e9e2",
   "metadata": {},
   "outputs": [],
   "source": [
    "features_df_final_train, features_df_final_test = features_df_final.randomSplit([ 0.80, 0.20 ])"
   ]
  },
  {
   "cell_type": "code",
   "execution_count": 58,
   "id": "374b7c61-86a0-4589-b048-da75151da54e",
   "metadata": {},
   "outputs": [
    {
     "name": "stdout",
     "output_type": "stream",
     "text": [
      "Training data records count:  651\n",
      "Testing data records count:  168\n"
     ]
    }
   ],
   "source": [
    "print( \"Training data records count: \", features_df_final_train.count() )\n",
    "print( \"Testing data records count: \", features_df_final_test.count() )"
   ]
  },
  {
   "cell_type": "code",
   "execution_count": 51,
   "id": "4bb0fa4a-dc48-459c-ac40-35bd48743d46",
   "metadata": {},
   "outputs": [],
   "source": [
    "from pyspark.ml.regression import LinearRegression"
   ]
  },
  {
   "cell_type": "code",
   "execution_count": 63,
   "id": "d8bcb058-1d85-42cb-bd20-0747b2bcb4d6",
   "metadata": {},
   "outputs": [],
   "source": [
    "mobile_price_regression_model = LinearRegression( featuresCol=\"independent_features\", labelCol=\"Price\" )\n",
    "mobile_price_regression_model = mobile_price_regression_model.fit( features_df_final_train )"
   ]
  },
  {
   "cell_type": "markdown",
   "id": "d81c0882-c877-4712-8e2b-69db8dd18d91",
   "metadata": {},
   "source": [
    "### Regression model stats and metrics:\n",
    "-----------------------------------------"
   ]
  },
  {
   "cell_type": "code",
   "execution_count": 64,
   "id": "d5ff0b26-5965-4218-a4a4-82faccf84cfb",
   "metadata": {},
   "outputs": [
    {
     "data": {
      "text/plain": [
       "DenseVector([-3743.2034, -8.3817, 1924.6846, -2.5837, 12369.743, 15.3705, -2040.0394, 69.6276, 31.9773, 0.0047])"
      ]
     },
     "execution_count": 64,
     "metadata": {},
     "output_type": "execute_result"
    }
   ],
   "source": [
    "# coefficients\n",
    "mobile_price_regression_model.coefficients"
   ]
  },
  {
   "cell_type": "code",
   "execution_count": 65,
   "id": "217137d5-1fc2-4c97-86bc-720f2913e9c1",
   "metadata": {},
   "outputs": [
    {
     "data": {
      "text/plain": [
       "-40455.4168659091"
      ]
     },
     "execution_count": 65,
     "metadata": {},
     "output_type": "execute_result"
    }
   ],
   "source": [
    "# intercept\n",
    "mobile_price_regression_model.intercept"
   ]
  },
  {
   "cell_type": "code",
   "execution_count": 68,
   "id": "fa597ce0-1c22-456d-b4cd-250a3458afb9",
   "metadata": {},
   "outputs": [
    {
     "data": {
      "text/plain": [
       "Param(parent='LinearRegression_4c5afd08080b', name='epsilon', doc='The shape parameter to control the amount of robustness. Must be > 1.0. Only valid when loss is huber')"
      ]
     },
     "execution_count": 68,
     "metadata": {},
     "output_type": "execute_result"
    }
   ],
   "source": [
    "mobile_price_regression_model.epsilon"
   ]
  },
  {
   "cell_type": "markdown",
   "id": "a9ca80f9-e954-4077-851f-a6dcdbde7ef4",
   "metadata": {},
   "source": [
    "## Predicting values using the regression model:\n",
    "--------------------------------------------------"
   ]
  },
  {
   "cell_type": "code",
   "execution_count": 66,
   "id": "f64ce04a-6ffc-4b57-a93a-96ef39f87920",
   "metadata": {},
   "outputs": [],
   "source": [
    "pred_results = mobile_price_regression_model.evaluate( features_df_final_test )"
   ]
  },
  {
   "cell_type": "code",
   "execution_count": 67,
   "id": "40602815-9b65-440c-b6ad-639bd9a89ba7",
   "metadata": {},
   "outputs": [
    {
     "name": "stdout",
     "output_type": "stream",
     "text": [
      "+--------------------+-----+------------------+\n",
      "|independent_features|Price|        prediction|\n",
      "+--------------------+-----+------------------+\n",
      "|[3.95,74.0,4.0,50...|11490|12698.648488800674|\n",
      "|[4.0,71.0,4.0,500...|12990| 3842.976119983614|\n",
      "|[4.0,75.0,6.0,600...| 8490|17739.189241929744|\n",
      "|[4.0,79.0,6.0,500...|17999|19002.905524290676|\n",
      "|[4.0,80.0,6.0,400...|22999| 24788.77715900266|\n",
      "|[4.0,80.0,6.0,500...|23990|22512.331120345632|\n",
      "|[4.0,80.0,6.0,500...|15323|19102.645908551087|\n",
      "|[4.0,81.0,8.0,500...|12990|23249.807592401958|\n",
      "|[4.0,84.0,8.0,500...|18708|23744.953987887406|\n",
      "|[4.0,87.0,8.0,600...|37999|24207.541464262817|\n",
      "|[4.0,89.0,12.0,50...|34990| 65679.66572310877|\n",
      "|[4.05,69.0,4.0,50...|10199| 7310.621846252128|\n",
      "|[4.05,70.0,4.0,50...| 8990|1618.3643590261636|\n",
      "|[4.05,75.0,4.0,50...|11599|11757.526978282476|\n",
      "|[4.05,75.0,6.0,50...| 8890| 17486.73748990873|\n",
      "|[4.05,76.0,4.0,50...| 9799|18358.426431910906|\n",
      "|[4.05,77.0,6.0,50...|15499|11982.117936425719|\n",
      "|[4.05,77.0,6.0,50...| 9499| 21562.72602016401|\n",
      "|[4.05,77.0,8.0,60...|20990|17991.457765500847|\n",
      "|[4.05,84.0,8.0,50...|25990| 28567.38051995953|\n",
      "+--------------------+-----+------------------+\n",
      "only showing top 20 rows\n",
      "\n"
     ]
    }
   ],
   "source": [
    "pred_results.predictions.show()"
   ]
  },
  {
   "cell_type": "code",
   "execution_count": 69,
   "id": "cee11726-41bc-44d1-a51f-a478c31636a5",
   "metadata": {},
   "outputs": [
    {
     "data": {
      "text/plain": [
       "7722.991994624923"
      ]
     },
     "execution_count": 69,
     "metadata": {},
     "output_type": "execute_result"
    }
   ],
   "source": [
    "pred_results.meanAbsoluteError"
   ]
  },
  {
   "cell_type": "code",
   "execution_count": 70,
   "id": "03348680-c349-453e-b1c5-248fc47fbd8b",
   "metadata": {},
   "outputs": [
    {
     "data": {
      "text/plain": [
       "148299520.2273663"
      ]
     },
     "execution_count": 70,
     "metadata": {},
     "output_type": "execute_result"
    }
   ],
   "source": [
    "pred_results.meanSquaredError"
   ]
  },
  {
   "cell_type": "code",
   "execution_count": 71,
   "id": "0d6b0a0b-329f-4a32-9c7d-38f76b869b09",
   "metadata": {},
   "outputs": [
    {
     "data": {
      "text/plain": [
       "0.5838853778585431"
      ]
     },
     "execution_count": 71,
     "metadata": {},
     "output_type": "execute_result"
    }
   ],
   "source": [
    "pred_results.r2"
   ]
  },
  {
   "cell_type": "code",
   "execution_count": null,
   "id": "d75085eb-1461-4159-ae35-b27ee6555b47",
   "metadata": {},
   "outputs": [],
   "source": []
  }
 ],
 "metadata": {
  "kernelspec": {
   "display_name": "Python 3 (ipykernel)",
   "language": "python",
   "name": "python3"
  },
  "language_info": {
   "codemirror_mode": {
    "name": "ipython",
    "version": 3
   },
   "file_extension": ".py",
   "mimetype": "text/x-python",
   "name": "python",
   "nbconvert_exporter": "python",
   "pygments_lexer": "ipython3",
   "version": "3.11.9"
  }
 },
 "nbformat": 4,
 "nbformat_minor": 5
}
